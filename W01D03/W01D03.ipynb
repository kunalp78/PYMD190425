{
 "cells": [
  {
   "cell_type": "markdown",
   "id": "c8f81a15-c600-40ae-abeb-793eeb298d66",
   "metadata": {},
   "source": [
    "# Operators"
   ]
  },
  {
   "cell_type": "code",
   "execution_count": null,
   "id": "10f2bfe6-353e-4ad9-9f9b-4188ddd73b50",
   "metadata": {},
   "outputs": [],
   "source": [
    "1) Arithmatic operator\n",
    "2) Assignment operator"
   ]
  },
  {
   "cell_type": "code",
   "execution_count": null,
   "id": "8df1e411-40fa-406d-93bc-900951b8308a",
   "metadata": {},
   "outputs": [],
   "source": [
    "= --> equals operator\n",
    "+= --> adds and assign"
   ]
  },
  {
   "cell_type": "code",
   "execution_count": 1,
   "id": "0e8ba486-bbd1-4742-b933-fc13d248c676",
   "metadata": {},
   "outputs": [],
   "source": [
    "a = 0"
   ]
  },
  {
   "cell_type": "code",
   "execution_count": 2,
   "id": "7effe246-485e-4a6c-b17a-149a6774ac56",
   "metadata": {},
   "outputs": [],
   "source": [
    "a = a + 5"
   ]
  },
  {
   "cell_type": "code",
   "execution_count": 3,
   "id": "9e89aaa1-05fe-4acf-abde-7301b4cc71d8",
   "metadata": {},
   "outputs": [
    {
     "name": "stdout",
     "output_type": "stream",
     "text": [
      "5\n"
     ]
    }
   ],
   "source": [
    "print(a)"
   ]
  },
  {
   "cell_type": "code",
   "execution_count": 4,
   "id": "6cca34bd-09a5-4921-9968-17641e8352bc",
   "metadata": {},
   "outputs": [
    {
     "data": {
      "text/plain": [
       "10"
      ]
     },
     "execution_count": 4,
     "metadata": {},
     "output_type": "execute_result"
    }
   ],
   "source": [
    "a + 5"
   ]
  },
  {
   "cell_type": "code",
   "execution_count": 5,
   "id": "6d8f6173-faff-4852-a4f3-cc2c9b1a3ed6",
   "metadata": {},
   "outputs": [
    {
     "data": {
      "text/plain": [
       "5"
      ]
     },
     "execution_count": 5,
     "metadata": {},
     "output_type": "execute_result"
    }
   ],
   "source": [
    "a"
   ]
  },
  {
   "cell_type": "code",
   "execution_count": 6,
   "id": "de1dcffa-8b80-429a-9862-973d7439ed55",
   "metadata": {},
   "outputs": [],
   "source": [
    "a = a + 5"
   ]
  },
  {
   "cell_type": "code",
   "execution_count": 7,
   "id": "64e2156f-2330-40b2-b3bf-bf5090a72c2c",
   "metadata": {},
   "outputs": [
    {
     "name": "stdout",
     "output_type": "stream",
     "text": [
      "10\n"
     ]
    }
   ],
   "source": [
    "print(a)"
   ]
  },
  {
   "cell_type": "code",
   "execution_count": 8,
   "id": "296fe56f-d9ae-4da4-bfdb-73a9c5e25098",
   "metadata": {},
   "outputs": [
    {
     "name": "stdout",
     "output_type": "stream",
     "text": [
      "15\n"
     ]
    }
   ],
   "source": [
    "a += 5\n",
    "print(a)"
   ]
  },
  {
   "cell_type": "code",
   "execution_count": 9,
   "id": "0765caa5-1271-4a32-af26-0509da795e1a",
   "metadata": {},
   "outputs": [
    {
     "name": "stdout",
     "output_type": "stream",
     "text": [
      "20\n"
     ]
    }
   ],
   "source": [
    "a += 5\n",
    "print(a)"
   ]
  },
  {
   "cell_type": "code",
   "execution_count": null,
   "id": "68290300-e375-477a-b31c-b3de9c4af974",
   "metadata": {},
   "outputs": [],
   "source": [
    "-=, *=, /=, //=, %=, **="
   ]
  },
  {
   "cell_type": "code",
   "execution_count": 10,
   "id": "ccf8ef22-1b40-48d7-935c-770ec06a7b0e",
   "metadata": {},
   "outputs": [
    {
     "name": "stdout",
     "output_type": "stream",
     "text": [
      "18\n"
     ]
    }
   ],
   "source": [
    "a -= 2\n",
    "print(a) # 18"
   ]
  },
  {
   "cell_type": "code",
   "execution_count": 11,
   "id": "0247e1b4-7468-4486-ad67-de4d71732cea",
   "metadata": {},
   "outputs": [
    {
     "name": "stdout",
     "output_type": "stream",
     "text": [
      "9\n"
     ]
    }
   ],
   "source": [
    "a //= 2\n",
    "print(a) # 9"
   ]
  },
  {
   "cell_type": "code",
   "execution_count": 12,
   "id": "fd9dffac-057e-40f4-b645-1546567fe10a",
   "metadata": {},
   "outputs": [],
   "source": [
    "a = 18"
   ]
  },
  {
   "cell_type": "code",
   "execution_count": 13,
   "id": "37b5b185-f4b5-45ff-af19-508b60aaedb1",
   "metadata": {},
   "outputs": [
    {
     "name": "stdout",
     "output_type": "stream",
     "text": [
      "9.0\n"
     ]
    }
   ],
   "source": [
    "a /= 2\n",
    "print(a)"
   ]
  },
  {
   "cell_type": "code",
   "execution_count": 14,
   "id": "02685858-6f67-4d06-9822-8646eccbd7b2",
   "metadata": {},
   "outputs": [
    {
     "name": "stdout",
     "output_type": "stream",
     "text": [
      "81.0\n"
     ]
    }
   ],
   "source": [
    "a **= 2\n",
    "print(a) # 81"
   ]
  },
  {
   "cell_type": "code",
   "execution_count": 15,
   "id": "e0a05467-e462-4825-914e-dadb392ad808",
   "metadata": {},
   "outputs": [],
   "source": [
    "a = 9"
   ]
  },
  {
   "cell_type": "code",
   "execution_count": 16,
   "id": "79ad0e5d-52c0-4eb4-ba4d-a5655e300242",
   "metadata": {},
   "outputs": [
    {
     "data": {
      "text/plain": [
       "81"
      ]
     },
     "execution_count": 16,
     "metadata": {},
     "output_type": "execute_result"
    }
   ],
   "source": [
    "9 ** 2"
   ]
  },
  {
   "cell_type": "code",
   "execution_count": 17,
   "id": "3cf3cd4b-3037-4b17-981e-098a7ccbbe76",
   "metadata": {},
   "outputs": [
    {
     "data": {
      "text/plain": [
       "81"
      ]
     },
     "execution_count": 17,
     "metadata": {},
     "output_type": "execute_result"
    }
   ],
   "source": [
    "a ** 2"
   ]
  },
  {
   "cell_type": "code",
   "execution_count": 18,
   "id": "0152c637-09d8-4673-9976-e978ceb1094d",
   "metadata": {},
   "outputs": [
    {
     "data": {
      "text/plain": [
       "9"
      ]
     },
     "execution_count": 18,
     "metadata": {},
     "output_type": "execute_result"
    }
   ],
   "source": [
    "a"
   ]
  },
  {
   "cell_type": "code",
   "execution_count": 19,
   "id": "475dc68f-2223-440c-b53a-0ee377711dda",
   "metadata": {},
   "outputs": [],
   "source": [
    "a = a ** 2"
   ]
  },
  {
   "cell_type": "code",
   "execution_count": 20,
   "id": "036cb703-ec07-40c7-85a6-2b6260efc2a0",
   "metadata": {},
   "outputs": [
    {
     "name": "stdout",
     "output_type": "stream",
     "text": [
      "81\n"
     ]
    }
   ],
   "source": [
    "print(a)"
   ]
  },
  {
   "cell_type": "code",
   "execution_count": null,
   "id": "d6a0e25e-fd51-4863-8833-55204f827434",
   "metadata": {},
   "outputs": [],
   "source": [
    "3) Comparision operator"
   ]
  },
  {
   "cell_type": "code",
   "execution_count": null,
   "id": "54ed021f-42ae-4df7-95ff-423da60c328d",
   "metadata": {},
   "outputs": [],
   "source": [
    "a) == "
   ]
  },
  {
   "cell_type": "code",
   "execution_count": 21,
   "id": "0219a6e4-f003-453f-ab35-4a6460c07598",
   "metadata": {},
   "outputs": [
    {
     "data": {
      "text/plain": [
       "False"
      ]
     },
     "execution_count": 21,
     "metadata": {},
     "output_type": "execute_result"
    }
   ],
   "source": [
    "a == 2"
   ]
  },
  {
   "cell_type": "code",
   "execution_count": 22,
   "id": "147a1656-dd1a-413e-a4b2-3b04f43d78f4",
   "metadata": {},
   "outputs": [
    {
     "data": {
      "text/plain": [
       "True"
      ]
     },
     "execution_count": 22,
     "metadata": {},
     "output_type": "execute_result"
    }
   ],
   "source": [
    "a == 81"
   ]
  },
  {
   "cell_type": "code",
   "execution_count": null,
   "id": "85ea353e-7edd-4125-bdd3-d4e41bc9ac37",
   "metadata": {},
   "outputs": [],
   "source": [
    "b) >=\n",
    "c) <=\n",
    "d) >\n",
    "e) <\n",
    "f) !="
   ]
  },
  {
   "cell_type": "code",
   "execution_count": 23,
   "id": "b97aaf03-5e2c-4bc3-bde2-e8794136b6b7",
   "metadata": {},
   "outputs": [
    {
     "data": {
      "text/plain": [
       "True"
      ]
     },
     "execution_count": 23,
     "metadata": {},
     "output_type": "execute_result"
    }
   ],
   "source": [
    "a != 2"
   ]
  },
  {
   "cell_type": "code",
   "execution_count": null,
   "id": "3d84d268-373b-4beb-83ea-37fbe565bdc1",
   "metadata": {},
   "outputs": [],
   "source": [
    "4) Logical operator\n",
    "    a) and\n",
    "    b) or\n",
    "    c) not"
   ]
  },
  {
   "cell_type": "code",
   "execution_count": null,
   "id": "0297d32c-4386-42df-8613-15b204bbcd00",
   "metadata": {},
   "outputs": [],
   "source": [
    "a) and --> Returns true if conditions on both of its sides are true\n",
    "<condition 1> and <condition2>"
   ]
  },
  {
   "cell_type": "code",
   "execution_count": 24,
   "id": "f40bf117-26ef-4597-b6aa-62e9d9d2c171",
   "metadata": {},
   "outputs": [
    {
     "data": {
      "text/plain": [
       "True"
      ]
     },
     "execution_count": 24,
     "metadata": {},
     "output_type": "execute_result"
    }
   ],
   "source": [
    "a == 81 and a != 2"
   ]
  },
  {
   "cell_type": "code",
   "execution_count": 25,
   "id": "b5c46a31-b055-4263-9ec1-ffe33b01123f",
   "metadata": {},
   "outputs": [
    {
     "data": {
      "text/plain": [
       "False"
      ]
     },
     "execution_count": 25,
     "metadata": {},
     "output_type": "execute_result"
    }
   ],
   "source": [
    "a == 81 and a == 2"
   ]
  },
  {
   "cell_type": "code",
   "execution_count": 26,
   "id": "e3f32a60-6780-4178-b98a-4f57d8894d1a",
   "metadata": {},
   "outputs": [
    {
     "data": {
      "text/plain": [
       "False"
      ]
     },
     "execution_count": 26,
     "metadata": {},
     "output_type": "execute_result"
    }
   ],
   "source": [
    "a != 81 and a != 2"
   ]
  },
  {
   "cell_type": "code",
   "execution_count": 27,
   "id": "2347992d-6453-400d-bab2-338786d6973c",
   "metadata": {},
   "outputs": [
    {
     "data": {
      "text/plain": [
       "False"
      ]
     },
     "execution_count": 27,
     "metadata": {},
     "output_type": "execute_result"
    }
   ],
   "source": [
    "a != 81 and a == 2"
   ]
  },
  {
   "cell_type": "code",
   "execution_count": null,
   "id": "6e940ed5-1399-499a-9933-5e1d867a9120",
   "metadata": {},
   "outputs": [],
   "source": [
    "truth table\n",
    "__________________________________\n",
    "condition 1 | condition 2 | output|\n",
    "===================================\n",
    "True        | True        | True\n",
    "True        | False       | False\n",
    "False       | True        | False\n",
    "False       | False       | False"
   ]
  },
  {
   "cell_type": "code",
   "execution_count": null,
   "id": "4728a68d-2c14-47a8-bcd0-cf6d46e6fbda",
   "metadata": {},
   "outputs": [],
   "source": []
  },
  {
   "cell_type": "code",
   "execution_count": 28,
   "id": "fe014f7c-f3ec-418f-b354-640dd8f625c3",
   "metadata": {},
   "outputs": [
    {
     "data": {
      "text/plain": [
       "True"
      ]
     },
     "execution_count": 28,
     "metadata": {},
     "output_type": "execute_result"
    }
   ],
   "source": [
    "True and 3 != 0"
   ]
  },
  {
   "cell_type": "code",
   "execution_count": 29,
   "id": "4db4dc17-6cda-4331-8889-80b194a5a10a",
   "metadata": {},
   "outputs": [
    {
     "data": {
      "text/plain": [
       "False"
      ]
     },
     "execution_count": 29,
     "metadata": {},
     "output_type": "execute_result"
    }
   ],
   "source": [
    "False and not False"
   ]
  },
  {
   "cell_type": "code",
   "execution_count": 30,
   "id": "46732742-0711-4a26-bf5d-675efc8bb125",
   "metadata": {},
   "outputs": [
    {
     "data": {
      "text/plain": [
       "0"
      ]
     },
     "execution_count": 30,
     "metadata": {},
     "output_type": "execute_result"
    }
   ],
   "source": [
    "not False and 0"
   ]
  },
  {
   "cell_type": "code",
   "execution_count": 31,
   "id": "708be0d5-e1ed-4061-b517-606a799da238",
   "metadata": {},
   "outputs": [
    {
     "data": {
      "text/plain": [
       "2"
      ]
     },
     "execution_count": 31,
     "metadata": {},
     "output_type": "execute_result"
    }
   ],
   "source": [
    "5 and 2"
   ]
  },
  {
   "cell_type": "code",
   "execution_count": 32,
   "id": "ad737afc-a3d9-407e-8599-74b9246ccda8",
   "metadata": {},
   "outputs": [
    {
     "data": {
      "text/plain": [
       "0"
      ]
     },
     "execution_count": 32,
     "metadata": {},
     "output_type": "execute_result"
    }
   ],
   "source": [
    "0 and 55"
   ]
  },
  {
   "cell_type": "code",
   "execution_count": 33,
   "id": "a6613984-1c5b-4c7b-bbb5-1c72e56bf643",
   "metadata": {},
   "outputs": [
    {
     "data": {
      "text/plain": [
       "False"
      ]
     },
     "execution_count": 33,
     "metadata": {},
     "output_type": "execute_result"
    }
   ],
   "source": [
    "False and 0"
   ]
  },
  {
   "cell_type": "code",
   "execution_count": 34,
   "id": "951e77c8-5bcc-4e38-9e1a-73c50cba9b1c",
   "metadata": {},
   "outputs": [
    {
     "data": {
      "text/plain": [
       "True"
      ]
     },
     "execution_count": 34,
     "metadata": {},
     "output_type": "execute_result"
    }
   ],
   "source": [
    "True and True"
   ]
  },
  {
   "cell_type": "code",
   "execution_count": 35,
   "id": "3328d105-65b7-48c1-b670-b635684b59a4",
   "metadata": {},
   "outputs": [
    {
     "data": {
      "text/plain": [
       "'apple'"
      ]
     },
     "execution_count": 35,
     "metadata": {},
     "output_type": "execute_result"
    }
   ],
   "source": [
    "\"mango\" and \"apple\""
   ]
  },
  {
   "cell_type": "code",
   "execution_count": 36,
   "id": "d58dfcb3-8219-4cc9-896a-61f49555e364",
   "metadata": {},
   "outputs": [
    {
     "data": {
      "text/plain": [
       "''"
      ]
     },
     "execution_count": 36,
     "metadata": {},
     "output_type": "execute_result"
    }
   ],
   "source": [
    "\"\" and \"bus\""
   ]
  },
  {
   "cell_type": "code",
   "execution_count": 37,
   "id": "735af85b-d2bd-4975-9943-5d1c2c09e37e",
   "metadata": {},
   "outputs": [
    {
     "data": {
      "text/plain": [
       "0"
      ]
     },
     "execution_count": 37,
     "metadata": {},
     "output_type": "execute_result"
    }
   ],
   "source": [
    "0 and 55"
   ]
  },
  {
   "cell_type": "code",
   "execution_count": 38,
   "id": "7081e101-b38e-4712-b335-566572e5fd56",
   "metadata": {},
   "outputs": [
    {
     "data": {
      "text/plain": [
       "55"
      ]
     },
     "execution_count": 38,
     "metadata": {},
     "output_type": "execute_result"
    }
   ],
   "source": [
    "1 and 55"
   ]
  },
  {
   "cell_type": "code",
   "execution_count": null,
   "id": "b1086be9-52c9-4474-b1c2-7b6333e81327",
   "metadata": {},
   "outputs": [],
   "source": [
    "Truthy values: -1, 1, 2, 5j, 5.6, \"k\", [2, 5], (8,9), {5}, {5:6}, range(1), True\n",
    "Falsy values: False, 0, 0.0, 0j, \"\", [], (,), {}, set(), None ... "
   ]
  },
  {
   "cell_type": "code",
   "execution_count": 39,
   "id": "e133d3b1-da79-4149-8c85-ea6b6357ee63",
   "metadata": {},
   "outputs": [
    {
     "data": {
      "text/plain": [
       "0j"
      ]
     },
     "execution_count": 39,
     "metadata": {},
     "output_type": "execute_result"
    }
   ],
   "source": [
    "0j and 5"
   ]
  },
  {
   "cell_type": "code",
   "execution_count": 40,
   "id": "f05aea89-a31f-42bf-adca-3ce10119c856",
   "metadata": {},
   "outputs": [
    {
     "data": {
      "text/plain": [
       "0j"
      ]
     },
     "execution_count": 40,
     "metadata": {},
     "output_type": "execute_result"
    }
   ],
   "source": [
    "0j and 5j"
   ]
  },
  {
   "cell_type": "code",
   "execution_count": null,
   "id": "13ea1109-0730-425e-b54d-8612a56faa95",
   "metadata": {},
   "outputs": [],
   "source": [
    "b) or"
   ]
  },
  {
   "cell_type": "code",
   "execution_count": null,
   "id": "29b20120-f322-4306-b6c2-6d7a4dcd92ff",
   "metadata": {},
   "outputs": [],
   "source": [
    "<condition 1> or <condition 2>\n",
    "if any one of the condition is true it returns it"
   ]
  },
  {
   "cell_type": "code",
   "execution_count": null,
   "id": "e2b3ff9e-1a99-40a5-a3d9-6f7c8d296310",
   "metadata": {},
   "outputs": [],
   "source": [
    "truth table\n",
    "__________________________________\n",
    "condition 1 | condition 2 | output|\n",
    "===================================\n",
    "True        | True        | True\n",
    "True        | False       | True\n",
    "False       | True        | True\n",
    "False       | False       | False"
   ]
  },
  {
   "cell_type": "code",
   "execution_count": 42,
   "id": "4155e770-7a62-4ef0-a214-234ced8c3218",
   "metadata": {},
   "outputs": [
    {
     "data": {
      "text/plain": [
       "True"
      ]
     },
     "execution_count": 42,
     "metadata": {},
     "output_type": "execute_result"
    }
   ],
   "source": [
    "a == 81 or False"
   ]
  },
  {
   "cell_type": "code",
   "execution_count": 43,
   "id": "e166f99c-beec-48ad-8b8c-d76525c1d39b",
   "metadata": {},
   "outputs": [
    {
     "data": {
      "text/plain": [
       "True"
      ]
     },
     "execution_count": 43,
     "metadata": {},
     "output_type": "execute_result"
    }
   ],
   "source": [
    "True or False"
   ]
  },
  {
   "cell_type": "code",
   "execution_count": 44,
   "id": "8bbcd33a-58d9-4847-8862-4a2baf8d8e86",
   "metadata": {},
   "outputs": [
    {
     "data": {
      "text/plain": [
       "2"
      ]
     },
     "execution_count": 44,
     "metadata": {},
     "output_type": "execute_result"
    }
   ],
   "source": [
    "2 or 0"
   ]
  },
  {
   "cell_type": "code",
   "execution_count": 45,
   "id": "89329ead-3665-4a0c-9edf-6075312b7a55",
   "metadata": {},
   "outputs": [
    {
     "data": {
      "text/plain": [
       "0"
      ]
     },
     "execution_count": 45,
     "metadata": {},
     "output_type": "execute_result"
    }
   ],
   "source": [
    "\"\" or 0"
   ]
  },
  {
   "cell_type": "code",
   "execution_count": 46,
   "id": "8c7f5b62-39d0-41c3-985b-a733e966182b",
   "metadata": {},
   "outputs": [
    {
     "data": {
      "text/plain": [
       "5"
      ]
     },
     "execution_count": 46,
     "metadata": {},
     "output_type": "execute_result"
    }
   ],
   "source": [
    "\"\" or 5"
   ]
  },
  {
   "cell_type": "code",
   "execution_count": null,
   "id": "8ba3f9bc-6251-4332-8f1b-e47a204aaf56",
   "metadata": {},
   "outputs": [],
   "source": [
    "if, while"
   ]
  },
  {
   "cell_type": "code",
   "execution_count": 47,
   "id": "e26821fc-bef7-4a70-9dfb-91507f9ae9f4",
   "metadata": {},
   "outputs": [
    {
     "data": {
      "text/plain": [
       "True"
      ]
     },
     "execution_count": 47,
     "metadata": {},
     "output_type": "execute_result"
    }
   ],
   "source": [
    "bool(\"\" or 5)"
   ]
  },
  {
   "cell_type": "code",
   "execution_count": 48,
   "id": "b190b0fe-9c85-4662-9860-1ad52482b975",
   "metadata": {},
   "outputs": [
    {
     "data": {
      "text/plain": [
       "False"
      ]
     },
     "execution_count": 48,
     "metadata": {},
     "output_type": "execute_result"
    }
   ],
   "source": [
    "bool(\"\" or 0)"
   ]
  },
  {
   "cell_type": "code",
   "execution_count": null,
   "id": "f7ed2742-773d-445f-8c30-7f07f5a5fbb5",
   "metadata": {},
   "outputs": [],
   "source": [
    "c) not --> it reverses the result, it returns False if the result is True"
   ]
  },
  {
   "cell_type": "code",
   "execution_count": 49,
   "id": "d635f5c4-af30-46f4-ae8b-5b9ce62b8df5",
   "metadata": {},
   "outputs": [
    {
     "data": {
      "text/plain": [
       "False"
      ]
     },
     "execution_count": 49,
     "metadata": {},
     "output_type": "execute_result"
    }
   ],
   "source": [
    "a == 2"
   ]
  },
  {
   "cell_type": "code",
   "execution_count": 50,
   "id": "b2eec2e6-36cd-48ea-baa9-1e706e9d436f",
   "metadata": {},
   "outputs": [
    {
     "data": {
      "text/plain": [
       "True"
      ]
     },
     "execution_count": 50,
     "metadata": {},
     "output_type": "execute_result"
    }
   ],
   "source": [
    "not a == 2"
   ]
  },
  {
   "cell_type": "code",
   "execution_count": null,
   "id": "ed6be69b-04f9-4df9-b7f9-ced71637c44f",
   "metadata": {},
   "outputs": [],
   "source": [
    "5) Identity operator: It is used to compare the objects or the memory locations of the expression on the both sides"
   ]
  },
  {
   "cell_type": "code",
   "execution_count": null,
   "id": "1c61fabf-2d72-46f8-b5df-479eddfe6e79",
   "metadata": {},
   "outputs": [],
   "source": [
    "is, is not"
   ]
  },
  {
   "cell_type": "code",
   "execution_count": null,
   "id": "ab1bee69-4972-4947-ae0f-6f7b13b4aeb2",
   "metadata": {},
   "outputs": [],
   "source": [
    "6) membership operator\n",
    "in, not in"
   ]
  },
  {
   "cell_type": "code",
   "execution_count": 51,
   "id": "5b78fa6b-3cc6-4f99-8210-99c7fed959e5",
   "metadata": {},
   "outputs": [
    {
     "data": {
      "text/plain": [
       "True"
      ]
     },
     "execution_count": 51,
     "metadata": {},
     "output_type": "execute_result"
    }
   ],
   "source": [
    "2 in range(5)"
   ]
  },
  {
   "cell_type": "code",
   "execution_count": 52,
   "id": "eb478ccc-0959-40e3-8829-1a7ac3a386d7",
   "metadata": {},
   "outputs": [
    {
     "data": {
      "text/plain": [
       "False"
      ]
     },
     "execution_count": 52,
     "metadata": {},
     "output_type": "execute_result"
    }
   ],
   "source": [
    "2 in range(1, 5, 2)"
   ]
  },
  {
   "cell_type": "code",
   "execution_count": 53,
   "id": "410ce96d-2eca-4563-97b5-113db5aca407",
   "metadata": {},
   "outputs": [
    {
     "data": {
      "text/plain": [
       "False"
      ]
     },
     "execution_count": 53,
     "metadata": {},
     "output_type": "execute_result"
    }
   ],
   "source": [
    "2 in [1, 3, 5]"
   ]
  },
  {
   "cell_type": "markdown",
   "id": "eacfcc15-5655-482a-86cf-27f3d2544764",
   "metadata": {},
   "source": [
    "# Functions"
   ]
  },
  {
   "cell_type": "code",
   "execution_count": null,
   "id": "43adc43d-ce32-4486-b5d2-bf94ef4e59ee",
   "metadata": {},
   "outputs": [],
   "source": [
    "sin(x) --> -1 - 1"
   ]
  },
  {
   "cell_type": "code",
   "execution_count": null,
   "id": "bce0ca68-b004-49b4-ac10-631dc2967986",
   "metadata": {},
   "outputs": [],
   "source": [
    "# defining a function\n",
    "def funct_name(param1, param2):\n",
    "    # block of code"
   ]
  },
  {
   "cell_type": "code",
   "execution_count": 54,
   "id": "e161e334-22c8-4898-9658-2575313934f5",
   "metadata": {},
   "outputs": [],
   "source": [
    "def funct_1():\n",
    "    print(\"Hey I am a function\")"
   ]
  },
  {
   "cell_type": "code",
   "execution_count": 55,
   "id": "cdd2a18f-c23b-487f-9a3f-82eecc1b6f32",
   "metadata": {},
   "outputs": [
    {
     "name": "stdout",
     "output_type": "stream",
     "text": [
      "Hey I am a function\n"
     ]
    }
   ],
   "source": [
    "funct_1()"
   ]
  },
  {
   "cell_type": "code",
   "execution_count": 56,
   "id": "19901d50-ac76-4fe5-9da6-c4b5c911c099",
   "metadata": {},
   "outputs": [
    {
     "name": "stdout",
     "output_type": "stream",
     "text": [
      "Hey I am a function\n"
     ]
    }
   ],
   "source": [
    "b = funct_1()"
   ]
  },
  {
   "cell_type": "code",
   "execution_count": null,
   "id": "61e8c264-cf44-48a9-ba70-08696e3ad621",
   "metadata": {},
   "outputs": [],
   "source": [
    "1) Evry function return None as Default"
   ]
  },
  {
   "cell_type": "code",
   "execution_count": 58,
   "id": "c3db3232-4d3b-4be8-bec4-6c1aead53936",
   "metadata": {},
   "outputs": [
    {
     "name": "stdout",
     "output_type": "stream",
     "text": [
      "None\n"
     ]
    }
   ],
   "source": [
    "print(b)"
   ]
  },
  {
   "cell_type": "code",
   "execution_count": 59,
   "id": "9257b054-24ce-440a-b6f3-83824d5d438a",
   "metadata": {},
   "outputs": [],
   "source": [
    "def funct_2():\n",
    "    return \"Hey I am a function\""
   ]
  },
  {
   "cell_type": "code",
   "execution_count": 60,
   "id": "a9371732-130f-4d30-a9f3-16030802802b",
   "metadata": {},
   "outputs": [
    {
     "data": {
      "text/plain": [
       "'Hey I am a function'"
      ]
     },
     "execution_count": 60,
     "metadata": {},
     "output_type": "execute_result"
    }
   ],
   "source": [
    "funct_2()"
   ]
  },
  {
   "cell_type": "code",
   "execution_count": 61,
   "id": "e292b165-5eb3-4dbd-a391-a91dc8728010",
   "metadata": {},
   "outputs": [],
   "source": [
    "c = funct_2()"
   ]
  },
  {
   "cell_type": "code",
   "execution_count": 62,
   "id": "d81558c6-55b0-4591-b279-177468b951b5",
   "metadata": {},
   "outputs": [
    {
     "name": "stdout",
     "output_type": "stream",
     "text": [
      "Hey I am a function\n"
     ]
    }
   ],
   "source": [
    "print(c)"
   ]
  },
  {
   "cell_type": "code",
   "execution_count": null,
   "id": "947ca6ba-46a0-4488-80b9-540f55d0d8fc",
   "metadata": {},
   "outputs": [],
   "source": []
  },
  {
   "cell_type": "code",
   "execution_count": 63,
   "id": "da576658-813a-46f5-8bb6-da0e9241fd63",
   "metadata": {},
   "outputs": [],
   "source": [
    "def funct_3(p1, p2):\n",
    "    return p1 + p2"
   ]
  },
  {
   "cell_type": "code",
   "execution_count": 64,
   "id": "ef8919c0-b87b-4c35-92e9-0e66301aac24",
   "metadata": {},
   "outputs": [
    {
     "data": {
      "text/plain": [
       "13"
      ]
     },
     "execution_count": 64,
     "metadata": {},
     "output_type": "execute_result"
    }
   ],
   "source": [
    "funct_3(5, 8)"
   ]
  },
  {
   "cell_type": "code",
   "execution_count": 65,
   "id": "2190395b-3278-4c7e-a3b5-139394894e85",
   "metadata": {},
   "outputs": [],
   "source": [
    "d = funct_3(5, 8)"
   ]
  },
  {
   "cell_type": "code",
   "execution_count": 66,
   "id": "db13bc82-527d-4949-acaf-34ca9c78c1db",
   "metadata": {},
   "outputs": [
    {
     "data": {
      "text/plain": [
       "13"
      ]
     },
     "execution_count": 66,
     "metadata": {},
     "output_type": "execute_result"
    }
   ],
   "source": [
    "d"
   ]
  },
  {
   "cell_type": "code",
   "execution_count": 67,
   "id": "65bad776-3412-4ad8-8159-ee58846f1754",
   "metadata": {},
   "outputs": [],
   "source": [
    "def funct_3(p1, p2):\n",
    "    print(p1 + p2)"
   ]
  },
  {
   "cell_type": "code",
   "execution_count": 68,
   "id": "6ac8ea5b-790f-4df9-829a-041f41e8aaa6",
   "metadata": {},
   "outputs": [
    {
     "name": "stdout",
     "output_type": "stream",
     "text": [
      "13\n"
     ]
    }
   ],
   "source": [
    "d = funct_3(5, 8)"
   ]
  },
  {
   "cell_type": "code",
   "execution_count": 71,
   "id": "3366eb4b-759d-45c9-9580-238b43bcc433",
   "metadata": {},
   "outputs": [],
   "source": [
    "def funct_3(p1, p2):\n",
    "    print(f\"p1: {p1}\")\n",
    "    print(f\"p2: {p2}\")"
   ]
  },
  {
   "cell_type": "code",
   "execution_count": 72,
   "id": "4d9be005-ea4e-4bc1-a2c1-16059a9ad9f5",
   "metadata": {},
   "outputs": [
    {
     "name": "stdout",
     "output_type": "stream",
     "text": [
      "p1: 2\n",
      "p2: 3\n"
     ]
    }
   ],
   "source": [
    "funct_3(2, 3)"
   ]
  },
  {
   "cell_type": "code",
   "execution_count": 73,
   "id": "a04e5280-5120-4a40-9cdc-042af8c0ea34",
   "metadata": {},
   "outputs": [
    {
     "name": "stdout",
     "output_type": "stream",
     "text": [
      "p1: 3\n",
      "p2: 2\n"
     ]
    }
   ],
   "source": [
    "funct_3(3, 2)"
   ]
  },
  {
   "cell_type": "code",
   "execution_count": 70,
   "id": "7eb864af-c084-4f59-89ac-e56527a3baa0",
   "metadata": {},
   "outputs": [
    {
     "name": "stdout",
     "output_type": "stream",
     "text": [
      "None\n"
     ]
    }
   ],
   "source": [
    "print(d)"
   ]
  },
  {
   "cell_type": "code",
   "execution_count": 74,
   "id": "6ccdc7d7-5b0e-4499-905c-11de31a3e089",
   "metadata": {},
   "outputs": [
    {
     "ename": "TypeError",
     "evalue": "funct_3() missing 1 required positional argument: 'p2'",
     "output_type": "error",
     "traceback": [
      "\u001b[31m---------------------------------------------------------------------------\u001b[39m",
      "\u001b[31mTypeError\u001b[39m                                 Traceback (most recent call last)",
      "\u001b[36mCell\u001b[39m\u001b[36m \u001b[39m\u001b[32mIn[74]\u001b[39m\u001b[32m, line 1\u001b[39m\n\u001b[32m----> \u001b[39m\u001b[32m1\u001b[39m \u001b[43mfunct_3\u001b[49m\u001b[43m(\u001b[49m\u001b[32;43m3\u001b[39;49m\u001b[43m)\u001b[49m\n",
      "\u001b[31mTypeError\u001b[39m: funct_3() missing 1 required positional argument: 'p2'"
     ]
    }
   ],
   "source": [
    "funct_3(3)"
   ]
  },
  {
   "cell_type": "code",
   "execution_count": 75,
   "id": "dd48e9da-04f6-4fed-9eed-57e95061b052",
   "metadata": {},
   "outputs": [],
   "source": [
    "def funct_4(p1, p2=0):\n",
    "    print(f\"p1: {p1}\")\n",
    "    print(f\"p2: {p2}\")"
   ]
  },
  {
   "cell_type": "code",
   "execution_count": 76,
   "id": "70c18871-7b94-44d6-99da-04a68777912e",
   "metadata": {},
   "outputs": [
    {
     "name": "stdout",
     "output_type": "stream",
     "text": [
      "p1: 5\n",
      "p2: 0\n"
     ]
    }
   ],
   "source": [
    "funct_4(5)"
   ]
  },
  {
   "cell_type": "code",
   "execution_count": 77,
   "id": "c81d096e-faa2-40c3-a671-5d2c7c52c951",
   "metadata": {},
   "outputs": [
    {
     "name": "stdout",
     "output_type": "stream",
     "text": [
      "p1: 5\n",
      "p2: 6\n"
     ]
    }
   ],
   "source": [
    "funct_4(5, 6)"
   ]
  },
  {
   "cell_type": "code",
   "execution_count": 78,
   "id": "0e653fef-a391-4e3e-93b0-dec37c8dab55",
   "metadata": {},
   "outputs": [
    {
     "ename": "TypeError",
     "evalue": "funct_4() missing 1 required positional argument: 'p1'",
     "output_type": "error",
     "traceback": [
      "\u001b[31m---------------------------------------------------------------------------\u001b[39m",
      "\u001b[31mTypeError\u001b[39m                                 Traceback (most recent call last)",
      "\u001b[36mCell\u001b[39m\u001b[36m \u001b[39m\u001b[32mIn[78]\u001b[39m\u001b[32m, line 1\u001b[39m\n\u001b[32m----> \u001b[39m\u001b[32m1\u001b[39m \u001b[43mfunct_4\u001b[49m\u001b[43m(\u001b[49m\u001b[43m)\u001b[49m\n",
      "\u001b[31mTypeError\u001b[39m: funct_4() missing 1 required positional argument: 'p1'"
     ]
    }
   ],
   "source": [
    "funct_4()"
   ]
  },
  {
   "cell_type": "code",
   "execution_count": 80,
   "id": "45106808-034d-4e32-85ba-c4c3a9209edf",
   "metadata": {},
   "outputs": [],
   "source": [
    "def funct_5(p1=0, p2=0):\n",
    "    print(f\"p1: {p1}\")\n",
    "    print(f\"p2: {p2}\")"
   ]
  },
  {
   "cell_type": "code",
   "execution_count": 81,
   "id": "9c194883-3189-4081-a1a4-984642cb5c20",
   "metadata": {},
   "outputs": [
    {
     "name": "stdout",
     "output_type": "stream",
     "text": [
      "p1: 0\n",
      "p2: 0\n"
     ]
    }
   ],
   "source": [
    "funct_5()"
   ]
  },
  {
   "cell_type": "code",
   "execution_count": 82,
   "id": "0c9f65e8-b92f-4a80-b5d0-4be385c9e78b",
   "metadata": {},
   "outputs": [
    {
     "ename": "SyntaxError",
     "evalue": "parameter without a default follows parameter with a default (3093807030.py, line 1)",
     "output_type": "error",
     "traceback": [
      "  \u001b[36mCell\u001b[39m\u001b[36m \u001b[39m\u001b[32mIn[82]\u001b[39m\u001b[32m, line 1\u001b[39m\n\u001b[31m    \u001b[39m\u001b[31mdef funct_5(p1=0, p2):\u001b[39m\n                      ^\n\u001b[31mSyntaxError\u001b[39m\u001b[31m:\u001b[39m parameter without a default follows parameter with a default\n"
     ]
    }
   ],
   "source": [
    "def funct_5(p1=0, p2):\n",
    "    print(f\"p1: {p1}\")\n",
    "    print(f\"p2: {p2}\")"
   ]
  },
  {
   "cell_type": "code",
   "execution_count": null,
   "id": "6e128fab-ac16-48ed-a702-ed15dc284e62",
   "metadata": {},
   "outputs": [],
   "source": [
    "# Arbitory Arguments\n"
   ]
  },
  {
   "cell_type": "code",
   "execution_count": 83,
   "id": "f702af0d-5f96-4dbc-9a07-28c1ac0e3bfd",
   "metadata": {},
   "outputs": [
    {
     "name": "stdout",
     "output_type": "stream",
     "text": [
      "1 2 k 9\n"
     ]
    }
   ],
   "source": [
    "print(1, 2, \"k\", 9)"
   ]
  },
  {
   "cell_type": "code",
   "execution_count": 84,
   "id": "57929504-ae42-42df-91b3-3bdf859a4716",
   "metadata": {},
   "outputs": [],
   "source": [
    "def make_square_print(*arg):\n",
    "    print(type(arg))\n",
    "    print(arg)"
   ]
  },
  {
   "cell_type": "code",
   "execution_count": 85,
   "id": "685d1b6e-0f0b-4a8b-baa0-5c614bc4e65a",
   "metadata": {},
   "outputs": [
    {
     "name": "stdout",
     "output_type": "stream",
     "text": [
      "<class 'tuple'>\n",
      "(1, 2, 5, 8)\n"
     ]
    }
   ],
   "source": [
    "make_square_print(1, 2, 5, 8)"
   ]
  },
  {
   "cell_type": "code",
   "execution_count": 86,
   "id": "44a29171-f63e-4202-8ab7-b1c2d5d8798d",
   "metadata": {},
   "outputs": [],
   "source": [
    "def make_square_print(*arg):\n",
    "    for i in arg:\n",
    "        print(i**2)"
   ]
  },
  {
   "cell_type": "code",
   "execution_count": 87,
   "id": "add0961e-1583-49ec-afc9-32c7264c7c78",
   "metadata": {},
   "outputs": [
    {
     "name": "stdout",
     "output_type": "stream",
     "text": [
      "1\n",
      "4\n",
      "25\n",
      "64\n"
     ]
    }
   ],
   "source": [
    "make_square_print(1, 2, 5, 8)"
   ]
  },
  {
   "cell_type": "code",
   "execution_count": 88,
   "id": "522138cf-fc13-4e13-b86d-3ccd13d06ab5",
   "metadata": {},
   "outputs": [],
   "source": [
    "def make_square_print(*arg):\n",
    "    for i in arg:\n",
    "        if type(i) == str:\n",
    "            print(i)\n",
    "        else:\n",
    "            print(i**2)"
   ]
  },
  {
   "cell_type": "code",
   "execution_count": 90,
   "id": "273f9d39-bd0f-481b-af1c-624b8f9316aa",
   "metadata": {},
   "outputs": [
    {
     "name": "stdout",
     "output_type": "stream",
     "text": [
      "1\n",
      "4\n",
      "25\n",
      "ravi\n",
      "64\n"
     ]
    }
   ],
   "source": [
    "make_square_print(-1, 2, 5, \"ravi\", 8)"
   ]
  },
  {
   "cell_type": "code",
   "execution_count": null,
   "id": "b7272993-cf02-4e74-a571-76f305989b1e",
   "metadata": {},
   "outputs": [],
   "source": [
    "**keyword argument"
   ]
  },
  {
   "cell_type": "code",
   "execution_count": 91,
   "id": "d45e3076-b87c-4f62-980a-1ea95bf7354d",
   "metadata": {},
   "outputs": [],
   "source": [
    "def my_func(**kwarg):\n",
    "    print(type(kwarg))\n",
    "    print(kwarg)"
   ]
  },
  {
   "cell_type": "code",
   "execution_count": 92,
   "id": "1009a68b-3e03-47d7-a7bc-198a5a109dc2",
   "metadata": {},
   "outputs": [
    {
     "name": "stdout",
     "output_type": "stream",
     "text": [
      "<class 'dict'>\n",
      "{'name': 'spurthi', 'batch': 'python'}\n"
     ]
    }
   ],
   "source": [
    "my_func(name=\"spurthi\", batch=\"python\")"
   ]
  },
  {
   "cell_type": "code",
   "execution_count": 93,
   "id": "bd9d90f4-729d-4d29-a679-4d8328cf1136",
   "metadata": {},
   "outputs": [
    {
     "name": "stdout",
     "output_type": "stream",
     "text": [
      "p1: gyan\n",
      "p2: 5\n"
     ]
    }
   ],
   "source": [
    "def funct_5(p1=0, p2=0):\n",
    "    print(f\"p1: {p1}\")\n",
    "    print(f\"p2: {p2}\")\n",
    "\n",
    "funct_5(p2=5, p1=\"gyan\")"
   ]
  },
  {
   "cell_type": "code",
   "execution_count": 94,
   "id": "e95b5779-d973-425e-ba48-f688e3896053",
   "metadata": {},
   "outputs": [],
   "source": [
    "a = 5\n",
    "def func_0():\n",
    "    print(a)"
   ]
  },
  {
   "cell_type": "code",
   "execution_count": 95,
   "id": "87e7690d-1d23-4e67-87d8-4fb7d4cc4d78",
   "metadata": {},
   "outputs": [
    {
     "name": "stdout",
     "output_type": "stream",
     "text": [
      "5\n"
     ]
    }
   ],
   "source": [
    "func_0()"
   ]
  },
  {
   "cell_type": "code",
   "execution_count": 97,
   "id": "5782ec48-1e87-420e-b73c-bf93535bd31d",
   "metadata": {},
   "outputs": [
    {
     "name": "stdout",
     "output_type": "stream",
     "text": [
      "6\n"
     ]
    },
    {
     "ename": "NameError",
     "evalue": "name 'b1' is not defined",
     "output_type": "error",
     "traceback": [
      "\u001b[31m---------------------------------------------------------------------------\u001b[39m",
      "\u001b[31mNameError\u001b[39m                                 Traceback (most recent call last)",
      "\u001b[36mCell\u001b[39m\u001b[36m \u001b[39m\u001b[32mIn[97]\u001b[39m\u001b[32m, line 5\u001b[39m\n\u001b[32m      3\u001b[39m     \u001b[38;5;28mprint\u001b[39m(b1)\n\u001b[32m      4\u001b[39m func_1()\n\u001b[32m----> \u001b[39m\u001b[32m5\u001b[39m \u001b[38;5;28mprint\u001b[39m(\u001b[43mb1\u001b[49m)\n",
      "\u001b[31mNameError\u001b[39m: name 'b1' is not defined"
     ]
    }
   ],
   "source": [
    "def func_1():\n",
    "    b1 = 6\n",
    "    print(b1)\n",
    "func_1()\n",
    "print(b1)"
   ]
  },
  {
   "cell_type": "code",
   "execution_count": 98,
   "id": "ba6f695a-ac46-49bb-a3fc-9f3bd2e3fa2a",
   "metadata": {},
   "outputs": [
    {
     "ename": "UnboundLocalError",
     "evalue": "cannot access local variable 'b2' where it is not associated with a value",
     "output_type": "error",
     "traceback": [
      "\u001b[31m---------------------------------------------------------------------------\u001b[39m",
      "\u001b[31mUnboundLocalError\u001b[39m                         Traceback (most recent call last)",
      "\u001b[36mCell\u001b[39m\u001b[36m \u001b[39m\u001b[32mIn[98]\u001b[39m\u001b[32m, line 6\u001b[39m\n\u001b[32m      4\u001b[39m     b2 = \u001b[32m6\u001b[39m\n\u001b[32m      5\u001b[39m     \u001b[38;5;28mprint\u001b[39m(b2)\n\u001b[32m----> \u001b[39m\u001b[32m6\u001b[39m \u001b[43mfunc_2\u001b[49m\u001b[43m(\u001b[49m\u001b[43m)\u001b[49m\n",
      "\u001b[36mCell\u001b[39m\u001b[36m \u001b[39m\u001b[32mIn[98]\u001b[39m\u001b[32m, line 3\u001b[39m, in \u001b[36mfunc_2\u001b[39m\u001b[34m()\u001b[39m\n\u001b[32m      2\u001b[39m \u001b[38;5;28;01mdef\u001b[39;00m\u001b[38;5;250m \u001b[39m\u001b[34mfunc_2\u001b[39m():\n\u001b[32m----> \u001b[39m\u001b[32m3\u001b[39m     \u001b[38;5;28mprint\u001b[39m(\u001b[43mb2\u001b[49m)\n\u001b[32m      4\u001b[39m     b2 = \u001b[32m6\u001b[39m\n\u001b[32m      5\u001b[39m     \u001b[38;5;28mprint\u001b[39m(b2)\n",
      "\u001b[31mUnboundLocalError\u001b[39m: cannot access local variable 'b2' where it is not associated with a value"
     ]
    }
   ],
   "source": [
    "b2 = 5\n",
    "def func_2():\n",
    "    print(b2)\n",
    "    b2 = 6\n",
    "    print(b2)\n",
    "func_2()"
   ]
  },
  {
   "cell_type": "code",
   "execution_count": 99,
   "id": "9b224b4b-e51f-4c0a-8477-253b20e1e2fa",
   "metadata": {},
   "outputs": [
    {
     "name": "stdout",
     "output_type": "stream",
     "text": [
      "5\n"
     ]
    }
   ],
   "source": [
    "b2 = 5\n",
    "def func_2():\n",
    "    print(b2)\n",
    "func_2()"
   ]
  },
  {
   "cell_type": "code",
   "execution_count": 100,
   "id": "025845f5-9823-4a7f-bea7-c6f82fe2a2cd",
   "metadata": {},
   "outputs": [
    {
     "name": "stdout",
     "output_type": "stream",
     "text": [
      "6\n",
      "6\n"
     ]
    }
   ],
   "source": [
    "b2 = 5\n",
    "def func_2():\n",
    "    b2 = 6\n",
    "    print(b2)\n",
    "    print(b2)\n",
    "func_2()"
   ]
  },
  {
   "cell_type": "code",
   "execution_count": 102,
   "id": "00240007-8317-44d7-85f9-d24d55a14c0a",
   "metadata": {},
   "outputs": [
    {
     "name": "stdout",
     "output_type": "stream",
     "text": [
      "6\n",
      "7\n",
      "8\n"
     ]
    }
   ],
   "source": [
    "b2 = 5\n",
    "def func_2():\n",
    "    b2 = 6\n",
    "    print(b2)\n",
    "    b3 = 7\n",
    "    print(b3)\n",
    "func_2()\n",
    "b3 = 8\n",
    "print(b3)"
   ]
  },
  {
   "cell_type": "code",
   "execution_count": 103,
   "id": "150a6e17-2b64-41a0-8c80-75e5dd519c28",
   "metadata": {},
   "outputs": [
    {
     "name": "stdout",
     "output_type": "stream",
     "text": [
      "5\n",
      "6\n"
     ]
    }
   ],
   "source": [
    "b2 = 5\n",
    "def func_2():\n",
    "    global b2\n",
    "    print(b2)\n",
    "    b2 = 6\n",
    "    print(b2)\n",
    "func_2()"
   ]
  },
  {
   "cell_type": "code",
   "execution_count": null,
   "id": "4da0c372-da30-4364-bf86-6a1bb62597e9",
   "metadata": {},
   "outputs": [],
   "source": []
  },
  {
   "cell_type": "code",
   "execution_count": null,
   "id": "f1c5a71f-f15e-4848-93e6-1281bfdd209f",
   "metadata": {},
   "outputs": [],
   "source": [
    "tommorow: \n",
    "    lambda, map, filter, data structures in python"
   ]
  }
 ],
 "metadata": {
  "kernelspec": {
   "display_name": "Python 3 (ipykernel)",
   "language": "python",
   "name": "python3"
  },
  "language_info": {
   "codemirror_mode": {
    "name": "ipython",
    "version": 3
   },
   "file_extension": ".py",
   "mimetype": "text/x-python",
   "name": "python",
   "nbconvert_exporter": "python",
   "pygments_lexer": "ipython3",
   "version": "3.13.3"
  }
 },
 "nbformat": 4,
 "nbformat_minor": 5
}
