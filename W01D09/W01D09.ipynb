{
 "cells": [
  {
   "cell_type": "code",
   "execution_count": 1,
   "id": "d12dc723-c91a-4aa1-890f-ae0e43760f45",
   "metadata": {},
   "outputs": [
    {
     "name": "stdout",
     "output_type": "stream",
     "text": [
      "0 is even number\n",
      "5 is an odd number\n",
      "10 is even number\n",
      "15 is an odd number\n",
      "20 is even number\n"
     ]
    }
   ],
   "source": [
    "a = [0, 5, 10, 15, 20]\n",
    "for i in a:\n",
    "    if i % 2 == 0:\n",
    "        print(str(i) + \" is even number\")\n",
    "    else:\n",
    "        print(str(i) + \" is an odd number\")"
   ]
  },
  {
   "cell_type": "code",
   "execution_count": 2,
   "id": "2742ef5c-882f-4b54-8185-a04e67149d19",
   "metadata": {},
   "outputs": [],
   "source": [
    "iter_list = iter([\"edyoda\", \"classroom\", \"program\"])"
   ]
  },
  {
   "cell_type": "code",
   "execution_count": 3,
   "id": "473ffd1d-aab2-4854-acdc-e00feb9877a2",
   "metadata": {},
   "outputs": [
    {
     "data": {
      "text/plain": [
       "<list_iterator at 0x227a9c113f0>"
      ]
     },
     "execution_count": 3,
     "metadata": {},
     "output_type": "execute_result"
    }
   ],
   "source": [
    "iter_list"
   ]
  },
  {
   "cell_type": "code",
   "execution_count": 4,
   "id": "49c6f04b-7722-4166-8980-5519b4788efc",
   "metadata": {},
   "outputs": [
    {
     "ename": "TypeError",
     "evalue": "'list_iterator' object is not subscriptable",
     "output_type": "error",
     "traceback": [
      "\u001b[31m---------------------------------------------------------------------------\u001b[39m",
      "\u001b[31mTypeError\u001b[39m                                 Traceback (most recent call last)",
      "\u001b[36mCell\u001b[39m\u001b[36m \u001b[39m\u001b[32mIn[4]\u001b[39m\u001b[32m, line 1\u001b[39m\n\u001b[32m----> \u001b[39m\u001b[32m1\u001b[39m \u001b[43miter_list\u001b[49m\u001b[43m[\u001b[49m\u001b[32;43m0\u001b[39;49m\u001b[43m]\u001b[49m\n",
      "\u001b[31mTypeError\u001b[39m: 'list_iterator' object is not subscriptable"
     ]
    }
   ],
   "source": [
    "iter_list[0]"
   ]
  },
  {
   "cell_type": "code",
   "execution_count": 5,
   "id": "816c39b9-fb7f-4a3e-b5cb-e86578fd7959",
   "metadata": {},
   "outputs": [
    {
     "data": {
      "text/plain": [
       "'edyoda'"
      ]
     },
     "execution_count": 5,
     "metadata": {},
     "output_type": "execute_result"
    }
   ],
   "source": [
    "next(iter_list)"
   ]
  },
  {
   "cell_type": "code",
   "execution_count": 6,
   "id": "78b00b84-dd22-41e6-85dd-fda3466d1a97",
   "metadata": {},
   "outputs": [
    {
     "data": {
      "text/plain": [
       "'classroom'"
      ]
     },
     "execution_count": 6,
     "metadata": {},
     "output_type": "execute_result"
    }
   ],
   "source": [
    "next(iter_list)"
   ]
  },
  {
   "cell_type": "code",
   "execution_count": 7,
   "id": "4b7ca83e-cfd9-4387-a244-31297c0450d1",
   "metadata": {},
   "outputs": [
    {
     "data": {
      "text/plain": [
       "'program'"
      ]
     },
     "execution_count": 7,
     "metadata": {},
     "output_type": "execute_result"
    }
   ],
   "source": [
    "next(iter_list)"
   ]
  },
  {
   "cell_type": "code",
   "execution_count": 8,
   "id": "8032070c-a8b3-45f7-a8aa-8bf379995bdb",
   "metadata": {},
   "outputs": [
    {
     "ename": "StopIteration",
     "evalue": "",
     "output_type": "error",
     "traceback": [
      "\u001b[31m---------------------------------------------------------------------------\u001b[39m",
      "\u001b[31mStopIteration\u001b[39m                             Traceback (most recent call last)",
      "\u001b[36mCell\u001b[39m\u001b[36m \u001b[39m\u001b[32mIn[8]\u001b[39m\u001b[32m, line 1\u001b[39m\n\u001b[32m----> \u001b[39m\u001b[32m1\u001b[39m \u001b[38;5;28;43mnext\u001b[39;49m\u001b[43m(\u001b[49m\u001b[43miter_list\u001b[49m\u001b[43m)\u001b[49m\n",
      "\u001b[31mStopIteration\u001b[39m: "
     ]
    }
   ],
   "source": [
    "next(iter_list)"
   ]
  },
  {
   "cell_type": "code",
   "execution_count": 11,
   "id": "4ed3747c-2f93-40c4-a939-8f52a65f70ac",
   "metadata": {},
   "outputs": [
    {
     "name": "stdout",
     "output_type": "stream",
     "text": [
      "edyoda\n",
      "classroom\n",
      "program\n"
     ]
    }
   ],
   "source": [
    "iter_list = iter([\"edyoda\", \"classroom\", \"program\"])\n",
    "for item in iter_list:\n",
    "    print(item)"
   ]
  },
  {
   "cell_type": "code",
   "execution_count": 12,
   "id": "12dc857a-bad6-4ee7-9346-c7ba657f6555",
   "metadata": {},
   "outputs": [],
   "source": [
    "class MyNumbers:\n",
    "    def __iter__(self):\n",
    "        self.a = 1\n",
    "        return self\n",
    "\n",
    "    def __next__(self):\n",
    "        x = self.a\n",
    "        if self.a%2:\n",
    "            self.a += 1\n",
    "        else:\n",
    "            self.a += 2\n",
    "        return x"
   ]
  },
  {
   "cell_type": "code",
   "execution_count": 13,
   "id": "7250168f-7cbb-4543-a97b-228653c99d2b",
   "metadata": {},
   "outputs": [],
   "source": [
    "myclass = MyNumbers()"
   ]
  },
  {
   "cell_type": "code",
   "execution_count": 14,
   "id": "213cd93a-c2ff-45bd-b270-e8b8e01f07fe",
   "metadata": {},
   "outputs": [],
   "source": [
    "myiter = iter(myclass)"
   ]
  },
  {
   "cell_type": "code",
   "execution_count": 15,
   "id": "e2ecaca5-676b-4343-bf47-1a58f252fcdb",
   "metadata": {},
   "outputs": [
    {
     "data": {
      "text/plain": [
       "1"
      ]
     },
     "execution_count": 15,
     "metadata": {},
     "output_type": "execute_result"
    }
   ],
   "source": [
    "next(myiter)"
   ]
  },
  {
   "cell_type": "code",
   "execution_count": 16,
   "id": "5598f74d-5bf3-4300-9d68-91e3a634b510",
   "metadata": {},
   "outputs": [
    {
     "data": {
      "text/plain": [
       "2"
      ]
     },
     "execution_count": 16,
     "metadata": {},
     "output_type": "execute_result"
    }
   ],
   "source": [
    "next(myiter)"
   ]
  },
  {
   "cell_type": "code",
   "execution_count": 17,
   "id": "67bb225d-cf4c-47f8-97cc-5d1fcf0b7fd3",
   "metadata": {},
   "outputs": [
    {
     "data": {
      "text/plain": [
       "4"
      ]
     },
     "execution_count": 17,
     "metadata": {},
     "output_type": "execute_result"
    }
   ],
   "source": [
    "next(myiter)"
   ]
  },
  {
   "cell_type": "code",
   "execution_count": 18,
   "id": "4f2809ed-cb76-40e9-8b32-a596e99ec52c",
   "metadata": {},
   "outputs": [
    {
     "data": {
      "text/plain": [
       "6"
      ]
     },
     "execution_count": 18,
     "metadata": {},
     "output_type": "execute_result"
    }
   ],
   "source": [
    "next(myiter)"
   ]
  },
  {
   "cell_type": "code",
   "execution_count": 19,
   "id": "4efce351-063c-43a4-8b6f-54b53a9c729d",
   "metadata": {},
   "outputs": [],
   "source": [
    "class MyNumbers:\n",
    "    def __iter__(self):\n",
    "        self.a = 1\n",
    "        return self\n",
    "\n",
    "    def __next__(self):\n",
    "        x = self.a\n",
    "        if self.a%2:\n",
    "            self.a += 1\n",
    "        else:\n",
    "            self.a += 2\n",
    "        if self.a <= 20:  \n",
    "            return x\n",
    "        else:\n",
    "            raise StopIteration"
   ]
  },
  {
   "cell_type": "code",
   "execution_count": 20,
   "id": "371311e4-8da6-4992-9c18-818cd22da47f",
   "metadata": {},
   "outputs": [],
   "source": [
    "myclass = MyNumbers()\n",
    "myiter = iter(myclass)"
   ]
  },
  {
   "cell_type": "code",
   "execution_count": 21,
   "id": "26733ec1-da35-47fd-9506-b6bb340b16a7",
   "metadata": {},
   "outputs": [
    {
     "data": {
      "text/plain": [
       "1"
      ]
     },
     "execution_count": 21,
     "metadata": {},
     "output_type": "execute_result"
    }
   ],
   "source": [
    "next(myiter)"
   ]
  },
  {
   "cell_type": "code",
   "execution_count": 22,
   "id": "bb613d25-0daf-4378-94eb-9c36aa68dca5",
   "metadata": {},
   "outputs": [
    {
     "data": {
      "text/plain": [
       "2"
      ]
     },
     "execution_count": 22,
     "metadata": {},
     "output_type": "execute_result"
    }
   ],
   "source": [
    "next(myiter)"
   ]
  },
  {
   "cell_type": "code",
   "execution_count": 23,
   "id": "de350616-8915-4de8-89ce-c2e651dc751b",
   "metadata": {},
   "outputs": [
    {
     "data": {
      "text/plain": [
       "4"
      ]
     },
     "execution_count": 23,
     "metadata": {},
     "output_type": "execute_result"
    }
   ],
   "source": [
    "next(myiter)"
   ]
  },
  {
   "cell_type": "code",
   "execution_count": 24,
   "id": "f278a693-d8ea-4d24-ba55-91eeb1526dae",
   "metadata": {},
   "outputs": [
    {
     "data": {
      "text/plain": [
       "6"
      ]
     },
     "execution_count": 24,
     "metadata": {},
     "output_type": "execute_result"
    }
   ],
   "source": [
    "next(myiter)"
   ]
  },
  {
   "cell_type": "code",
   "execution_count": 25,
   "id": "ebbb04b4-903b-41cb-941e-821431aa16f6",
   "metadata": {},
   "outputs": [
    {
     "data": {
      "text/plain": [
       "8"
      ]
     },
     "execution_count": 25,
     "metadata": {},
     "output_type": "execute_result"
    }
   ],
   "source": [
    "next(myiter)"
   ]
  },
  {
   "cell_type": "code",
   "execution_count": 26,
   "id": "abb5a4ce-6fea-4164-9c09-2871d488db41",
   "metadata": {},
   "outputs": [
    {
     "data": {
      "text/plain": [
       "10"
      ]
     },
     "execution_count": 26,
     "metadata": {},
     "output_type": "execute_result"
    }
   ],
   "source": [
    "next(myiter)"
   ]
  },
  {
   "cell_type": "code",
   "execution_count": 27,
   "id": "d71d11ec-977a-4f30-adb0-15ab497019bb",
   "metadata": {},
   "outputs": [
    {
     "data": {
      "text/plain": [
       "12"
      ]
     },
     "execution_count": 27,
     "metadata": {},
     "output_type": "execute_result"
    }
   ],
   "source": [
    "next(myiter)"
   ]
  },
  {
   "cell_type": "code",
   "execution_count": 28,
   "id": "c538ba6c-ebe0-45c2-90cc-e24f66ce91b2",
   "metadata": {},
   "outputs": [
    {
     "data": {
      "text/plain": [
       "14"
      ]
     },
     "execution_count": 28,
     "metadata": {},
     "output_type": "execute_result"
    }
   ],
   "source": [
    "next(myiter)"
   ]
  },
  {
   "cell_type": "code",
   "execution_count": 29,
   "id": "2897acec-ab6e-436a-94a2-0c77185cbec1",
   "metadata": {},
   "outputs": [
    {
     "data": {
      "text/plain": [
       "16"
      ]
     },
     "execution_count": 29,
     "metadata": {},
     "output_type": "execute_result"
    }
   ],
   "source": [
    "next(myiter)"
   ]
  },
  {
   "cell_type": "code",
   "execution_count": 30,
   "id": "d6dbb63d-a898-4d7c-ba36-523ee7f9e7e7",
   "metadata": {},
   "outputs": [
    {
     "data": {
      "text/plain": [
       "18"
      ]
     },
     "execution_count": 30,
     "metadata": {},
     "output_type": "execute_result"
    }
   ],
   "source": [
    "next(myiter)"
   ]
  },
  {
   "cell_type": "code",
   "execution_count": 31,
   "id": "5529b366-b3ec-45a5-8af3-77e12c22c0db",
   "metadata": {},
   "outputs": [
    {
     "ename": "StopIteration",
     "evalue": "",
     "output_type": "error",
     "traceback": [
      "\u001b[31m---------------------------------------------------------------------------\u001b[39m",
      "\u001b[31mStopIteration\u001b[39m                             Traceback (most recent call last)",
      "\u001b[36mCell\u001b[39m\u001b[36m \u001b[39m\u001b[32mIn[31]\u001b[39m\u001b[32m, line 1\u001b[39m\n\u001b[32m----> \u001b[39m\u001b[32m1\u001b[39m \u001b[38;5;28;43mnext\u001b[39;49m\u001b[43m(\u001b[49m\u001b[43mmyiter\u001b[49m\u001b[43m)\u001b[49m\n",
      "\u001b[36mCell\u001b[39m\u001b[36m \u001b[39m\u001b[32mIn[19]\u001b[39m\u001b[32m, line 15\u001b[39m, in \u001b[36mMyNumbers.__next__\u001b[39m\u001b[34m(self)\u001b[39m\n\u001b[32m     13\u001b[39m     \u001b[38;5;28;01mreturn\u001b[39;00m x\n\u001b[32m     14\u001b[39m \u001b[38;5;28;01melse\u001b[39;00m:\n\u001b[32m---> \u001b[39m\u001b[32m15\u001b[39m     \u001b[38;5;28;01mraise\u001b[39;00m \u001b[38;5;167;01mStopIteration\u001b[39;00m\n",
      "\u001b[31mStopIteration\u001b[39m: "
     ]
    }
   ],
   "source": [
    "next(myiter)"
   ]
  },
  {
   "cell_type": "code",
   "execution_count": 32,
   "id": "740632e6-24d7-4b5f-83d8-456dbb0004e3",
   "metadata": {},
   "outputs": [],
   "source": [
    "# Generators"
   ]
  },
  {
   "cell_type": "code",
   "execution_count": 41,
   "id": "cd7617c1-e581-42ce-ad46-802068329832",
   "metadata": {},
   "outputs": [],
   "source": [
    "def func1(max):\n",
    "    count = 1\n",
    "    while count <= max:\n",
    "        yield count\n",
    "        count += 1"
   ]
  },
  {
   "cell_type": "code",
   "execution_count": 42,
   "id": "d27e44b3-f7c4-47c6-a055-42abd3c36da3",
   "metadata": {},
   "outputs": [],
   "source": [
    "val = func1(5)"
   ]
  },
  {
   "cell_type": "code",
   "execution_count": 43,
   "id": "35557412-91f4-4897-a9e9-60c2fc6cc3c7",
   "metadata": {},
   "outputs": [
    {
     "name": "stdout",
     "output_type": "stream",
     "text": [
      "1\n",
      "2\n",
      "3\n",
      "4\n",
      "5\n"
     ]
    }
   ],
   "source": [
    "for n in val:\n",
    "    print(n)"
   ]
  },
  {
   "cell_type": "code",
   "execution_count": 44,
   "id": "d3d5b3ff-b037-409b-835f-e04149821e31",
   "metadata": {},
   "outputs": [],
   "source": [
    "val = func1(5)"
   ]
  },
  {
   "cell_type": "code",
   "execution_count": 45,
   "id": "e53e03f9-5291-4190-aa2e-b17e8ede3ea6",
   "metadata": {},
   "outputs": [
    {
     "data": {
      "text/plain": [
       "1"
      ]
     },
     "execution_count": 45,
     "metadata": {},
     "output_type": "execute_result"
    }
   ],
   "source": [
    "next(val)"
   ]
  },
  {
   "cell_type": "code",
   "execution_count": 46,
   "id": "157a586b-7224-4f78-82ba-275bea49d644",
   "metadata": {},
   "outputs": [
    {
     "data": {
      "text/plain": [
       "2"
      ]
     },
     "execution_count": 46,
     "metadata": {},
     "output_type": "execute_result"
    }
   ],
   "source": [
    "next(val)"
   ]
  },
  {
   "cell_type": "code",
   "execution_count": 47,
   "id": "09e05f6d-bcf7-466c-a497-90cf335acd22",
   "metadata": {},
   "outputs": [
    {
     "data": {
      "text/plain": [
       "3"
      ]
     },
     "execution_count": 47,
     "metadata": {},
     "output_type": "execute_result"
    }
   ],
   "source": [
    "next(val)"
   ]
  },
  {
   "cell_type": "code",
   "execution_count": 48,
   "id": "ccb402d4-fd15-44c6-bce0-b2d04702b739",
   "metadata": {},
   "outputs": [
    {
     "data": {
      "text/plain": [
       "4"
      ]
     },
     "execution_count": 48,
     "metadata": {},
     "output_type": "execute_result"
    }
   ],
   "source": [
    "next(val)"
   ]
  },
  {
   "cell_type": "code",
   "execution_count": 49,
   "id": "6dabd96c-b940-49cf-aaca-746f04d958b5",
   "metadata": {},
   "outputs": [
    {
     "data": {
      "text/plain": [
       "5"
      ]
     },
     "execution_count": 49,
     "metadata": {},
     "output_type": "execute_result"
    }
   ],
   "source": [
    "next(val)"
   ]
  },
  {
   "cell_type": "code",
   "execution_count": 50,
   "id": "0b1c0eeb-1b9a-44c1-9b25-6f302fbc8953",
   "metadata": {},
   "outputs": [
    {
     "ename": "StopIteration",
     "evalue": "",
     "output_type": "error",
     "traceback": [
      "\u001b[31m---------------------------------------------------------------------------\u001b[39m",
      "\u001b[31mStopIteration\u001b[39m                             Traceback (most recent call last)",
      "\u001b[36mCell\u001b[39m\u001b[36m \u001b[39m\u001b[32mIn[50]\u001b[39m\u001b[32m, line 1\u001b[39m\n\u001b[32m----> \u001b[39m\u001b[32m1\u001b[39m \u001b[38;5;28;43mnext\u001b[39;49m\u001b[43m(\u001b[49m\u001b[43mval\u001b[49m\u001b[43m)\u001b[49m\n",
      "\u001b[31mStopIteration\u001b[39m: "
     ]
    }
   ],
   "source": [
    "next(val)"
   ]
  },
  {
   "cell_type": "code",
   "execution_count": 51,
   "id": "ffec2de1-c9ed-4be0-a10d-9009d6708b25",
   "metadata": {},
   "outputs": [],
   "source": [
    "def func1(max):\n",
    "    count = 1\n",
    "    while count <= max:\n",
    "        return count\n",
    "        count += 1"
   ]
  },
  {
   "cell_type": "code",
   "execution_count": 52,
   "id": "3ab1980d-9b5f-4f1e-aa06-28d0e100e64a",
   "metadata": {},
   "outputs": [
    {
     "data": {
      "text/plain": [
       "1"
      ]
     },
     "execution_count": 52,
     "metadata": {},
     "output_type": "execute_result"
    }
   ],
   "source": [
    "func1(5)"
   ]
  },
  {
   "cell_type": "code",
   "execution_count": 53,
   "id": "0cd03ec0-84bc-4d9d-8b7b-2c9588aaf9c4",
   "metadata": {},
   "outputs": [
    {
     "data": {
      "text/plain": [
       "1"
      ]
     },
     "execution_count": 53,
     "metadata": {},
     "output_type": "execute_result"
    }
   ],
   "source": [
    "func1(5)"
   ]
  },
  {
   "cell_type": "code",
   "execution_count": 54,
   "id": "3786b95a-2a95-43b3-a813-cb4172e5d3e1",
   "metadata": {},
   "outputs": [
    {
     "data": {
      "text/plain": [
       "[0, 1, 2, 3, 4, 5, 6, 7, 8, 9]"
      ]
     },
     "execution_count": 54,
     "metadata": {},
     "output_type": "execute_result"
    }
   ],
   "source": [
    "[i for i in range(10)]"
   ]
  },
  {
   "cell_type": "code",
   "execution_count": 58,
   "id": "811591e6-2e91-49b3-91d4-1dccd7782f9f",
   "metadata": {},
   "outputs": [],
   "source": [
    "s = [i*i for i in range(1, 10)]"
   ]
  },
  {
   "cell_type": "code",
   "execution_count": 60,
   "id": "09205464-9368-4e66-95e1-e56b9a4b594e",
   "metadata": {},
   "outputs": [
    {
     "data": {
      "text/plain": [
       "[1, 4, 9, 16, 25, 36, 49, 64, 81]"
      ]
     },
     "execution_count": 60,
     "metadata": {},
     "output_type": "execute_result"
    }
   ],
   "source": [
    "s"
   ]
  },
  {
   "cell_type": "code",
   "execution_count": 55,
   "id": "41208cce-9b18-4bfd-addb-fa001b5a8f06",
   "metadata": {},
   "outputs": [],
   "source": [
    "# Python Generator Expression"
   ]
  },
  {
   "cell_type": "code",
   "execution_count": 56,
   "id": "8f919c4c-73fb-4350-b799-6f48762e6d13",
   "metadata": {},
   "outputs": [],
   "source": [
    "sq = (x*x for x in range(1, 10))"
   ]
  },
  {
   "cell_type": "code",
   "execution_count": 57,
   "id": "8e22c35b-b29e-4bf7-b385-486a1304aa60",
   "metadata": {},
   "outputs": [
    {
     "data": {
      "text/plain": [
       "<generator object <genexpr> at 0x00000227AADD97D0>"
      ]
     },
     "execution_count": 57,
     "metadata": {},
     "output_type": "execute_result"
    }
   ],
   "source": [
    "sq"
   ]
  },
  {
   "cell_type": "code",
   "execution_count": 61,
   "id": "d283f6e8-1ff3-4404-90fd-b57ac3c09f6a",
   "metadata": {},
   "outputs": [
    {
     "data": {
      "text/plain": [
       "<generator object <genexpr> at 0x00000227AADD97D0>"
      ]
     },
     "execution_count": 61,
     "metadata": {},
     "output_type": "execute_result"
    }
   ],
   "source": [
    "sq"
   ]
  },
  {
   "cell_type": "code",
   "execution_count": 62,
   "id": "0ead0e6a-bea2-4514-81a2-0ac81aaec796",
   "metadata": {},
   "outputs": [
    {
     "data": {
      "text/plain": [
       "1"
      ]
     },
     "execution_count": 62,
     "metadata": {},
     "output_type": "execute_result"
    }
   ],
   "source": [
    "next(sq)"
   ]
  },
  {
   "cell_type": "code",
   "execution_count": 63,
   "id": "f14efcf1-b263-4129-b99c-c75793872860",
   "metadata": {},
   "outputs": [
    {
     "data": {
      "text/plain": [
       "4"
      ]
     },
     "execution_count": 63,
     "metadata": {},
     "output_type": "execute_result"
    }
   ],
   "source": [
    "next(sq)"
   ]
  },
  {
   "cell_type": "code",
   "execution_count": 64,
   "id": "a73fb29a-bd3e-4a99-879e-72f964551a62",
   "metadata": {},
   "outputs": [
    {
     "data": {
      "text/plain": [
       "9"
      ]
     },
     "execution_count": 64,
     "metadata": {},
     "output_type": "execute_result"
    }
   ],
   "source": [
    "next(sq)"
   ]
  },
  {
   "cell_type": "code",
   "execution_count": 65,
   "id": "6b0f1e5e-9829-42d5-9098-c3046c9ef62b",
   "metadata": {},
   "outputs": [
    {
     "data": {
      "text/plain": [
       "16"
      ]
     },
     "execution_count": 65,
     "metadata": {},
     "output_type": "execute_result"
    }
   ],
   "source": [
    "next(sq)"
   ]
  },
  {
   "cell_type": "code",
   "execution_count": 66,
   "id": "17aaca17-426f-4170-b1b9-14c3011fc66c",
   "metadata": {},
   "outputs": [
    {
     "data": {
      "text/plain": [
       "25"
      ]
     },
     "execution_count": 66,
     "metadata": {},
     "output_type": "execute_result"
    }
   ],
   "source": [
    "next(sq)"
   ]
  },
  {
   "cell_type": "code",
   "execution_count": 67,
   "id": "e33938b9-9223-406f-ab1f-200e3723da29",
   "metadata": {},
   "outputs": [
    {
     "data": {
      "text/plain": [
       "36"
      ]
     },
     "execution_count": 67,
     "metadata": {},
     "output_type": "execute_result"
    }
   ],
   "source": [
    "next(sq)"
   ]
  },
  {
   "cell_type": "code",
   "execution_count": 68,
   "id": "e43d4062-a151-4c77-a895-8225a6e6f6b1",
   "metadata": {},
   "outputs": [
    {
     "data": {
      "text/plain": [
       "49"
      ]
     },
     "execution_count": 68,
     "metadata": {},
     "output_type": "execute_result"
    }
   ],
   "source": [
    "next(sq)"
   ]
  },
  {
   "cell_type": "code",
   "execution_count": 69,
   "id": "eec8dbc4-1725-4304-80c6-456b5460cf50",
   "metadata": {},
   "outputs": [
    {
     "data": {
      "text/plain": [
       "64"
      ]
     },
     "execution_count": 69,
     "metadata": {},
     "output_type": "execute_result"
    }
   ],
   "source": [
    "next(sq)"
   ]
  },
  {
   "cell_type": "code",
   "execution_count": 70,
   "id": "eeaa8f31-2f54-4f97-be1f-47dab884c097",
   "metadata": {},
   "outputs": [
    {
     "data": {
      "text/plain": [
       "81"
      ]
     },
     "execution_count": 70,
     "metadata": {},
     "output_type": "execute_result"
    }
   ],
   "source": [
    "next(sq)"
   ]
  },
  {
   "cell_type": "code",
   "execution_count": 71,
   "id": "d78be3f7-1da3-4c56-a735-87c8c5016b55",
   "metadata": {},
   "outputs": [
    {
     "ename": "StopIteration",
     "evalue": "",
     "output_type": "error",
     "traceback": [
      "\u001b[31m---------------------------------------------------------------------------\u001b[39m",
      "\u001b[31mStopIteration\u001b[39m                             Traceback (most recent call last)",
      "\u001b[36mCell\u001b[39m\u001b[36m \u001b[39m\u001b[32mIn[71]\u001b[39m\u001b[32m, line 1\u001b[39m\n\u001b[32m----> \u001b[39m\u001b[32m1\u001b[39m \u001b[38;5;28;43mnext\u001b[39;49m\u001b[43m(\u001b[49m\u001b[43msq\u001b[49m\u001b[43m)\u001b[49m\n",
      "\u001b[31mStopIteration\u001b[39m: "
     ]
    }
   ],
   "source": [
    "next(sq)"
   ]
  },
  {
   "cell_type": "markdown",
   "id": "71e01cd1-e948-46a9-8d3e-38b410bef7ac",
   "metadata": {},
   "source": [
    "# Regex in Python"
   ]
  },
  {
   "cell_type": "code",
   "execution_count": null,
   "id": "191385e8-929c-42fd-bb7b-0b9b171166f2",
   "metadata": {},
   "outputs": [],
   "source": [
    "# re module"
   ]
  },
  {
   "cell_type": "code",
   "execution_count": null,
   "id": "6f9c684f-d3a7-4202-9a27-0fd538c2c0ac",
   "metadata": {},
   "outputs": [],
   "source": [
    "findall,\n",
    "search,\n",
    "split\n",
    "sub"
   ]
  },
  {
   "cell_type": "code",
   "execution_count": null,
   "id": "60516fba-04dc-427e-a687-80d7121700e8",
   "metadata": {},
   "outputs": [],
   "source": [
    "Metacharacters are characters with special meaning"
   ]
  },
  {
   "cell_type": "code",
   "execution_count": null,
   "id": "0df6c718-9fff-4c7e-8e6f-a252042067aa",
   "metadata": {},
   "outputs": [],
   "source": [
    "[] --> A set of characters   --> [ab], [a-b], [A-Za-z], [A-Za-z0-9]\n",
    "\\ --> Singnals a special sequence --> \\d, \\s, \\w, \\D, \\S, \\W\n",
    ". --> Any character (except a newline) \n",
    "* --> Zero or more occurences\n",
    "+ --> One or more occurence (greedy slector)\n",
    "? --> zero or one occurnece\n",
    "        me, mae, mbe --> m.?e\n",
    "^ --> Start with\n",
    "$ --> ends with\n",
    "{} --> Exactly the specified number of occurence:\n",
    "        a..b{2,5} --> abcb, abcbb, abcbbb, avbbbbbb\n",
    "                  X-> asdbbbbbbbbbbb\n",
    "| --> Either or"
   ]
  },
  {
   "cell_type": "code",
   "execution_count": 72,
   "id": "5b65b477-708b-41a4-bcfc-89d453d77e73",
   "metadata": {},
   "outputs": [],
   "source": [
    "import re"
   ]
  },
  {
   "cell_type": "code",
   "execution_count": 73,
   "id": "4b4495bf-1346-48a8-9ec7-bcfa74fff28d",
   "metadata": {},
   "outputs": [],
   "source": [
    "text = \"the rain in spain\"\n",
    "x = re.findall(\"ai\", text)"
   ]
  },
  {
   "cell_type": "code",
   "execution_count": 74,
   "id": "2b9f0da5-15cd-499f-a50b-e95525c21d9e",
   "metadata": {},
   "outputs": [
    {
     "data": {
      "text/plain": [
       "['ai', 'ai']"
      ]
     },
     "execution_count": 74,
     "metadata": {},
     "output_type": "execute_result"
    }
   ],
   "source": [
    "x"
   ]
  },
  {
   "cell_type": "code",
   "execution_count": 75,
   "id": "8886f0ba-1c9e-49fa-bc9d-1d3b843ac77f",
   "metadata": {},
   "outputs": [],
   "source": [
    "text = \"the rain in spain\"\n",
    "x = re.findall(\"are\", text)"
   ]
  },
  {
   "cell_type": "code",
   "execution_count": 76,
   "id": "34322e80-80d9-4ef6-b1da-ceab86977ed4",
   "metadata": {},
   "outputs": [
    {
     "data": {
      "text/plain": [
       "[]"
      ]
     },
     "execution_count": 76,
     "metadata": {},
     "output_type": "execute_result"
    }
   ],
   "source": [
    "x"
   ]
  },
  {
   "cell_type": "code",
   "execution_count": 77,
   "id": "8fa7f3a2-345a-4a99-b823-a43573023dbc",
   "metadata": {},
   "outputs": [],
   "source": [
    "text = \"the rain in spain\"\n",
    "x = re.findall(\"r[ai][ai]n\", text)"
   ]
  },
  {
   "cell_type": "code",
   "execution_count": 78,
   "id": "89000cc2-0a10-4a21-95b0-7dbb9c56606c",
   "metadata": {},
   "outputs": [
    {
     "data": {
      "text/plain": [
       "['rain']"
      ]
     },
     "execution_count": 78,
     "metadata": {},
     "output_type": "execute_result"
    }
   ],
   "source": [
    "x"
   ]
  },
  {
   "cell_type": "code",
   "execution_count": 81,
   "id": "cf03367e-52fa-4b97-9d75-29070a3e2bba",
   "metadata": {},
   "outputs": [],
   "source": [
    "x = re.findall(\"..in\", text)"
   ]
  },
  {
   "cell_type": "code",
   "execution_count": 82,
   "id": "675f202f-e481-419d-a01c-764ed67b7595",
   "metadata": {},
   "outputs": [
    {
     "data": {
      "text/plain": [
       "['rain', 'pain']"
      ]
     },
     "execution_count": 82,
     "metadata": {},
     "output_type": "execute_result"
    }
   ],
   "source": [
    "x"
   ]
  },
  {
   "cell_type": "code",
   "execution_count": 83,
   "id": "2416dafd-34e0-4d6e-a7e2-21a2be669fd1",
   "metadata": {},
   "outputs": [
    {
     "name": "stderr",
     "output_type": "stream",
     "text": [
      "<>:2: SyntaxWarning: invalid escape sequence '\\s'\n",
      "<>:2: SyntaxWarning: invalid escape sequence '\\s'\n",
      "C:\\Users\\Kunal\\AppData\\Local\\Temp\\ipykernel_26916\\3592298915.py:2: SyntaxWarning: invalid escape sequence '\\s'\n",
      "  x = re.search(\"\\s\", text)\n"
     ]
    }
   ],
   "source": [
    "text = \"the rain in spain\"\n",
    "x = re.search(\"\\s\", text)"
   ]
  },
  {
   "cell_type": "code",
   "execution_count": 84,
   "id": "bd23e582-527e-4601-a147-dcdf5da67ef9",
   "metadata": {},
   "outputs": [
    {
     "data": {
      "text/plain": [
       "<re.Match object; span=(3, 4), match=' '>"
      ]
     },
     "execution_count": 84,
     "metadata": {},
     "output_type": "execute_result"
    }
   ],
   "source": [
    "x"
   ]
  },
  {
   "cell_type": "code",
   "execution_count": 87,
   "id": "1b35b35b-e2cc-4f64-8fbb-40620b7f9d55",
   "metadata": {},
   "outputs": [
    {
     "data": {
      "text/plain": [
       "' '"
      ]
     },
     "execution_count": 87,
     "metadata": {},
     "output_type": "execute_result"
    }
   ],
   "source": [
    "x.group()"
   ]
  },
  {
   "cell_type": "code",
   "execution_count": 89,
   "id": "9f88f525-431d-474d-935a-e9e43ef36755",
   "metadata": {},
   "outputs": [
    {
     "data": {
      "text/plain": [
       "3"
      ]
     },
     "execution_count": 89,
     "metadata": {},
     "output_type": "execute_result"
    }
   ],
   "source": [
    "x.start()"
   ]
  },
  {
   "cell_type": "code",
   "execution_count": 90,
   "id": "e7d9d7a1-f7f3-4685-9a62-81865b905f46",
   "metadata": {},
   "outputs": [
    {
     "data": {
      "text/plain": [
       "4"
      ]
     },
     "execution_count": 90,
     "metadata": {},
     "output_type": "execute_result"
    }
   ],
   "source": [
    "x.end()"
   ]
  },
  {
   "cell_type": "code",
   "execution_count": 91,
   "id": "95d7a057-a49b-4035-9ecd-96641978a9d2",
   "metadata": {},
   "outputs": [],
   "source": [
    "text = \"the rain in spain\"\n",
    "x = re.search(\"r...\", text)"
   ]
  },
  {
   "cell_type": "code",
   "execution_count": 92,
   "id": "918848a6-146f-4489-81d8-fe5ae955c95f",
   "metadata": {},
   "outputs": [
    {
     "data": {
      "text/plain": [
       "<re.Match object; span=(4, 8), match='rain'>"
      ]
     },
     "execution_count": 92,
     "metadata": {},
     "output_type": "execute_result"
    }
   ],
   "source": [
    "x"
   ]
  },
  {
   "cell_type": "code",
   "execution_count": 93,
   "id": "90952ed6-5b98-4f9f-8b3c-fa410ee55457",
   "metadata": {},
   "outputs": [
    {
     "data": {
      "text/plain": [
       "'rain'"
      ]
     },
     "execution_count": 93,
     "metadata": {},
     "output_type": "execute_result"
    }
   ],
   "source": [
    "x.group()"
   ]
  },
  {
   "cell_type": "code",
   "execution_count": 94,
   "id": "d099951a-0f9f-4388-8315-e3eb5f0d4804",
   "metadata": {},
   "outputs": [
    {
     "data": {
      "text/plain": [
       "4"
      ]
     },
     "execution_count": 94,
     "metadata": {},
     "output_type": "execute_result"
    }
   ],
   "source": [
    "x.start()"
   ]
  },
  {
   "cell_type": "code",
   "execution_count": 95,
   "id": "dbdcfb5a-b702-4e92-8be6-43ae21f2b670",
   "metadata": {},
   "outputs": [
    {
     "data": {
      "text/plain": [
       "8"
      ]
     },
     "execution_count": 95,
     "metadata": {},
     "output_type": "execute_result"
    }
   ],
   "source": [
    "x.end()"
   ]
  },
  {
   "cell_type": "code",
   "execution_count": null,
   "id": "848e38c3-002b-4a60-bda4-0f9fe485d8c4",
   "metadata": {},
   "outputs": [],
   "source": [
    "split()"
   ]
  },
  {
   "cell_type": "code",
   "execution_count": 96,
   "id": "61d3b24a-57e7-46ce-aa8e-b0e97f657a3c",
   "metadata": {},
   "outputs": [],
   "source": [
    "text = \"abbabbbabbbbbbasdefbbbbddfsfbbbsdffrfbbbbbbsefersfsdfsdfsbbbfdsffbb\"\n",
    "x = re.split(\"b+\", text)"
   ]
  },
  {
   "cell_type": "code",
   "execution_count": 97,
   "id": "a4cd3418-8e8f-4003-9365-f69293ceb74f",
   "metadata": {},
   "outputs": [
    {
     "data": {
      "text/plain": [
       "['a', 'a', 'a', 'asdef', 'ddfsf', 'sdffrf', 'sefersfsdfsdfs', 'fdsff', '']"
      ]
     },
     "execution_count": 97,
     "metadata": {},
     "output_type": "execute_result"
    }
   ],
   "source": [
    "x"
   ]
  },
  {
   "cell_type": "code",
   "execution_count": 98,
   "id": "4e32239b-f09d-4c8d-bcd8-d74520b1d351",
   "metadata": {},
   "outputs": [
    {
     "name": "stderr",
     "output_type": "stream",
     "text": [
      "C:\\Users\\Kunal\\AppData\\Local\\Temp\\ipykernel_26916\\3898399834.py:2: DeprecationWarning: 'maxsplit' is passed as positional argument\n",
      "  x = re.split(\"b+\", text, 2)\n"
     ]
    }
   ],
   "source": [
    "text = \"abbabbbabbbbbbasdefbbbbddfsfbbbsdffrfbbbbbbsefersfsdfsdfsbbbfdsffbb\"\n",
    "x = re.split(\"b+\", text, 2)"
   ]
  },
  {
   "cell_type": "code",
   "execution_count": 99,
   "id": "3204a35b-7182-42c6-9284-33c197f7d24b",
   "metadata": {},
   "outputs": [
    {
     "data": {
      "text/plain": [
       "['a', 'a', 'abbbbbbasdefbbbbddfsfbbbsdffrfbbbbbbsefersfsdfsdfsbbbfdsffbb']"
      ]
     },
     "execution_count": 99,
     "metadata": {},
     "output_type": "execute_result"
    }
   ],
   "source": [
    "x"
   ]
  },
  {
   "cell_type": "code",
   "execution_count": 100,
   "id": "b4c5287b-ebf9-4af4-ae4e-7b832e9cc9f6",
   "metadata": {},
   "outputs": [],
   "source": [
    "x = re.split(\"b+\", text, maxsplit=4)"
   ]
  },
  {
   "cell_type": "code",
   "execution_count": 101,
   "id": "db8489da-33f9-420f-bea3-78e3d74b5d65",
   "metadata": {},
   "outputs": [
    {
     "data": {
      "text/plain": [
       "['a', 'a', 'a', 'asdef', 'ddfsfbbbsdffrfbbbbbbsefersfsdfsdfsbbbfdsffbb']"
      ]
     },
     "execution_count": 101,
     "metadata": {},
     "output_type": "execute_result"
    }
   ],
   "source": [
    "x"
   ]
  },
  {
   "cell_type": "code",
   "execution_count": null,
   "id": "88a61d08-f7e7-42f7-b470-1f468ea19928",
   "metadata": {},
   "outputs": [],
   "source": [
    "# sub()"
   ]
  },
  {
   "cell_type": "code",
   "execution_count": 102,
   "id": "ab829336-928a-42b8-9a1f-029ddb5186e5",
   "metadata": {},
   "outputs": [],
   "source": [
    "text = \"abbabbbabbbbbbasdefbbbbddfsfbbbsdffrfbbbbbbsefersfsdfsdfsbbbfdsffbb\"\n",
    "x = text.replace(\"bbb\", \"ccc\")"
   ]
  },
  {
   "cell_type": "code",
   "execution_count": 104,
   "id": "ce08e3e6-5e3a-4681-b181-eba46fdbe72b",
   "metadata": {},
   "outputs": [
    {
     "data": {
      "text/plain": [
       "'abbacccaccccccasdefcccbddfsfcccsdffrfccccccsefersfsdfsdfscccfdsffbb'"
      ]
     },
     "execution_count": 104,
     "metadata": {},
     "output_type": "execute_result"
    }
   ],
   "source": [
    "x"
   ]
  },
  {
   "cell_type": "code",
   "execution_count": 109,
   "id": "cb39680b-c0bc-4ed5-ba26-ad96f0185338",
   "metadata": {},
   "outputs": [],
   "source": [
    "x = re.sub(\"b+\", \"c\", text)"
   ]
  },
  {
   "cell_type": "code",
   "execution_count": 110,
   "id": "f15101c4-81ff-4e5a-9779-a1d2f4d1267d",
   "metadata": {},
   "outputs": [
    {
     "data": {
      "text/plain": [
       "'acacacasdefcddfsfcsdffrfcsefersfsdfsdfscfdsffc'"
      ]
     },
     "execution_count": 110,
     "metadata": {},
     "output_type": "execute_result"
    }
   ],
   "source": [
    "x"
   ]
  },
  {
   "cell_type": "code",
   "execution_count": 111,
   "id": "465c206f-5b60-4e28-9df5-ca9b3fbe140f",
   "metadata": {},
   "outputs": [],
   "source": [
    "x = re.sub(\"b+\", \"c\", text, count=2)"
   ]
  },
  {
   "cell_type": "code",
   "execution_count": 112,
   "id": "a24ed84d-7201-40e0-aa1d-f63d1d4994a2",
   "metadata": {},
   "outputs": [
    {
     "data": {
      "text/plain": [
       "'acacabbbbbbasdefbbbbddfsfbbbsdffrfbbbbbbsefersfsdfsdfsbbbfdsffbb'"
      ]
     },
     "execution_count": 112,
     "metadata": {},
     "output_type": "execute_result"
    }
   ],
   "source": [
    "x"
   ]
  },
  {
   "cell_type": "code",
   "execution_count": 113,
   "id": "29e3f58b-4ed6-4c9f-9c42-c88a272f989b",
   "metadata": {},
   "outputs": [
    {
     "data": {
      "text/plain": [
       "['bb', 'bbb', 'bbbbbb', 'bbbb', 'bbb', 'bbbbbb', 'bbb', 'bb']"
      ]
     },
     "execution_count": 113,
     "metadata": {},
     "output_type": "execute_result"
    }
   ],
   "source": [
    "re.findall(\"b+\", text)"
   ]
  },
  {
   "cell_type": "code",
   "execution_count": 118,
   "id": "cc85ec1f-0dd0-41a7-b229-746f87dc9c77",
   "metadata": {},
   "outputs": [
    {
     "name": "stdout",
     "output_type": "stream",
     "text": [
      "cc\n",
      "ccc\n",
      "cccccc\n",
      "cccc\n",
      "ccc\n",
      "cccccc\n",
      "ccc\n",
      "cc\n",
      "accacccaccccccasdefccccddfsfcccsdffrfccccccsefersfsdfsdfscccfdsffcc\n"
     ]
    }
   ],
   "source": [
    "text1 = text\n",
    "for val in re.findall(\"b+\", text):\n",
    "    text1 = re.sub(\"b+\", len(val)*\"c\", text1, count=1)\n",
    "print(text1)"
   ]
  },
  {
   "cell_type": "code",
   "execution_count": null,
   "id": "5fe9a786-f304-479c-a564-ef8ef7720745",
   "metadata": {},
   "outputs": [],
   "source": []
  }
 ],
 "metadata": {
  "kernelspec": {
   "display_name": "Python 3 (ipykernel)",
   "language": "python",
   "name": "python3"
  },
  "language_info": {
   "codemirror_mode": {
    "name": "ipython",
    "version": 3
   },
   "file_extension": ".py",
   "mimetype": "text/x-python",
   "name": "python",
   "nbconvert_exporter": "python",
   "pygments_lexer": "ipython3",
   "version": "3.13.3"
  }
 },
 "nbformat": 4,
 "nbformat_minor": 5
}
