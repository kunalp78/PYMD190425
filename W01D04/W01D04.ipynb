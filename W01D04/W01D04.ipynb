{
 "cells": [
  {
   "cell_type": "code",
   "execution_count": null,
   "id": "8492e797-642f-4f51-8966-615df437aa6f",
   "metadata": {},
   "outputs": [],
   "source": [
    "# lambda, map, filter"
   ]
  },
  {
   "cell_type": "code",
   "execution_count": 1,
   "id": "1ff05851-7245-47c8-adf4-2c35410f0c30",
   "metadata": {},
   "outputs": [],
   "source": [
    "def office_diary():\n",
    "    ..."
   ]
  },
  {
   "cell_type": "code",
   "execution_count": 2,
   "id": "61f7826a-5624-434e-9073-80a0f46abcc4",
   "metadata": {},
   "outputs": [],
   "source": [
    "def office_diary():\n",
    "    pass"
   ]
  },
  {
   "cell_type": "code",
   "execution_count": 3,
   "id": "a24138e8-2d7a-45d5-a9d4-9134b277b06c",
   "metadata": {},
   "outputs": [],
   "source": [
    "def office_diary():\n",
    "    \"\"\"\n",
    "    nothing\n",
    "    \"\"\""
   ]
  },
  {
   "cell_type": "code",
   "execution_count": 4,
   "id": "befb29d9-f761-4750-99e4-f70a94d3e1c9",
   "metadata": {},
   "outputs": [],
   "source": [
    "office_diary()"
   ]
  },
  {
   "cell_type": "code",
   "execution_count": 5,
   "id": "3ca56bc7-bd1a-477c-9bbc-323d088fbabd",
   "metadata": {},
   "outputs": [
    {
     "data": {
      "text/plain": [
       "<function __main__.office_diary()>"
      ]
     },
     "execution_count": 5,
     "metadata": {},
     "output_type": "execute_result"
    }
   ],
   "source": [
    "office_diary"
   ]
  },
  {
   "cell_type": "code",
   "execution_count": 6,
   "id": "f5502910-c5a6-47c5-b3cb-4289fb70b82f",
   "metadata": {},
   "outputs": [
    {
     "name": "stdout",
     "output_type": "stream",
     "text": [
      "<function office_diary at 0x000001B602EC9440>\n"
     ]
    }
   ],
   "source": [
    "print(office_diary)"
   ]
  },
  {
   "cell_type": "code",
   "execution_count": 7,
   "id": "7cde493c-9628-41e1-a3db-0a26ef16028f",
   "metadata": {},
   "outputs": [
    {
     "data": {
      "text/plain": [
       "<function __main__.<lambda>(args)>"
      ]
     },
     "execution_count": 7,
     "metadata": {},
     "output_type": "execute_result"
    }
   ],
   "source": [
    "lambda args: ..."
   ]
  },
  {
   "cell_type": "code",
   "execution_count": 8,
   "id": "e2d76e48-864e-4f87-84ae-6832be43c228",
   "metadata": {},
   "outputs": [],
   "source": [
    "x = (lambda x: x + 10)(5)"
   ]
  },
  {
   "cell_type": "code",
   "execution_count": 9,
   "id": "6fb99d8c-7da4-43b1-830a-9912e693bd50",
   "metadata": {},
   "outputs": [
    {
     "data": {
      "text/plain": [
       "15"
      ]
     },
     "execution_count": 9,
     "metadata": {},
     "output_type": "execute_result"
    }
   ],
   "source": [
    "x"
   ]
  },
  {
   "cell_type": "code",
   "execution_count": 10,
   "id": "2d22ea09-23b7-4fba-9c1a-99afbeaa3784",
   "metadata": {},
   "outputs": [
    {
     "name": "stdout",
     "output_type": "stream",
     "text": [
      "17\n"
     ]
    }
   ],
   "source": [
    "x = (lambda x: x + 10)(7)\n",
    "print(x)"
   ]
  },
  {
   "cell_type": "code",
   "execution_count": 12,
   "id": "4f626ba1-43e3-4e1f-b7cb-b87a77531a63",
   "metadata": {},
   "outputs": [
    {
     "name": "stdout",
     "output_type": "stream",
     "text": [
      "<function <lambda> at 0x000001B602EC98A0>\n"
     ]
    }
   ],
   "source": [
    "print(lambda x: x + 10)"
   ]
  },
  {
   "cell_type": "code",
   "execution_count": 13,
   "id": "782afa1b-4c3b-4057-b86b-31b67197d236",
   "metadata": {},
   "outputs": [
    {
     "name": "stdout",
     "output_type": "stream",
     "text": [
      "<function <lambda> at 0x000001B602EC94E0>\n"
     ]
    }
   ],
   "source": [
    "print(lambda x: x + 10)"
   ]
  },
  {
   "cell_type": "code",
   "execution_count": 14,
   "id": "d29f0383-a2c0-43d1-9c09-0e3a9b99c799",
   "metadata": {},
   "outputs": [],
   "source": [
    "y = lambda x, y: y ** x"
   ]
  },
  {
   "cell_type": "code",
   "execution_count": 15,
   "id": "6b7e7527-fdd0-4646-ba67-e4926f223fc2",
   "metadata": {},
   "outputs": [
    {
     "name": "stdout",
     "output_type": "stream",
     "text": [
      "<function <lambda> at 0x000001B602FD28E0>\n"
     ]
    }
   ],
   "source": [
    "print(y)"
   ]
  },
  {
   "cell_type": "code",
   "execution_count": 16,
   "id": "4958f8e5-fa7f-4857-aa01-05ab4f24854c",
   "metadata": {},
   "outputs": [
    {
     "name": "stdout",
     "output_type": "stream",
     "text": [
      "<function <lambda> at 0x000001B602FD28E0>\n"
     ]
    }
   ],
   "source": [
    "print(y)"
   ]
  },
  {
   "cell_type": "code",
   "execution_count": 18,
   "id": "b8a7db3f-21f6-4d03-88e8-49b3265c75c3",
   "metadata": {},
   "outputs": [
    {
     "data": {
      "text/plain": [
       "32"
      ]
     },
     "execution_count": 18,
     "metadata": {},
     "output_type": "execute_result"
    }
   ],
   "source": [
    "y(5, 2)"
   ]
  },
  {
   "cell_type": "code",
   "execution_count": 19,
   "id": "63adb186-9a62-4220-9756-ec9af1c1c5a5",
   "metadata": {},
   "outputs": [
    {
     "data": {
      "text/plain": [
       "729"
      ]
     },
     "execution_count": 19,
     "metadata": {},
     "output_type": "execute_result"
    }
   ],
   "source": [
    "y(3, 9)"
   ]
  },
  {
   "cell_type": "code",
   "execution_count": 20,
   "id": "49f2275a-e611-442f-85c6-9a34da5ec317",
   "metadata": {},
   "outputs": [
    {
     "name": "stdout",
     "output_type": "stream",
     "text": [
      "1881245909536\n",
      "140728011793384\n"
     ]
    }
   ],
   "source": [
    "y = lambda y: id(y)\n",
    "print(id(y))\n",
    "print(y(3))"
   ]
  },
  {
   "cell_type": "code",
   "execution_count": null,
   "id": "8e35cc9b-e9ee-457a-8575-649c040b1736",
   "metadata": {},
   "outputs": [],
   "source": [
    "# map"
   ]
  },
  {
   "cell_type": "code",
   "execution_count": null,
   "id": "40bffd77-d38e-4fa3-9237-a63f54aa47b3",
   "metadata": {},
   "outputs": [],
   "source": [
    "s = [\"1\", \"2\", \"3\"] --> [1, 2, 3]\n",
    "list_of_num = [1, 2, 3, 4] --> [1, 4, 9, 16]"
   ]
  },
  {
   "cell_type": "code",
   "execution_count": 21,
   "id": "1f5a8d3d-7a59-453e-a5e1-729433d7095a",
   "metadata": {},
   "outputs": [],
   "source": [
    "s = [\"1\", \"2\", \"3\"]\n",
    "for i in range(len(s)):\n",
    "    if type(s[i]) == str:\n",
    "        s[i] = int(s[i])"
   ]
  },
  {
   "cell_type": "code",
   "execution_count": 22,
   "id": "380ec4e3-c02d-4651-8750-f2ed31f065e6",
   "metadata": {},
   "outputs": [
    {
     "data": {
      "text/plain": [
       "[1, 2, 3]"
      ]
     },
     "execution_count": 22,
     "metadata": {},
     "output_type": "execute_result"
    }
   ],
   "source": [
    "s"
   ]
  },
  {
   "cell_type": "code",
   "execution_count": 23,
   "id": "80489ea2-486f-4dd5-9481-cf664b65af06",
   "metadata": {},
   "outputs": [
    {
     "data": {
      "text/plain": [
       "range(0, 5)"
      ]
     },
     "execution_count": 23,
     "metadata": {},
     "output_type": "execute_result"
    }
   ],
   "source": [
    "range(5)"
   ]
  },
  {
   "cell_type": "code",
   "execution_count": 24,
   "id": "dc358068-6d9c-4cdd-9e82-9809b027762a",
   "metadata": {},
   "outputs": [
    {
     "name": "stdout",
     "output_type": "stream",
     "text": [
      "[1, 2, 3]\n"
     ]
    }
   ],
   "source": [
    "s = [\"1\", \"2\", \"3\"]\n",
    "s = list(map(int, s))\n",
    "print(s)"
   ]
  },
  {
   "cell_type": "code",
   "execution_count": 25,
   "id": "02ed360c-dd4b-44a4-ab71-990f8727a922",
   "metadata": {},
   "outputs": [
    {
     "name": "stdin",
     "output_type": "stream",
     "text": [
      "Enter the roll numbers seperated by comma 1,23,54,18,9,36,40\n"
     ]
    }
   ],
   "source": [
    "roll_no = input(\"Enter the roll numbers seperated by comma\")"
   ]
  },
  {
   "cell_type": "code",
   "execution_count": 26,
   "id": "9f351450-85f7-44fc-8626-858ca4f602bb",
   "metadata": {},
   "outputs": [
    {
     "name": "stdout",
     "output_type": "stream",
     "text": [
      "1,23,54,18,9,36,40\n"
     ]
    }
   ],
   "source": [
    "print(roll_no)"
   ]
  },
  {
   "cell_type": "code",
   "execution_count": 27,
   "id": "2e76c23f-ab9b-4f7d-b45d-22bc543a89f8",
   "metadata": {},
   "outputs": [
    {
     "name": "stdout",
     "output_type": "stream",
     "text": [
      "<class 'str'>\n"
     ]
    }
   ],
   "source": [
    "print(type(roll_no))"
   ]
  },
  {
   "cell_type": "code",
   "execution_count": 28,
   "id": "20ba9247-5e21-4680-9276-b87d84b38122",
   "metadata": {},
   "outputs": [],
   "source": [
    "roll_no = roll_no.split(\",\")"
   ]
  },
  {
   "cell_type": "code",
   "execution_count": 29,
   "id": "304acc08-5e40-4957-9e4b-34f71d2b260b",
   "metadata": {},
   "outputs": [
    {
     "data": {
      "text/plain": [
       "['1', '23', '54', '18', '9', '36', '40']"
      ]
     },
     "execution_count": 29,
     "metadata": {},
     "output_type": "execute_result"
    }
   ],
   "source": [
    "roll_no"
   ]
  },
  {
   "cell_type": "code",
   "execution_count": 30,
   "id": "0636acac-5cbd-4180-8f6f-7f23ad40e29e",
   "metadata": {},
   "outputs": [
    {
     "data": {
      "text/plain": [
       "str"
      ]
     },
     "execution_count": 30,
     "metadata": {},
     "output_type": "execute_result"
    }
   ],
   "source": [
    "type(roll_no[0])"
   ]
  },
  {
   "cell_type": "code",
   "execution_count": 31,
   "id": "93489d48-9893-4856-926c-e7283b5621b7",
   "metadata": {},
   "outputs": [
    {
     "data": {
      "text/plain": [
       "list"
      ]
     },
     "execution_count": 31,
     "metadata": {},
     "output_type": "execute_result"
    }
   ],
   "source": [
    "type(roll_no)"
   ]
  },
  {
   "cell_type": "code",
   "execution_count": 32,
   "id": "f86a45e0-6922-489d-b32e-3523b9b872c5",
   "metadata": {},
   "outputs": [
    {
     "data": {
      "text/plain": [
       "<map at 0x1b604036b30>"
      ]
     },
     "execution_count": 32,
     "metadata": {},
     "output_type": "execute_result"
    }
   ],
   "source": [
    "map(int, roll_no)"
   ]
  },
  {
   "cell_type": "code",
   "execution_count": 33,
   "id": "03f124b3-b585-4e51-af73-6cdf5b98b51d",
   "metadata": {},
   "outputs": [
    {
     "data": {
      "text/plain": [
       "[1, 23, 54, 18, 9, 36, 40]"
      ]
     },
     "execution_count": 33,
     "metadata": {},
     "output_type": "execute_result"
    }
   ],
   "source": [
    "list(map(int, roll_no))"
   ]
  },
  {
   "cell_type": "code",
   "execution_count": 34,
   "id": "2ac9fa72-ba00-44bf-a806-2ce8fa3ec026",
   "metadata": {},
   "outputs": [
    {
     "name": "stdin",
     "output_type": "stream",
     "text": [
      "Enter the roll numbers seperated by comma 1,2,4,5,8,9\n"
     ]
    },
    {
     "ename": "ValueError",
     "evalue": "invalid literal for int() with base 10: ','",
     "output_type": "error",
     "traceback": [
      "\u001b[31m---------------------------------------------------------------------------\u001b[39m",
      "\u001b[31mValueError\u001b[39m                                Traceback (most recent call last)",
      "\u001b[36mCell\u001b[39m\u001b[36m \u001b[39m\u001b[32mIn[34]\u001b[39m\u001b[32m, line 1\u001b[39m\n\u001b[32m----> \u001b[39m\u001b[32m1\u001b[39m roll_number = \u001b[38;5;28;43mlist\u001b[39;49m\u001b[43m(\u001b[49m\u001b[38;5;28;43mmap\u001b[39;49m\u001b[43m(\u001b[49m\u001b[38;5;28;43mint\u001b[39;49m\u001b[43m,\u001b[49m\u001b[43m \u001b[49m\u001b[38;5;28;43minput\u001b[39;49m\u001b[43m(\u001b[49m\u001b[33;43m\"\u001b[39;49m\u001b[33;43mEnter the roll numbers seperated by comma\u001b[39;49m\u001b[33;43m\"\u001b[39;49m\u001b[43m)\u001b[49m\u001b[43m)\u001b[49m\u001b[43m)\u001b[49m\n",
      "\u001b[31mValueError\u001b[39m: invalid literal for int() with base 10: ','"
     ]
    }
   ],
   "source": [
    "roll_number = list(map(int, input(\"Enter the roll numbers seperated by comma\")))"
   ]
  },
  {
   "cell_type": "code",
   "execution_count": 36,
   "id": "3a397991-36c2-4faa-9809-67c340adc230",
   "metadata": {},
   "outputs": [
    {
     "name": "stdin",
     "output_type": "stream",
     "text": [
      "Enter the roll numbers seperated by comma 1,2,3,55,49,0\n"
     ]
    }
   ],
   "source": [
    "roll_number = list(map(int, input(\"Enter the roll numbers seperated by comma\").split(\",\")))"
   ]
  },
  {
   "cell_type": "code",
   "execution_count": 37,
   "id": "18be3da9-19e2-42f7-9979-d63fdf0ff162",
   "metadata": {},
   "outputs": [
    {
     "data": {
      "text/plain": [
       "[1, 2, 3, 55, 49, 0]"
      ]
     },
     "execution_count": 37,
     "metadata": {},
     "output_type": "execute_result"
    }
   ],
   "source": [
    "roll_number"
   ]
  },
  {
   "cell_type": "code",
   "execution_count": 39,
   "id": "84c7fbd4-97b4-456a-853a-3df1ed8be752",
   "metadata": {},
   "outputs": [
    {
     "ename": "SyntaxError",
     "evalue": "invalid syntax (3167383986.py, line 1)",
     "output_type": "error",
     "traceback": [
      "  \u001b[36mCell\u001b[39m\u001b[36m \u001b[39m\u001b[32mIn[39]\u001b[39m\u001b[32m, line 1\u001b[39m\n\u001b[31m    \u001b[39m\u001b[31mlist_of_num = [1, 2, 3, 4] --> [1, 4, 9, 16]\u001b[39m\n                                ^\n\u001b[31mSyntaxError\u001b[39m\u001b[31m:\u001b[39m invalid syntax\n"
     ]
    }
   ],
   "source": [
    "list_of_num = [1, 2, 3, 4] --> [1, 4, 9, 16]"
   ]
  },
  {
   "cell_type": "code",
   "execution_count": null,
   "id": "aff88946-f5b6-49fd-9c9a-9e7b461d47e6",
   "metadata": {},
   "outputs": [],
   "source": [
    "cw: 5 mins\n",
    "8:00 PM"
   ]
  },
  {
   "cell_type": "code",
   "execution_count": 40,
   "id": "50b14260-2057-410b-b5de-24bc254588e7",
   "metadata": {},
   "outputs": [],
   "source": [
    "def square_func(x):\n",
    "    return x ** 2\n",
    "list_of_num = [1, 2, 3, 4]\n",
    "list_of_num = list(map(square_func, list_of_num))"
   ]
  },
  {
   "cell_type": "code",
   "execution_count": 41,
   "id": "2ed751a8-ee8b-4303-b062-1b42298e3e4d",
   "metadata": {},
   "outputs": [
    {
     "name": "stdout",
     "output_type": "stream",
     "text": [
      "[1, 4, 9, 16]\n"
     ]
    }
   ],
   "source": [
    "print(list_of_num)"
   ]
  },
  {
   "cell_type": "code",
   "execution_count": 42,
   "id": "1ed535f9-ddd5-453c-8909-36f036be1c0a",
   "metadata": {},
   "outputs": [],
   "source": [
    "list_of_num = [1, 2, 3, 4]\n",
    "list_of_num = list(map(lambda x: x**2, list_of_num))"
   ]
  },
  {
   "cell_type": "code",
   "execution_count": 43,
   "id": "e4e1a3fe-be73-4a0d-9b6b-b71dd92ae232",
   "metadata": {},
   "outputs": [
    {
     "name": "stdout",
     "output_type": "stream",
     "text": [
      "[1, 4, 9, 16]\n"
     ]
    }
   ],
   "source": [
    "print(list_of_num)"
   ]
  },
  {
   "cell_type": "code",
   "execution_count": 44,
   "id": "6d34ba0c-b852-4af8-91c1-396182922977",
   "metadata": {},
   "outputs": [
    {
     "ename": "TypeError",
     "evalue": "<lambda>() missing 1 required positional argument: 'y'",
     "output_type": "error",
     "traceback": [
      "\u001b[31m---------------------------------------------------------------------------\u001b[39m",
      "\u001b[31mTypeError\u001b[39m                                 Traceback (most recent call last)",
      "\u001b[36mCell\u001b[39m\u001b[36m \u001b[39m\u001b[32mIn[44]\u001b[39m\u001b[32m, line 1\u001b[39m\n\u001b[32m----> \u001b[39m\u001b[32m1\u001b[39m list_of_num = \u001b[38;5;28;43mlist\u001b[39;49m\u001b[43m(\u001b[49m\u001b[38;5;28;43mmap\u001b[39;49m\u001b[43m(\u001b[49m\u001b[38;5;28;43;01mlambda\u001b[39;49;00m\u001b[43m \u001b[49m\u001b[43mx\u001b[49m\u001b[43m,\u001b[49m\u001b[43my\u001b[49m\u001b[43m:\u001b[49m\u001b[43m \u001b[49m\u001b[43mx\u001b[49m\u001b[43m*\u001b[49m\u001b[43m*\u001b[49m\u001b[43my\u001b[49m\u001b[43m,\u001b[49m\u001b[43m \u001b[49m\u001b[43mlist_of_num\u001b[49m\u001b[43m)\u001b[49m\u001b[43m)\u001b[49m\n",
      "\u001b[31mTypeError\u001b[39m: <lambda>() missing 1 required positional argument: 'y'"
     ]
    }
   ],
   "source": [
    "list_of_num = list(map(lambda x,y: x**y, list_of_num))"
   ]
  },
  {
   "cell_type": "code",
   "execution_count": 46,
   "id": "1a704146-4b15-4981-9f31-79a0bf5e0449",
   "metadata": {},
   "outputs": [],
   "source": [
    "list_of_num = [1, 2, 3, 4]\n",
    "list_of_num_2 = [10, 20, 30, 40]\n",
    "list_of_num_3 = list(map(lambda x,y: x + y, list_of_num, list_of_num_2))"
   ]
  },
  {
   "cell_type": "code",
   "execution_count": 47,
   "id": "12e3f791-17ee-4660-ac0c-137870b712e7",
   "metadata": {},
   "outputs": [
    {
     "data": {
      "text/plain": [
       "[11, 22, 33, 44]"
      ]
     },
     "execution_count": 47,
     "metadata": {},
     "output_type": "execute_result"
    }
   ],
   "source": [
    "list_of_num_3"
   ]
  },
  {
   "cell_type": "code",
   "execution_count": 48,
   "id": "f6cf65e5-2378-4ee4-b9d4-9ca9d88f3448",
   "metadata": {},
   "outputs": [],
   "source": [
    "list_of_num_4 = [1, 2, 3, 4]\n",
    "list_of_num_5 = [10, 20, 30, 40, 50, 60]\n",
    "list_of_num_6 = list(map(lambda x,y: x + y, list_of_num_4, list_of_num_5))"
   ]
  },
  {
   "cell_type": "code",
   "execution_count": 49,
   "id": "fd5bb0a4-6f1b-42ce-b734-f0650b37a83e",
   "metadata": {},
   "outputs": [
    {
     "data": {
      "text/plain": [
       "[11, 22, 33, 44]"
      ]
     },
     "execution_count": 49,
     "metadata": {},
     "output_type": "execute_result"
    }
   ],
   "source": [
    "list_of_num_6"
   ]
  },
  {
   "cell_type": "code",
   "execution_count": null,
   "id": "f43afb1d-b413-4f81-b159-68a1cbf9f7dd",
   "metadata": {},
   "outputs": [],
   "source": [
    "# filter"
   ]
  },
  {
   "cell_type": "code",
   "execution_count": 50,
   "id": "9b9f8207-29bb-4839-8965-d5791b2623eb",
   "metadata": {},
   "outputs": [],
   "source": [
    "l = [1, 2, 3, 4 ,5]\n",
    "odd_numbers = list(filter(lambda x: x%2, l))"
   ]
  },
  {
   "cell_type": "code",
   "execution_count": 51,
   "id": "dce245e5-cc0e-4c06-b371-04b9f650d663",
   "metadata": {},
   "outputs": [
    {
     "data": {
      "text/plain": [
       "[1, 3, 5]"
      ]
     },
     "execution_count": 51,
     "metadata": {},
     "output_type": "execute_result"
    }
   ],
   "source": [
    "odd_numbers"
   ]
  },
  {
   "cell_type": "code",
   "execution_count": 52,
   "id": "6fc7a1cd-8af7-49a6-86ad-f2603888af1d",
   "metadata": {},
   "outputs": [
    {
     "data": {
      "text/plain": [
       "1"
      ]
     },
     "execution_count": 52,
     "metadata": {},
     "output_type": "execute_result"
    }
   ],
   "source": [
    "5%2"
   ]
  },
  {
   "cell_type": "code",
   "execution_count": 53,
   "id": "0a1e5583-f291-4b81-8aaa-461c5aaaa435",
   "metadata": {},
   "outputs": [
    {
     "data": {
      "text/plain": [
       "0"
      ]
     },
     "execution_count": 53,
     "metadata": {},
     "output_type": "execute_result"
    }
   ],
   "source": [
    "4%2"
   ]
  },
  {
   "cell_type": "code",
   "execution_count": 55,
   "id": "cab7ef4c-13dd-42cb-b088-9498ce5d827d",
   "metadata": {},
   "outputs": [],
   "source": [
    "l = [1, 2, 3, 4 ,5]\n",
    "even_numbers = list(filter(lambda x: x%2==0, l))"
   ]
  },
  {
   "cell_type": "code",
   "execution_count": 56,
   "id": "1fd3f72b-4c02-49eb-a6ea-d64791e99168",
   "metadata": {},
   "outputs": [
    {
     "data": {
      "text/plain": [
       "[2, 4]"
      ]
     },
     "execution_count": 56,
     "metadata": {},
     "output_type": "execute_result"
    }
   ],
   "source": [
    "even_numbers"
   ]
  },
  {
   "cell_type": "code",
   "execution_count": 57,
   "id": "195e17c9-f6cc-4722-b5ae-b14c9b37795d",
   "metadata": {},
   "outputs": [],
   "source": [
    "list_of_fruits = [\"ripe_apple\", \"ripe_mango\", \"raw_litchi\", \"ripe_banana\"]\n",
    "ripe_fruits = list(filter(lambda fruit: \"ripe\" in fruit, list_of_fruits))"
   ]
  },
  {
   "cell_type": "code",
   "execution_count": 58,
   "id": "5ab7686f-d106-43f6-8fbc-546cd6ff62dc",
   "metadata": {},
   "outputs": [
    {
     "name": "stdout",
     "output_type": "stream",
     "text": [
      "['ripe_apple', 'ripe_mango', 'ripe_banana']\n"
     ]
    }
   ],
   "source": [
    "print(ripe_fruits)"
   ]
  },
  {
   "cell_type": "code",
   "execution_count": 59,
   "id": "6d395be2-4140-4116-a36d-b1fb5b351cae",
   "metadata": {},
   "outputs": [],
   "source": [
    "string_of_charaters = \"abcdefghijklmnpqrtuvxy\""
   ]
  },
  {
   "cell_type": "code",
   "execution_count": 60,
   "id": "8efdd676-4b8c-4b57-a9e5-c45eae23485c",
   "metadata": {},
   "outputs": [
    {
     "data": {
      "text/plain": [
       "False"
      ]
     },
     "execution_count": 60,
     "metadata": {},
     "output_type": "execute_result"
    }
   ],
   "source": [
    "\"s\" in string_of_charaters"
   ]
  },
  {
   "cell_type": "code",
   "execution_count": 61,
   "id": "9719c79e-9626-450a-aa15-ebca9b571fba",
   "metadata": {},
   "outputs": [
    {
     "data": {
      "text/plain": [
       "True"
      ]
     },
     "execution_count": 61,
     "metadata": {},
     "output_type": "execute_result"
    }
   ],
   "source": [
    "\"t\" in string_of_charaters"
   ]
  },
  {
   "cell_type": "code",
   "execution_count": 62,
   "id": "71b3536c-e609-4cb4-8825-95d8339d6272",
   "metadata": {},
   "outputs": [],
   "source": [
    "list_of_fruits = [\"ripe_apple\", \"ripe_mango\", \"raw_litchi\", \"ripe_banana\"]\n",
    "custom_seperated_fruits = list(filter(lambda fruit: \"an\" in fruit, list_of_fruits))"
   ]
  },
  {
   "cell_type": "code",
   "execution_count": 63,
   "id": "d2e67998-b483-4fd8-9356-eaa906b7d87b",
   "metadata": {},
   "outputs": [
    {
     "data": {
      "text/plain": [
       "['ripe_mango', 'ripe_banana']"
      ]
     },
     "execution_count": 63,
     "metadata": {},
     "output_type": "execute_result"
    }
   ],
   "source": [
    "custom_seperated_fruits"
   ]
  },
  {
   "cell_type": "code",
   "execution_count": 64,
   "id": "8eca6662-2186-494a-8809-0f44ddd23dff",
   "metadata": {},
   "outputs": [
    {
     "data": {
      "text/plain": [
       "<filter at 0x1b60420bd90>"
      ]
     },
     "execution_count": 64,
     "metadata": {},
     "output_type": "execute_result"
    }
   ],
   "source": [
    "filter(lambda fruit: \"an\" in fruit, list_of_fruits)"
   ]
  },
  {
   "cell_type": "code",
   "execution_count": null,
   "id": "5e46d6e3-a493-47bf-a3b2-3804d596496f",
   "metadata": {},
   "outputs": [],
   "source": [
    "list_of_fruits = [\"ripe_apple\", \"ripe_mango\", \"raw_litchi\", \"ripe_banana\"]\n",
    "# ripe_fruits = list(filter(lambda fruit: \"ripe\" in fruit, list_of_fruits))\n",
    "# get the list of all the ripe fruits but without the ripe_ tag"
   ]
  },
  {
   "cell_type": "code",
   "execution_count": null,
   "id": "6a99b6d0-c319-4696-8612-f19b0f0aa4af",
   "metadata": {},
   "outputs": [],
   "source": [
    "# string\n",
    "'hey I am string' or\n",
    "\"hey I am string\" are strings"
   ]
  },
  {
   "cell_type": "code",
   "execution_count": null,
   "id": "0cdf02ef-9b8b-4403-8f79-7638c01031f5",
   "metadata": {},
   "outputs": [],
   "source": [
    "1) single quote: 'hey I am str'\n",
    "2) double quote: \"hey I am doublr quote str\"\n",
    "3) triple quote # documentation strings, multiline strings\n",
    "                a) single quote: '''hey i am on th first line.\n",
    "                hey I am on the second line\n",
    "                hey I am on the third line'''\n",
    "                b) double quote: \"\"\"hey i am on th first line.\n",
    "                hey I am on the second line\n",
    "                hey I am on the third line\"\"\"\n",
    "4) use str type case: str(<data_structure>)"
   ]
  },
  {
   "cell_type": "code",
   "execution_count": 65,
   "id": "a98f1b31-5dca-497e-b89e-c943f5a9ec2a",
   "metadata": {},
   "outputs": [
    {
     "data": {
      "text/plain": [
       "'<filter object at 0x000001B60405B0A0>'"
      ]
     },
     "execution_count": 65,
     "metadata": {},
     "output_type": "execute_result"
    }
   ],
   "source": [
    "str(filter(lambda fruit: \"an\" in fruit, list_of_fruits))"
   ]
  },
  {
   "cell_type": "code",
   "execution_count": 67,
   "id": "1c25c176-e33e-4dbe-8f56-aca4d2d05678",
   "metadata": {},
   "outputs": [
    {
     "data": {
      "text/plain": [
       "\"('ripe_mango', 'ripe_banana')\""
      ]
     },
     "execution_count": 67,
     "metadata": {},
     "output_type": "execute_result"
    }
   ],
   "source": [
    "str(tuple(filter(lambda fruit: \"an\" in fruit, list_of_fruits)))"
   ]
  },
  {
   "cell_type": "code",
   "execution_count": 68,
   "id": "6ddfd959-dbfe-4318-afcc-fcedd0899737",
   "metadata": {},
   "outputs": [
    {
     "data": {
      "text/plain": [
       "'('"
      ]
     },
     "execution_count": 68,
     "metadata": {},
     "output_type": "execute_result"
    }
   ],
   "source": [
    "value = str(tuple(filter(lambda fruit: \"an\" in fruit, list_of_fruits)))\n",
    "value[0]"
   ]
  },
  {
   "cell_type": "code",
   "execution_count": 70,
   "id": "f852cfa4-90cb-4e96-8105-6d0c89996143",
   "metadata": {},
   "outputs": [],
   "source": [
    "val = \"i am a string\""
   ]
  },
  {
   "cell_type": "code",
   "execution_count": 71,
   "id": "2260c968-6653-48b4-ab73-e1d8d6d39c32",
   "metadata": {},
   "outputs": [
    {
     "name": "stdout",
     "output_type": "stream",
     "text": [
      "i am a string\n"
     ]
    }
   ],
   "source": [
    "print(val)"
   ]
  },
  {
   "cell_type": "code",
   "execution_count": null,
   "id": "e7ef1289-e03e-4285-87e9-a212b2a7640e",
   "metadata": {},
   "outputs": [],
   "source": [
    "# slicing\n",
    "string[<start index>: <end index>] --> you will get the string value from the strat index to end index - 1"
   ]
  },
  {
   "cell_type": "code",
   "execution_count": 72,
   "id": "4b26bda4-1b97-4a86-b79e-699e5f81a4d7",
   "metadata": {},
   "outputs": [
    {
     "data": {
      "text/plain": [
       "'0123'"
      ]
     },
     "execution_count": 72,
     "metadata": {},
     "output_type": "execute_result"
    }
   ],
   "source": [
    "s = \"0123456789\"\n",
    "s[0:4]"
   ]
  },
  {
   "cell_type": "code",
   "execution_count": 73,
   "id": "3b0aee14-6500-4d34-bfe7-edad44d3f76a",
   "metadata": {},
   "outputs": [
    {
     "data": {
      "text/plain": [
       "'0123'"
      ]
     },
     "execution_count": 73,
     "metadata": {},
     "output_type": "execute_result"
    }
   ],
   "source": [
    "s[:4]"
   ]
  },
  {
   "cell_type": "code",
   "execution_count": 74,
   "id": "4eb7d3ed-f8cc-4bc6-9104-9dc2187b4b78",
   "metadata": {},
   "outputs": [
    {
     "data": {
      "text/plain": [
       "'123456789'"
      ]
     },
     "execution_count": 74,
     "metadata": {},
     "output_type": "execute_result"
    }
   ],
   "source": [
    "s[1:]"
   ]
  },
  {
   "cell_type": "code",
   "execution_count": 75,
   "id": "201b3230-7bf3-4365-9216-c60cd9511c3a",
   "metadata": {},
   "outputs": [
    {
     "data": {
      "text/plain": [
       "'12345678'"
      ]
     },
     "execution_count": 75,
     "metadata": {},
     "output_type": "execute_result"
    }
   ],
   "source": [
    "s[1:9]"
   ]
  },
  {
   "cell_type": "code",
   "execution_count": 76,
   "id": "b7caf9de-7173-4dc5-a10a-e1c1209fefc2",
   "metadata": {},
   "outputs": [
    {
     "data": {
      "text/plain": [
       "'123456789'"
      ]
     },
     "execution_count": 76,
     "metadata": {},
     "output_type": "execute_result"
    }
   ],
   "source": [
    "s[1:10]"
   ]
  },
  {
   "cell_type": "code",
   "execution_count": 77,
   "id": "1954b6b0-45e8-4717-9c47-c54612082446",
   "metadata": {},
   "outputs": [
    {
     "data": {
      "text/plain": [
       "'123456789'"
      ]
     },
     "execution_count": 77,
     "metadata": {},
     "output_type": "execute_result"
    }
   ],
   "source": [
    "s[1:len(s)]"
   ]
  },
  {
   "cell_type": "code",
   "execution_count": 78,
   "id": "41bb4b68-b726-48f8-b74c-a207cd3d737b",
   "metadata": {},
   "outputs": [
    {
     "data": {
      "text/plain": [
       "10"
      ]
     },
     "execution_count": 78,
     "metadata": {},
     "output_type": "execute_result"
    }
   ],
   "source": [
    "len(s)"
   ]
  },
  {
   "cell_type": "code",
   "execution_count": 79,
   "id": "87b953d4-f4cd-4619-b148-61c84efadd02",
   "metadata": {},
   "outputs": [
    {
     "data": {
      "text/plain": [
       "'12345678'"
      ]
     },
     "execution_count": 79,
     "metadata": {},
     "output_type": "execute_result"
    }
   ],
   "source": [
    "s[1:-1]"
   ]
  },
  {
   "cell_type": "code",
   "execution_count": 80,
   "id": "a9d6bc0b-d81d-479a-b46c-35317fdc94b0",
   "metadata": {},
   "outputs": [
    {
     "data": {
      "text/plain": [
       "'12345678'"
      ]
     },
     "execution_count": 80,
     "metadata": {},
     "output_type": "execute_result"
    }
   ],
   "source": [
    "s[1:len(s)-1]"
   ]
  },
  {
   "cell_type": "code",
   "execution_count": 81,
   "id": "4294e0f1-1610-403a-8a05-e95792b03617",
   "metadata": {},
   "outputs": [
    {
     "data": {
      "text/plain": [
       "'456789'"
      ]
     },
     "execution_count": 81,
     "metadata": {},
     "output_type": "execute_result"
    }
   ],
   "source": [
    "s[4:]"
   ]
  },
  {
   "cell_type": "code",
   "execution_count": 82,
   "id": "718f0dd6-5805-46d4-a3e4-9f5f58933646",
   "metadata": {},
   "outputs": [
    {
     "data": {
      "text/plain": [
       "'123'"
      ]
     },
     "execution_count": 82,
     "metadata": {},
     "output_type": "execute_result"
    }
   ],
   "source": [
    "s = \"4123\"\n",
    "s[1:]"
   ]
  },
  {
   "cell_type": "code",
   "execution_count": 83,
   "id": "fff159b0-224e-4275-887a-5bfbc7809bf7",
   "metadata": {},
   "outputs": [
    {
     "data": {
      "text/plain": [
       "'4123'"
      ]
     },
     "execution_count": 83,
     "metadata": {},
     "output_type": "execute_result"
    }
   ],
   "source": [
    "s[:]"
   ]
  },
  {
   "cell_type": "code",
   "execution_count": 84,
   "id": "e9230afe-2282-4e8d-946a-857dd0c5f085",
   "metadata": {},
   "outputs": [
    {
     "data": {
      "text/plain": [
       "1881266036992"
      ]
     },
     "execution_count": 84,
     "metadata": {},
     "output_type": "execute_result"
    }
   ],
   "source": [
    "id(s)"
   ]
  },
  {
   "cell_type": "code",
   "execution_count": null,
   "id": "c1efce22-b33a-4037-9c61-495a2de549df",
   "metadata": {},
   "outputs": [],
   "source": [
    "# striding"
   ]
  },
  {
   "cell_type": "code",
   "execution_count": 87,
   "id": "3076f990-ab87-49d3-ad79-89f1670df158",
   "metadata": {},
   "outputs": [],
   "source": [
    "s = \"0123456789\""
   ]
  },
  {
   "cell_type": "code",
   "execution_count": 88,
   "id": "0a54bc50-0a61-4614-9086-78579a28d949",
   "metadata": {},
   "outputs": [
    {
     "data": {
      "text/plain": [
       "'02468'"
      ]
     },
     "execution_count": 88,
     "metadata": {},
     "output_type": "execute_result"
    }
   ],
   "source": [
    "s[::2]"
   ]
  },
  {
   "cell_type": "code",
   "execution_count": 89,
   "id": "50d56500-e858-4c03-bacb-72f58f0eeaae",
   "metadata": {},
   "outputs": [
    {
     "name": "stdout",
     "output_type": "stream",
     "text": [
      "['apple', 'mango', 'banana']\n"
     ]
    }
   ],
   "source": [
    "list_fruits = [\"ripe_apple\",\"ripe_mango\",\"raw_litchi\", \"ripe_banana\"]\n",
    "list_f_filter = list(map(lambda x: x[5:],filter(lambda fruit: \"ripe\" in fruit,list_fruits)))\n",
    "print(list_f_filter)"
   ]
  },
  {
   "cell_type": "code",
   "execution_count": 90,
   "id": "b18f44e5-ec8f-4647-a674-e2701d967b7a",
   "metadata": {},
   "outputs": [
    {
     "data": {
      "text/plain": [
       "'9876543210'"
      ]
     },
     "execution_count": 90,
     "metadata": {},
     "output_type": "execute_result"
    }
   ],
   "source": [
    "s = \"0123456789\"\n",
    "s[::-1]"
   ]
  },
  {
   "cell_type": "code",
   "execution_count": 91,
   "id": "85e272ef-7c41-4d6e-b881-0ec090ceaba7",
   "metadata": {},
   "outputs": [
    {
     "data": {
      "text/plain": [
       "'97531'"
      ]
     },
     "execution_count": 91,
     "metadata": {},
     "output_type": "execute_result"
    }
   ],
   "source": [
    "s = \"0123456789\"\n",
    "s[::-2]"
   ]
  },
  {
   "cell_type": "code",
   "execution_count": 92,
   "id": "673aebe3-044c-4846-aeab-ac99ae896a8b",
   "metadata": {},
   "outputs": [
    {
     "data": {
      "text/plain": [
       "'7531'"
      ]
     },
     "execution_count": 92,
     "metadata": {},
     "output_type": "execute_result"
    }
   ],
   "source": [
    "s[-3::-2]"
   ]
  },
  {
   "cell_type": "code",
   "execution_count": 93,
   "id": "d05d9057-a01b-47fc-acff-6dea5c37d2e6",
   "metadata": {},
   "outputs": [
    {
     "data": {
      "text/plain": [
       "'ripe_apple'"
      ]
     },
     "execution_count": 93,
     "metadata": {},
     "output_type": "execute_result"
    }
   ],
   "source": [
    "list_fruits[0]"
   ]
  },
  {
   "cell_type": "code",
   "execution_count": 96,
   "id": "d332746f-2a18-4b0e-888b-885f8b087478",
   "metadata": {},
   "outputs": [
    {
     "data": {
      "text/plain": [
       "'_apple'"
      ]
     },
     "execution_count": 96,
     "metadata": {},
     "output_type": "execute_result"
    }
   ],
   "source": [
    "list_fruits[0][4:]"
   ]
  },
  {
   "cell_type": "code",
   "execution_count": 97,
   "id": "d4549d1b-2ff3-4f9b-ad27-3f5257015f20",
   "metadata": {},
   "outputs": [
    {
     "data": {
      "text/plain": [
       "'_mango'"
      ]
     },
     "execution_count": 97,
     "metadata": {},
     "output_type": "execute_result"
    }
   ],
   "source": [
    "list_fruits[1][4:]"
   ]
  },
  {
   "cell_type": "code",
   "execution_count": null,
   "id": "8bdcfe92-16cf-4b1c-9ba8-529eaa962b2d",
   "metadata": {},
   "outputs": [],
   "source": [
    "Hw: check some the builtin methods of strings: split(), strip(), upper(), lower(), isupper(), islower(), replace(), index(), capitalize(),\n",
    "join(), isspace(), isdigit(), isdecimal(), isalpha(), find()"
   ]
  },
  {
   "cell_type": "code",
   "execution_count": 98,
   "id": "12d3cda4-6437-4f59-a8d5-e9eb59244210",
   "metadata": {
    "collapsed": true,
    "jupyter": {
     "outputs_hidden": true
    }
   },
   "outputs": [
    {
     "name": "stdout",
     "output_type": "stream",
     "text": [
      "Help on class str in module builtins:\n",
      "\n",
      "class str(object)\n",
      " |  str(object='') -> str\n",
      " |  str(bytes_or_buffer[, encoding[, errors]]) -> str\n",
      " |\n",
      " |  Create a new string object from the given object. If encoding or\n",
      " |  errors is specified, then the object must expose a data buffer\n",
      " |  that will be decoded using the given encoding and error handler.\n",
      " |  Otherwise, returns the result of object.__str__() (if defined)\n",
      " |  or repr(object).\n",
      " |  encoding defaults to 'utf-8'.\n",
      " |  errors defaults to 'strict'.\n",
      " |\n",
      " |  Methods defined here:\n",
      " |\n",
      " |  __add__(self, value, /)\n",
      " |      Return self+value.\n",
      " |\n",
      " |  __contains__(self, key, /)\n",
      " |      Return bool(key in self).\n",
      " |\n",
      " |  __eq__(self, value, /)\n",
      " |      Return self==value.\n",
      " |\n",
      " |  __format__(self, format_spec, /)\n",
      " |      Return a formatted version of the string as described by format_spec.\n",
      " |\n",
      " |  __ge__(self, value, /)\n",
      " |      Return self>=value.\n",
      " |\n",
      " |  __getitem__(self, key, /)\n",
      " |      Return self[key].\n",
      " |\n",
      " |  __getnewargs__(self, /)\n",
      " |\n",
      " |  __gt__(self, value, /)\n",
      " |      Return self>value.\n",
      " |\n",
      " |  __hash__(self, /)\n",
      " |      Return hash(self).\n",
      " |\n",
      " |  __iter__(self, /)\n",
      " |      Implement iter(self).\n",
      " |\n",
      " |  __le__(self, value, /)\n",
      " |      Return self<=value.\n",
      " |\n",
      " |  __len__(self, /)\n",
      " |      Return len(self).\n",
      " |\n",
      " |  __lt__(self, value, /)\n",
      " |      Return self<value.\n",
      " |\n",
      " |  __mod__(self, value, /)\n",
      " |      Return self%value.\n",
      " |\n",
      " |  __mul__(self, value, /)\n",
      " |      Return self*value.\n",
      " |\n",
      " |  __ne__(self, value, /)\n",
      " |      Return self!=value.\n",
      " |\n",
      " |  __repr__(self, /)\n",
      " |      Return repr(self).\n",
      " |\n",
      " |  __rmod__(self, value, /)\n",
      " |      Return value%self.\n",
      " |\n",
      " |  __rmul__(self, value, /)\n",
      " |      Return value*self.\n",
      " |\n",
      " |  __sizeof__(self, /)\n",
      " |      Return the size of the string in memory, in bytes.\n",
      " |\n",
      " |  __str__(self, /)\n",
      " |      Return str(self).\n",
      " |\n",
      " |  capitalize(self, /)\n",
      " |      Return a capitalized version of the string.\n",
      " |\n",
      " |      More specifically, make the first character have upper case and the rest lower\n",
      " |      case.\n",
      " |\n",
      " |  casefold(self, /)\n",
      " |      Return a version of the string suitable for caseless comparisons.\n",
      " |\n",
      " |  center(self, width, fillchar=' ', /)\n",
      " |      Return a centered string of length width.\n",
      " |\n",
      " |      Padding is done using the specified fill character (default is a space).\n",
      " |\n",
      " |  count(self, sub[, start[, end]], /)\n",
      " |      Return the number of non-overlapping occurrences of substring sub in string S[start:end].\n",
      " |\n",
      " |      Optional arguments start and end are interpreted as in slice notation.\n",
      " |\n",
      " |  encode(self, /, encoding='utf-8', errors='strict')\n",
      " |      Encode the string using the codec registered for encoding.\n",
      " |\n",
      " |      encoding\n",
      " |        The encoding in which to encode the string.\n",
      " |      errors\n",
      " |        The error handling scheme to use for encoding errors.\n",
      " |        The default is 'strict' meaning that encoding errors raise a\n",
      " |        UnicodeEncodeError.  Other possible values are 'ignore', 'replace' and\n",
      " |        'xmlcharrefreplace' as well as any other name registered with\n",
      " |        codecs.register_error that can handle UnicodeEncodeErrors.\n",
      " |\n",
      " |  endswith(self, suffix[, start[, end]], /)\n",
      " |      Return True if the string ends with the specified suffix, False otherwise.\n",
      " |\n",
      " |      suffix\n",
      " |        A string or a tuple of strings to try.\n",
      " |      start\n",
      " |        Optional start position. Default: start of the string.\n",
      " |      end\n",
      " |        Optional stop position. Default: end of the string.\n",
      " |\n",
      " |  expandtabs(self, /, tabsize=8)\n",
      " |      Return a copy where all tab characters are expanded using spaces.\n",
      " |\n",
      " |      If tabsize is not given, a tab size of 8 characters is assumed.\n",
      " |\n",
      " |  find(self, sub[, start[, end]], /)\n",
      " |      Return the lowest index in S where substring sub is found, such that sub is contained within S[start:end].\n",
      " |\n",
      " |      Optional arguments start and end are interpreted as in slice notation.\n",
      " |      Return -1 on failure.\n",
      " |\n",
      " |  format(self, /, *args, **kwargs)\n",
      " |      Return a formatted version of the string, using substitutions from args and kwargs.\n",
      " |      The substitutions are identified by braces ('{' and '}').\n",
      " |\n",
      " |  format_map(self, mapping, /)\n",
      " |      Return a formatted version of the string, using substitutions from mapping.\n",
      " |      The substitutions are identified by braces ('{' and '}').\n",
      " |\n",
      " |  index(self, sub[, start[, end]], /)\n",
      " |      Return the lowest index in S where substring sub is found, such that sub is contained within S[start:end].\n",
      " |\n",
      " |      Optional arguments start and end are interpreted as in slice notation.\n",
      " |      Raises ValueError when the substring is not found.\n",
      " |\n",
      " |  isalnum(self, /)\n",
      " |      Return True if the string is an alpha-numeric string, False otherwise.\n",
      " |\n",
      " |      A string is alpha-numeric if all characters in the string are alpha-numeric and\n",
      " |      there is at least one character in the string.\n",
      " |\n",
      " |  isalpha(self, /)\n",
      " |      Return True if the string is an alphabetic string, False otherwise.\n",
      " |\n",
      " |      A string is alphabetic if all characters in the string are alphabetic and there\n",
      " |      is at least one character in the string.\n",
      " |\n",
      " |  isascii(self, /)\n",
      " |      Return True if all characters in the string are ASCII, False otherwise.\n",
      " |\n",
      " |      ASCII characters have code points in the range U+0000-U+007F.\n",
      " |      Empty string is ASCII too.\n",
      " |\n",
      " |  isdecimal(self, /)\n",
      " |      Return True if the string is a decimal string, False otherwise.\n",
      " |\n",
      " |      A string is a decimal string if all characters in the string are decimal and\n",
      " |      there is at least one character in the string.\n",
      " |\n",
      " |  isdigit(self, /)\n",
      " |      Return True if the string is a digit string, False otherwise.\n",
      " |\n",
      " |      A string is a digit string if all characters in the string are digits and there\n",
      " |      is at least one character in the string.\n",
      " |\n",
      " |  isidentifier(self, /)\n",
      " |      Return True if the string is a valid Python identifier, False otherwise.\n",
      " |\n",
      " |      Call keyword.iskeyword(s) to test whether string s is a reserved identifier,\n",
      " |      such as \"def\" or \"class\".\n",
      " |\n",
      " |  islower(self, /)\n",
      " |      Return True if the string is a lowercase string, False otherwise.\n",
      " |\n",
      " |      A string is lowercase if all cased characters in the string are lowercase and\n",
      " |      there is at least one cased character in the string.\n",
      " |\n",
      " |  isnumeric(self, /)\n",
      " |      Return True if the string is a numeric string, False otherwise.\n",
      " |\n",
      " |      A string is numeric if all characters in the string are numeric and there is at\n",
      " |      least one character in the string.\n",
      " |\n",
      " |  isprintable(self, /)\n",
      " |      Return True if all characters in the string are printable, False otherwise.\n",
      " |\n",
      " |      A character is printable if repr() may use it in its output.\n",
      " |\n",
      " |  isspace(self, /)\n",
      " |      Return True if the string is a whitespace string, False otherwise.\n",
      " |\n",
      " |      A string is whitespace if all characters in the string are whitespace and there\n",
      " |      is at least one character in the string.\n",
      " |\n",
      " |  istitle(self, /)\n",
      " |      Return True if the string is a title-cased string, False otherwise.\n",
      " |\n",
      " |      In a title-cased string, upper- and title-case characters may only\n",
      " |      follow uncased characters and lowercase characters only cased ones.\n",
      " |\n",
      " |  isupper(self, /)\n",
      " |      Return True if the string is an uppercase string, False otherwise.\n",
      " |\n",
      " |      A string is uppercase if all cased characters in the string are uppercase and\n",
      " |      there is at least one cased character in the string.\n",
      " |\n",
      " |  join(self, iterable, /)\n",
      " |      Concatenate any number of strings.\n",
      " |\n",
      " |      The string whose method is called is inserted in between each given string.\n",
      " |      The result is returned as a new string.\n",
      " |\n",
      " |      Example: '.'.join(['ab', 'pq', 'rs']) -> 'ab.pq.rs'\n",
      " |\n",
      " |  ljust(self, width, fillchar=' ', /)\n",
      " |      Return a left-justified string of length width.\n",
      " |\n",
      " |      Padding is done using the specified fill character (default is a space).\n",
      " |\n",
      " |  lower(self, /)\n",
      " |      Return a copy of the string converted to lowercase.\n",
      " |\n",
      " |  lstrip(self, chars=None, /)\n",
      " |      Return a copy of the string with leading whitespace removed.\n",
      " |\n",
      " |      If chars is given and not None, remove characters in chars instead.\n",
      " |\n",
      " |  partition(self, sep, /)\n",
      " |      Partition the string into three parts using the given separator.\n",
      " |\n",
      " |      This will search for the separator in the string.  If the separator is found,\n",
      " |      returns a 3-tuple containing the part before the separator, the separator\n",
      " |      itself, and the part after it.\n",
      " |\n",
      " |      If the separator is not found, returns a 3-tuple containing the original string\n",
      " |      and two empty strings.\n",
      " |\n",
      " |  removeprefix(self, prefix, /)\n",
      " |      Return a str with the given prefix string removed if present.\n",
      " |\n",
      " |      If the string starts with the prefix string, return string[len(prefix):].\n",
      " |      Otherwise, return a copy of the original string.\n",
      " |\n",
      " |  removesuffix(self, suffix, /)\n",
      " |      Return a str with the given suffix string removed if present.\n",
      " |\n",
      " |      If the string ends with the suffix string and that suffix is not empty,\n",
      " |      return string[:-len(suffix)]. Otherwise, return a copy of the original\n",
      " |      string.\n",
      " |\n",
      " |  replace(self, old, new, /, count=-1)\n",
      " |      Return a copy with all occurrences of substring old replaced by new.\n",
      " |\n",
      " |        count\n",
      " |          Maximum number of occurrences to replace.\n",
      " |          -1 (the default value) means replace all occurrences.\n",
      " |\n",
      " |      If the optional argument count is given, only the first count occurrences are\n",
      " |      replaced.\n",
      " |\n",
      " |  rfind(self, sub[, start[, end]], /)\n",
      " |      Return the highest index in S where substring sub is found, such that sub is contained within S[start:end].\n",
      " |\n",
      " |      Optional arguments start and end are interpreted as in slice notation.\n",
      " |      Return -1 on failure.\n",
      " |\n",
      " |  rindex(self, sub[, start[, end]], /)\n",
      " |      Return the highest index in S where substring sub is found, such that sub is contained within S[start:end].\n",
      " |\n",
      " |      Optional arguments start and end are interpreted as in slice notation.\n",
      " |      Raises ValueError when the substring is not found.\n",
      " |\n",
      " |  rjust(self, width, fillchar=' ', /)\n",
      " |      Return a right-justified string of length width.\n",
      " |\n",
      " |      Padding is done using the specified fill character (default is a space).\n",
      " |\n",
      " |  rpartition(self, sep, /)\n",
      " |      Partition the string into three parts using the given separator.\n",
      " |\n",
      " |      This will search for the separator in the string, starting at the end. If\n",
      " |      the separator is found, returns a 3-tuple containing the part before the\n",
      " |      separator, the separator itself, and the part after it.\n",
      " |\n",
      " |      If the separator is not found, returns a 3-tuple containing two empty strings\n",
      " |      and the original string.\n",
      " |\n",
      " |  rsplit(self, /, sep=None, maxsplit=-1)\n",
      " |      Return a list of the substrings in the string, using sep as the separator string.\n",
      " |\n",
      " |        sep\n",
      " |          The separator used to split the string.\n",
      " |\n",
      " |          When set to None (the default value), will split on any whitespace\n",
      " |          character (including \\n \\r \\t \\f and spaces) and will discard\n",
      " |          empty strings from the result.\n",
      " |        maxsplit\n",
      " |          Maximum number of splits.\n",
      " |          -1 (the default value) means no limit.\n",
      " |\n",
      " |      Splitting starts at the end of the string and works to the front.\n",
      " |\n",
      " |  rstrip(self, chars=None, /)\n",
      " |      Return a copy of the string with trailing whitespace removed.\n",
      " |\n",
      " |      If chars is given and not None, remove characters in chars instead.\n",
      " |\n",
      " |  split(self, /, sep=None, maxsplit=-1)\n",
      " |      Return a list of the substrings in the string, using sep as the separator string.\n",
      " |\n",
      " |        sep\n",
      " |          The separator used to split the string.\n",
      " |\n",
      " |          When set to None (the default value), will split on any whitespace\n",
      " |          character (including \\n \\r \\t \\f and spaces) and will discard\n",
      " |          empty strings from the result.\n",
      " |        maxsplit\n",
      " |          Maximum number of splits.\n",
      " |          -1 (the default value) means no limit.\n",
      " |\n",
      " |      Splitting starts at the front of the string and works to the end.\n",
      " |\n",
      " |      Note, str.split() is mainly useful for data that has been intentionally\n",
      " |      delimited.  With natural text that includes punctuation, consider using\n",
      " |      the regular expression module.\n",
      " |\n",
      " |  splitlines(self, /, keepends=False)\n",
      " |      Return a list of the lines in the string, breaking at line boundaries.\n",
      " |\n",
      " |      Line breaks are not included in the resulting list unless keepends is given and\n",
      " |      true.\n",
      " |\n",
      " |  startswith(self, prefix[, start[, end]], /)\n",
      " |      Return True if the string starts with the specified prefix, False otherwise.\n",
      " |\n",
      " |      prefix\n",
      " |        A string or a tuple of strings to try.\n",
      " |      start\n",
      " |        Optional start position. Default: start of the string.\n",
      " |      end\n",
      " |        Optional stop position. Default: end of the string.\n",
      " |\n",
      " |  strip(self, chars=None, /)\n",
      " |      Return a copy of the string with leading and trailing whitespace removed.\n",
      " |\n",
      " |      If chars is given and not None, remove characters in chars instead.\n",
      " |\n",
      " |  swapcase(self, /)\n",
      " |      Convert uppercase characters to lowercase and lowercase characters to uppercase.\n",
      " |\n",
      " |  title(self, /)\n",
      " |      Return a version of the string where each word is titlecased.\n",
      " |\n",
      " |      More specifically, words start with uppercased characters and all remaining\n",
      " |      cased characters have lower case.\n",
      " |\n",
      " |  translate(self, table, /)\n",
      " |      Replace each character in the string using the given translation table.\n",
      " |\n",
      " |        table\n",
      " |          Translation table, which must be a mapping of Unicode ordinals to\n",
      " |          Unicode ordinals, strings, or None.\n",
      " |\n",
      " |      The table must implement lookup/indexing via __getitem__, for instance a\n",
      " |      dictionary or list.  If this operation raises LookupError, the character is\n",
      " |      left untouched.  Characters mapped to None are deleted.\n",
      " |\n",
      " |  upper(self, /)\n",
      " |      Return a copy of the string converted to uppercase.\n",
      " |\n",
      " |  zfill(self, width, /)\n",
      " |      Pad a numeric string with zeros on the left, to fill a field of the given width.\n",
      " |\n",
      " |      The string is never truncated.\n",
      " |\n",
      " |  ----------------------------------------------------------------------\n",
      " |  Static methods defined here:\n",
      " |\n",
      " |  __new__(*args, **kwargs)\n",
      " |      Create and return a new object.  See help(type) for accurate signature.\n",
      " |\n",
      " |  maketrans(x, y=<unrepresentable>, z=<unrepresentable>, /)\n",
      " |      Return a translation table usable for str.translate().\n",
      " |\n",
      " |      If there is only one argument, it must be a dictionary mapping Unicode\n",
      " |      ordinals (integers) or characters to Unicode ordinals, strings or None.\n",
      " |      Character keys will be then converted to ordinals.\n",
      " |      If there are two arguments, they must be strings of equal length, and\n",
      " |      in the resulting dictionary, each character in x will be mapped to the\n",
      " |      character at the same position in y. If there is a third argument, it\n",
      " |      must be a string, whose characters will be mapped to None in the result.\n",
      "\n"
     ]
    }
   ],
   "source": [
    "help(str)"
   ]
  },
  {
   "cell_type": "code",
   "execution_count": null,
   "id": "eb79b895-61b5-4c2e-be14-e0dfdc7ad904",
   "metadata": {},
   "outputs": [],
   "source": [
    "Hw: list data structure, dictionary, tuple, set."
   ]
  }
 ],
 "metadata": {
  "kernelspec": {
   "display_name": "Python 3 (ipykernel)",
   "language": "python",
   "name": "python3"
  },
  "language_info": {
   "codemirror_mode": {
    "name": "ipython",
    "version": 3
   },
   "file_extension": ".py",
   "mimetype": "text/x-python",
   "name": "python",
   "nbconvert_exporter": "python",
   "pygments_lexer": "ipython3",
   "version": "3.13.3"
  }
 },
 "nbformat": 4,
 "nbformat_minor": 5
}
