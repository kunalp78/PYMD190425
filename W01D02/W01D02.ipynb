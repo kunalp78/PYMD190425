{
 "cells": [
  {
   "cell_type": "code",
   "execution_count": 1,
   "id": "9984d8f4-4a0a-408b-af22-ce71005bb091",
   "metadata": {},
   "outputs": [
    {
     "data": {
      "text/plain": [
       "(int, str, None, bool, complex, float)"
      ]
     },
     "execution_count": 1,
     "metadata": {},
     "output_type": "execute_result"
    }
   ],
   "source": [
    "Primitive data types\n",
    "int, str, None, bool, complex, float\n",
    "non primitive data type:\n",
    "list, tuple, set, dict, range"
   ]
  },
  {
   "cell_type": "code",
   "execution_count": 2,
   "id": "838ebd53-c71c-47a9-af11-27b9d5abc6e9",
   "metadata": {},
   "outputs": [],
   "source": [
    "t = range(0, 10)"
   ]
  },
  {
   "cell_type": "code",
   "execution_count": 3,
   "id": "b9387ccc-c474-468b-9133-dd75536f97e2",
   "metadata": {},
   "outputs": [
    {
     "data": {
      "text/plain": [
       "range(0, 10)"
      ]
     },
     "execution_count": 3,
     "metadata": {},
     "output_type": "execute_result"
    }
   ],
   "source": [
    "t"
   ]
  },
  {
   "cell_type": "code",
   "execution_count": 4,
   "id": "a3997936-1915-4c9c-8a55-fa6dbc353b83",
   "metadata": {},
   "outputs": [
    {
     "data": {
      "text/plain": [
       "range"
      ]
     },
     "execution_count": 4,
     "metadata": {},
     "output_type": "execute_result"
    }
   ],
   "source": [
    "type(t)"
   ]
  },
  {
   "cell_type": "code",
   "execution_count": 5,
   "id": "fcc4f89f-e04c-4308-817b-0f8d8d9edf84",
   "metadata": {},
   "outputs": [
    {
     "data": {
      "text/plain": [
       "1"
      ]
     },
     "execution_count": 5,
     "metadata": {},
     "output_type": "execute_result"
    }
   ],
   "source": [
    "t[1]"
   ]
  },
  {
   "cell_type": "code",
   "execution_count": 6,
   "id": "812b83c5-45d6-4c86-992c-756f8d708e19",
   "metadata": {},
   "outputs": [
    {
     "data": {
      "text/plain": [
       "0"
      ]
     },
     "execution_count": 6,
     "metadata": {},
     "output_type": "execute_result"
    }
   ],
   "source": [
    "t[0]"
   ]
  },
  {
   "cell_type": "code",
   "execution_count": 7,
   "id": "262033da-73b9-47dd-ad36-79993253885c",
   "metadata": {},
   "outputs": [
    {
     "data": {
      "text/plain": [
       "9"
      ]
     },
     "execution_count": 7,
     "metadata": {},
     "output_type": "execute_result"
    }
   ],
   "source": [
    "t[9]"
   ]
  },
  {
   "cell_type": "code",
   "execution_count": 8,
   "id": "e7f42a84-76f5-4fed-976f-70394a2bb0d8",
   "metadata": {
    "collapsed": true,
    "jupyter": {
     "outputs_hidden": true
    },
    "scrolled": true
   },
   "outputs": [
    {
     "ename": "IndexError",
     "evalue": "range object index out of range",
     "output_type": "error",
     "traceback": [
      "\u001b[31m---------------------------------------------------------------------------\u001b[39m",
      "\u001b[31mIndexError\u001b[39m                                Traceback (most recent call last)",
      "\u001b[36mCell\u001b[39m\u001b[36m \u001b[39m\u001b[32mIn[8]\u001b[39m\u001b[32m, line 1\u001b[39m\n\u001b[32m----> \u001b[39m\u001b[32m1\u001b[39m \u001b[43mt\u001b[49m\u001b[43m[\u001b[49m\u001b[32;43m10\u001b[39;49m\u001b[43m]\u001b[49m\n",
      "\u001b[31mIndexError\u001b[39m: range object index out of range"
     ]
    }
   ],
   "source": [
    "t[10]"
   ]
  },
  {
   "cell_type": "code",
   "execution_count": null,
   "id": "26610405-c435-457a-b702-f5404729dc0e",
   "metadata": {},
   "outputs": [],
   "source": []
  },
  {
   "cell_type": "code",
   "execution_count": 9,
   "id": "7ba82fa8-a233-44ea-b66a-d1c2b0d59efa",
   "metadata": {},
   "outputs": [
    {
     "name": "stdout",
     "output_type": "stream",
     "text": [
      "range(0, 10)\n"
     ]
    }
   ],
   "source": [
    "print(t)"
   ]
  },
  {
   "cell_type": "code",
   "execution_count": 10,
   "id": "346a6c66-085b-41f0-aa5e-c9e851cfd81f",
   "metadata": {},
   "outputs": [
    {
     "name": "stdout",
     "output_type": "stream",
     "text": [
      "hello I m a sentence\n"
     ]
    }
   ],
   "source": [
    "print(\"hello I m a sentence\")"
   ]
  },
  {
   "cell_type": "code",
   "execution_count": 11,
   "id": "2bca121d-a9c4-46e4-ac57-e47031288b4b",
   "metadata": {},
   "outputs": [
    {
     "name": "stdout",
     "output_type": "stream",
     "text": [
      "hello I m a sentence range(0, 10) [1, 2, 3]\n"
     ]
    }
   ],
   "source": [
    "print(\"hello I m a sentence\", t, [1, 2, 3])"
   ]
  },
  {
   "cell_type": "code",
   "execution_count": 12,
   "id": "0f0ec92f-2277-476c-a697-afc4cf03821c",
   "metadata": {},
   "outputs": [
    {
     "name": "stdout",
     "output_type": "stream",
     "text": [
      "t\n"
     ]
    }
   ],
   "source": [
    "print(\"t\")"
   ]
  },
  {
   "cell_type": "code",
   "execution_count": 13,
   "id": "5b33a89d-8c52-4ec4-a728-df7af8332681",
   "metadata": {},
   "outputs": [
    {
     "name": "stdout",
     "output_type": "stream",
     "text": [
      "go on t cofee 12 -25 5j\n"
     ]
    }
   ],
   "source": [
    "print(\"go on\", \"t\", \"cofee\", 12, -25, 5j)"
   ]
  },
  {
   "cell_type": "markdown",
   "id": "f3678f5b-17d9-4b87-a5a2-61d5d6de424f",
   "metadata": {},
   "source": [
    "### Input operation"
   ]
  },
  {
   "cell_type": "code",
   "execution_count": null,
   "id": "915e5954-3bdb-4d87-918f-2828c960b1df",
   "metadata": {},
   "outputs": [],
   "source": [
    "input() --> it returns he input provided by users in string format"
   ]
  },
  {
   "cell_type": "code",
   "execution_count": 14,
   "id": "0a19c5cb-7914-4758-9a09-faa36fa48081",
   "metadata": {},
   "outputs": [
    {
     "name": "stdin",
     "output_type": "stream",
     "text": [
      " Ravi\n"
     ]
    }
   ],
   "source": [
    "get_name = input()"
   ]
  },
  {
   "cell_type": "code",
   "execution_count": 15,
   "id": "1bc77c4a-8154-4ddf-98cf-09238ef3a94e",
   "metadata": {},
   "outputs": [
    {
     "data": {
      "text/plain": [
       "'Ravi'"
      ]
     },
     "execution_count": 15,
     "metadata": {},
     "output_type": "execute_result"
    }
   ],
   "source": [
    "get_name"
   ]
  },
  {
   "cell_type": "code",
   "execution_count": 16,
   "id": "992727df-9929-46a6-b5e1-c289dcd82dae",
   "metadata": {},
   "outputs": [
    {
     "name": "stdin",
     "output_type": "stream",
     "text": [
      "Enter the [hone number:  +91 9587462310\n"
     ]
    }
   ],
   "source": [
    "get_phone = input(\"Enter the phone number: \")"
   ]
  },
  {
   "cell_type": "code",
   "execution_count": 17,
   "id": "5ffe234b-4579-4309-a4e7-e861c28c681c",
   "metadata": {},
   "outputs": [
    {
     "data": {
      "text/plain": [
       "'+91 9587462310'"
      ]
     },
     "execution_count": 17,
     "metadata": {},
     "output_type": "execute_result"
    }
   ],
   "source": [
    "get_phone"
   ]
  },
  {
   "cell_type": "code",
   "execution_count": 18,
   "id": "33a02803-e1e3-4c97-bce2-faf6b755cd38",
   "metadata": {},
   "outputs": [
    {
     "data": {
      "text/plain": [
       "str"
      ]
     },
     "execution_count": 18,
     "metadata": {},
     "output_type": "execute_result"
    }
   ],
   "source": [
    "type(get_phone)"
   ]
  },
  {
   "cell_type": "code",
   "execution_count": 19,
   "id": "1a46df75-f1d8-4f26-9f15-c62da8fbcf6d",
   "metadata": {},
   "outputs": [
    {
     "ename": "SyntaxError",
     "evalue": "unterminated string literal (detected at line 1) (663224225.py, line 1)",
     "output_type": "error",
     "traceback": [
      "  \u001b[36mCell\u001b[39m\u001b[36m \u001b[39m\u001b[32mIn[19]\u001b[39m\u001b[32m, line 1\u001b[39m\n\u001b[31m    \u001b[39m\u001b[31mget_phone = input(\"Enter the p\u001b[39m\n                      ^\n\u001b[31mSyntaxError\u001b[39m\u001b[31m:\u001b[39m unterminated string literal (detected at line 1)\n"
     ]
    }
   ],
   "source": [
    "get_phone = input(\"Enter the p\n",
    "hone number: \")"
   ]
  },
  {
   "cell_type": "code",
   "execution_count": 20,
   "id": "7d8eef30-039a-44fe-9b93-574464baf0d9",
   "metadata": {},
   "outputs": [
    {
     "name": "stdin",
     "output_type": "stream",
     "text": [
      "Enter names of your friend seperated with comma:  Rohan, Narayan, Sarvanan, Ravi, abcde\n"
     ]
    }
   ],
   "source": [
    "get_names = input(\"Enter names of your friend seperated with comma: \")"
   ]
  },
  {
   "cell_type": "code",
   "execution_count": 21,
   "id": "53e63954-9c63-43a2-836a-6a8a612380a5",
   "metadata": {},
   "outputs": [
    {
     "data": {
      "text/plain": [
       "'Rohan, Narayan, Sarvanan, Ravi, abcde'"
      ]
     },
     "execution_count": 21,
     "metadata": {},
     "output_type": "execute_result"
    }
   ],
   "source": [
    "get_names"
   ]
  },
  {
   "cell_type": "markdown",
   "id": "40b241e1-eebc-40ea-98e9-79116aaf7732",
   "metadata": {},
   "source": [
    "### split()"
   ]
  },
  {
   "cell_type": "code",
   "execution_count": 22,
   "id": "3c9d475f-bb06-4eaa-8eef-82b78851de6f",
   "metadata": {},
   "outputs": [
    {
     "data": {
      "text/plain": [
       "['Rohan', ' Narayan', ' Sarvanan', ' Ravi', ' abcde']"
      ]
     },
     "execution_count": 22,
     "metadata": {},
     "output_type": "execute_result"
    }
   ],
   "source": [
    "get_names.split(\",\")"
   ]
  },
  {
   "cell_type": "code",
   "execution_count": 24,
   "id": "499229e1-1e47-4866-b975-deffa84112d1",
   "metadata": {},
   "outputs": [],
   "source": [
    "names_list = get_names.split(\",\")"
   ]
  },
  {
   "cell_type": "code",
   "execution_count": 25,
   "id": "8c57b70b-815d-494c-b360-7d6f6b8fc171",
   "metadata": {},
   "outputs": [
    {
     "name": "stdout",
     "output_type": "stream",
     "text": [
      "['Rohan', ' Narayan', ' Sarvanan', ' Ravi', ' abcde']\n"
     ]
    }
   ],
   "source": [
    "print(names_list)"
   ]
  },
  {
   "cell_type": "code",
   "execution_count": 26,
   "id": "ac5c8812-91ed-4065-b7a7-8e984d152a85",
   "metadata": {},
   "outputs": [
    {
     "name": "stdout",
     "output_type": "stream",
     "text": [
      "Rohan, Narayan, Sarvanan, Ravi, abcde\n"
     ]
    }
   ],
   "source": [
    "print(get_names)"
   ]
  },
  {
   "cell_type": "code",
   "execution_count": 27,
   "id": "a014fa40-38cc-4601-9919-90f4eb8c5f06",
   "metadata": {},
   "outputs": [
    {
     "data": {
      "text/plain": [
       "'R'"
      ]
     },
     "execution_count": 27,
     "metadata": {},
     "output_type": "execute_result"
    }
   ],
   "source": [
    "get_name[0]"
   ]
  },
  {
   "cell_type": "code",
   "execution_count": 28,
   "id": "27510f28-137c-4c54-9545-1c212f5c4d98",
   "metadata": {},
   "outputs": [
    {
     "name": "stdout",
     "output_type": "stream",
     "text": [
      "1\n"
     ]
    }
   ],
   "source": [
    "l = \"123456\"\n",
    "print(l[0])"
   ]
  },
  {
   "cell_type": "code",
   "execution_count": 29,
   "id": "36f72b2c-2dca-474e-81b7-6db19dd70026",
   "metadata": {},
   "outputs": [
    {
     "data": {
      "text/plain": [
       "'2'"
      ]
     },
     "execution_count": 29,
     "metadata": {},
     "output_type": "execute_result"
    }
   ],
   "source": [
    "l[1]"
   ]
  },
  {
   "cell_type": "code",
   "execution_count": 30,
   "id": "2f9d3f4b-611d-42f0-9fe9-f9dd245af92e",
   "metadata": {},
   "outputs": [
    {
     "data": {
      "text/plain": [
       "'6'"
      ]
     },
     "execution_count": 30,
     "metadata": {},
     "output_type": "execute_result"
    }
   ],
   "source": [
    "l[5]"
   ]
  },
  {
   "cell_type": "code",
   "execution_count": 31,
   "id": "97130772-5bec-42f2-8525-3692694782b2",
   "metadata": {},
   "outputs": [
    {
     "data": {
      "text/plain": [
       "'Rohan'"
      ]
     },
     "execution_count": 31,
     "metadata": {},
     "output_type": "execute_result"
    }
   ],
   "source": [
    "names_list[0]"
   ]
  },
  {
   "cell_type": "code",
   "execution_count": 32,
   "id": "82116393-dc4b-4f2d-b31c-7dd69b0f0d9f",
   "metadata": {},
   "outputs": [
    {
     "data": {
      "text/plain": [
       "list"
      ]
     },
     "execution_count": 32,
     "metadata": {},
     "output_type": "execute_result"
    }
   ],
   "source": [
    "type(names_list)"
   ]
  },
  {
   "cell_type": "code",
   "execution_count": 34,
   "id": "6921e620-40c1-4783-b937-cd58f1c4a21c",
   "metadata": {},
   "outputs": [
    {
     "data": {
      "text/plain": [
       "'6'"
      ]
     },
     "execution_count": 34,
     "metadata": {},
     "output_type": "execute_result"
    }
   ],
   "source": [
    "l[-1]"
   ]
  },
  {
   "cell_type": "markdown",
   "id": "3ba39663-e18e-41f2-81c0-b24563e5643b",
   "metadata": {},
   "source": [
    "## Conditional Statements"
   ]
  },
  {
   "cell_type": "code",
   "execution_count": null,
   "id": "83822b38-15d2-4dd3-8aac-a32a4d30b78f",
   "metadata": {},
   "outputs": [],
   "source": [
    "if, elif and else"
   ]
  },
  {
   "cell_type": "code",
   "execution_count": null,
   "id": "3ed01ceb-f59a-42c6-99a7-ace3e5367022",
   "metadata": {},
   "outputs": [],
   "source": [
    "# if condition\n",
    "if <condition>:\n",
    "----<statements>\n"
   ]
  },
  {
   "cell_type": "code",
   "execution_count": 35,
   "id": "5be5f8d0-7e5d-4fe2-832a-f8cee96d50ed",
   "metadata": {},
   "outputs": [
    {
     "name": "stdout",
     "output_type": "stream",
     "text": [
      "b is greater than a\n"
     ]
    }
   ],
   "source": [
    "a = 33\n",
    "b = 200\n",
    "if b>a:\n",
    "    print(\"b is greater than a\")"
   ]
  },
  {
   "cell_type": "code",
   "execution_count": 36,
   "id": "c28b1bc0-2800-4fb7-9bd5-d34cbb8e7bf7",
   "metadata": {},
   "outputs": [],
   "source": [
    "a = 33\n",
    "b = 200\n",
    "if b < a:\n",
    "    print(\"b is greater than a\")"
   ]
  },
  {
   "cell_type": "code",
   "execution_count": 37,
   "id": "43c8978f-874d-4de4-af59-64a3ffeb793c",
   "metadata": {},
   "outputs": [
    {
     "name": "stdout",
     "output_type": "stream",
     "text": [
      "b is greater than a\n"
     ]
    }
   ],
   "source": [
    "c = 0\n",
    "if b > a:\n",
    "    print(\"b is greater than a\")\n",
    "    c += 1 # --> c = c + 1\n",
    "else:\n",
    "    print(\"b is not greater than a\")"
   ]
  },
  {
   "cell_type": "code",
   "execution_count": 38,
   "id": "6ef0cfef-25fb-4034-b2f5-abae2756fe8c",
   "metadata": {},
   "outputs": [
    {
     "name": "stdout",
     "output_type": "stream",
     "text": [
      "1\n"
     ]
    }
   ],
   "source": [
    "print(c)"
   ]
  },
  {
   "cell_type": "code",
   "execution_count": 39,
   "id": "ee1ce107-c4db-4a98-858f-642b388e9f8e",
   "metadata": {},
   "outputs": [
    {
     "name": "stdout",
     "output_type": "stream",
     "text": [
      "b is not greater than a\n"
     ]
    }
   ],
   "source": [
    "b = -1\n",
    "c = 0\n",
    "if b > a:\n",
    "    print(\"b is greater than a\")\n",
    "    c += 1 # --> c = c + 1\n",
    "else:\n",
    "    print(\"b is not greater than a\")"
   ]
  },
  {
   "cell_type": "code",
   "execution_count": 40,
   "id": "d293f803-d86a-4a8d-85a9-a732b6af1fd6",
   "metadata": {},
   "outputs": [
    {
     "name": "stdout",
     "output_type": "stream",
     "text": [
      "0\n"
     ]
    }
   ],
   "source": [
    "print(c)"
   ]
  },
  {
   "cell_type": "code",
   "execution_count": 41,
   "id": "fc8cb8ef-b88b-4e9e-a2aa-d9a72cdb97ef",
   "metadata": {},
   "outputs": [
    {
     "name": "stdout",
     "output_type": "stream",
     "text": [
      "range(0, 10)\n"
     ]
    }
   ],
   "source": [
    "print(t)"
   ]
  },
  {
   "cell_type": "code",
   "execution_count": 42,
   "id": "bc3b596f-3080-450e-90a1-6687d8af9e9d",
   "metadata": {},
   "outputs": [],
   "source": [
    "del t"
   ]
  },
  {
   "cell_type": "code",
   "execution_count": 43,
   "id": "c19343ab-4747-4851-bc24-5239725e6128",
   "metadata": {},
   "outputs": [
    {
     "ename": "NameError",
     "evalue": "name 't' is not defined",
     "output_type": "error",
     "traceback": [
      "\u001b[31m---------------------------------------------------------------------------\u001b[39m",
      "\u001b[31mNameError\u001b[39m                                 Traceback (most recent call last)",
      "\u001b[36mCell\u001b[39m\u001b[36m \u001b[39m\u001b[32mIn[43]\u001b[39m\u001b[32m, line 1\u001b[39m\n\u001b[32m----> \u001b[39m\u001b[32m1\u001b[39m \u001b[43mt\u001b[49m\n",
      "\u001b[31mNameError\u001b[39m: name 't' is not defined"
     ]
    }
   ],
   "source": [
    "t"
   ]
  },
  {
   "cell_type": "code",
   "execution_count": 44,
   "id": "1413f328-4f86-43bd-9b97-2e770bde56dd",
   "metadata": {},
   "outputs": [
    {
     "name": "stdout",
     "output_type": "stream",
     "text": [
      "b is greater than a\n"
     ]
    }
   ],
   "source": [
    "b = 100\n",
    "c = 10\n",
    "if b > a:\n",
    "    print(\"b is greater than a\")\n",
    "    c += 1 # --> c = c + 1\n",
    "elif b == a:\n",
    "    c //= 5\n",
    "    print(\"b is equal to a\")\n",
    "else:\n",
    "    print(\"b is  greater than a\")"
   ]
  },
  {
   "cell_type": "code",
   "execution_count": 45,
   "id": "084b48f3-f99c-4ffb-8cb2-8eefe2134489",
   "metadata": {},
   "outputs": [
    {
     "name": "stdout",
     "output_type": "stream",
     "text": [
      "11\n"
     ]
    }
   ],
   "source": [
    "print(c)"
   ]
  },
  {
   "cell_type": "code",
   "execution_count": 46,
   "id": "e8cf81cb-6a2b-4fc8-94bd-5e4b0e4e3570",
   "metadata": {},
   "outputs": [
    {
     "name": "stdout",
     "output_type": "stream",
     "text": [
      "b is equal to a\n"
     ]
    }
   ],
   "source": [
    "b = 33\n",
    "if b > a:\n",
    "    print(\"b is greater than a\")\n",
    "    c += 1 # --> c = c + 1\n",
    "elif b == a:\n",
    "    c //= 5 #--> c = c // 5\n",
    "    print(\"b is equal to a\")\n",
    "else:\n",
    "    print(\"b is  greater than a\")"
   ]
  },
  {
   "cell_type": "code",
   "execution_count": 47,
   "id": "6ab5c3a8-2177-4255-9b33-de9fbd12340a",
   "metadata": {},
   "outputs": [
    {
     "name": "stdout",
     "output_type": "stream",
     "text": [
      "2\n"
     ]
    }
   ],
   "source": [
    "print(c)"
   ]
  },
  {
   "cell_type": "code",
   "execution_count": 49,
   "id": "14362835-1336-4920-b271-3d52ad5a19be",
   "metadata": {
    "collapsed": true,
    "jupyter": {
     "outputs_hidden": true
    }
   },
   "outputs": [
    {
     "data": {
      "text/plain": [
       "{'__name__': '__main__',\n",
       " '__doc__': 'Automatically created module for IPython interactive environment',\n",
       " '__package__': None,\n",
       " '__loader__': None,\n",
       " '__spec__': None,\n",
       " '__builtin__': <module 'builtins' (built-in)>,\n",
       " '__builtins__': <module 'builtins' (built-in)>,\n",
       " '_ih': ['',\n",
       "  'int, str, None, bool, complex, float',\n",
       "  't = range(0, 10)',\n",
       "  't',\n",
       "  'type(t)',\n",
       "  't[1]',\n",
       "  't[0]',\n",
       "  't[9]',\n",
       "  't[10]',\n",
       "  'print(t)',\n",
       "  'print(\"hello I m a sentence\")',\n",
       "  'print(\"hello I m a sentence\", t, [1, 2,3])',\n",
       "  'print(\"t\")',\n",
       "  'print(\"go on\", \"t\", \"cofee\", 12, -25, 5j)',\n",
       "  'get_name = input()',\n",
       "  'get_name',\n",
       "  'get_phone = input(\"Enter the [hone number: \")',\n",
       "  'get_phone',\n",
       "  'type(get_phone)',\n",
       "  'get_phone = input(\"Enter the p\\nhone number: \")',\n",
       "  'get_names = input(\"Enter names of your friend seperated with comma: \")',\n",
       "  'get_names',\n",
       "  'get_names.split(\",\")',\n",
       "  'names_lust = get_names.split(\",\")',\n",
       "  'names_list = get_names.split(\",\")',\n",
       "  'print(names_list)',\n",
       "  'print(get_names)',\n",
       "  'get_name[0]',\n",
       "  'l = \"123456\"\\nprint(l[0])',\n",
       "  'l[1]',\n",
       "  'l[5]',\n",
       "  'names_list[0]',\n",
       "  'type(names_list)',\n",
       "  'l[-]',\n",
       "  'l[-1]',\n",
       "  'a = 33\\nb = 200\\nif b>a:\\n    print(\"b is greater than a\")',\n",
       "  'a = 33\\nb = 200\\nif b < a:\\n    print(\"b is greater than a\")',\n",
       "  'c = 0\\nif b > a:\\n    print(\"b is greater than a\")\\n    c += 1 # --> c = c + 1\\nelse:\\n    print(\"b is not greater than a\")',\n",
       "  'print(c)',\n",
       "  'b = -1\\nc = 0\\nif b > a:\\n    print(\"b is greater than a\")\\n    c += 1 # --> c = c + 1\\nelse:\\n    print(\"b is not greater than a\")',\n",
       "  'print(c)',\n",
       "  'print(t)',\n",
       "  'del t',\n",
       "  't',\n",
       "  'b = 100\\nc = 10\\nif b > a:\\n    print(\"b is greater than a\")\\n    c += 1 # --> c = c + 1\\nelif b == a:\\n    c //= 5\\n    print(\"b is equal to a\")\\nelse:\\n    print(\"b is  greater than a\")',\n",
       "  'print(c)',\n",
       "  'b = 33\\nif b > a:\\n    print(\"b is greater than a\")\\n    c += 1 # --> c = c + 1\\nelif b == a:\\n    c //= 5\\n    print(\"b is equal to a\")\\nelse:\\n    print(\"b is  greater than a\")',\n",
       "  'print(c)',\n",
       "  'globals',\n",
       "  'globals()'],\n",
       " '_oh': {1: (int, str, None, bool, complex, float),\n",
       "  3: range(0, 10),\n",
       "  4: range,\n",
       "  5: 1,\n",
       "  6: 0,\n",
       "  7: 9,\n",
       "  15: 'Ravi',\n",
       "  17: '+91 9587462310',\n",
       "  18: str,\n",
       "  21: 'Rohan, Narayan, Sarvanan, Ravi, abcde',\n",
       "  22: ['Rohan', ' Narayan', ' Sarvanan', ' Ravi', ' abcde'],\n",
       "  27: 'R',\n",
       "  29: '2',\n",
       "  30: '6',\n",
       "  31: 'Rohan',\n",
       "  32: list,\n",
       "  34: '6',\n",
       "  48: <function globals()>},\n",
       " '_dh': [WindowsPath('F:/pymd190425/W01D02')],\n",
       " 'In': ['',\n",
       "  'int, str, None, bool, complex, float',\n",
       "  't = range(0, 10)',\n",
       "  't',\n",
       "  'type(t)',\n",
       "  't[1]',\n",
       "  't[0]',\n",
       "  't[9]',\n",
       "  't[10]',\n",
       "  'print(t)',\n",
       "  'print(\"hello I m a sentence\")',\n",
       "  'print(\"hello I m a sentence\", t, [1, 2,3])',\n",
       "  'print(\"t\")',\n",
       "  'print(\"go on\", \"t\", \"cofee\", 12, -25, 5j)',\n",
       "  'get_name = input()',\n",
       "  'get_name',\n",
       "  'get_phone = input(\"Enter the [hone number: \")',\n",
       "  'get_phone',\n",
       "  'type(get_phone)',\n",
       "  'get_phone = input(\"Enter the p\\nhone number: \")',\n",
       "  'get_names = input(\"Enter names of your friend seperated with comma: \")',\n",
       "  'get_names',\n",
       "  'get_names.split(\",\")',\n",
       "  'names_lust = get_names.split(\",\")',\n",
       "  'names_list = get_names.split(\",\")',\n",
       "  'print(names_list)',\n",
       "  'print(get_names)',\n",
       "  'get_name[0]',\n",
       "  'l = \"123456\"\\nprint(l[0])',\n",
       "  'l[1]',\n",
       "  'l[5]',\n",
       "  'names_list[0]',\n",
       "  'type(names_list)',\n",
       "  'l[-]',\n",
       "  'l[-1]',\n",
       "  'a = 33\\nb = 200\\nif b>a:\\n    print(\"b is greater than a\")',\n",
       "  'a = 33\\nb = 200\\nif b < a:\\n    print(\"b is greater than a\")',\n",
       "  'c = 0\\nif b > a:\\n    print(\"b is greater than a\")\\n    c += 1 # --> c = c + 1\\nelse:\\n    print(\"b is not greater than a\")',\n",
       "  'print(c)',\n",
       "  'b = -1\\nc = 0\\nif b > a:\\n    print(\"b is greater than a\")\\n    c += 1 # --> c = c + 1\\nelse:\\n    print(\"b is not greater than a\")',\n",
       "  'print(c)',\n",
       "  'print(t)',\n",
       "  'del t',\n",
       "  't',\n",
       "  'b = 100\\nc = 10\\nif b > a:\\n    print(\"b is greater than a\")\\n    c += 1 # --> c = c + 1\\nelif b == a:\\n    c //= 5\\n    print(\"b is equal to a\")\\nelse:\\n    print(\"b is  greater than a\")',\n",
       "  'print(c)',\n",
       "  'b = 33\\nif b > a:\\n    print(\"b is greater than a\")\\n    c += 1 # --> c = c + 1\\nelif b == a:\\n    c //= 5\\n    print(\"b is equal to a\")\\nelse:\\n    print(\"b is  greater than a\")',\n",
       "  'print(c)',\n",
       "  'globals',\n",
       "  'globals()'],\n",
       " 'Out': {1: (int, str, None, bool, complex, float),\n",
       "  3: range(0, 10),\n",
       "  4: range,\n",
       "  5: 1,\n",
       "  6: 0,\n",
       "  7: 9,\n",
       "  15: 'Ravi',\n",
       "  17: '+91 9587462310',\n",
       "  18: str,\n",
       "  21: 'Rohan, Narayan, Sarvanan, Ravi, abcde',\n",
       "  22: ['Rohan', ' Narayan', ' Sarvanan', ' Ravi', ' abcde'],\n",
       "  27: 'R',\n",
       "  29: '2',\n",
       "  30: '6',\n",
       "  31: 'Rohan',\n",
       "  32: list,\n",
       "  34: '6',\n",
       "  48: <function globals()>},\n",
       " 'get_ipython': <bound method InteractiveShell.get_ipython of <ipykernel.zmqshell.ZMQInteractiveShell object at 0x00000217B7C76F90>>,\n",
       " 'exit': <IPython.core.autocall.ZMQExitAutocall at 0x217b7d10980>,\n",
       " 'quit': <IPython.core.autocall.ZMQExitAutocall at 0x217b7d10980>,\n",
       " 'open': <function _io.open(file, mode='r', buffering=-1, encoding=None, errors=None, newline=None, closefd=True, opener=None)>,\n",
       " '_': <function globals()>,\n",
       " '__': '6',\n",
       " '___': list,\n",
       " '__session__': 'F:\\\\pymd190425\\\\W01D02\\\\Untitled.ipynb',\n",
       " '_i': 'globals',\n",
       " '_ii': 'print(c)',\n",
       " '_iii': 'b = 33\\nif b > a:\\n    print(\"b is greater than a\")\\n    c += 1 # --> c = c + 1\\nelif b == a:\\n    c //= 5\\n    print(\"b is equal to a\")\\nelse:\\n    print(\"b is  greater than a\")',\n",
       " '_i1': 'int, str, None, bool, complex, float',\n",
       " '_1': (int, str, None, bool, complex, float),\n",
       " '_i2': 't = range(0, 10)',\n",
       " '_i3': 't',\n",
       " '_3': range(0, 10),\n",
       " '_i4': 'type(t)',\n",
       " '_4': range,\n",
       " '_i5': 't[1]',\n",
       " '_5': 1,\n",
       " '_i6': 't[0]',\n",
       " '_6': 0,\n",
       " '_i7': 't[9]',\n",
       " '_7': 9,\n",
       " '_i8': 't[10]',\n",
       " '_i9': 'print(t)',\n",
       " '_i10': 'print(\"hello I m a sentence\")',\n",
       " '_i11': 'print(\"hello I m a sentence\", t, [1, 2,3])',\n",
       " '_i12': 'print(\"t\")',\n",
       " '_i13': 'print(\"go on\", \"t\", \"cofee\", 12, -25, 5j)',\n",
       " '_i14': 'get_name = input()',\n",
       " 'get_name': 'Ravi',\n",
       " '_i15': 'get_name',\n",
       " '_15': 'Ravi',\n",
       " '_i16': 'get_phone = input(\"Enter the [hone number: \")',\n",
       " 'get_phone': '+91 9587462310',\n",
       " '_i17': 'get_phone',\n",
       " '_17': '+91 9587462310',\n",
       " '_i18': 'type(get_phone)',\n",
       " '_18': str,\n",
       " '_i19': 'get_phone = input(\"Enter the p\\nhone number: \")',\n",
       " '_i20': 'get_names = input(\"Enter names of your friend seperated with comma: \")',\n",
       " 'get_names': 'Rohan, Narayan, Sarvanan, Ravi, abcde',\n",
       " '_i21': 'get_names',\n",
       " '_21': 'Rohan, Narayan, Sarvanan, Ravi, abcde',\n",
       " '_i22': 'get_names.split(\",\")',\n",
       " '_22': ['Rohan', ' Narayan', ' Sarvanan', ' Ravi', ' abcde'],\n",
       " '_i23': 'names_lust = get_names.split(\",\")',\n",
       " 'names_lust': ['Rohan', ' Narayan', ' Sarvanan', ' Ravi', ' abcde'],\n",
       " '_i24': 'names_list = get_names.split(\",\")',\n",
       " 'names_list': ['Rohan', ' Narayan', ' Sarvanan', ' Ravi', ' abcde'],\n",
       " '_i25': 'print(names_list)',\n",
       " '_i26': 'print(get_names)',\n",
       " '_i27': 'get_name[0]',\n",
       " '_27': 'R',\n",
       " '_i28': 'l = \"123456\"\\nprint(l[0])',\n",
       " 'l': '123456',\n",
       " '_i29': 'l[1]',\n",
       " '_29': '2',\n",
       " '_i30': 'l[5]',\n",
       " '_30': '6',\n",
       " '_i31': 'names_list[0]',\n",
       " '_31': 'Rohan',\n",
       " '_i32': 'type(names_list)',\n",
       " '_32': list,\n",
       " '_i33': 'l[-]',\n",
       " '_i34': 'l[-1]',\n",
       " '_34': '6',\n",
       " '_i35': 'a = 33\\nb = 200\\nif b>a:\\n    print(\"b is greater than a\")',\n",
       " 'a': 33,\n",
       " 'b': 33,\n",
       " '_i36': 'a = 33\\nb = 200\\nif b < a:\\n    print(\"b is greater than a\")',\n",
       " '_i37': 'c = 0\\nif b > a:\\n    print(\"b is greater than a\")\\n    c += 1 # --> c = c + 1\\nelse:\\n    print(\"b is not greater than a\")',\n",
       " 'c': 2,\n",
       " '_i38': 'print(c)',\n",
       " '_i39': 'b = -1\\nc = 0\\nif b > a:\\n    print(\"b is greater than a\")\\n    c += 1 # --> c = c + 1\\nelse:\\n    print(\"b is not greater than a\")',\n",
       " '_i40': 'print(c)',\n",
       " '_i41': 'print(t)',\n",
       " '_i42': 'del t',\n",
       " '_i43': 't',\n",
       " '_i44': 'b = 100\\nc = 10\\nif b > a:\\n    print(\"b is greater than a\")\\n    c += 1 # --> c = c + 1\\nelif b == a:\\n    c //= 5\\n    print(\"b is equal to a\")\\nelse:\\n    print(\"b is  greater than a\")',\n",
       " '_i45': 'print(c)',\n",
       " '_i46': 'b = 33\\nif b > a:\\n    print(\"b is greater than a\")\\n    c += 1 # --> c = c + 1\\nelif b == a:\\n    c //= 5\\n    print(\"b is equal to a\")\\nelse:\\n    print(\"b is  greater than a\")',\n",
       " '_i47': 'print(c)',\n",
       " '_i48': 'globals',\n",
       " '_48': <function globals()>,\n",
       " '_i49': 'globals()'}"
      ]
     },
     "execution_count": 49,
     "metadata": {},
     "output_type": "execute_result"
    }
   ],
   "source": [
    "globals() # research on it"
   ]
  },
  {
   "cell_type": "code",
   "execution_count": 51,
   "id": "d60a0dc4-6d6d-4924-be06-52da6fb9bbe9",
   "metadata": {
    "collapsed": true,
    "jupyter": {
     "outputs_hidden": true
    }
   },
   "outputs": [
    {
     "name": "stdout",
     "output_type": "stream",
     "text": [
      "['', 'int, str, None, bool, complex, float', 't = range(0, 10)', 't', 'type(t)', 't[1]', 't[0]', 't[9]', 't[10]', 'print(t)', 'print(\"hello I m a sentence\")', 'print(\"hello I m a sentence\", t, [1, 2,3])', 'print(\"t\")', 'print(\"go on\", \"t\", \"cofee\", 12, -25, 5j)', 'get_name = input()', 'get_name', 'get_phone = input(\"Enter the [hone number: \")', 'get_phone', 'type(get_phone)', 'get_phone = input(\"Enter the p\\nhone number: \")', 'get_names = input(\"Enter names of your friend seperated with comma: \")', 'get_names', 'get_names.split(\",\")', 'names_lust = get_names.split(\",\")', 'names_list = get_names.split(\",\")', 'print(names_list)', 'print(get_names)', 'get_name[0]', 'l = \"123456\"\\nprint(l[0])', 'l[1]', 'l[5]', 'names_list[0]', 'type(names_list)', 'l[-]', 'l[-1]', 'a = 33\\nb = 200\\nif b>a:\\n    print(\"b is greater than a\")', 'a = 33\\nb = 200\\nif b < a:\\n    print(\"b is greater than a\")', 'c = 0\\nif b > a:\\n    print(\"b is greater than a\")\\n    c += 1 # --> c = c + 1\\nelse:\\n    print(\"b is not greater than a\")', 'print(c)', 'b = -1\\nc = 0\\nif b > a:\\n    print(\"b is greater than a\")\\n    c += 1 # --> c = c + 1\\nelse:\\n    print(\"b is not greater than a\")', 'print(c)', 'print(t)', 'del t', 't', 'b = 100\\nc = 10\\nif b > a:\\n    print(\"b is greater than a\")\\n    c += 1 # --> c = c + 1\\nelif b == a:\\n    c //= 5\\n    print(\"b is equal to a\")\\nelse:\\n    print(\"b is  greater than a\")', 'print(c)', 'b = 33\\nif b > a:\\n    print(\"b is greater than a\")\\n    c += 1 # --> c = c + 1\\nelif b == a:\\n    c //= 5\\n    print(\"b is equal to a\")\\nelse:\\n    print(\"b is  greater than a\")', 'print(c)', 'globals', 'globals()', 'd = globals()\\nd.keys()', 'd = globals()\\nd.keys()\\nprint(d[\"_ih\"])']\n"
     ]
    }
   ],
   "source": [
    "d = globals()\n",
    "d.keys()\n",
    "print(d[\"_ih\"])"
   ]
  },
  {
   "cell_type": "code",
   "execution_count": null,
   "id": "438d44b9-683a-4f54-ac02-8e075d5fd4f3",
   "metadata": {},
   "outputs": [],
   "source": [
    "# we can have more than one elif in our if block.\n",
    "# we may and may not have else block\n",
    "# it is mandtory to have if as the starting of the condtional block"
   ]
  },
  {
   "cell_type": "markdown",
   "id": "da8f9138-ae90-44fd-b90d-032f3f4c8333",
   "metadata": {},
   "source": [
    "## Loops"
   ]
  },
  {
   "cell_type": "markdown",
   "id": "06c2bbc0-89f6-45a2-98a1-b54f4e4c2c1c",
   "metadata": {},
   "source": [
    "#### for loops"
   ]
  },
  {
   "cell_type": "code",
   "execution_count": null,
   "id": "eff4581e-5f26-4788-9c80-b2d567c8d3fc",
   "metadata": {},
   "outputs": [],
   "source": [
    "with for loop we can iterate over a collection\n",
    "collection:\n",
    "    list, set, tuple, dict, str, range"
   ]
  },
  {
   "cell_type": "code",
   "execution_count": 52,
   "id": "7b833b24-4efa-4fc6-af12-70c67a4f4d24",
   "metadata": {},
   "outputs": [
    {
     "name": "stdout",
     "output_type": "stream",
     "text": [
      "mango\n",
      "litchi\n",
      "kiwi\n",
      "blueberry\n"
     ]
    }
   ],
   "source": [
    "fruits = [\"mango\", \"litchi\", \"kiwi\", \"blueberry\"]\n",
    "print(fruits[0])\n",
    "print(fruits[1])\n",
    "print(fruits[2])\n",
    "print(fruits[3])"
   ]
  },
  {
   "cell_type": "code",
   "execution_count": 53,
   "id": "0539b0a6-8003-426a-8969-3602363cf265",
   "metadata": {},
   "outputs": [
    {
     "name": "stdout",
     "output_type": "stream",
     "text": [
      "mango\n",
      "litchi\n",
      "kiwi\n",
      "blueberry\n"
     ]
    }
   ],
   "source": [
    "for fruit in fruits:\n",
    "    print(fruit)"
   ]
  },
  {
   "cell_type": "code",
   "execution_count": 55,
   "id": "8af27c13-10b2-44b6-9575-2f1cb18874b3",
   "metadata": {},
   "outputs": [
    {
     "name": "stdout",
     "output_type": "stream",
     "text": [
      "mango dance\n",
      "litchi\n",
      "kiwi kangaroo\n",
      "blueberry\n"
     ]
    }
   ],
   "source": [
    "for fruit in fruits:\n",
    "    if fruit == \"mango\":\n",
    "        print(\"mango dance\")\n",
    "    elif fruit == \"kiwi\":\n",
    "        print(\"kiwi kangaroo\")\n",
    "    else:\n",
    "        print(fruit)"
   ]
  },
  {
   "cell_type": "code",
   "execution_count": 56,
   "id": "b3c01222-c8a7-4020-9ee3-405ae5f05084",
   "metadata": {},
   "outputs": [
    {
     "name": "stdout",
     "output_type": "stream",
     "text": [
      "1\n",
      "2\n",
      "3\n",
      "4\n",
      "5\n",
      "6\n",
      "7\n",
      "8\n",
      "9\n",
      "10\n"
     ]
    }
   ],
   "source": [
    "num_range = range(1, 11)\n",
    "for num in num_range:\n",
    "    print(num)"
   ]
  },
  {
   "cell_type": "code",
   "execution_count": 57,
   "id": "d534a1c6-68ac-4c43-a6b7-881c62082d9e",
   "metadata": {},
   "outputs": [
    {
     "name": "stdout",
     "output_type": "stream",
     "text": [
      "2\n",
      "4\n",
      "6\n",
      "8\n",
      "10\n",
      "12\n",
      "14\n",
      "16\n",
      "18\n",
      "20\n"
     ]
    }
   ],
   "source": [
    "for num in num_range:\n",
    "    print(2*num)"
   ]
  },
  {
   "cell_type": "code",
   "execution_count": 58,
   "id": "74141a48-9880-45a2-bd4f-a0bfd0436a45",
   "metadata": {},
   "outputs": [
    {
     "name": "stdout",
     "output_type": "stream",
     "text": [
      "1 X 2 = 2\n",
      "2 X 2 = 4\n",
      "3 X 2 = 6\n",
      "4 X 2 = 8\n",
      "5 X 2 = 10\n",
      "6 X 2 = 12\n",
      "7 X 2 = 14\n",
      "8 X 2 = 16\n",
      "9 X 2 = 18\n",
      "10 X 2 = 20\n"
     ]
    }
   ],
   "source": [
    "for num in num_range:\n",
    "    print(num, \"X 2 =\", 2*num)"
   ]
  },
  {
   "cell_type": "code",
   "execution_count": 59,
   "id": "730b717c-e2d9-4ebf-abe3-5ff479c6bad1",
   "metadata": {},
   "outputs": [
    {
     "name": "stdout",
     "output_type": "stream",
     "text": [
      "mango\n",
      "litchi\n"
     ]
    }
   ],
   "source": [
    "fruits = [\"mango\", \"litchi\", \"kiwi\", \"blueberry\"]\n",
    "for fruit in fruits:\n",
    "    print(fruit)\n",
    "    if fruit == \"litchi\":\n",
    "        break"
   ]
  },
  {
   "cell_type": "code",
   "execution_count": 60,
   "id": "f0db5730-ae24-4d7b-990e-66fad5188a4b",
   "metadata": {},
   "outputs": [
    {
     "name": "stdout",
     "output_type": "stream",
     "text": [
      "0\n",
      "1\n",
      "2\n",
      "3\n"
     ]
    }
   ],
   "source": [
    "for fruit in range(len(fruits)):\n",
    "    print(fruit)\n",
    "    # if fruit == \"litchi\":\n",
    "    #     break"
   ]
  },
  {
   "cell_type": "code",
   "execution_count": 61,
   "id": "845d8f01-fd11-4f34-861f-08e59786cd56",
   "metadata": {},
   "outputs": [
    {
     "name": "stdout",
     "output_type": "stream",
     "text": [
      "mango\n",
      "litchi\n",
      "kiwi\n",
      "blueberry\n"
     ]
    }
   ],
   "source": [
    "for fruit_index in range(len(fruits)):\n",
    "    print(fruits[fruit_index])"
   ]
  },
  {
   "cell_type": "code",
   "execution_count": 62,
   "id": "02547ffe-fc84-4a94-b6b7-a3e7e9d110ae",
   "metadata": {},
   "outputs": [
    {
     "name": "stdout",
     "output_type": "stream",
     "text": [
      "mango\n",
      "kiwi\n",
      "blueberry\n"
     ]
    }
   ],
   "source": [
    "fruits = [\"mango\", \"litchi\", \"kiwi\", \"blueberry\"]\n",
    "for fruit in fruits:\n",
    "    if fruit == \"litchi\":\n",
    "        continue\n",
    "    print(fruit)"
   ]
  },
  {
   "cell_type": "markdown",
   "id": "2c3a6f8e-90a9-45cb-94b5-8ca3c5dda37e",
   "metadata": {},
   "source": [
    "### while loop"
   ]
  },
  {
   "cell_type": "code",
   "execution_count": null,
   "id": "cc3bddb7-6dd8-4505-b92c-51808fac7d01",
   "metadata": {},
   "outputs": [],
   "source": [
    "while <condition>:\n",
    "    # statement"
   ]
  },
  {
   "cell_type": "code",
   "execution_count": 64,
   "id": "46ddcd4a-8025-4a58-87b0-85995e3c4b1a",
   "metadata": {},
   "outputs": [
    {
     "name": "stdout",
     "output_type": "stream",
     "text": [
      "0\n",
      "1\n",
      "2\n",
      "3\n",
      "4\n",
      "5\n",
      "6\n",
      "7\n",
      "8\n",
      "9\n"
     ]
    }
   ],
   "source": [
    "num = 0\n",
    "while num != 10:\n",
    "    print(num)\n",
    "    num = num + 1"
   ]
  },
  {
   "cell_type": "code",
   "execution_count": 65,
   "id": "ea52419d-34de-447a-99ed-91a24b8a400e",
   "metadata": {},
   "outputs": [
    {
     "name": "stdout",
     "output_type": "stream",
     "text": [
      "1\n",
      "2\n",
      "3\n",
      "4\n",
      "5\n",
      "6\n",
      "7\n",
      "8\n",
      "9\n",
      "10\n"
     ]
    }
   ],
   "source": [
    "num = 0\n",
    "while num != 10:\n",
    "    num = num + 1\n",
    "    print(num)"
   ]
  },
  {
   "cell_type": "code",
   "execution_count": 66,
   "id": "cff7b456-bb08-4e29-baea-e883c243d249",
   "metadata": {},
   "outputs": [
    {
     "name": "stdout",
     "output_type": "stream",
     "text": [
      "1\n",
      "2\n",
      "3\n",
      "4\n",
      "6\n",
      "7\n",
      "8\n",
      "9\n",
      "10\n"
     ]
    }
   ],
   "source": [
    "num = 0\n",
    "while num != 10:\n",
    "    num = num + 1\n",
    "    if num == 5:\n",
    "        continue\n",
    "    print(num)"
   ]
  },
  {
   "cell_type": "code",
   "execution_count": 67,
   "id": "55f7a886-d84b-443c-85ef-e8b5b4924d05",
   "metadata": {},
   "outputs": [
    {
     "name": "stdout",
     "output_type": "stream",
     "text": [
      "1\n",
      "2\n",
      "3\n",
      "4\n",
      "6\n",
      "7\n"
     ]
    }
   ],
   "source": [
    "num = 0\n",
    "while num != 10:\n",
    "    num = num + 1\n",
    "    if num == 5:\n",
    "        continue\n",
    "    if num == 7:\n",
    "        print(num)\n",
    "        break\n",
    "    print(num)"
   ]
  },
  {
   "cell_type": "code",
   "execution_count": 68,
   "id": "3fdbe98e-a717-4bad-b3a0-a901dd6422a9",
   "metadata": {},
   "outputs": [
    {
     "name": "stdout",
     "output_type": "stream",
     "text": [
      "1\n",
      "2\n",
      "3\n",
      "4\n",
      "6\n"
     ]
    }
   ],
   "source": [
    "# print all the numbers upto 6 except the number 5.\n",
    "num = 0\n",
    "while num != 10:\n",
    "    num = num + 1\n",
    "    if num == 5:\n",
    "        continue\n",
    "    if num == 7:\n",
    "        break\n",
    "    print(num)"
   ]
  },
  {
   "cell_type": "code",
   "execution_count": 72,
   "id": "b758423e-13af-4f6c-bff8-452e08270d46",
   "metadata": {},
   "outputs": [
    {
     "name": "stdin",
     "output_type": "stream",
     "text": [
      "Enter the fruit you want to purchase mango\n"
     ]
    },
    {
     "name": "stdout",
     "output_type": "stream",
     "text": [
      "added to your cart!\n"
     ]
    },
    {
     "name": "stdin",
     "output_type": "stream",
     "text": [
      "Do you want to enter more: [Y/n] y\n",
      "Enter the fruit you want to purchase kiwi\n"
     ]
    },
    {
     "name": "stdout",
     "output_type": "stream",
     "text": [
      "added to your cart!\n"
     ]
    },
    {
     "name": "stdin",
     "output_type": "stream",
     "text": [
      "Do you want to enter more: [Y/n] y\n",
      "Enter the fruit you want to purchase papaya\n"
     ]
    },
    {
     "name": "stdout",
     "output_type": "stream",
     "text": [
      "Ooops out of stock!!\n"
     ]
    },
    {
     "name": "stdin",
     "output_type": "stream",
     "text": [
      "Do you want to enter more: [Y/n] n\n"
     ]
    }
   ],
   "source": [
    "fruits = [\"mango\", \"litchi\", \"kiwi\", \"blueberry\"]\n",
    "choice = \"y\"\n",
    "while True:\n",
    "    if choice.lower() == \"n\":\n",
    "        break\n",
    "    fruit_choice = input(\"Enter the fruit you want to purchase\")\n",
    "    if fruit_choice in fruits:\n",
    "        print(\"added to your cart!\")\n",
    "    else:\n",
    "        print(\"Ooops out of stock!!\")\n",
    "    choice = input(\"Do you want to enter more: [Y/n]\")"
   ]
  },
  {
   "cell_type": "code",
   "execution_count": null,
   "id": "8eefcabf-e8e0-4f27-a9d0-047a692da233",
   "metadata": {},
   "outputs": [],
   "source": [
    "H/w:\n",
    "    operators -- > vvi\n",
    "    Function definition and calling\n",
    "    Parameters and return values\n",
    "    Lambda functions\n",
    "    Scope and namespaces"
   ]
  }
 ],
 "metadata": {
  "kernelspec": {
   "display_name": "Python 3 (ipykernel)",
   "language": "python",
   "name": "python3"
  },
  "language_info": {
   "codemirror_mode": {
    "name": "ipython",
    "version": 3
   },
   "file_extension": ".py",
   "mimetype": "text/x-python",
   "name": "python",
   "nbconvert_exporter": "python",
   "pygments_lexer": "ipython3",
   "version": "3.13.3"
  }
 },
 "nbformat": 4,
 "nbformat_minor": 5
}
