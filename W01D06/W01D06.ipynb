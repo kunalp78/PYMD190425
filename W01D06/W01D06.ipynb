{
 "cells": [
  {
   "cell_type": "code",
   "execution_count": 1,
   "id": "1f30ecc8-debc-4443-9dce-03aceb033988",
   "metadata": {},
   "outputs": [],
   "source": [
    "class Dog:\n",
    "    count = 0\n",
    "    breed_counter = {}\n",
    "    def __init__(self, name, breed):\n",
    "        self.name = name\n",
    "        Dog.count += 1\n",
    "        if breed in Dog.breed_counter:\n",
    "            Dog.breed_counter[breed] += 1\n",
    "        else:\n",
    "            Dog.breed_counter[breed] = 1\n",
    "\n",
    "    @classmethod\n",
    "    def get_count(cls):\n",
    "        return cls.count\n",
    "\n",
    "    def bark(self):\n",
    "        return f\"{self.name} say woof woof!\""
   ]
  },
  {
   "cell_type": "code",
   "execution_count": 2,
   "id": "e698f308-4831-4469-994d-b37faa6b6776",
   "metadata": {},
   "outputs": [],
   "source": [
    "d1 = Dog(\"bruno\", \"dober man\")"
   ]
  },
  {
   "cell_type": "code",
   "execution_count": 3,
   "id": "7b37b7a2-6722-4448-8567-13e8ee58ab45",
   "metadata": {},
   "outputs": [
    {
     "data": {
      "text/plain": [
       "{'dober man': 1}"
      ]
     },
     "execution_count": 3,
     "metadata": {},
     "output_type": "execute_result"
    }
   ],
   "source": [
    "d1.breed_counter"
   ]
  },
  {
   "cell_type": "code",
   "execution_count": 4,
   "id": "d0a2092a-5374-45e6-86d5-72363ca20d9d",
   "metadata": {},
   "outputs": [],
   "source": [
    "d2 = Dog(\"musi\", \"golden retriver\")"
   ]
  },
  {
   "cell_type": "code",
   "execution_count": 5,
   "id": "0ee7bfb1-c4d9-492c-90e9-2a9550d5261e",
   "metadata": {},
   "outputs": [
    {
     "data": {
      "text/plain": [
       "{'dober man': 1, 'golden retriver': 1}"
      ]
     },
     "execution_count": 5,
     "metadata": {},
     "output_type": "execute_result"
    }
   ],
   "source": [
    "d2.breed_counter"
   ]
  },
  {
   "cell_type": "code",
   "execution_count": 6,
   "id": "f7ec3149-6d5c-427d-919d-967a2f472cb4",
   "metadata": {},
   "outputs": [],
   "source": [
    "d3 = Dog(\"rocky\", \"golden retriver\")"
   ]
  },
  {
   "cell_type": "code",
   "execution_count": 7,
   "id": "67ea4adb-1abd-4450-94dc-884dbe21d7cf",
   "metadata": {},
   "outputs": [
    {
     "data": {
      "text/plain": [
       "{'dober man': 1, 'golden retriver': 2}"
      ]
     },
     "execution_count": 7,
     "metadata": {},
     "output_type": "execute_result"
    }
   ],
   "source": [
    "d3.breed_counter"
   ]
  },
  {
   "cell_type": "code",
   "execution_count": 9,
   "id": "d639c6eb-147f-49b9-9a1b-bf458a02238d",
   "metadata": {},
   "outputs": [],
   "source": [
    "class Dog:\n",
    "    count = 0\n",
    "    def __init__(self, name):\n",
    "        self.name = name"
   ]
  },
  {
   "cell_type": "code",
   "execution_count": 10,
   "id": "496c885c-56b5-496e-ad03-b51129a92c44",
   "metadata": {},
   "outputs": [],
   "source": [
    "d1 = Dog(\"doggy\")"
   ]
  },
  {
   "cell_type": "code",
   "execution_count": 11,
   "id": "b3c20fd8-5249-4fe4-93b3-a0e8a4578c23",
   "metadata": {},
   "outputs": [
    {
     "data": {
      "text/plain": [
       "0"
      ]
     },
     "execution_count": 11,
     "metadata": {},
     "output_type": "execute_result"
    }
   ],
   "source": [
    "d1.count"
   ]
  },
  {
   "cell_type": "code",
   "execution_count": 12,
   "id": "e5477f6a-6633-4e1e-b62e-8e0472858932",
   "metadata": {},
   "outputs": [],
   "source": [
    "d1.count += 1"
   ]
  },
  {
   "cell_type": "code",
   "execution_count": 13,
   "id": "67bcd24e-f366-42cf-a71e-c6272635d10c",
   "metadata": {},
   "outputs": [
    {
     "data": {
      "text/plain": [
       "1"
      ]
     },
     "execution_count": 13,
     "metadata": {},
     "output_type": "execute_result"
    }
   ],
   "source": [
    "d1.count"
   ]
  },
  {
   "cell_type": "code",
   "execution_count": 14,
   "id": "83f12a3e-854f-4ce6-a734-1173ed4aae1c",
   "metadata": {},
   "outputs": [],
   "source": [
    "d2 = Dog(\"Goofy\")"
   ]
  },
  {
   "cell_type": "code",
   "execution_count": 15,
   "id": "c20b79b9-f114-4ee5-90d5-a0b0d7937db9",
   "metadata": {},
   "outputs": [
    {
     "data": {
      "text/plain": [
       "0"
      ]
     },
     "execution_count": 15,
     "metadata": {},
     "output_type": "execute_result"
    }
   ],
   "source": [
    "d2.count"
   ]
  },
  {
   "cell_type": "code",
   "execution_count": 16,
   "id": "fa7b0b36-96ff-4232-a9e3-392fb48f3b12",
   "metadata": {},
   "outputs": [
    {
     "data": {
      "text/plain": [
       "{'name': 'doggy', 'count': 1}"
      ]
     },
     "execution_count": 16,
     "metadata": {},
     "output_type": "execute_result"
    }
   ],
   "source": [
    "d1.__dict__"
   ]
  },
  {
   "cell_type": "code",
   "execution_count": 17,
   "id": "d3a17791-ed73-4dcc-8d60-c816a0162b19",
   "metadata": {},
   "outputs": [
    {
     "data": {
      "text/plain": [
       "{'name': 'Goofy'}"
      ]
     },
     "execution_count": 17,
     "metadata": {},
     "output_type": "execute_result"
    }
   ],
   "source": [
    "d2.__dict__"
   ]
  },
  {
   "cell_type": "code",
   "execution_count": null,
   "id": "7ee53f43-2887-4098-9f15-f03435cbcc5b",
   "metadata": {},
   "outputs": [],
   "source": [
    "Inheritence:\n",
    "    Parent class --> class which is bieng inherited from. It is also called as base class.\n",
    "    Child class --> class which inherits from the base class. It is also called as derived class."
   ]
  },
  {
   "cell_type": "code",
   "execution_count": 18,
   "id": "27ea15f3-e390-440a-95d4-65873dc63604",
   "metadata": {},
   "outputs": [],
   "source": [
    "class Person:\n",
    "    def __init__(self, fname, lname):\n",
    "        self.firstname = fname\n",
    "        self.lastname = lname\n",
    "\n",
    "    def printname(self):\n",
    "        print(self.firstname, self.lastname)\n",
    "\n",
    "x = Person(\"Ganpa\", \"soma\")"
   ]
  },
  {
   "cell_type": "code",
   "execution_count": 19,
   "id": "1df5926c-174a-4371-86b8-e33ffc9c48ff",
   "metadata": {},
   "outputs": [
    {
     "name": "stdout",
     "output_type": "stream",
     "text": [
      "Ganpa soma\n"
     ]
    }
   ],
   "source": [
    "x.printname()"
   ]
  },
  {
   "cell_type": "code",
   "execution_count": 20,
   "id": "ea8733f1-588b-447e-9274-2b2b2e42ad14",
   "metadata": {},
   "outputs": [],
   "source": [
    "class Student(Person):\n",
    "    pass"
   ]
  },
  {
   "cell_type": "code",
   "execution_count": 21,
   "id": "9642cd54-49d1-4119-9c73-532377d31994",
   "metadata": {},
   "outputs": [
    {
     "ename": "TypeError",
     "evalue": "Person.__init__() missing 2 required positional arguments: 'fname' and 'lname'",
     "output_type": "error",
     "traceback": [
      "\u001b[31m---------------------------------------------------------------------------\u001b[39m",
      "\u001b[31mTypeError\u001b[39m                                 Traceback (most recent call last)",
      "\u001b[36mCell\u001b[39m\u001b[36m \u001b[39m\u001b[32mIn[21]\u001b[39m\u001b[32m, line 1\u001b[39m\n\u001b[32m----> \u001b[39m\u001b[32m1\u001b[39m s1 = \u001b[43mStudent\u001b[49m\u001b[43m(\u001b[49m\u001b[43m)\u001b[49m\n",
      "\u001b[31mTypeError\u001b[39m: Person.__init__() missing 2 required positional arguments: 'fname' and 'lname'"
     ]
    }
   ],
   "source": [
    "s1 = Student()"
   ]
  },
  {
   "cell_type": "code",
   "execution_count": 22,
   "id": "e9191297-3a43-4f02-9ac0-e08a1bf1a362",
   "metadata": {},
   "outputs": [],
   "source": [
    "class A:\n",
    "    pass\n",
    "a = A()"
   ]
  },
  {
   "cell_type": "code",
   "execution_count": 23,
   "id": "9c4456a3-31b1-4b91-a22b-34558ff4f347",
   "metadata": {},
   "outputs": [],
   "source": [
    "s1 = Student(\"Vicky\", \"Jones\")"
   ]
  },
  {
   "cell_type": "code",
   "execution_count": 24,
   "id": "bb52822d-4fc7-4e3c-9c4f-41bd68d89825",
   "metadata": {},
   "outputs": [
    {
     "data": {
      "text/plain": [
       "'Vicky'"
      ]
     },
     "execution_count": 24,
     "metadata": {},
     "output_type": "execute_result"
    }
   ],
   "source": [
    "s1.firstname"
   ]
  },
  {
   "cell_type": "code",
   "execution_count": 25,
   "id": "33c3c993-4480-42bc-a38d-e3ef44c07645",
   "metadata": {},
   "outputs": [
    {
     "data": {
      "text/plain": [
       "{'firstname': 'Vicky', 'lastname': 'Jones'}"
      ]
     },
     "execution_count": 25,
     "metadata": {},
     "output_type": "execute_result"
    }
   ],
   "source": [
    "s1.__dict__"
   ]
  },
  {
   "cell_type": "code",
   "execution_count": 26,
   "id": "aaa46e2e-ae08-46c5-90c1-55cb3f6f2c7d",
   "metadata": {},
   "outputs": [],
   "source": [
    "class Student(Person):\n",
    "    def __init__(self, student_id, department):\n",
    "        self.student_id = student_id\n",
    "        self.department = department"
   ]
  },
  {
   "cell_type": "code",
   "execution_count": 27,
   "id": "4ef6d2ce-585d-422b-819f-7989e6cea4c7",
   "metadata": {},
   "outputs": [],
   "source": [
    "s1 = Student(125, \"CS\")"
   ]
  },
  {
   "cell_type": "code",
   "execution_count": 29,
   "id": "3caae537-a14c-4a6c-bbec-6ead68e0c398",
   "metadata": {},
   "outputs": [
    {
     "data": {
      "text/plain": [
       "125"
      ]
     },
     "execution_count": 29,
     "metadata": {},
     "output_type": "execute_result"
    }
   ],
   "source": [
    "s1.student_id"
   ]
  },
  {
   "cell_type": "code",
   "execution_count": 30,
   "id": "0a167fba-be1f-4a54-adb3-7fea4d4c2ac1",
   "metadata": {},
   "outputs": [
    {
     "data": {
      "text/plain": [
       "'CS'"
      ]
     },
     "execution_count": 30,
     "metadata": {},
     "output_type": "execute_result"
    }
   ],
   "source": [
    "s1.department"
   ]
  },
  {
   "cell_type": "code",
   "execution_count": 31,
   "id": "89bbf717-dc38-407c-b581-7d9d33fb688d",
   "metadata": {},
   "outputs": [
    {
     "ename": "AttributeError",
     "evalue": "'Student' object has no attribute 'firstname'",
     "output_type": "error",
     "traceback": [
      "\u001b[31m---------------------------------------------------------------------------\u001b[39m",
      "\u001b[31mAttributeError\u001b[39m                            Traceback (most recent call last)",
      "\u001b[36mCell\u001b[39m\u001b[36m \u001b[39m\u001b[32mIn[31]\u001b[39m\u001b[32m, line 1\u001b[39m\n\u001b[32m----> \u001b[39m\u001b[32m1\u001b[39m \u001b[43ms1\u001b[49m\u001b[43m.\u001b[49m\u001b[43mprintname\u001b[49m\u001b[43m(\u001b[49m\u001b[43m)\u001b[49m\n",
      "\u001b[36mCell\u001b[39m\u001b[36m \u001b[39m\u001b[32mIn[18]\u001b[39m\u001b[32m, line 7\u001b[39m, in \u001b[36mPerson.printname\u001b[39m\u001b[34m(self)\u001b[39m\n\u001b[32m      6\u001b[39m \u001b[38;5;28;01mdef\u001b[39;00m\u001b[38;5;250m \u001b[39m\u001b[34mprintname\u001b[39m(\u001b[38;5;28mself\u001b[39m):\n\u001b[32m----> \u001b[39m\u001b[32m7\u001b[39m     \u001b[38;5;28mprint\u001b[39m(\u001b[38;5;28;43mself\u001b[39;49m\u001b[43m.\u001b[49m\u001b[43mfirstname\u001b[49m, \u001b[38;5;28mself\u001b[39m.lastname)\n",
      "\u001b[31mAttributeError\u001b[39m: 'Student' object has no attribute 'firstname'"
     ]
    }
   ],
   "source": [
    "s1.printname()"
   ]
  },
  {
   "cell_type": "code",
   "execution_count": 32,
   "id": "42a6f927-9885-43a7-bb0e-0f0fdfee8b34",
   "metadata": {},
   "outputs": [],
   "source": [
    "class Student(Person):\n",
    "    def __init__(self, firstname, lastname, student_id, department):\n",
    "        self.student_id = student_id\n",
    "        self.department = department\n",
    "        self.firstname = firstname\n",
    "        self.lastname = lastname"
   ]
  },
  {
   "cell_type": "code",
   "execution_count": 33,
   "id": "ab34769b-ffc6-4da1-b170-397201dc1be1",
   "metadata": {},
   "outputs": [],
   "source": [
    "s1 = Student(\"Ravi\", \"Teja\", \"125\", \"CS\")"
   ]
  },
  {
   "cell_type": "code",
   "execution_count": 34,
   "id": "abff2177-a4ee-44cd-92ed-6d54de821e70",
   "metadata": {},
   "outputs": [
    {
     "name": "stdout",
     "output_type": "stream",
     "text": [
      "Ravi Teja\n"
     ]
    }
   ],
   "source": [
    "s1.printname()"
   ]
  },
  {
   "cell_type": "code",
   "execution_count": 35,
   "id": "9bf4b3ed-e8f3-4c01-bfd6-2a8706a67bbe",
   "metadata": {},
   "outputs": [],
   "source": [
    "class Student(Person):\n",
    "    def __init__(self, student_id, department):\n",
    "        self.student_id = student_id\n",
    "        self.department = department\n",
    "        super().__init__()\n",
    "\n",
    "    def change_firstname(self, name):\n",
    "        self.firstname = name"
   ]
  },
  {
   "cell_type": "code",
   "execution_count": 36,
   "id": "556787cd-45d7-4121-939a-e57cdcd2b503",
   "metadata": {},
   "outputs": [
    {
     "ename": "TypeError",
     "evalue": "Person.__init__() missing 2 required positional arguments: 'fname' and 'lname'",
     "output_type": "error",
     "traceback": [
      "\u001b[31m---------------------------------------------------------------------------\u001b[39m",
      "\u001b[31mTypeError\u001b[39m                                 Traceback (most recent call last)",
      "\u001b[36mCell\u001b[39m\u001b[36m \u001b[39m\u001b[32mIn[36]\u001b[39m\u001b[32m, line 1\u001b[39m\n\u001b[32m----> \u001b[39m\u001b[32m1\u001b[39m s1 = \u001b[43mStudent\u001b[49m\u001b[43m(\u001b[49m\u001b[32;43m25\u001b[39;49m\u001b[43m,\u001b[49m\u001b[43m \u001b[49m\u001b[33;43m\"\u001b[39;49m\u001b[33;43mECE\u001b[39;49m\u001b[33;43m\"\u001b[39;49m\u001b[43m)\u001b[49m\n",
      "\u001b[36mCell\u001b[39m\u001b[36m \u001b[39m\u001b[32mIn[35]\u001b[39m\u001b[32m, line 5\u001b[39m, in \u001b[36mStudent.__init__\u001b[39m\u001b[34m(self, student_id, department)\u001b[39m\n\u001b[32m      3\u001b[39m \u001b[38;5;28mself\u001b[39m.student_id = student_id\n\u001b[32m      4\u001b[39m \u001b[38;5;28mself\u001b[39m.department = department\n\u001b[32m----> \u001b[39m\u001b[32m5\u001b[39m \u001b[38;5;28;43msuper\u001b[39;49m\u001b[43m(\u001b[49m\u001b[43m)\u001b[49m\u001b[43m.\u001b[49m\u001b[34;43m__init__\u001b[39;49m\u001b[43m(\u001b[49m\u001b[43m)\u001b[49m\n",
      "\u001b[31mTypeError\u001b[39m: Person.__init__() missing 2 required positional arguments: 'fname' and 'lname'"
     ]
    }
   ],
   "source": [
    "s1 = Student(25, \"ECE\")"
   ]
  },
  {
   "cell_type": "code",
   "execution_count": 37,
   "id": "2983585a-f98d-4ccd-910e-7688a8d6a57d",
   "metadata": {},
   "outputs": [],
   "source": [
    "class Student(Person):\n",
    "    def __init__(self, student_id, department):\n",
    "        self.student_id = student_id\n",
    "        self.department = department\n",
    "        super().__init__(1, 2)\n",
    "\n",
    "    def change_firstname(self, name):\n",
    "        self.firstname = name"
   ]
  },
  {
   "cell_type": "code",
   "execution_count": 38,
   "id": "ba1a3085-f3f8-46fe-b941-4bff3c982256",
   "metadata": {},
   "outputs": [],
   "source": [
    "s2 = Student(56, \"EEE\")"
   ]
  },
  {
   "cell_type": "code",
   "execution_count": 39,
   "id": "8f3b412d-eac1-4e98-a58f-e46d7f79183d",
   "metadata": {},
   "outputs": [
    {
     "data": {
      "text/plain": [
       "1"
      ]
     },
     "execution_count": 39,
     "metadata": {},
     "output_type": "execute_result"
    }
   ],
   "source": [
    "s2.firstname"
   ]
  },
  {
   "cell_type": "code",
   "execution_count": 40,
   "id": "8bede79e-cc47-4a74-824f-46a9d0c025c1",
   "metadata": {},
   "outputs": [],
   "source": [
    "class Student(Person):\n",
    "    def __init__(self, firstname, lastname, student_id, department):\n",
    "        self.student_id = student_id\n",
    "        self.department = department\n",
    "        super().__init__(firstname, lastname)\n",
    "\n",
    "    def change_firstname(self, name):\n",
    "        self.firstname = name"
   ]
  },
  {
   "cell_type": "code",
   "execution_count": 41,
   "id": "aa2e074b-5327-4902-84e5-7b3b19a6913c",
   "metadata": {},
   "outputs": [],
   "source": [
    "s1 = Student(\"Rahul\", \"Siromani\",57, \"Civil\")"
   ]
  },
  {
   "cell_type": "code",
   "execution_count": 42,
   "id": "07b55853-9ef3-4eb4-a722-f153877f715e",
   "metadata": {},
   "outputs": [
    {
     "data": {
      "text/plain": [
       "'Rahul'"
      ]
     },
     "execution_count": 42,
     "metadata": {},
     "output_type": "execute_result"
    }
   ],
   "source": [
    "s1.firstname"
   ]
  },
  {
   "cell_type": "code",
   "execution_count": 43,
   "id": "ee5156cf-7886-44d2-aef8-868537d206d2",
   "metadata": {},
   "outputs": [
    {
     "name": "stdout",
     "output_type": "stream",
     "text": [
      "Rahul Siromani\n"
     ]
    }
   ],
   "source": [
    "s1.printname()"
   ]
  },
  {
   "cell_type": "code",
   "execution_count": 47,
   "id": "edd72b91-2e81-43d4-b9a3-70fbaa9f03e7",
   "metadata": {},
   "outputs": [],
   "source": [
    "class Student(Person):\n",
    "    def __init__(self, firstname, lastname, student_id, department):\n",
    "        self.student_id = student_id\n",
    "        self.department = department\n",
    "        super().__init__(firstname, lastname)\n",
    "\n",
    "    def change_firstname(self, name):\n",
    "        self.firstname = name\n",
    "\n",
    "    def printname(self):\n",
    "        print(f\"Student id: {self.student_id}, Department: {self.department}\")"
   ]
  },
  {
   "cell_type": "code",
   "execution_count": 48,
   "id": "5cb40609-5bbe-412c-8b6b-39173bc1ea31",
   "metadata": {},
   "outputs": [],
   "source": [
    "s1 = Student(\"Rahul\", \"Siromani\",57, \"Civil\")"
   ]
  },
  {
   "cell_type": "code",
   "execution_count": 49,
   "id": "89058a64-7174-48af-83f1-da5fdc4cce53",
   "metadata": {},
   "outputs": [
    {
     "name": "stdout",
     "output_type": "stream",
     "text": [
      "Student id: 57, Department: Civil\n"
     ]
    }
   ],
   "source": [
    "s1.printname()"
   ]
  },
  {
   "cell_type": "code",
   "execution_count": 50,
   "id": "d143b963-79f7-4e64-80c7-00b6f872a5ea",
   "metadata": {},
   "outputs": [],
   "source": [
    "class Student(Person):\n",
    "    def __init__(self, firstname, lastname, student_id, department):\n",
    "        self.student_id = student_id\n",
    "        self.department = department\n",
    "        super().__init__(firstname, lastname)\n",
    "\n",
    "    def change_firstname(self, name):\n",
    "        self.firstname = name\n",
    "\n",
    "    def printname(self):\n",
    "        super().printname()\n",
    "        print(f\"Student id: {self.student_id}, Department: {self.department}\")"
   ]
  },
  {
   "cell_type": "code",
   "execution_count": 51,
   "id": "2ede4fa6-b4f2-4939-8da2-c35f8fbd1328",
   "metadata": {},
   "outputs": [],
   "source": [
    "s1 = Student(\"Rahul\", \"Siromani\",57, \"Civil\")"
   ]
  },
  {
   "cell_type": "code",
   "execution_count": 52,
   "id": "ec006ca3-b0fe-4759-8969-6a5f63055946",
   "metadata": {},
   "outputs": [
    {
     "name": "stdout",
     "output_type": "stream",
     "text": [
      "Rahul Siromani\n",
      "Student id: 57, Department: Civil\n"
     ]
    }
   ],
   "source": [
    "s1.printname()"
   ]
  },
  {
   "cell_type": "code",
   "execution_count": 53,
   "id": "29fdcb26-2e7a-4696-b403-4df91adfc48d",
   "metadata": {
    "collapsed": true,
    "jupyter": {
     "outputs_hidden": true
    },
    "scrolled": true
   },
   "outputs": [
    {
     "name": "stdout",
     "output_type": "stream",
     "text": [
      "Help on class Student in module __main__:\n",
      "\n",
      "class Student(Person)\n",
      " |  Student(firstname, lastname, student_id, department)\n",
      " |\n",
      " |  Method resolution order:\n",
      " |      Student\n",
      " |      Person\n",
      " |      builtins.object\n",
      " |\n",
      " |  Methods defined here:\n",
      " |\n",
      " |  __init__(self, firstname, lastname, student_id, department)\n",
      " |      Initialize self.  See help(type(self)) for accurate signature.\n",
      " |\n",
      " |  change_firstname(self, name)\n",
      " |\n",
      " |  printname(self)\n",
      " |\n",
      " |  ----------------------------------------------------------------------\n",
      " |  Data and other attributes defined here:\n",
      " |\n",
      " |  __annotations__ = {}\n",
      " |\n",
      " |  ----------------------------------------------------------------------\n",
      " |  Data descriptors inherited from Person:\n",
      " |\n",
      " |  __dict__\n",
      " |      dictionary for instance variables\n",
      " |\n",
      " |  __weakref__\n",
      " |      list of weak references to the object\n",
      "\n"
     ]
    }
   ],
   "source": [
    "help(Student)"
   ]
  },
  {
   "cell_type": "code",
   "execution_count": 54,
   "id": "fda18f91-eacb-47e4-974c-b98998621e02",
   "metadata": {},
   "outputs": [],
   "source": [
    "class Student(Person):\n",
    "    def __init__(self, firstname, lastname, student_id, department):\n",
    "        self.student_id = student_id\n",
    "        self.department = department\n",
    "        super().__init__(firstname, lastname)\n",
    "\n",
    "    def change_firstname(self, name):\n",
    "        self.firstname = name\n",
    "\n",
    "    def printname(self):\n",
    "        \"\"\"\n",
    "        Prints the name of the person and the department and student id of the student\n",
    "        \"\"\"\n",
    "        super().printname()\n",
    "        print(f\"Student id: {self.student_id}, Department: {self.department}\")"
   ]
  },
  {
   "cell_type": "code",
   "execution_count": 55,
   "id": "24a76394-5dc3-463a-a61b-9902da90a763",
   "metadata": {
    "collapsed": true,
    "jupyter": {
     "outputs_hidden": true
    }
   },
   "outputs": [
    {
     "name": "stdout",
     "output_type": "stream",
     "text": [
      "Help on class Student in module __main__:\n",
      "\n",
      "class Student(Person)\n",
      " |  Student(firstname, lastname, student_id, department)\n",
      " |\n",
      " |  Method resolution order:\n",
      " |      Student\n",
      " |      Person\n",
      " |      builtins.object\n",
      " |\n",
      " |  Methods defined here:\n",
      " |\n",
      " |  __init__(self, firstname, lastname, student_id, department)\n",
      " |      Initialize self.  See help(type(self)) for accurate signature.\n",
      " |\n",
      " |  change_firstname(self, name)\n",
      " |\n",
      " |  printname(self)\n",
      " |      Prints the name of the person and the department and student id of the student\n",
      " |\n",
      " |  ----------------------------------------------------------------------\n",
      " |  Data and other attributes defined here:\n",
      " |\n",
      " |  __annotations__ = {}\n",
      " |\n",
      " |  ----------------------------------------------------------------------\n",
      " |  Data descriptors inherited from Person:\n",
      " |\n",
      " |  __dict__\n",
      " |      dictionary for instance variables\n",
      " |\n",
      " |  __weakref__\n",
      " |      list of weak references to the object\n",
      "\n"
     ]
    }
   ],
   "source": [
    "help(Student)"
   ]
  },
  {
   "cell_type": "code",
   "execution_count": null,
   "id": "f6b7d85b-2679-4ecf-a268-9aff8cb4beb7",
   "metadata": {},
   "outputs": [],
   "source": [
    "# Single Inheritence\n",
    "A --> B\n",
    "# Multilevel inhertience\n",
    "A --> B --> C\n",
    "# Multiple inheritence\n",
    "(A, B) --> C\n",
    "# Hierarchical inheritence\n",
    "A --> (A, B, C)\n",
    "# Hybrid inheritence\n",
    "A --> (B, C) --> D"
   ]
  },
  {
   "cell_type": "code",
   "execution_count": 57,
   "id": "aa0ed7ea-f447-4f04-b186-54c7d0bd96e0",
   "metadata": {},
   "outputs": [],
   "source": [
    "# Multilevel inheritence"
   ]
  },
  {
   "cell_type": "code",
   "execution_count": 58,
   "id": "a7a4a1ce-1754-459b-a8d4-bf01d2079394",
   "metadata": {},
   "outputs": [],
   "source": [
    "class A:\n",
    "    def __init__(self):\n",
    "        print(\"I am A\")\n",
    "class B(A):\n",
    "    def __init__(self):\n",
    "        print(\"I am B\")\n",
    "class C(B):\n",
    "    pass"
   ]
  },
  {
   "cell_type": "code",
   "execution_count": 59,
   "id": "fc587aef-fa85-415c-a6aa-ed44dec697c4",
   "metadata": {},
   "outputs": [
    {
     "name": "stdout",
     "output_type": "stream",
     "text": [
      "I am B\n"
     ]
    }
   ],
   "source": [
    "c = C()"
   ]
  },
  {
   "cell_type": "code",
   "execution_count": 60,
   "id": "df528656-c581-41cb-a50b-e338433c41fa",
   "metadata": {},
   "outputs": [],
   "source": [
    "class A:\n",
    "    def __init__(self):\n",
    "        print(\"I am A\")\n",
    "class B(A):\n",
    "    def __init__(self):\n",
    "        print(\"I am B\")\n",
    "        super().__init__()\n",
    "class C(B):\n",
    "    pass"
   ]
  },
  {
   "cell_type": "code",
   "execution_count": 61,
   "id": "27a0b423-c44e-4738-8093-dc0ab4eb0aa8",
   "metadata": {},
   "outputs": [
    {
     "name": "stdout",
     "output_type": "stream",
     "text": [
      "I am B\n",
      "I am A\n"
     ]
    }
   ],
   "source": [
    "c1 = C()"
   ]
  },
  {
   "cell_type": "code",
   "execution_count": 62,
   "id": "9e761485-a8a3-4be9-b796-74264810fe78",
   "metadata": {},
   "outputs": [],
   "source": [
    "class A:\n",
    "    def __init__(self):\n",
    "        print(\"I am A\")\n",
    "class B(A):\n",
    "    def __init__(self):\n",
    "        print(\"I am B\")\n",
    "        super().__init__()\n",
    "class C(B):\n",
    "    def __init__(self):\n",
    "        print(\"I am C\")"
   ]
  },
  {
   "cell_type": "code",
   "execution_count": 63,
   "id": "2c55564b-ceee-4146-b9e8-5ee2168af6e9",
   "metadata": {},
   "outputs": [
    {
     "name": "stdout",
     "output_type": "stream",
     "text": [
      "I am C\n"
     ]
    }
   ],
   "source": [
    "c2 = C()"
   ]
  },
  {
   "cell_type": "code",
   "execution_count": 64,
   "id": "bd3641c6-2d01-4204-b52e-711e75d05987",
   "metadata": {},
   "outputs": [],
   "source": [
    "# Multiple inheritence"
   ]
  },
  {
   "cell_type": "code",
   "execution_count": 65,
   "id": "78307e1f-e670-45b2-9291-2a114c361378",
   "metadata": {},
   "outputs": [],
   "source": [
    "class A:\n",
    "    def __init__(self):\n",
    "        print(\"I am in A\")\n",
    "class B:\n",
    "    def __init__(self):\n",
    "        print(\"I am in B\")\n",
    "\n",
    "class C(B, A):\n",
    "    pass"
   ]
  },
  {
   "cell_type": "code",
   "execution_count": 66,
   "id": "09bbb51f-eb52-455d-87cb-6db46aa3cb75",
   "metadata": {},
   "outputs": [
    {
     "name": "stdout",
     "output_type": "stream",
     "text": [
      "I am in B\n"
     ]
    }
   ],
   "source": [
    "c3 = C()"
   ]
  },
  {
   "cell_type": "code",
   "execution_count": 67,
   "id": "8db884b9-2c94-496b-9230-48d581b59741",
   "metadata": {},
   "outputs": [],
   "source": [
    "class A:\n",
    "    def __init__(self):\n",
    "        print(\"I am in A\")\n",
    "\n",
    "    def print_val(self):\n",
    "        print(\"I am print val from A\")\n",
    "class B:\n",
    "    def __init__(self):\n",
    "        print(\"I am in B\")\n",
    "\n",
    "class C(B, A):\n",
    "    pass"
   ]
  },
  {
   "cell_type": "code",
   "execution_count": 68,
   "id": "8cc1b841-84a1-40d6-8211-4cb58bf47e11",
   "metadata": {},
   "outputs": [
    {
     "name": "stdout",
     "output_type": "stream",
     "text": [
      "I am in B\n"
     ]
    }
   ],
   "source": [
    "c4 = C()"
   ]
  },
  {
   "cell_type": "code",
   "execution_count": 69,
   "id": "ee00713f-ab55-4379-8cc8-d957f1089815",
   "metadata": {},
   "outputs": [
    {
     "name": "stdout",
     "output_type": "stream",
     "text": [
      "I am print val from A\n"
     ]
    }
   ],
   "source": [
    "c4.print_val()"
   ]
  },
  {
   "cell_type": "code",
   "execution_count": 70,
   "id": "08622834-d616-4f90-a83c-740d5629aaf5",
   "metadata": {},
   "outputs": [],
   "source": [
    "class A:\n",
    "    def __init__(self):\n",
    "        print(\"I am in A\")\n",
    "        super().__init__()\n",
    "\n",
    "class B:\n",
    "    def __init__(self):\n",
    "        print(\"I am in B\")\n",
    "        super().__init__()\n",
    "\n",
    "class C(B, A):\n",
    "    pass"
   ]
  },
  {
   "cell_type": "code",
   "execution_count": 71,
   "id": "d7aea642-0e34-400e-be95-f4d7d302ba7e",
   "metadata": {},
   "outputs": [
    {
     "name": "stdout",
     "output_type": "stream",
     "text": [
      "I am in B\n",
      "I am in A\n"
     ]
    }
   ],
   "source": [
    "c5 = C()"
   ]
  },
  {
   "cell_type": "code",
   "execution_count": 72,
   "id": "95563c75-2aa3-4a1e-a416-dc90b34a8cab",
   "metadata": {},
   "outputs": [
    {
     "name": "stdout",
     "output_type": "stream",
     "text": [
      "I am in A\n"
     ]
    }
   ],
   "source": [
    "a1 = A()"
   ]
  },
  {
   "cell_type": "code",
   "execution_count": 73,
   "id": "adb40490-4f30-4303-a3a2-431bd504dd2b",
   "metadata": {},
   "outputs": [],
   "source": [
    "class D(A, B):\n",
    "    pass"
   ]
  },
  {
   "cell_type": "code",
   "execution_count": 74,
   "id": "411456ba-7d67-4e72-b4e8-243baeede388",
   "metadata": {},
   "outputs": [
    {
     "name": "stdout",
     "output_type": "stream",
     "text": [
      "I am in A\n",
      "I am in B\n"
     ]
    }
   ],
   "source": [
    "d1 = D()"
   ]
  },
  {
   "cell_type": "code",
   "execution_count": 77,
   "id": "5d2b2f57-6fc2-4e0a-bf0b-fd2d8e563244",
   "metadata": {
    "collapsed": true,
    "jupyter": {
     "outputs_hidden": true
    }
   },
   "outputs": [
    {
     "name": "stdout",
     "output_type": "stream",
     "text": [
      "Help on D in module __main__ object:\n",
      "\n",
      "class D(A, B)\n",
      " |  Method resolution order:\n",
      " |      D\n",
      " |      A\n",
      " |      B\n",
      " |      builtins.object\n",
      " |\n",
      " |  Methods inherited from A:\n",
      " |\n",
      " |  __init__(self)\n",
      " |      Initialize self.  See help(type(self)) for accurate signature.\n",
      " |\n",
      " |  ----------------------------------------------------------------------\n",
      " |  Data descriptors inherited from A:\n",
      " |\n",
      " |  __dict__\n",
      " |      dictionary for instance variables\n",
      " |\n",
      " |  __weakref__\n",
      " |      list of weak references to the object\n",
      "\n"
     ]
    }
   ],
   "source": [
    "help(d1)"
   ]
  },
  {
   "cell_type": "code",
   "execution_count": 78,
   "id": "1d34f063-21f7-4602-8d86-81457e236c1c",
   "metadata": {},
   "outputs": [],
   "source": [
    "# hirarichal inheritence"
   ]
  },
  {
   "cell_type": "code",
   "execution_count": 80,
   "id": "e7dca5db-c34d-4483-a043-18cbaa50265c",
   "metadata": {},
   "outputs": [
    {
     "ename": "SyntaxError",
     "evalue": "invalid syntax (154831460.py, line 1)",
     "output_type": "error",
     "traceback": [
      "  \u001b[36mCell\u001b[39m\u001b[36m \u001b[39m\u001b[32mIn[80]\u001b[39m\u001b[32m, line 1\u001b[39m\n\u001b[31m    \u001b[39m\u001b[31mA --> (B, C, D)\u001b[39m\n       ^\n\u001b[31mSyntaxError\u001b[39m\u001b[31m:\u001b[39m invalid syntax\n"
     ]
    }
   ],
   "source": [
    "A --> (B, C, D)"
   ]
  },
  {
   "cell_type": "code",
   "execution_count": 81,
   "id": "6b8f632c-f5dc-46c4-8dc6-a6d6e50261db",
   "metadata": {},
   "outputs": [],
   "source": [
    "class A:\n",
    "    def __init__(self):\n",
    "        print(\"I am class root\")"
   ]
  },
  {
   "cell_type": "code",
   "execution_count": 83,
   "id": "79d2c8b9-5ba3-4de4-8ba6-fcfac3afdb3f",
   "metadata": {},
   "outputs": [],
   "source": [
    "class B(A):\n",
    "    pass\n",
    "class C(A):\n",
    "    ...\n",
    "class D(A):\n",
    "    \"\"\"\"\"\""
   ]
  },
  {
   "cell_type": "code",
   "execution_count": 84,
   "id": "1c3d4568-84fa-460f-a37e-29a6937a1b81",
   "metadata": {},
   "outputs": [
    {
     "name": "stdout",
     "output_type": "stream",
     "text": [
      "I am class root\n"
     ]
    }
   ],
   "source": [
    "b2 = B()"
   ]
  },
  {
   "cell_type": "code",
   "execution_count": 85,
   "id": "097ee711-9314-460e-83b3-0cf9cdcd9f96",
   "metadata": {},
   "outputs": [
    {
     "name": "stdout",
     "output_type": "stream",
     "text": [
      "I am class root\n"
     ]
    }
   ],
   "source": [
    "c6 = C()"
   ]
  },
  {
   "cell_type": "code",
   "execution_count": 86,
   "id": "59c522fa-a049-4f9a-a40b-701381e2fc98",
   "metadata": {},
   "outputs": [
    {
     "name": "stdout",
     "output_type": "stream",
     "text": [
      "I am class root\n"
     ]
    }
   ],
   "source": [
    "d2 = D()"
   ]
  },
  {
   "cell_type": "code",
   "execution_count": 87,
   "id": "c91199ed-0ebb-4d54-8ef8-40773a1ac89f",
   "metadata": {},
   "outputs": [],
   "source": [
    "# Hybrid inheritence"
   ]
  },
  {
   "cell_type": "code",
   "execution_count": 88,
   "id": "339dc16e-b0b6-410f-831c-70baff1ffec8",
   "metadata": {},
   "outputs": [],
   "source": [
    "# A --> (B, C, D) --> E"
   ]
  },
  {
   "cell_type": "code",
   "execution_count": 89,
   "id": "ba82323d-f5f5-4cd6-a4aa-9b5797a08312",
   "metadata": {},
   "outputs": [],
   "source": [
    "class A:\n",
    "    def __init__(self):\n",
    "        print(\"I am A\")\n",
    "class B(A):\n",
    "    def __init__(self):\n",
    "        print(\"I am B\")\n",
    "        super().__init__()\n",
    "class C(A):\n",
    "    def __init__(self):\n",
    "        print(\"I am C\")\n",
    "        super().__init__()\n",
    "class D(A):\n",
    "    def __init__(self):\n",
    "        print(\"I am D\")\n",
    "        super().__init__()\n",
    "class E(C, D, B):\n",
    "    ..."
   ]
  },
  {
   "cell_type": "code",
   "execution_count": 90,
   "id": "09d06aed-105d-46b6-9a35-e87c8cb38db4",
   "metadata": {},
   "outputs": [
    {
     "name": "stdout",
     "output_type": "stream",
     "text": [
      "I am C\n",
      "I am D\n",
      "I am B\n",
      "I am A\n"
     ]
    }
   ],
   "source": [
    "e = E()"
   ]
  },
  {
   "cell_type": "code",
   "execution_count": 91,
   "id": "aebe10ac-86ad-46f3-a170-db66ae6c308d",
   "metadata": {},
   "outputs": [
    {
     "data": {
      "text/plain": [
       "[__main__.E, __main__.C, __main__.D, __main__.B, __main__.A, object]"
      ]
     },
     "execution_count": 91,
     "metadata": {},
     "output_type": "execute_result"
    }
   ],
   "source": [
    "E.mro()"
   ]
  },
  {
   "cell_type": "code",
   "execution_count": 92,
   "id": "f20413e6-1d0b-427e-bd21-bdf409735aa2",
   "metadata": {},
   "outputs": [
    {
     "data": {
      "text/plain": [
       "(__main__.E, __main__.C, __main__.D, __main__.B, __main__.A, object)"
      ]
     },
     "execution_count": 92,
     "metadata": {},
     "output_type": "execute_result"
    }
   ],
   "source": [
    "E.__mro__"
   ]
  },
  {
   "cell_type": "code",
   "execution_count": 93,
   "id": "9ef4379d-88cf-446d-9853-4d4f9de7b7aa",
   "metadata": {},
   "outputs": [
    {
     "name": "stdout",
     "output_type": "stream",
     "text": [
      "I am C\n"
     ]
    },
    {
     "data": {
      "text/plain": [
       "[__main__.E, __main__.C, __main__.D, __main__.B, __main__.A, object]"
      ]
     },
     "execution_count": 93,
     "metadata": {},
     "output_type": "execute_result"
    }
   ],
   "source": [
    "class A:\n",
    "    def __init__(self):\n",
    "        print(\"I am A\")\n",
    "class B(A):\n",
    "    def __init__(self):\n",
    "        print(\"I am B\")\n",
    "class C(A):\n",
    "    def __init__(self):\n",
    "        print(\"I am C\")\n",
    "class D(A):\n",
    "    def __init__(self):\n",
    "        print(\"I am D\")\n",
    "class E(C, D, B):\n",
    "    ...\n",
    "e1 = E()\n",
    "E.mro()"
   ]
  },
  {
   "cell_type": "code",
   "execution_count": 94,
   "id": "695161d4-7de7-4c9c-8b0c-c3affdd50e0a",
   "metadata": {},
   "outputs": [
    {
     "name": "stdout",
     "output_type": "stream",
     "text": [
      "[<class '__main__.D'>, <class '__main__.B'>, <class '__main__.A'>, <class '__main__.C'>, <class 'object'>]\n"
     ]
    }
   ],
   "source": [
    "class A:\n",
    "    def __init__(self):\n",
    "        print(\"I am A\")\n",
    "class B(A):\n",
    "    def __init__(self):\n",
    "        print(\"I am B\")\n",
    "        super().__init__()\n",
    "class C:\n",
    "    def __init__(self):\n",
    "        print(\"I am C\")\n",
    "class D(B, C):\n",
    "    def __init__(self):\n",
    "        print(\"I am D\")\n",
    "        super().__init__()\n",
    "\n",
    "print(D.mro())"
   ]
  },
  {
   "cell_type": "code",
   "execution_count": null,
   "id": "89d60764-e162-4b2f-9a7c-3660065da42a",
   "metadata": {},
   "outputs": [],
   "source": [
    "# Depth first left to right"
   ]
  },
  {
   "cell_type": "code",
   "execution_count": 95,
   "id": "cd7767d2-0fa4-4764-a280-d40022ee28b3",
   "metadata": {},
   "outputs": [
    {
     "name": "stdout",
     "output_type": "stream",
     "text": [
      "I am D\n",
      "I am B\n",
      "I am A\n"
     ]
    }
   ],
   "source": [
    "d4 = D()"
   ]
  },
  {
   "cell_type": "code",
   "execution_count": 96,
   "id": "205e0983-0f7f-4f24-bdbf-354d408089d4",
   "metadata": {},
   "outputs": [
    {
     "name": "stdout",
     "output_type": "stream",
     "text": [
      "I am D\n",
      "I am B\n",
      "I am A\n",
      "I am C\n"
     ]
    }
   ],
   "source": [
    "class A:\n",
    "    def __init__(self):\n",
    "        print(\"I am A\")\n",
    "        super().__init__()\n",
    "class B(A):\n",
    "    def __init__(self):\n",
    "        print(\"I am B\")\n",
    "        super().__init__()\n",
    "class C:\n",
    "    def __init__(self):\n",
    "        print(\"I am C\")\n",
    "class D(B, C):\n",
    "    def __init__(self):\n",
    "        print(\"I am D\")\n",
    "        super().__init__()\n",
    "\n",
    "d5 = D()"
   ]
  },
  {
   "cell_type": "code",
   "execution_count": 100,
   "id": "923ec6ff-73ef-43e0-961c-3e7835608570",
   "metadata": {},
   "outputs": [
    {
     "name": "stdout",
     "output_type": "stream",
     "text": [
      "class shape called\n",
      "class square called\n",
      "class circle called\n",
      "class cylinder called\n"
     ]
    }
   ],
   "source": [
    "class shape:\n",
    "    def greet(self):\n",
    "        print(\"class shape called\")\n",
    "class circle(shape):\n",
    "    def greet(self):\n",
    "        super().greet()\n",
    "        print(\"class circle called\")\n",
    "class square(shape):\n",
    "    def greet(self):\n",
    "        super().greet()\n",
    "        print(\"class square called\")\n",
    "class cylinder(circle, square):\n",
    "    def greet(self):\n",
    "        super().greet()\n",
    "        print(\"class cylinder called\")\n",
    "d = cylinder()\n",
    "d.greet()\n",
    "# mro --> cylinder --> circle --> square --> shape"
   ]
  },
  {
   "cell_type": "code",
   "execution_count": null,
   "id": "200cd51c-8645-484c-934d-04889584b5c3",
   "metadata": {},
   "outputs": [],
   "source": []
  }
 ],
 "metadata": {
  "kernelspec": {
   "display_name": "Python 3 (ipykernel)",
   "language": "python",
   "name": "python3"
  },
  "language_info": {
   "codemirror_mode": {
    "name": "ipython",
    "version": 3
   },
   "file_extension": ".py",
   "mimetype": "text/x-python",
   "name": "python",
   "nbconvert_exporter": "python",
   "pygments_lexer": "ipython3",
   "version": "3.13.3"
  }
 },
 "nbformat": 4,
 "nbformat_minor": 5
}
