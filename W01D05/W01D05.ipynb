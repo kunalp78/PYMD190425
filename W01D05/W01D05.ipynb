{
 "cells": [
  {
   "cell_type": "code",
   "execution_count": null,
   "id": "c0330abe-a46d-4cd5-8689-c6d925c7b5ce",
   "metadata": {},
   "outputs": [],
   "source": [
    "# Builtin methods of string"
   ]
  },
  {
   "cell_type": "code",
   "execution_count": null,
   "id": "f439b549-4a58-44c5-a227-25a5af348e3c",
   "metadata": {},
   "outputs": [],
   "source": [
    "# split()"
   ]
  },
  {
   "cell_type": "code",
   "execution_count": 1,
   "id": "a0fc5214-0e34-49e4-a23a-0fa6bcae6ef6",
   "metadata": {},
   "outputs": [],
   "source": [
    "l = \"I am studying python. I do the revision everyday\""
   ]
  },
  {
   "cell_type": "code",
   "execution_count": 2,
   "id": "ee8b846f-08f5-4ec1-9f21-7a50044e8a8e",
   "metadata": {},
   "outputs": [
    {
     "data": {
      "text/plain": [
       "['I am studying python', ' I do the revision everyday']"
      ]
     },
     "execution_count": 2,
     "metadata": {},
     "output_type": "execute_result"
    }
   ],
   "source": [
    "l.split(\".\")"
   ]
  },
  {
   "cell_type": "code",
   "execution_count": 3,
   "id": "45036345-3523-49dc-b929-cba7a2323afb",
   "metadata": {},
   "outputs": [],
   "source": [
    "l1 = \"a,b,c,d,e,f\""
   ]
  },
  {
   "cell_type": "code",
   "execution_count": 4,
   "id": "450364a1-ffb0-49cd-bc21-3656ae03cbaf",
   "metadata": {},
   "outputs": [
    {
     "ename": "SyntaxError",
     "evalue": "invalid syntax (240349860.py, line 1)",
     "output_type": "error",
     "traceback": [
      "  \u001b[36mCell\u001b[39m\u001b[36m \u001b[39m\u001b[32mIn[4]\u001b[39m\u001b[32m, line 1\u001b[39m\n\u001b[31m    \u001b[39m\u001b[31ml1.split(,)\u001b[39m\n             ^\n\u001b[31mSyntaxError\u001b[39m\u001b[31m:\u001b[39m invalid syntax\n"
     ]
    }
   ],
   "source": [
    "l1.split(,)"
   ]
  },
  {
   "cell_type": "code",
   "execution_count": 5,
   "id": "44e40976-0995-45b7-b917-b241e1ba49c4",
   "metadata": {},
   "outputs": [
    {
     "data": {
      "text/plain": [
       "['a', 'b', 'c', 'd', 'e', 'f']"
      ]
     },
     "execution_count": 5,
     "metadata": {},
     "output_type": "execute_result"
    }
   ],
   "source": [
    "l1.split(\",\")"
   ]
  },
  {
   "cell_type": "code",
   "execution_count": 6,
   "id": "a5b57431-cc86-4946-bcf9-b20f70cb2e64",
   "metadata": {},
   "outputs": [
    {
     "name": "stdout",
     "output_type": "stream",
     "text": [
      "['a', 'b', 'c', 'd', 'e', 'f']\n"
     ]
    }
   ],
   "source": [
    "print(l1.split(\",\"))"
   ]
  },
  {
   "cell_type": "code",
   "execution_count": 7,
   "id": "d76139f5-5df3-4ca3-b335-3abf477e147a",
   "metadata": {},
   "outputs": [],
   "source": [
    "val = l1.split(\",\")"
   ]
  },
  {
   "cell_type": "code",
   "execution_count": 8,
   "id": "888a7447-f21a-4ddc-ab22-ad1218f1e05f",
   "metadata": {},
   "outputs": [
    {
     "data": {
      "text/plain": [
       "['a', 'b', 'c', 'd', 'e', 'f']"
      ]
     },
     "execution_count": 8,
     "metadata": {},
     "output_type": "execute_result"
    }
   ],
   "source": [
    "val"
   ]
  },
  {
   "cell_type": "code",
   "execution_count": 24,
   "id": "652872c1-d15a-4e43-a726-c983bf607f05",
   "metadata": {},
   "outputs": [],
   "source": [
    "val0 = l.split(\".\")"
   ]
  },
  {
   "cell_type": "code",
   "execution_count": 25,
   "id": "a37af0fe-566a-42bf-bfae-d962b9766ac8",
   "metadata": {},
   "outputs": [
    {
     "data": {
      "text/plain": [
       "['I am studying python', ' I do the revision everyday']"
      ]
     },
     "execution_count": 25,
     "metadata": {},
     "output_type": "execute_result"
    }
   ],
   "source": [
    "val0"
   ]
  },
  {
   "cell_type": "code",
   "execution_count": 11,
   "id": "bc0d414f-8ed4-4c8a-b678-0098cb7c68da",
   "metadata": {},
   "outputs": [],
   "source": [
    "s0 = \" Hey I like dancing\""
   ]
  },
  {
   "cell_type": "code",
   "execution_count": 12,
   "id": "ee5b47a9-406f-4c62-95f2-d4f6e99e4fae",
   "metadata": {},
   "outputs": [
    {
     "data": {
      "text/plain": [
       "'Hey I like dancing'"
      ]
     },
     "execution_count": 12,
     "metadata": {},
     "output_type": "execute_result"
    }
   ],
   "source": [
    "s0.strip()"
   ]
  },
  {
   "cell_type": "code",
   "execution_count": 14,
   "id": "4a819044-40bc-4cc3-883c-062ce34a4861",
   "metadata": {},
   "outputs": [
    {
     "data": {
      "text/plain": [
       "'Hey I like dancing '"
      ]
     },
     "execution_count": 14,
     "metadata": {},
     "output_type": "execute_result"
    }
   ],
   "source": [
    "s0 = \" Hey I like dancing \"\n",
    "s0.lstrip()"
   ]
  },
  {
   "cell_type": "code",
   "execution_count": 15,
   "id": "a26814c9-1bd9-419d-9780-5b3cf5ab292e",
   "metadata": {},
   "outputs": [
    {
     "data": {
      "text/plain": [
       "' Hey I like dancing'"
      ]
     },
     "execution_count": 15,
     "metadata": {},
     "output_type": "execute_result"
    }
   ],
   "source": [
    "s0.rstrip()"
   ]
  },
  {
   "cell_type": "code",
   "execution_count": 16,
   "id": "882f902b-5bde-44c7-9c11-32fe3643ccae",
   "metadata": {},
   "outputs": [
    {
     "data": {
      "text/plain": [
       "'Hey I like dancing'"
      ]
     },
     "execution_count": 16,
     "metadata": {},
     "output_type": "execute_result"
    }
   ],
   "source": [
    "s0.strip()"
   ]
  },
  {
   "cell_type": "code",
   "execution_count": 26,
   "id": "eb07a770-b50b-43c5-87f2-b6577ea7c78c",
   "metadata": {},
   "outputs": [],
   "source": [
    "for i in range(len(val0)):\n",
    "    val0[i] = val0[i].strip()"
   ]
  },
  {
   "cell_type": "code",
   "execution_count": 27,
   "id": "a1b9a7f9-eb7d-4c3b-a959-b0de1188fa9c",
   "metadata": {},
   "outputs": [
    {
     "data": {
      "text/plain": [
       "['I am studying python', 'I do the revision everyday']"
      ]
     },
     "execution_count": 27,
     "metadata": {},
     "output_type": "execute_result"
    }
   ],
   "source": [
    "val0"
   ]
  },
  {
   "cell_type": "code",
   "execution_count": 30,
   "id": "1e9d6f81-3cec-4a0a-9247-2c5b5e82c76b",
   "metadata": {},
   "outputs": [],
   "source": [
    "val0 = l.split(\".\")\n",
    "val0 = list(map(lambda x: x.strip(), val0))"
   ]
  },
  {
   "cell_type": "code",
   "execution_count": 31,
   "id": "74374038-5b37-4cee-9da6-8ac02f789875",
   "metadata": {},
   "outputs": [
    {
     "data": {
      "text/plain": [
       "['I am studying python', 'I do the revision everyday']"
      ]
     },
     "execution_count": 31,
     "metadata": {},
     "output_type": "execute_result"
    }
   ],
   "source": [
    "val0"
   ]
  },
  {
   "cell_type": "code",
   "execution_count": 32,
   "id": "5cdaaf13-ae40-4304-98ef-ddf347e0a4fc",
   "metadata": {},
   "outputs": [
    {
     "data": {
      "text/plain": [
       "'I am studying pythonI do the revision everyday'"
      ]
     },
     "execution_count": 32,
     "metadata": {},
     "output_type": "execute_result"
    }
   ],
   "source": [
    "\"\".join(val0)"
   ]
  },
  {
   "cell_type": "code",
   "execution_count": 33,
   "id": "509c39a7-7e10-45aa-85ca-1a8879de6a11",
   "metadata": {},
   "outputs": [
    {
     "data": {
      "text/plain": [
       "'I am studying python.I do the revision everyday'"
      ]
     },
     "execution_count": 33,
     "metadata": {},
     "output_type": "execute_result"
    }
   ],
   "source": [
    "\".\".join(val0)"
   ]
  },
  {
   "cell_type": "code",
   "execution_count": 34,
   "id": "b82a3faa-bfd1-4052-b00e-58fb22b34cf4",
   "metadata": {},
   "outputs": [
    {
     "data": {
      "text/plain": [
       "'I am studying python. .I do the revision everyday'"
      ]
     },
     "execution_count": 34,
     "metadata": {},
     "output_type": "execute_result"
    }
   ],
   "source": [
    "\". .\".join(val0)"
   ]
  },
  {
   "cell_type": "code",
   "execution_count": 35,
   "id": "2f85141b-901f-4461-9d6a-4c0ba8695cd1",
   "metadata": {},
   "outputs": [],
   "source": [
    "val0 = \". \".join(val0)"
   ]
  },
  {
   "cell_type": "code",
   "execution_count": 36,
   "id": "c6d03848-29f7-4e36-8afd-031d660e6027",
   "metadata": {},
   "outputs": [
    {
     "data": {
      "text/plain": [
       "'I am studying python. I do the revision everyday'"
      ]
     },
     "execution_count": 36,
     "metadata": {},
     "output_type": "execute_result"
    }
   ],
   "source": [
    "val0"
   ]
  },
  {
   "cell_type": "code",
   "execution_count": 37,
   "id": "5e52401e-8601-4fb3-973c-4dc4381aaf33",
   "metadata": {},
   "outputs": [
    {
     "data": {
      "text/plain": [
       "'I am studying python. I do the practice everyday'"
      ]
     },
     "execution_count": 37,
     "metadata": {},
     "output_type": "execute_result"
    }
   ],
   "source": [
    "val0.replace(\"revision\", \"practice\")"
   ]
  },
  {
   "cell_type": "code",
   "execution_count": 38,
   "id": "442e49a6-cb2f-46d8-9691-78212ad5c124",
   "metadata": {},
   "outputs": [
    {
     "data": {
      "text/plain": [
       "'I am studying python. I do the revision everyday'"
      ]
     },
     "execution_count": 38,
     "metadata": {},
     "output_type": "execute_result"
    }
   ],
   "source": [
    "val0"
   ]
  },
  {
   "cell_type": "code",
   "execution_count": 39,
   "id": "d88e68be-fe2c-4aad-a9c0-6f15d53fee64",
   "metadata": {},
   "outputs": [],
   "source": [
    "# index()"
   ]
  },
  {
   "cell_type": "code",
   "execution_count": 41,
   "id": "c8ad276c-b409-4b94-8e5d-923c617a9ce7",
   "metadata": {},
   "outputs": [
    {
     "data": {
      "text/plain": [
       "31"
      ]
     },
     "execution_count": 41,
     "metadata": {},
     "output_type": "execute_result"
    }
   ],
   "source": [
    "val0.index(\"revision\")"
   ]
  },
  {
   "cell_type": "code",
   "execution_count": 42,
   "id": "e21de49f-1ef1-42e9-9e27-0b7f32ecbdd6",
   "metadata": {},
   "outputs": [
    {
     "data": {
      "text/plain": [
       "'r'"
      ]
     },
     "execution_count": 42,
     "metadata": {},
     "output_type": "execute_result"
    }
   ],
   "source": [
    "val0[31]"
   ]
  },
  {
   "cell_type": "code",
   "execution_count": 43,
   "id": "c60e5874-c98c-450f-a08f-2b9e79a8cbae",
   "metadata": {},
   "outputs": [],
   "source": [
    "len_val = len(\"revision\")"
   ]
  },
  {
   "cell_type": "code",
   "execution_count": 44,
   "id": "57ca3b8a-4a19-45da-9f21-7e706d5cecf3",
   "metadata": {},
   "outputs": [
    {
     "data": {
      "text/plain": [
       "8"
      ]
     },
     "execution_count": 44,
     "metadata": {},
     "output_type": "execute_result"
    }
   ],
   "source": [
    "len_val"
   ]
  },
  {
   "cell_type": "code",
   "execution_count": 46,
   "id": "d957506e-4f01-4139-a0a9-5862ba714d5b",
   "metadata": {},
   "outputs": [],
   "source": [
    "replace_str = val0.index(\"revision\")"
   ]
  },
  {
   "cell_type": "code",
   "execution_count": 48,
   "id": "d98e02bf-3121-4dc2-a76a-5f1bf360186d",
   "metadata": {},
   "outputs": [
    {
     "data": {
      "text/plain": [
       "'I am studying python. I do the practice everyday'"
      ]
     },
     "execution_count": 48,
     "metadata": {},
     "output_type": "execute_result"
    }
   ],
   "source": [
    "val0[:replace_str] + \"practice\" + val0[replace_str+8:]"
   ]
  },
  {
   "cell_type": "code",
   "execution_count": 49,
   "id": "6c16658b-af6e-4e32-9012-2feb872e2085",
   "metadata": {},
   "outputs": [],
   "source": [
    "val0 = val0[:replace_str] + \"practice\" + val0[replace_str+8:]"
   ]
  },
  {
   "cell_type": "code",
   "execution_count": 50,
   "id": "6d732ee4-c512-4b92-9702-5bf461e8e8b5",
   "metadata": {},
   "outputs": [],
   "source": [
    "# list"
   ]
  },
  {
   "cell_type": "code",
   "execution_count": 51,
   "id": "f84d660c-c096-4b9b-a39c-d2520162db35",
   "metadata": {},
   "outputs": [],
   "source": [
    "l = [1, \"l\", 5j]"
   ]
  },
  {
   "cell_type": "code",
   "execution_count": 52,
   "id": "9984e441-45f1-48aa-89d3-3e19e99564af",
   "metadata": {},
   "outputs": [
    {
     "data": {
      "text/plain": [
       "1"
      ]
     },
     "execution_count": 52,
     "metadata": {},
     "output_type": "execute_result"
    }
   ],
   "source": [
    "l[0]"
   ]
  },
  {
   "cell_type": "code",
   "execution_count": 53,
   "id": "7ffec7f0-c0bf-43e8-9eea-1267acd14930",
   "metadata": {},
   "outputs": [],
   "source": [
    "# negative indexing"
   ]
  },
  {
   "cell_type": "code",
   "execution_count": 54,
   "id": "f24c1d12-7432-48fc-9f6b-f759305fed0f",
   "metadata": {},
   "outputs": [
    {
     "data": {
      "text/plain": [
       "5j"
      ]
     },
     "execution_count": 54,
     "metadata": {},
     "output_type": "execute_result"
    }
   ],
   "source": [
    "l[-1]"
   ]
  },
  {
   "cell_type": "code",
   "execution_count": 55,
   "id": "45c531b5-31c1-4492-936d-501b59880d30",
   "metadata": {},
   "outputs": [],
   "source": [
    "l[-1] = 6j"
   ]
  },
  {
   "cell_type": "code",
   "execution_count": 56,
   "id": "79f1958f-b6a2-44f9-b5af-4039c1c9de54",
   "metadata": {},
   "outputs": [
    {
     "data": {
      "text/plain": [
       "[1, 'l', 6j]"
      ]
     },
     "execution_count": 56,
     "metadata": {},
     "output_type": "execute_result"
    }
   ],
   "source": [
    "l"
   ]
  },
  {
   "cell_type": "code",
   "execution_count": 57,
   "id": "09c04116-ad83-4da9-a659-978eff83c9d3",
   "metadata": {},
   "outputs": [],
   "source": [
    "l.remove(\"l\")"
   ]
  },
  {
   "cell_type": "code",
   "execution_count": 58,
   "id": "c825d77b-4688-48b2-8337-458a7f1e98a7",
   "metadata": {},
   "outputs": [
    {
     "data": {
      "text/plain": [
       "[1, 6j]"
      ]
     },
     "execution_count": 58,
     "metadata": {},
     "output_type": "execute_result"
    }
   ],
   "source": [
    "l"
   ]
  },
  {
   "cell_type": "code",
   "execution_count": 59,
   "id": "b8cbcb53-fa1a-4724-a1fe-97cb53b85b30",
   "metadata": {},
   "outputs": [],
   "source": [
    "l.insert(1, str())"
   ]
  },
  {
   "cell_type": "code",
   "execution_count": 60,
   "id": "79ac1445-cfca-4d3c-88ee-65e01334a44a",
   "metadata": {},
   "outputs": [
    {
     "data": {
      "text/plain": [
       "[1, '', 6j]"
      ]
     },
     "execution_count": 60,
     "metadata": {},
     "output_type": "execute_result"
    }
   ],
   "source": [
    "l"
   ]
  },
  {
   "cell_type": "code",
   "execution_count": 61,
   "id": "4f35e3d8-bdd4-4b38-af19-1d9410b52fa2",
   "metadata": {},
   "outputs": [],
   "source": [
    "l.append(\"hey appended\")"
   ]
  },
  {
   "cell_type": "code",
   "execution_count": 62,
   "id": "0a408d9a-d84c-4024-abd4-0a8032632a5d",
   "metadata": {},
   "outputs": [
    {
     "data": {
      "text/plain": [
       "[1, '', 6j, 'hey appended']"
      ]
     },
     "execution_count": 62,
     "metadata": {},
     "output_type": "execute_result"
    }
   ],
   "source": [
    "l"
   ]
  },
  {
   "cell_type": "code",
   "execution_count": 63,
   "id": "cd83df97-e575-4083-8828-eb334e77f6e5",
   "metadata": {},
   "outputs": [
    {
     "data": {
      "text/plain": [
       "'hey appended'"
      ]
     },
     "execution_count": 63,
     "metadata": {},
     "output_type": "execute_result"
    }
   ],
   "source": [
    "l.pop()"
   ]
  },
  {
   "cell_type": "code",
   "execution_count": 64,
   "id": "d2912c6e-6ac8-4166-9180-375fd5ffbdae",
   "metadata": {},
   "outputs": [
    {
     "data": {
      "text/plain": [
       "''"
      ]
     },
     "execution_count": 64,
     "metadata": {},
     "output_type": "execute_result"
    }
   ],
   "source": [
    "l.pop(1)"
   ]
  },
  {
   "cell_type": "code",
   "execution_count": 65,
   "id": "4c0dbd2f-02a9-4b06-a596-2fedd82e77fd",
   "metadata": {},
   "outputs": [
    {
     "data": {
      "text/plain": [
       "[1, 6j]"
      ]
     },
     "execution_count": 65,
     "metadata": {},
     "output_type": "execute_result"
    }
   ],
   "source": [
    "l"
   ]
  },
  {
   "cell_type": "code",
   "execution_count": 66,
   "id": "ad3a2d05-7ab3-495e-93d2-af664ae82f0c",
   "metadata": {
    "collapsed": true,
    "jupyter": {
     "outputs_hidden": true
    }
   },
   "outputs": [
    {
     "name": "stdout",
     "output_type": "stream",
     "text": [
      "Help on class list in module builtins:\n",
      "\n",
      "class list(object)\n",
      " |  list(iterable=(), /)\n",
      " |\n",
      " |  Built-in mutable sequence.\n",
      " |\n",
      " |  If no argument is given, the constructor creates a new empty list.\n",
      " |  The argument must be an iterable if specified.\n",
      " |\n",
      " |  Methods defined here:\n",
      " |\n",
      " |  __add__(self, value, /)\n",
      " |      Return self+value.\n",
      " |\n",
      " |  __contains__(self, key, /)\n",
      " |      Return bool(key in self).\n",
      " |\n",
      " |  __delitem__(self, key, /)\n",
      " |      Delete self[key].\n",
      " |\n",
      " |  __eq__(self, value, /)\n",
      " |      Return self==value.\n",
      " |\n",
      " |  __ge__(self, value, /)\n",
      " |      Return self>=value.\n",
      " |\n",
      " |  __getattribute__(self, name, /)\n",
      " |      Return getattr(self, name).\n",
      " |\n",
      " |  __getitem__(self, index, /)\n",
      " |      Return self[index].\n",
      " |\n",
      " |  __gt__(self, value, /)\n",
      " |      Return self>value.\n",
      " |\n",
      " |  __iadd__(self, value, /)\n",
      " |      Implement self+=value.\n",
      " |\n",
      " |  __imul__(self, value, /)\n",
      " |      Implement self*=value.\n",
      " |\n",
      " |  __init__(self, /, *args, **kwargs)\n",
      " |      Initialize self.  See help(type(self)) for accurate signature.\n",
      " |\n",
      " |  __iter__(self, /)\n",
      " |      Implement iter(self).\n",
      " |\n",
      " |  __le__(self, value, /)\n",
      " |      Return self<=value.\n",
      " |\n",
      " |  __len__(self, /)\n",
      " |      Return len(self).\n",
      " |\n",
      " |  __lt__(self, value, /)\n",
      " |      Return self<value.\n",
      " |\n",
      " |  __mul__(self, value, /)\n",
      " |      Return self*value.\n",
      " |\n",
      " |  __ne__(self, value, /)\n",
      " |      Return self!=value.\n",
      " |\n",
      " |  __repr__(self, /)\n",
      " |      Return repr(self).\n",
      " |\n",
      " |  __reversed__(self, /)\n",
      " |      Return a reverse iterator over the list.\n",
      " |\n",
      " |  __rmul__(self, value, /)\n",
      " |      Return value*self.\n",
      " |\n",
      " |  __setitem__(self, key, value, /)\n",
      " |      Set self[key] to value.\n",
      " |\n",
      " |  __sizeof__(self, /)\n",
      " |      Return the size of the list in memory, in bytes.\n",
      " |\n",
      " |  append(self, object, /)\n",
      " |      Append object to the end of the list.\n",
      " |\n",
      " |  clear(self, /)\n",
      " |      Remove all items from list.\n",
      " |\n",
      " |  copy(self, /)\n",
      " |      Return a shallow copy of the list.\n",
      " |\n",
      " |  count(self, value, /)\n",
      " |      Return number of occurrences of value.\n",
      " |\n",
      " |  extend(self, iterable, /)\n",
      " |      Extend list by appending elements from the iterable.\n",
      " |\n",
      " |  index(self, value, start=0, stop=9223372036854775807, /)\n",
      " |      Return first index of value.\n",
      " |\n",
      " |      Raises ValueError if the value is not present.\n",
      " |\n",
      " |  insert(self, index, object, /)\n",
      " |      Insert object before index.\n",
      " |\n",
      " |  pop(self, index=-1, /)\n",
      " |      Remove and return item at index (default last).\n",
      " |\n",
      " |      Raises IndexError if list is empty or index is out of range.\n",
      " |\n",
      " |  remove(self, value, /)\n",
      " |      Remove first occurrence of value.\n",
      " |\n",
      " |      Raises ValueError if the value is not present.\n",
      " |\n",
      " |  reverse(self, /)\n",
      " |      Reverse *IN PLACE*.\n",
      " |\n",
      " |  sort(self, /, *, key=None, reverse=False)\n",
      " |      Sort the list in ascending order and return None.\n",
      " |\n",
      " |      The sort is in-place (i.e. the list itself is modified) and stable (i.e. the\n",
      " |      order of two equal elements is maintained).\n",
      " |\n",
      " |      If a key function is given, apply it once to each list item and sort them,\n",
      " |      ascending or descending, according to their function values.\n",
      " |\n",
      " |      The reverse flag can be set to sort in descending order.\n",
      " |\n",
      " |  ----------------------------------------------------------------------\n",
      " |  Class methods defined here:\n",
      " |\n",
      " |  __class_getitem__(object, /)\n",
      " |      See PEP 585\n",
      " |\n",
      " |  ----------------------------------------------------------------------\n",
      " |  Static methods defined here:\n",
      " |\n",
      " |  __new__(*args, **kwargs)\n",
      " |      Create and return a new object.  See help(type) for accurate signature.\n",
      " |\n",
      " |  ----------------------------------------------------------------------\n",
      " |  Data and other attributes defined here:\n",
      " |\n",
      " |  __hash__ = None\n",
      "\n"
     ]
    }
   ],
   "source": [
    "help(list)"
   ]
  },
  {
   "cell_type": "code",
   "execution_count": 67,
   "id": "5a4a7ef0-ad72-4b82-b0b1-c033bad75473",
   "metadata": {},
   "outputs": [],
   "source": [
    "l = [1, 2]"
   ]
  },
  {
   "cell_type": "code",
   "execution_count": 68,
   "id": "93802ac2-d081-490d-a959-10df3e20b878",
   "metadata": {},
   "outputs": [],
   "source": [
    "l2 = [1, 5]"
   ]
  },
  {
   "cell_type": "code",
   "execution_count": 69,
   "id": "df1de691-af00-41f3-8761-87188d310178",
   "metadata": {},
   "outputs": [],
   "source": [
    "l.append(l2)"
   ]
  },
  {
   "cell_type": "code",
   "execution_count": 70,
   "id": "a9e5220d-c87a-4131-a66f-2aa553962efe",
   "metadata": {},
   "outputs": [
    {
     "data": {
      "text/plain": [
       "[1, 2, [1, 5]]"
      ]
     },
     "execution_count": 70,
     "metadata": {},
     "output_type": "execute_result"
    }
   ],
   "source": [
    "l"
   ]
  },
  {
   "cell_type": "code",
   "execution_count": 71,
   "id": "c3e4cc4d-fec6-4be9-be3f-995112532180",
   "metadata": {},
   "outputs": [],
   "source": [
    "l2 = [1, 5]\n",
    "l3 = [5, 9]"
   ]
  },
  {
   "cell_type": "code",
   "execution_count": 72,
   "id": "33421db5-5d31-4587-8525-47b98e48c5a7",
   "metadata": {},
   "outputs": [],
   "source": [
    "l2.extend(l3)"
   ]
  },
  {
   "cell_type": "code",
   "execution_count": 73,
   "id": "b0624d40-d917-4433-8eaf-e85394b0109b",
   "metadata": {},
   "outputs": [
    {
     "data": {
      "text/plain": [
       "[1, 5, 5, 9]"
      ]
     },
     "execution_count": 73,
     "metadata": {},
     "output_type": "execute_result"
    }
   ],
   "source": [
    "l2"
   ]
  },
  {
   "cell_type": "code",
   "execution_count": 74,
   "id": "5d31e6b8-2367-4825-839f-81c990a23a3b",
   "metadata": {},
   "outputs": [],
   "source": [
    "# dict"
   ]
  },
  {
   "cell_type": "code",
   "execution_count": 75,
   "id": "2825fb1b-121d-4b4f-8ede-40fb4427fcc7",
   "metadata": {},
   "outputs": [],
   "source": [
    "# {key: value}"
   ]
  },
  {
   "cell_type": "code",
   "execution_count": 76,
   "id": "a08e2a74-edbb-4506-997a-3acdb0de63e9",
   "metadata": {},
   "outputs": [],
   "source": [
    "d = {4: \"value\"}"
   ]
  },
  {
   "cell_type": "code",
   "execution_count": null,
   "id": "a2f873d3-8b1c-4184-a24a-98f7e78f1830",
   "metadata": {},
   "outputs": [],
   "source": [
    "# key should always be immutable"
   ]
  },
  {
   "cell_type": "code",
   "execution_count": 78,
   "id": "3eee7808-8838-4394-aab3-1707b6829a26",
   "metadata": {},
   "outputs": [],
   "source": [
    "d = {(4,5,9): [4,6], (): 8j}"
   ]
  },
  {
   "cell_type": "code",
   "execution_count": 79,
   "id": "c951b231-9f3f-4f7d-b2a4-d9e2e6724d12",
   "metadata": {},
   "outputs": [
    {
     "data": {
      "text/plain": [
       "{(4, 5, 9): [4, 6], (): 8j}"
      ]
     },
     "execution_count": 79,
     "metadata": {},
     "output_type": "execute_result"
    }
   ],
   "source": [
    "d"
   ]
  },
  {
   "cell_type": "code",
   "execution_count": 80,
   "id": "9ba2c2b6-95ec-4c97-96e1-d50adcf31458",
   "metadata": {},
   "outputs": [
    {
     "ename": "TypeError",
     "evalue": "unhashable type: 'list'",
     "output_type": "error",
     "traceback": [
      "\u001b[31m---------------------------------------------------------------------------\u001b[39m",
      "\u001b[31mTypeError\u001b[39m                                 Traceback (most recent call last)",
      "\u001b[36mCell\u001b[39m\u001b[36m \u001b[39m\u001b[32mIn[80]\u001b[39m\u001b[32m, line 1\u001b[39m\n\u001b[32m----> \u001b[39m\u001b[32m1\u001b[39m d1 = {[\u001b[32m4\u001b[39m,\u001b[32m5\u001b[39m,\u001b[32m9\u001b[39m]: (\u001b[32m4\u001b[39m,\u001b[32m6\u001b[39m), (): \u001b[32m9\u001b[39mj}\n",
      "\u001b[31mTypeError\u001b[39m: unhashable type: 'list'"
     ]
    }
   ],
   "source": [
    "d1 = {[4,5,9]: (4,6), (): 9j}"
   ]
  },
  {
   "cell_type": "code",
   "execution_count": null,
   "id": "025bd5f1-4989-4a82-9af4-c0abbe627df5",
   "metadata": {},
   "outputs": [],
   "source": [
    "what data types cannot be set as key: list, dict, set"
   ]
  },
  {
   "cell_type": "code",
   "execution_count": 82,
   "id": "577bbaa9-d767-48b7-9b89-c5192f09fab2",
   "metadata": {},
   "outputs": [],
   "source": [
    "d.update({(): 10j, \"\": range(10)})"
   ]
  },
  {
   "cell_type": "code",
   "execution_count": 83,
   "id": "e1b44eda-94a0-4bae-bc7a-c45304a78ce7",
   "metadata": {},
   "outputs": [
    {
     "data": {
      "text/plain": [
       "{(4, 5, 9): [4, 6], (): 10j, '': range(0, 10)}"
      ]
     },
     "execution_count": 83,
     "metadata": {},
     "output_type": "execute_result"
    }
   ],
   "source": [
    "d"
   ]
  },
  {
   "cell_type": "code",
   "execution_count": 84,
   "id": "4a71d8dd-95a0-4f79-81de-ca34e372f3aa",
   "metadata": {},
   "outputs": [],
   "source": [
    "d[\"india\"] = \"country\""
   ]
  },
  {
   "cell_type": "code",
   "execution_count": 85,
   "id": "ee8cfd47-e3c4-497b-b05c-9628c84a1b18",
   "metadata": {},
   "outputs": [
    {
     "data": {
      "text/plain": [
       "{(4, 5, 9): [4, 6], (): 10j, '': range(0, 10), 'india': 'country'}"
      ]
     },
     "execution_count": 85,
     "metadata": {},
     "output_type": "execute_result"
    }
   ],
   "source": [
    "d"
   ]
  },
  {
   "cell_type": "code",
   "execution_count": 86,
   "id": "1758c3fa-eeb6-4ee9-a4c7-eb8d502fe783",
   "metadata": {},
   "outputs": [],
   "source": [
    "d[()] = 5"
   ]
  },
  {
   "cell_type": "code",
   "execution_count": 87,
   "id": "b1514892-43c9-47f7-b45e-13e28f47ca59",
   "metadata": {},
   "outputs": [
    {
     "data": {
      "text/plain": [
       "{(4, 5, 9): [4, 6], (): 5, '': range(0, 10), 'india': 'country'}"
      ]
     },
     "execution_count": 87,
     "metadata": {},
     "output_type": "execute_result"
    }
   ],
   "source": [
    "d"
   ]
  },
  {
   "cell_type": "code",
   "execution_count": 88,
   "id": "b74afd98-2b7f-4205-b873-5c93bb00cf2b",
   "metadata": {},
   "outputs": [
    {
     "data": {
      "text/plain": [
       "[4, 6]"
      ]
     },
     "execution_count": 88,
     "metadata": {},
     "output_type": "execute_result"
    }
   ],
   "source": [
    "d[(4, 5 ,9)]"
   ]
  },
  {
   "cell_type": "code",
   "execution_count": 89,
   "id": "54f59a3f-1166-43eb-b6f8-25baa7f1d2ff",
   "metadata": {},
   "outputs": [
    {
     "ename": "KeyError",
     "evalue": "2",
     "output_type": "error",
     "traceback": [
      "\u001b[31m---------------------------------------------------------------------------\u001b[39m",
      "\u001b[31mKeyError\u001b[39m                                  Traceback (most recent call last)",
      "\u001b[36mCell\u001b[39m\u001b[36m \u001b[39m\u001b[32mIn[89]\u001b[39m\u001b[32m, line 1\u001b[39m\n\u001b[32m----> \u001b[39m\u001b[32m1\u001b[39m \u001b[43md\u001b[49m\u001b[43m[\u001b[49m\u001b[32;43m2\u001b[39;49m\u001b[43m]\u001b[49m\n",
      "\u001b[31mKeyError\u001b[39m: 2"
     ]
    }
   ],
   "source": [
    "d[2]"
   ]
  },
  {
   "cell_type": "code",
   "execution_count": 90,
   "id": "a91f121c-c75f-4b8f-9009-6761afd62d9f",
   "metadata": {},
   "outputs": [],
   "source": [
    "d.get(2)"
   ]
  },
  {
   "cell_type": "code",
   "execution_count": 91,
   "id": "2bc092e0-f778-4ac6-99c8-b8a29ff92acf",
   "metadata": {},
   "outputs": [
    {
     "data": {
      "text/plain": [
       "5"
      ]
     },
     "execution_count": 91,
     "metadata": {},
     "output_type": "execute_result"
    }
   ],
   "source": [
    "d.get(())"
   ]
  },
  {
   "cell_type": "code",
   "execution_count": 92,
   "id": "afa1a317-d3d6-4dbd-850b-6cf61351fd5f",
   "metadata": {},
   "outputs": [
    {
     "data": {
      "text/plain": [
       "'value not present'"
      ]
     },
     "execution_count": 92,
     "metadata": {},
     "output_type": "execute_result"
    }
   ],
   "source": [
    "d.get(2, \"value not present\")"
   ]
  },
  {
   "cell_type": "code",
   "execution_count": 93,
   "id": "fdce5478-8c4f-4a49-900f-1425d5c2cc25",
   "metadata": {},
   "outputs": [
    {
     "data": {
      "text/plain": [
       "('india', 'country')"
      ]
     },
     "execution_count": 93,
     "metadata": {},
     "output_type": "execute_result"
    }
   ],
   "source": [
    "d.popitem()"
   ]
  },
  {
   "cell_type": "code",
   "execution_count": 94,
   "id": "e6fa1a91-8aea-4905-a502-3a38466a654d",
   "metadata": {},
   "outputs": [],
   "source": [
    "del d[()]"
   ]
  },
  {
   "cell_type": "code",
   "execution_count": 95,
   "id": "0108b996-8d40-4802-8616-583b6816b6c4",
   "metadata": {},
   "outputs": [
    {
     "data": {
      "text/plain": [
       "{(4, 5, 9): [4, 6], '': range(0, 10)}"
      ]
     },
     "execution_count": 95,
     "metadata": {},
     "output_type": "execute_result"
    }
   ],
   "source": [
    "d"
   ]
  },
  {
   "cell_type": "code",
   "execution_count": 96,
   "id": "5d63cd3e-9960-40dc-81e3-9409451ffedb",
   "metadata": {},
   "outputs": [],
   "source": [
    "d.clear()"
   ]
  },
  {
   "cell_type": "code",
   "execution_count": 97,
   "id": "1ff0922e-eec2-4e2b-9d3f-415424e924dc",
   "metadata": {},
   "outputs": [
    {
     "data": {
      "text/plain": [
       "{}"
      ]
     },
     "execution_count": 97,
     "metadata": {},
     "output_type": "execute_result"
    }
   ],
   "source": [
    "d"
   ]
  },
  {
   "cell_type": "code",
   "execution_count": 101,
   "id": "8b1ffb5e-b5d8-479b-ae7f-30ad04b055da",
   "metadata": {},
   "outputs": [],
   "source": [
    "d = {}"
   ]
  },
  {
   "cell_type": "code",
   "execution_count": 105,
   "id": "2eb60a40-1fcf-43c1-86d2-defa80f90a6e",
   "metadata": {},
   "outputs": [],
   "source": [
    "d = dict()"
   ]
  },
  {
   "cell_type": "code",
   "execution_count": 102,
   "id": "aed31cc7-49bf-4848-b120-82ef8d71fa68",
   "metadata": {},
   "outputs": [
    {
     "data": {
      "text/plain": [
       "dict"
      ]
     },
     "execution_count": 102,
     "metadata": {},
     "output_type": "execute_result"
    }
   ],
   "source": [
    "type(d)"
   ]
  },
  {
   "cell_type": "code",
   "execution_count": 98,
   "id": "d2aff6fb-e851-4145-bb4b-fd1b07b5d45d",
   "metadata": {},
   "outputs": [],
   "source": [
    "# set"
   ]
  },
  {
   "cell_type": "code",
   "execution_count": 125,
   "id": "87f5962c-089f-4daf-9c26-cbc3ab4205c6",
   "metadata": {},
   "outputs": [],
   "source": [
    "# set itself is a Mutable data type but it allows you to store only immutable values\n",
    "# set is also called as collection of keys\n",
    "# set is an unordered collection"
   ]
  },
  {
   "cell_type": "code",
   "execution_count": 100,
   "id": "91354fe4-430a-41a1-979b-76caf8ada4a1",
   "metadata": {},
   "outputs": [],
   "source": [
    "s = set()"
   ]
  },
  {
   "cell_type": "code",
   "execution_count": 103,
   "id": "ae4a65d0-4adb-443d-bf0a-f871466a18f9",
   "metadata": {},
   "outputs": [],
   "source": [
    "s = {1, 5}"
   ]
  },
  {
   "cell_type": "code",
   "execution_count": 104,
   "id": "32a7e63e-db95-4339-ad9b-bb226aa5de3d",
   "metadata": {},
   "outputs": [
    {
     "ename": "TypeError",
     "evalue": "unhashable type: 'list'",
     "output_type": "error",
     "traceback": [
      "\u001b[31m---------------------------------------------------------------------------\u001b[39m",
      "\u001b[31mTypeError\u001b[39m                                 Traceback (most recent call last)",
      "\u001b[36mCell\u001b[39m\u001b[36m \u001b[39m\u001b[32mIn[104]\u001b[39m\u001b[32m, line 1\u001b[39m\n\u001b[32m----> \u001b[39m\u001b[32m1\u001b[39m s = {[\u001b[32m1\u001b[39m,\u001b[32m5\u001b[39m], \u001b[32m5\u001b[39m}\n",
      "\u001b[31mTypeError\u001b[39m: unhashable type: 'list'"
     ]
    }
   ],
   "source": [
    "s = {[1,5], 5}"
   ]
  },
  {
   "cell_type": "code",
   "execution_count": 106,
   "id": "1f2f7267-7c29-40c2-847f-da81bf62639a",
   "metadata": {},
   "outputs": [],
   "source": [
    "d = set()"
   ]
  },
  {
   "cell_type": "code",
   "execution_count": 107,
   "id": "f23e2224-d38b-4a67-89b8-e008f0f9fc5a",
   "metadata": {},
   "outputs": [
    {
     "data": {
      "text/plain": [
       "True"
      ]
     },
     "execution_count": 107,
     "metadata": {},
     "output_type": "execute_result"
    }
   ],
   "source": [
    "isinstance(d, set)"
   ]
  },
  {
   "cell_type": "code",
   "execution_count": 108,
   "id": "4a80285e-bff0-4371-9e47-55fe83a1f5f3",
   "metadata": {},
   "outputs": [
    {
     "data": {
      "text/plain": [
       "False"
      ]
     },
     "execution_count": 108,
     "metadata": {},
     "output_type": "execute_result"
    }
   ],
   "source": [
    "isinstance(d, dict)"
   ]
  },
  {
   "cell_type": "code",
   "execution_count": 109,
   "id": "8889e3fc-99a8-4de3-b4f4-5df95d2744af",
   "metadata": {},
   "outputs": [
    {
     "data": {
      "text/plain": [
       "True"
      ]
     },
     "execution_count": 109,
     "metadata": {},
     "output_type": "execute_result"
    }
   ],
   "source": [
    "isinstance({1: 5}, dict)"
   ]
  },
  {
   "cell_type": "code",
   "execution_count": 111,
   "id": "cde61c8a-7dc5-4748-aff2-e0f3ef0309b1",
   "metadata": {},
   "outputs": [
    {
     "data": {
      "text/plain": [
       "True"
      ]
     },
     "execution_count": 111,
     "metadata": {},
     "output_type": "execute_result"
    }
   ],
   "source": [
    "type(d) == set"
   ]
  },
  {
   "cell_type": "code",
   "execution_count": 112,
   "id": "939f922b-59ea-4191-af8e-a1c189d2d483",
   "metadata": {},
   "outputs": [],
   "source": [
    "s = ()"
   ]
  },
  {
   "cell_type": "code",
   "execution_count": 113,
   "id": "edb4dc52-58e6-4246-82c6-d1b9d4d9c188",
   "metadata": {},
   "outputs": [
    {
     "data": {
      "text/plain": [
       "tuple"
      ]
     },
     "execution_count": 113,
     "metadata": {},
     "output_type": "execute_result"
    }
   ],
   "source": [
    "type(s)"
   ]
  },
  {
   "cell_type": "code",
   "execution_count": 114,
   "id": "88e7938e-135a-4478-900f-5e7a8d2a93b0",
   "metadata": {},
   "outputs": [],
   "source": [
    "s = set()"
   ]
  },
  {
   "cell_type": "code",
   "execution_count": 115,
   "id": "84fbb2d8-4e6a-47e9-8e40-40cfdedb5b49",
   "metadata": {},
   "outputs": [],
   "source": [
    "s.add(5)"
   ]
  },
  {
   "cell_type": "code",
   "execution_count": 116,
   "id": "6202d74e-0f4c-4b4e-85aa-43c75a94e3bc",
   "metadata": {},
   "outputs": [
    {
     "data": {
      "text/plain": [
       "{5}"
      ]
     },
     "execution_count": 116,
     "metadata": {},
     "output_type": "execute_result"
    }
   ],
   "source": [
    "s"
   ]
  },
  {
   "cell_type": "code",
   "execution_count": 117,
   "id": "b498efd1-742a-4473-8673-2223b55c672f",
   "metadata": {},
   "outputs": [],
   "source": [
    "s.clear()"
   ]
  },
  {
   "cell_type": "code",
   "execution_count": 118,
   "id": "2b613239-c613-4fcf-b672-1ea778248d93",
   "metadata": {},
   "outputs": [
    {
     "data": {
      "text/plain": [
       "set()"
      ]
     },
     "execution_count": 118,
     "metadata": {},
     "output_type": "execute_result"
    }
   ],
   "source": [
    "s"
   ]
  },
  {
   "cell_type": "code",
   "execution_count": 119,
   "id": "a4f4c473-3ad1-4634-b1c2-c7a7b62c0773",
   "metadata": {},
   "outputs": [],
   "source": [
    "s = {1, 1, 5, 8}"
   ]
  },
  {
   "cell_type": "code",
   "execution_count": 120,
   "id": "19a6ff5c-d080-4578-aa7f-41d49163971f",
   "metadata": {},
   "outputs": [
    {
     "data": {
      "text/plain": [
       "{1, 5, 8}"
      ]
     },
     "execution_count": 120,
     "metadata": {},
     "output_type": "execute_result"
    }
   ],
   "source": [
    "s"
   ]
  },
  {
   "cell_type": "code",
   "execution_count": 121,
   "id": "461c18e7-20fb-40a2-8cad-27e4b5f51bf8",
   "metadata": {},
   "outputs": [],
   "source": [
    "s = {1, \"hey\", None, True, 5j, (5, 6)}"
   ]
  },
  {
   "cell_type": "code",
   "execution_count": 122,
   "id": "77dfab79-67d7-41ca-b351-e334ad4748b2",
   "metadata": {},
   "outputs": [
    {
     "data": {
      "text/plain": [
       "{(5, 6), 1, 5j, None, 'hey'}"
      ]
     },
     "execution_count": 122,
     "metadata": {},
     "output_type": "execute_result"
    }
   ],
   "source": [
    "s"
   ]
  },
  {
   "cell_type": "code",
   "execution_count": 123,
   "id": "eb99bc7a-cd01-4e7c-a6a1-7e04db50dead",
   "metadata": {},
   "outputs": [],
   "source": [
    "s = {1, \"hey\", None, True, 5j, (5, 6), 5j}"
   ]
  },
  {
   "cell_type": "code",
   "execution_count": 124,
   "id": "9414f3f0-71f4-44f2-94e4-d9f63cfadfe9",
   "metadata": {},
   "outputs": [
    {
     "data": {
      "text/plain": [
       "{(5, 6), 1, 5j, None, 'hey'}"
      ]
     },
     "execution_count": 124,
     "metadata": {},
     "output_type": "execute_result"
    }
   ],
   "source": [
    "s"
   ]
  },
  {
   "cell_type": "code",
   "execution_count": 126,
   "id": "382af842-6cf4-45d5-8d74-3a09296fe3df",
   "metadata": {
    "collapsed": true,
    "jupyter": {
     "outputs_hidden": true
    }
   },
   "outputs": [
    {
     "name": "stdout",
     "output_type": "stream",
     "text": [
      "Help on class set in module builtins:\n",
      "\n",
      "class set(object)\n",
      " |  set(iterable=(), /)\n",
      " |\n",
      " |  Build an unordered collection of unique elements.\n",
      " |\n",
      " |  Methods defined here:\n",
      " |\n",
      " |  __and__(self, value, /)\n",
      " |      Return self&value.\n",
      " |\n",
      " |  __contains__(self, object, /)\n",
      " |      x.__contains__(y) <==> y in x.\n",
      " |\n",
      " |  __eq__(self, value, /)\n",
      " |      Return self==value.\n",
      " |\n",
      " |  __ge__(self, value, /)\n",
      " |      Return self>=value.\n",
      " |\n",
      " |  __getattribute__(self, name, /)\n",
      " |      Return getattr(self, name).\n",
      " |\n",
      " |  __gt__(self, value, /)\n",
      " |      Return self>value.\n",
      " |\n",
      " |  __iand__(self, value, /)\n",
      " |      Return self&=value.\n",
      " |\n",
      " |  __init__(self, /, *args, **kwargs)\n",
      " |      Initialize self.  See help(type(self)) for accurate signature.\n",
      " |\n",
      " |  __ior__(self, value, /)\n",
      " |      Return self|=value.\n",
      " |\n",
      " |  __isub__(self, value, /)\n",
      " |      Return self-=value.\n",
      " |\n",
      " |  __iter__(self, /)\n",
      " |      Implement iter(self).\n",
      " |\n",
      " |  __ixor__(self, value, /)\n",
      " |      Return self^=value.\n",
      " |\n",
      " |  __le__(self, value, /)\n",
      " |      Return self<=value.\n",
      " |\n",
      " |  __len__(self, /)\n",
      " |      Return len(self).\n",
      " |\n",
      " |  __lt__(self, value, /)\n",
      " |      Return self<value.\n",
      " |\n",
      " |  __ne__(self, value, /)\n",
      " |      Return self!=value.\n",
      " |\n",
      " |  __or__(self, value, /)\n",
      " |      Return self|value.\n",
      " |\n",
      " |  __rand__(self, value, /)\n",
      " |      Return value&self.\n",
      " |\n",
      " |  __reduce__(self, /)\n",
      " |      Return state information for pickling.\n",
      " |\n",
      " |  __repr__(self, /)\n",
      " |      Return repr(self).\n",
      " |\n",
      " |  __ror__(self, value, /)\n",
      " |      Return value|self.\n",
      " |\n",
      " |  __rsub__(self, value, /)\n",
      " |      Return value-self.\n",
      " |\n",
      " |  __rxor__(self, value, /)\n",
      " |      Return value^self.\n",
      " |\n",
      " |  __sizeof__(self, /)\n",
      " |      S.__sizeof__() -> size of S in memory, in bytes.\n",
      " |\n",
      " |  __sub__(self, value, /)\n",
      " |      Return self-value.\n",
      " |\n",
      " |  __xor__(self, value, /)\n",
      " |      Return self^value.\n",
      " |\n",
      " |  add(self, object, /)\n",
      " |      Add an element to a set.\n",
      " |\n",
      " |      This has no effect if the element is already present.\n",
      " |\n",
      " |  clear(self, /)\n",
      " |      Remove all elements from this set.\n",
      " |\n",
      " |  copy(self, /)\n",
      " |      Return a shallow copy of a set.\n",
      " |\n",
      " |  difference(self, /, *others)\n",
      " |      Return a new set with elements in the set that are not in the others.\n",
      " |\n",
      " |  difference_update(self, /, *others)\n",
      " |      Update the set, removing elements found in others.\n",
      " |\n",
      " |  discard(self, object, /)\n",
      " |      Remove an element from a set if it is a member.\n",
      " |\n",
      " |      Unlike set.remove(), the discard() method does not raise\n",
      " |      an exception when an element is missing from the set.\n",
      " |\n",
      " |  intersection(self, /, *others)\n",
      " |      Return a new set with elements common to the set and all others.\n",
      " |\n",
      " |  intersection_update(self, /, *others)\n",
      " |      Update the set, keeping only elements found in it and all others.\n",
      " |\n",
      " |  isdisjoint(self, other, /)\n",
      " |      Return True if two sets have a null intersection.\n",
      " |\n",
      " |  issubset(self, other, /)\n",
      " |      Report whether another set contains this set.\n",
      " |\n",
      " |  issuperset(self, other, /)\n",
      " |      Report whether this set contains another set.\n",
      " |\n",
      " |  pop(self, /)\n",
      " |      Remove and return an arbitrary set element.\n",
      " |\n",
      " |      Raises KeyError if the set is empty.\n",
      " |\n",
      " |  remove(self, object, /)\n",
      " |      Remove an element from a set; it must be a member.\n",
      " |\n",
      " |      If the element is not a member, raise a KeyError.\n",
      " |\n",
      " |  symmetric_difference(self, other, /)\n",
      " |      Return a new set with elements in either the set or other but not both.\n",
      " |\n",
      " |  symmetric_difference_update(self, other, /)\n",
      " |      Update the set, keeping only elements found in either set, but not in both.\n",
      " |\n",
      " |  union(self, /, *others)\n",
      " |      Return a new set with elements from the set and all others.\n",
      " |\n",
      " |  update(self, /, *others)\n",
      " |      Update the set, adding elements from all others.\n",
      " |\n",
      " |  ----------------------------------------------------------------------\n",
      " |  Class methods defined here:\n",
      " |\n",
      " |  __class_getitem__(object, /)\n",
      " |      See PEP 585\n",
      " |\n",
      " |  ----------------------------------------------------------------------\n",
      " |  Static methods defined here:\n",
      " |\n",
      " |  __new__(*args, **kwargs)\n",
      " |      Create and return a new object.  See help(type) for accurate signature.\n",
      " |\n",
      " |  ----------------------------------------------------------------------\n",
      " |  Data and other attributes defined here:\n",
      " |\n",
      " |  __hash__ = None\n",
      "\n"
     ]
    }
   ],
   "source": [
    "help(set)"
   ]
  },
  {
   "cell_type": "code",
   "execution_count": 127,
   "id": "c18a2847-9a7c-4697-bcb7-af164932941a",
   "metadata": {},
   "outputs": [],
   "source": [
    "s.remove(1)"
   ]
  },
  {
   "cell_type": "code",
   "execution_count": 128,
   "id": "dc1bfea5-1ba3-4d98-85a2-0aabcc3e868a",
   "metadata": {},
   "outputs": [
    {
     "data": {
      "text/plain": [
       "{(5, 6), 5j, None, 'hey'}"
      ]
     },
     "execution_count": 128,
     "metadata": {},
     "output_type": "execute_result"
    }
   ],
   "source": [
    "s"
   ]
  },
  {
   "cell_type": "code",
   "execution_count": 129,
   "id": "61bb288b-6ef0-462a-b8fe-ab9756db2733",
   "metadata": {},
   "outputs": [
    {
     "ename": "KeyError",
     "evalue": "'5'",
     "output_type": "error",
     "traceback": [
      "\u001b[31m---------------------------------------------------------------------------\u001b[39m",
      "\u001b[31mKeyError\u001b[39m                                  Traceback (most recent call last)",
      "\u001b[36mCell\u001b[39m\u001b[36m \u001b[39m\u001b[32mIn[129]\u001b[39m\u001b[32m, line 1\u001b[39m\n\u001b[32m----> \u001b[39m\u001b[32m1\u001b[39m \u001b[43ms\u001b[49m\u001b[43m.\u001b[49m\u001b[43mremove\u001b[49m\u001b[43m(\u001b[49m\u001b[33;43m\"\u001b[39;49m\u001b[33;43m5\u001b[39;49m\u001b[33;43m\"\u001b[39;49m\u001b[43m)\u001b[49m\n",
      "\u001b[31mKeyError\u001b[39m: '5'"
     ]
    }
   ],
   "source": [
    "s.remove(\"5\")"
   ]
  },
  {
   "cell_type": "code",
   "execution_count": 130,
   "id": "bdcf0b10-6e2e-4772-8427-af739aae71c6",
   "metadata": {},
   "outputs": [],
   "source": [
    "s.discard(\"5\")"
   ]
  },
  {
   "cell_type": "code",
   "execution_count": 131,
   "id": "482dd330-41d9-4c65-8af1-b297f026cfb4",
   "metadata": {},
   "outputs": [],
   "source": [
    "s.discard(None)"
   ]
  },
  {
   "cell_type": "code",
   "execution_count": 132,
   "id": "b868c3df-41a3-43d8-a666-120bea2b6de4",
   "metadata": {},
   "outputs": [
    {
     "data": {
      "text/plain": [
       "{(5, 6), 5j, 'hey'}"
      ]
     },
     "execution_count": 132,
     "metadata": {},
     "output_type": "execute_result"
    }
   ],
   "source": [
    "s"
   ]
  },
  {
   "cell_type": "code",
   "execution_count": 133,
   "id": "11b0afec-c092-42fa-8e64-4987473dc53d",
   "metadata": {},
   "outputs": [],
   "source": [
    "l = (5, 6)"
   ]
  },
  {
   "cell_type": "code",
   "execution_count": 134,
   "id": "89257925-d8d9-4afb-ac50-89d5d7a2f228",
   "metadata": {},
   "outputs": [
    {
     "ename": "AttributeError",
     "evalue": "'tuple' object has no attribute 'remove'",
     "output_type": "error",
     "traceback": [
      "\u001b[31m---------------------------------------------------------------------------\u001b[39m",
      "\u001b[31mAttributeError\u001b[39m                            Traceback (most recent call last)",
      "\u001b[36mCell\u001b[39m\u001b[36m \u001b[39m\u001b[32mIn[134]\u001b[39m\u001b[32m, line 1\u001b[39m\n\u001b[32m----> \u001b[39m\u001b[32m1\u001b[39m \u001b[43ml\u001b[49m\u001b[43m.\u001b[49m\u001b[43mremove\u001b[49m(\u001b[32m5\u001b[39m)\n",
      "\u001b[31mAttributeError\u001b[39m: 'tuple' object has no attribute 'remove'"
     ]
    }
   ],
   "source": [
    "l.remove(5)"
   ]
  },
  {
   "cell_type": "code",
   "execution_count": 135,
   "id": "3c3f3e1b-d49c-4d33-a4be-da6ef4edb7fe",
   "metadata": {},
   "outputs": [
    {
     "ename": "AttributeError",
     "evalue": "'tuple' object has no attribute 'pop'",
     "output_type": "error",
     "traceback": [
      "\u001b[31m---------------------------------------------------------------------------\u001b[39m",
      "\u001b[31mAttributeError\u001b[39m                            Traceback (most recent call last)",
      "\u001b[36mCell\u001b[39m\u001b[36m \u001b[39m\u001b[32mIn[135]\u001b[39m\u001b[32m, line 1\u001b[39m\n\u001b[32m----> \u001b[39m\u001b[32m1\u001b[39m \u001b[43ml\u001b[49m\u001b[43m.\u001b[49m\u001b[43mpop\u001b[49m()\n",
      "\u001b[31mAttributeError\u001b[39m: 'tuple' object has no attribute 'pop'"
     ]
    }
   ],
   "source": [
    "l.pop()"
   ]
  },
  {
   "cell_type": "code",
   "execution_count": null,
   "id": "7b15325d-03ec-4fbc-ace5-4d07fc2cb71d",
   "metadata": {},
   "outputs": [],
   "source": [
    "Classes and objects\n",
    "Inheritance \n",
    "Class methods and static methods\n",
    "Magic methods"
   ]
  },
  {
   "cell_type": "code",
   "execution_count": null,
   "id": "52e9321d-049c-407d-a96e-7a3ac240e818",
   "metadata": {},
   "outputs": [],
   "source": [
    "# Classes and Object"
   ]
  },
  {
   "cell_type": "code",
   "execution_count": 136,
   "id": "abf5fdb1-ea5f-4e71-b557-e1e768b90208",
   "metadata": {},
   "outputs": [],
   "source": [
    "class Dog:\n",
    "    def __init__(self, name, breed):\n",
    "        self.name = name\n",
    "        self.breed = breed\n",
    "\n",
    "    def bark(self):\n",
    "        return \"Woof Woof!\""
   ]
  },
  {
   "cell_type": "code",
   "execution_count": 137,
   "id": "99a76017-0f8c-452e-adcf-eb7115740725",
   "metadata": {},
   "outputs": [],
   "source": [
    "d1 = Dog(\"Rocky\", \"Golden Retriever\")"
   ]
  },
  {
   "cell_type": "code",
   "execution_count": 138,
   "id": "30869d09-46e5-4ff7-be94-5b03802cb1e0",
   "metadata": {},
   "outputs": [
    {
     "data": {
      "text/plain": [
       "<__main__.Dog at 0x2a2e660ae40>"
      ]
     },
     "execution_count": 138,
     "metadata": {},
     "output_type": "execute_result"
    }
   ],
   "source": [
    "d1"
   ]
  },
  {
   "cell_type": "code",
   "execution_count": 139,
   "id": "e6480964-ac5d-4e38-8441-c4646e1f2a5c",
   "metadata": {},
   "outputs": [
    {
     "name": "stdout",
     "output_type": "stream",
     "text": [
      "<__main__.Dog object at 0x000002A2E660AE40>\n"
     ]
    }
   ],
   "source": [
    "print(d1)"
   ]
  },
  {
   "cell_type": "code",
   "execution_count": 140,
   "id": "609af48c-c8a2-4b1e-a7c5-6385560c7cf8",
   "metadata": {},
   "outputs": [
    {
     "data": {
      "text/plain": [
       "'Rocky'"
      ]
     },
     "execution_count": 140,
     "metadata": {},
     "output_type": "execute_result"
    }
   ],
   "source": [
    "d1.name"
   ]
  },
  {
   "cell_type": "code",
   "execution_count": 141,
   "id": "dfa5c8df-950a-45ec-a517-36766a8cf18f",
   "metadata": {},
   "outputs": [
    {
     "data": {
      "text/plain": [
       "'Golden Retriever'"
      ]
     },
     "execution_count": 141,
     "metadata": {},
     "output_type": "execute_result"
    }
   ],
   "source": [
    "d1.breed"
   ]
  },
  {
   "cell_type": "code",
   "execution_count": 142,
   "id": "b5734903-6614-432a-8148-26c1127b7672",
   "metadata": {},
   "outputs": [
    {
     "data": {
      "text/plain": [
       "'Woof Woof!'"
      ]
     },
     "execution_count": 142,
     "metadata": {},
     "output_type": "execute_result"
    }
   ],
   "source": [
    "d1.bark()"
   ]
  },
  {
   "cell_type": "code",
   "execution_count": 143,
   "id": "025112c9-a889-49a9-a053-3fbf683cc40a",
   "metadata": {},
   "outputs": [],
   "source": [
    "class A:\n",
    "    def __init__(self):\n",
    "        print(id(self))"
   ]
  },
  {
   "cell_type": "code",
   "execution_count": 144,
   "id": "faffccec-8a12-4108-92ac-43976422f759",
   "metadata": {},
   "outputs": [
    {
     "name": "stdout",
     "output_type": "stream",
     "text": [
      "2898673054256\n"
     ]
    }
   ],
   "source": [
    "a = A()"
   ]
  },
  {
   "cell_type": "code",
   "execution_count": 145,
   "id": "39aa3509-0db8-4f8d-9114-7f7ab7b23767",
   "metadata": {},
   "outputs": [
    {
     "data": {
      "text/plain": [
       "2898673054256"
      ]
     },
     "execution_count": 145,
     "metadata": {},
     "output_type": "execute_result"
    }
   ],
   "source": [
    "id(a)"
   ]
  },
  {
   "cell_type": "code",
   "execution_count": 146,
   "id": "f620f22f-05c6-4b9b-a619-7025bd2b65b6",
   "metadata": {},
   "outputs": [],
   "source": [
    "class B:\n",
    "    def __init__(self, a, b):\n",
    "        self.a = a\n",
    "        self.b = b\n",
    "\n",
    "    def func(self, c):\n",
    "        self.c = c"
   ]
  },
  {
   "cell_type": "code",
   "execution_count": 147,
   "id": "794dfb2c-538c-4510-bb2f-895130f9c858",
   "metadata": {},
   "outputs": [],
   "source": [
    "obj1 = B(5, 6)"
   ]
  },
  {
   "cell_type": "code",
   "execution_count": 148,
   "id": "390735f6-3eaf-4c67-962c-7344660a8998",
   "metadata": {},
   "outputs": [
    {
     "data": {
      "text/plain": [
       "5"
      ]
     },
     "execution_count": 148,
     "metadata": {},
     "output_type": "execute_result"
    }
   ],
   "source": [
    "obj1.a"
   ]
  },
  {
   "cell_type": "code",
   "execution_count": 149,
   "id": "e5d96be6-cd8a-4c18-8b98-bbf59bc656b5",
   "metadata": {},
   "outputs": [
    {
     "data": {
      "text/plain": [
       "6"
      ]
     },
     "execution_count": 149,
     "metadata": {},
     "output_type": "execute_result"
    }
   ],
   "source": [
    "obj1.b"
   ]
  },
  {
   "cell_type": "code",
   "execution_count": 150,
   "id": "e221de24-50db-4014-9881-cb526f0f2074",
   "metadata": {},
   "outputs": [
    {
     "ename": "AttributeError",
     "evalue": "'B' object has no attribute 'c'",
     "output_type": "error",
     "traceback": [
      "\u001b[31m---------------------------------------------------------------------------\u001b[39m",
      "\u001b[31mAttributeError\u001b[39m                            Traceback (most recent call last)",
      "\u001b[36mCell\u001b[39m\u001b[36m \u001b[39m\u001b[32mIn[150]\u001b[39m\u001b[32m, line 1\u001b[39m\n\u001b[32m----> \u001b[39m\u001b[32m1\u001b[39m \u001b[43mobj1\u001b[49m\u001b[43m.\u001b[49m\u001b[43mc\u001b[49m\n",
      "\u001b[31mAttributeError\u001b[39m: 'B' object has no attribute 'c'"
     ]
    }
   ],
   "source": [
    "obj1.c"
   ]
  },
  {
   "cell_type": "code",
   "execution_count": 151,
   "id": "6fe76c92-628c-43b1-a936-3a12c9cb90a9",
   "metadata": {},
   "outputs": [
    {
     "data": {
      "text/plain": [
       "{'a': 5, 'b': 6}"
      ]
     },
     "execution_count": 151,
     "metadata": {},
     "output_type": "execute_result"
    }
   ],
   "source": [
    "obj1.__dict__"
   ]
  },
  {
   "cell_type": "code",
   "execution_count": 152,
   "id": "857afcb6-f883-4e07-9091-c82ae57eba76",
   "metadata": {},
   "outputs": [],
   "source": [
    "obj1.func(8)"
   ]
  },
  {
   "cell_type": "code",
   "execution_count": 153,
   "id": "d366a906-f55b-416f-9982-200c3ca848d3",
   "metadata": {},
   "outputs": [
    {
     "data": {
      "text/plain": [
       "{'a': 5, 'b': 6, 'c': 8}"
      ]
     },
     "execution_count": 153,
     "metadata": {},
     "output_type": "execute_result"
    }
   ],
   "source": [
    "obj1.__dict__"
   ]
  },
  {
   "cell_type": "code",
   "execution_count": null,
   "id": "542440ba-4aeb-45e2-b452-68798d7e425f",
   "metadata": {},
   "outputs": [],
   "source": [
    "1) Object method\n",
    "2) Class method"
   ]
  },
  {
   "cell_type": "code",
   "execution_count": 154,
   "id": "27eff088-4aa6-4656-8b6c-9bb30b35fb79",
   "metadata": {},
   "outputs": [],
   "source": [
    "class Dog:\n",
    "    count = 0\n",
    "    def __init__(self, name):\n",
    "        self.name = name\n",
    "        Dog.count += 1\n",
    "\n",
    "    @classmethod\n",
    "    def get_count(cls):\n",
    "        return cls.count\n",
    "\n",
    "    def bark(self):\n",
    "        return f\"{self.name} say woof woof!\""
   ]
  },
  {
   "cell_type": "code",
   "execution_count": 156,
   "id": "9ed40e7a-21bb-459e-9e09-04cae0171376",
   "metadata": {},
   "outputs": [],
   "source": [
    "d1 = Dog(\"Tommy\")"
   ]
  },
  {
   "cell_type": "code",
   "execution_count": 157,
   "id": "a23dfed3-2b4f-4914-87e2-fef62b9c9d20",
   "metadata": {},
   "outputs": [],
   "source": [
    "d2 = Dog(\"Rocky\")"
   ]
  },
  {
   "cell_type": "code",
   "execution_count": 158,
   "id": "7c7b6c15-e0b6-4332-89bc-d8280b74ea0d",
   "metadata": {},
   "outputs": [],
   "source": [
    "d3 = Dog(\"Entertainment\")"
   ]
  },
  {
   "cell_type": "code",
   "execution_count": 159,
   "id": "41107160-b411-46e8-b8ff-b2c81eb793ae",
   "metadata": {},
   "outputs": [
    {
     "data": {
      "text/plain": [
       "3"
      ]
     },
     "execution_count": 159,
     "metadata": {},
     "output_type": "execute_result"
    }
   ],
   "source": [
    "d1.get_count()"
   ]
  },
  {
   "cell_type": "code",
   "execution_count": 160,
   "id": "31460693-746f-4af0-abd0-d274b8ca3234",
   "metadata": {},
   "outputs": [
    {
     "data": {
      "text/plain": [
       "3"
      ]
     },
     "execution_count": 160,
     "metadata": {},
     "output_type": "execute_result"
    }
   ],
   "source": [
    "d3.get_count()"
   ]
  },
  {
   "cell_type": "code",
   "execution_count": 161,
   "id": "5ee15375-e44f-4233-95df-8cd3a9f312e7",
   "metadata": {},
   "outputs": [
    {
     "data": {
      "text/plain": [
       "3"
      ]
     },
     "execution_count": 161,
     "metadata": {},
     "output_type": "execute_result"
    }
   ],
   "source": [
    "Dog.get_count()"
   ]
  },
  {
   "cell_type": "code",
   "execution_count": 162,
   "id": "b0e551bf-3480-4890-86e5-7721cf74684e",
   "metadata": {},
   "outputs": [
    {
     "data": {
      "text/plain": [
       "'Tommy say woof woof!'"
      ]
     },
     "execution_count": 162,
     "metadata": {},
     "output_type": "execute_result"
    }
   ],
   "source": [
    "d1.bark()"
   ]
  },
  {
   "cell_type": "code",
   "execution_count": 163,
   "id": "ad93e75e-e57c-4e79-9e50-88938d72d43f",
   "metadata": {},
   "outputs": [
    {
     "data": {
      "text/plain": [
       "'Rocky say woof woof!'"
      ]
     },
     "execution_count": 163,
     "metadata": {},
     "output_type": "execute_result"
    }
   ],
   "source": [
    "d2.bark()"
   ]
  },
  {
   "cell_type": "code",
   "execution_count": 164,
   "id": "561175e7-d049-49be-8058-64d8879779ab",
   "metadata": {},
   "outputs": [
    {
     "data": {
      "text/plain": [
       "'Entertainment say woof woof!'"
      ]
     },
     "execution_count": 164,
     "metadata": {},
     "output_type": "execute_result"
    }
   ],
   "source": [
    "d3.bark()"
   ]
  },
  {
   "cell_type": "code",
   "execution_count": 165,
   "id": "fa524984-6130-414c-93bc-1e5f55ffb7aa",
   "metadata": {},
   "outputs": [
    {
     "ename": "TypeError",
     "evalue": "Dog.bark() missing 1 required positional argument: 'self'",
     "output_type": "error",
     "traceback": [
      "\u001b[31m---------------------------------------------------------------------------\u001b[39m",
      "\u001b[31mTypeError\u001b[39m                                 Traceback (most recent call last)",
      "\u001b[36mCell\u001b[39m\u001b[36m \u001b[39m\u001b[32mIn[165]\u001b[39m\u001b[32m, line 1\u001b[39m\n\u001b[32m----> \u001b[39m\u001b[32m1\u001b[39m \u001b[43mDog\u001b[49m\u001b[43m.\u001b[49m\u001b[43mbark\u001b[49m\u001b[43m(\u001b[49m\u001b[43m)\u001b[49m\n",
      "\u001b[31mTypeError\u001b[39m: Dog.bark() missing 1 required positional argument: 'self'"
     ]
    }
   ],
   "source": [
    "Dog.bark()"
   ]
  },
  {
   "cell_type": "code",
   "execution_count": 166,
   "id": "12cb9fc2-b986-4ed1-9d76-bd67c7d897cd",
   "metadata": {},
   "outputs": [
    {
     "data": {
      "text/plain": [
       "'jermy say woof woof!'"
      ]
     },
     "execution_count": 166,
     "metadata": {},
     "output_type": "execute_result"
    }
   ],
   "source": [
    "Dog.bark(Dog(\"jermy\"))"
   ]
  },
  {
   "cell_type": "code",
   "execution_count": 167,
   "id": "8654612e-63ec-4b49-af49-84432ad7b789",
   "metadata": {},
   "outputs": [
    {
     "data": {
      "text/plain": [
       "'Entertainment say woof woof!'"
      ]
     },
     "execution_count": 167,
     "metadata": {},
     "output_type": "execute_result"
    }
   ],
   "source": [
    "Dog.bark(d3)"
   ]
  },
  {
   "cell_type": "code",
   "execution_count": 168,
   "id": "c9ccb87d-3024-4cc9-9115-fcfea30b22ee",
   "metadata": {},
   "outputs": [],
   "source": [
    "class Dog:\n",
    "    def __init__(self, name):\n",
    "        self.name = name\n",
    "\n",
    "    def bark(self):\n",
    "        print(f\"I have scratched: {self.scratched}\")\n",
    "        return f\"{self.name} say woof woof!\"\n",
    "\n",
    "    def scratch(self):\n",
    "        self.scratched = \"yes\""
   ]
  },
  {
   "cell_type": "code",
   "execution_count": 169,
   "id": "b718c898-a32e-4c54-a5ee-73946f1964af",
   "metadata": {},
   "outputs": [],
   "source": [
    "da = Dog(\"Tommy\")"
   ]
  },
  {
   "cell_type": "code",
   "execution_count": 170,
   "id": "67ef4ae2-f1d9-4568-b06c-e80f447254c2",
   "metadata": {},
   "outputs": [
    {
     "ename": "AttributeError",
     "evalue": "'Dog' object has no attribute 'scratched'",
     "output_type": "error",
     "traceback": [
      "\u001b[31m---------------------------------------------------------------------------\u001b[39m",
      "\u001b[31mAttributeError\u001b[39m                            Traceback (most recent call last)",
      "\u001b[36mCell\u001b[39m\u001b[36m \u001b[39m\u001b[32mIn[170]\u001b[39m\u001b[32m, line 1\u001b[39m\n\u001b[32m----> \u001b[39m\u001b[32m1\u001b[39m \u001b[43mda\u001b[49m\u001b[43m.\u001b[49m\u001b[43mbark\u001b[49m\u001b[43m(\u001b[49m\u001b[43m)\u001b[49m\n",
      "\u001b[36mCell\u001b[39m\u001b[36m \u001b[39m\u001b[32mIn[168]\u001b[39m\u001b[32m, line 6\u001b[39m, in \u001b[36mDog.bark\u001b[39m\u001b[34m(self)\u001b[39m\n\u001b[32m      5\u001b[39m \u001b[38;5;28;01mdef\u001b[39;00m\u001b[38;5;250m \u001b[39m\u001b[34mbark\u001b[39m(\u001b[38;5;28mself\u001b[39m):\n\u001b[32m----> \u001b[39m\u001b[32m6\u001b[39m     \u001b[38;5;28mprint\u001b[39m(\u001b[33mf\u001b[39m\u001b[33m\"\u001b[39m\u001b[33mI have scratched: \u001b[39m\u001b[38;5;132;01m{\u001b[39;00m\u001b[38;5;28;43mself\u001b[39;49m\u001b[43m.\u001b[49m\u001b[43mscratched\u001b[49m\u001b[38;5;132;01m}\u001b[39;00m\u001b[33m\"\u001b[39m)\n\u001b[32m      7\u001b[39m     \u001b[38;5;28;01mreturn\u001b[39;00m \u001b[33mf\u001b[39m\u001b[33m\"\u001b[39m\u001b[38;5;132;01m{\u001b[39;00m\u001b[38;5;28mself\u001b[39m.name\u001b[38;5;132;01m}\u001b[39;00m\u001b[33m say woof woof!\u001b[39m\u001b[33m\"\u001b[39m\n",
      "\u001b[31mAttributeError\u001b[39m: 'Dog' object has no attribute 'scratched'"
     ]
    }
   ],
   "source": [
    "da.bark()"
   ]
  },
  {
   "cell_type": "code",
   "execution_count": 171,
   "id": "3b4b2e92-ff0a-4e22-b265-787a172af68b",
   "metadata": {},
   "outputs": [],
   "source": [
    "da.scratch()"
   ]
  },
  {
   "cell_type": "code",
   "execution_count": 172,
   "id": "9df8bd93-05f1-4b4c-9837-cf0be61d0a53",
   "metadata": {},
   "outputs": [
    {
     "name": "stdout",
     "output_type": "stream",
     "text": [
      "I have scratched: yes\n"
     ]
    },
    {
     "data": {
      "text/plain": [
       "'Tommy say woof woof!'"
      ]
     },
     "execution_count": 172,
     "metadata": {},
     "output_type": "execute_result"
    }
   ],
   "source": [
    "da.bark()"
   ]
  },
  {
   "cell_type": "code",
   "execution_count": null,
   "id": "fc25ed22-3cd9-4c36-9fe5-b557d0c92c52",
   "metadata": {},
   "outputs": [],
   "source": [
    "#static method"
   ]
  },
  {
   "cell_type": "code",
   "execution_count": 179,
   "id": "14e6586e-91e9-493c-83ce-be08fb87f0eb",
   "metadata": {},
   "outputs": [],
   "source": [
    "class Dog:\n",
    "    count = 0\n",
    "    def __init__(self, name):\n",
    "        self.name = name\n",
    "        Dog.count += 1\n",
    "\n",
    "    @classmethod\n",
    "    def get_count(cls):\n",
    "        return cls.count\n",
    "\n",
    "    def bark(self, *args):\n",
    "        print(f\"I have calulated {args}--> {Dog.calculate(*args)}\")\n",
    "        return f\"{self.name} say woof woof!\"\n",
    "\n",
    "    @staticmethod\n",
    "    def calculate(*args):\n",
    "        return sum(args)"
   ]
  },
  {
   "cell_type": "code",
   "execution_count": 180,
   "id": "79ac73ba-0885-423b-863c-3255b5781284",
   "metadata": {},
   "outputs": [],
   "source": [
    "dog_1 = Dog(\"Bruno\")"
   ]
  },
  {
   "cell_type": "code",
   "execution_count": 181,
   "id": "ea711d0b-4e07-4109-b3bd-3e497fbd905e",
   "metadata": {},
   "outputs": [
    {
     "data": {
      "text/plain": [
       "138"
      ]
     },
     "execution_count": 181,
     "metadata": {},
     "output_type": "execute_result"
    }
   ],
   "source": [
    "dog_1.calculate(1, 5, 8 , 9, 10, 5, 100)"
   ]
  },
  {
   "cell_type": "code",
   "execution_count": 182,
   "id": "a0fa942a-fc95-479c-9776-119dc98c9cab",
   "metadata": {},
   "outputs": [
    {
     "name": "stdout",
     "output_type": "stream",
     "text": [
      "I have calulated (1, 5, 8, 9, 10, 5, 100)--> 138\n"
     ]
    },
    {
     "data": {
      "text/plain": [
       "'Bruno say woof woof!'"
      ]
     },
     "execution_count": 182,
     "metadata": {},
     "output_type": "execute_result"
    }
   ],
   "source": [
    "dog_1.bark(1, 5, 8 , 9, 10, 5, 100)"
   ]
  },
  {
   "cell_type": "code",
   "execution_count": 178,
   "id": "364037a0-1aae-4541-b831-556d9c4b6a57",
   "metadata": {},
   "outputs": [
    {
     "data": {
      "text/plain": [
       "8"
      ]
     },
     "execution_count": 178,
     "metadata": {},
     "output_type": "execute_result"
    }
   ],
   "source": [
    "sum((1,2,5))"
   ]
  },
  {
   "cell_type": "code",
   "execution_count": 183,
   "id": "201c0bd4-b4a1-48ae-8387-ab8a01ac9d63",
   "metadata": {},
   "outputs": [],
   "source": [
    "def func(*args):\n",
    "    return args"
   ]
  },
  {
   "cell_type": "code",
   "execution_count": 184,
   "id": "ceb666ce-9cd4-4adb-8dcd-104e81b08934",
   "metadata": {},
   "outputs": [
    {
     "data": {
      "text/plain": [
       "(1, 2, 5)"
      ]
     },
     "execution_count": 184,
     "metadata": {},
     "output_type": "execute_result"
    }
   ],
   "source": [
    "func(1, 2, 5)"
   ]
  },
  {
   "cell_type": "code",
   "execution_count": 185,
   "id": "b05b7e4a-ca1f-4b7c-ac28-37eaefcfd04c",
   "metadata": {},
   "outputs": [
    {
     "data": {
      "text/plain": [
       "((1, 2, 5),)"
      ]
     },
     "execution_count": 185,
     "metadata": {},
     "output_type": "execute_result"
    }
   ],
   "source": [
    "func((1,2,5))"
   ]
  },
  {
   "cell_type": "code",
   "execution_count": 186,
   "id": "ce1c1b41-ea08-4322-884d-41f198b21e6f",
   "metadata": {},
   "outputs": [],
   "source": [
    "b  =(1,2,5, 8)"
   ]
  },
  {
   "cell_type": "code",
   "execution_count": 187,
   "id": "a9ed4aeb-4dcd-4e11-9e6a-60d33e46b099",
   "metadata": {},
   "outputs": [
    {
     "data": {
      "text/plain": [
       "(1, 2, 5, 8)"
      ]
     },
     "execution_count": 187,
     "metadata": {},
     "output_type": "execute_result"
    }
   ],
   "source": [
    "func(*b)"
   ]
  },
  {
   "cell_type": "code",
   "execution_count": 191,
   "id": "b1136fcd-2ebb-4883-acda-f51d4fed3584",
   "metadata": {},
   "outputs": [
    {
     "data": {
      "text/plain": [
       "((1, 2, 5, 8),)"
      ]
     },
     "execution_count": 191,
     "metadata": {},
     "output_type": "execute_result"
    }
   ],
   "source": [
    "func(b)"
   ]
  },
  {
   "cell_type": "code",
   "execution_count": 192,
   "id": "81bd06d7-2251-4123-b5c8-aa5c15d4464b",
   "metadata": {},
   "outputs": [],
   "source": [
    "class Dog:\n",
    "    count = 0\n",
    "    def __init__(self, name):\n",
    "        self.name = name\n",
    "        Dog.count += 1\n",
    "\n",
    "    @classmethod\n",
    "    def get_count(cls):\n",
    "        return cls.count\n",
    "\n",
    "    def bark(self):\n",
    "        print(self.name)\n",
    "        return f\"{self.name} say woof woof!\"\n",
    "\n",
    "    @staticmethod # --decorator\n",
    "    def print_name(obj1):\n",
    "        print(obj1.name)"
   ]
  },
  {
   "cell_type": "code",
   "execution_count": 193,
   "id": "ee028154-18cb-4878-9a38-c407e96ab565",
   "metadata": {},
   "outputs": [],
   "source": [
    "dog_2 = Dog(\"hodor\")"
   ]
  },
  {
   "cell_type": "code",
   "execution_count": 194,
   "id": "d74e2adf-37aa-4c6b-bbd5-3125d88f7522",
   "metadata": {},
   "outputs": [],
   "source": [
    "dog_3 = Dog(\"james\")"
   ]
  },
  {
   "cell_type": "code",
   "execution_count": 195,
   "id": "6c1bfb63-258b-4e5e-9271-06c3f3561e60",
   "metadata": {},
   "outputs": [
    {
     "name": "stdout",
     "output_type": "stream",
     "text": [
      "hodor\n"
     ]
    }
   ],
   "source": [
    "dog_2.print_name(dog_2)"
   ]
  },
  {
   "cell_type": "code",
   "execution_count": 196,
   "id": "b2152a58-9041-492b-8936-ec527a821cb5",
   "metadata": {},
   "outputs": [
    {
     "name": "stdout",
     "output_type": "stream",
     "text": [
      "james\n"
     ]
    }
   ],
   "source": [
    "dog_2.print_name(dog_3)"
   ]
  },
  {
   "cell_type": "code",
   "execution_count": null,
   "id": "6e7b41d3-eb22-4ddb-8caf-43c069ecf9a1",
   "metadata": {},
   "outputs": [],
   "source": [
    "# inheritence\n",
    "# magic methods"
   ]
  }
 ],
 "metadata": {
  "kernelspec": {
   "display_name": "Python 3 (ipykernel)",
   "language": "python",
   "name": "python3"
  },
  "language_info": {
   "codemirror_mode": {
    "name": "ipython",
    "version": 3
   },
   "file_extension": ".py",
   "mimetype": "text/x-python",
   "name": "python",
   "nbconvert_exporter": "python",
   "pygments_lexer": "ipython3",
   "version": "3.13.3"
  }
 },
 "nbformat": 4,
 "nbformat_minor": 5
}
