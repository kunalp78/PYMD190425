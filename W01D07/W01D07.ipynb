{
 "cells": [
  {
   "cell_type": "code",
   "execution_count": null,
   "id": "95244f58-7a74-458c-8182-5c0bd4dc4aff",
   "metadata": {},
   "outputs": [],
   "source": [
    "Dunder methods (magic methods)\n",
    "File handling\n",
    "Context mananager\n",
    "Exception handling"
   ]
  },
  {
   "cell_type": "code",
   "execution_count": null,
   "id": "a26d02f1-6b32-49c5-8247-02359759c0fd",
   "metadata": {},
   "outputs": [],
   "source": [
    "__<name>__ < -- dunder method\n",
    "example: __init__"
   ]
  },
  {
   "cell_type": "code",
   "execution_count": 1,
   "id": "99e2320a-4c39-4d29-8497-1119f53e7756",
   "metadata": {
    "collapsed": true,
    "jupyter": {
     "outputs_hidden": true
    }
   },
   "outputs": [
    {
     "name": "stdout",
     "output_type": "stream",
     "text": [
      "Help on class list in module builtins:\n",
      "\n",
      "class list(object)\n",
      " |  list(iterable=(), /)\n",
      " |\n",
      " |  Built-in mutable sequence.\n",
      " |\n",
      " |  If no argument is given, the constructor creates a new empty list.\n",
      " |  The argument must be an iterable if specified.\n",
      " |\n",
      " |  Methods defined here:\n",
      " |\n",
      " |  __add__(self, value, /)\n",
      " |      Return self+value.\n",
      " |\n",
      " |  __contains__(self, key, /)\n",
      " |      Return bool(key in self).\n",
      " |\n",
      " |  __delitem__(self, key, /)\n",
      " |      Delete self[key].\n",
      " |\n",
      " |  __eq__(self, value, /)\n",
      " |      Return self==value.\n",
      " |\n",
      " |  __ge__(self, value, /)\n",
      " |      Return self>=value.\n",
      " |\n",
      " |  __getattribute__(self, name, /)\n",
      " |      Return getattr(self, name).\n",
      " |\n",
      " |  __getitem__(self, index, /)\n",
      " |      Return self[index].\n",
      " |\n",
      " |  __gt__(self, value, /)\n",
      " |      Return self>value.\n",
      " |\n",
      " |  __iadd__(self, value, /)\n",
      " |      Implement self+=value.\n",
      " |\n",
      " |  __imul__(self, value, /)\n",
      " |      Implement self*=value.\n",
      " |\n",
      " |  __init__(self, /, *args, **kwargs)\n",
      " |      Initialize self.  See help(type(self)) for accurate signature.\n",
      " |\n",
      " |  __iter__(self, /)\n",
      " |      Implement iter(self).\n",
      " |\n",
      " |  __le__(self, value, /)\n",
      " |      Return self<=value.\n",
      " |\n",
      " |  __len__(self, /)\n",
      " |      Return len(self).\n",
      " |\n",
      " |  __lt__(self, value, /)\n",
      " |      Return self<value.\n",
      " |\n",
      " |  __mul__(self, value, /)\n",
      " |      Return self*value.\n",
      " |\n",
      " |  __ne__(self, value, /)\n",
      " |      Return self!=value.\n",
      " |\n",
      " |  __repr__(self, /)\n",
      " |      Return repr(self).\n",
      " |\n",
      " |  __reversed__(self, /)\n",
      " |      Return a reverse iterator over the list.\n",
      " |\n",
      " |  __rmul__(self, value, /)\n",
      " |      Return value*self.\n",
      " |\n",
      " |  __setitem__(self, key, value, /)\n",
      " |      Set self[key] to value.\n",
      " |\n",
      " |  __sizeof__(self, /)\n",
      " |      Return the size of the list in memory, in bytes.\n",
      " |\n",
      " |  append(self, object, /)\n",
      " |      Append object to the end of the list.\n",
      " |\n",
      " |  clear(self, /)\n",
      " |      Remove all items from list.\n",
      " |\n",
      " |  copy(self, /)\n",
      " |      Return a shallow copy of the list.\n",
      " |\n",
      " |  count(self, value, /)\n",
      " |      Return number of occurrences of value.\n",
      " |\n",
      " |  extend(self, iterable, /)\n",
      " |      Extend list by appending elements from the iterable.\n",
      " |\n",
      " |  index(self, value, start=0, stop=9223372036854775807, /)\n",
      " |      Return first index of value.\n",
      " |\n",
      " |      Raises ValueError if the value is not present.\n",
      " |\n",
      " |  insert(self, index, object, /)\n",
      " |      Insert object before index.\n",
      " |\n",
      " |  pop(self, index=-1, /)\n",
      " |      Remove and return item at index (default last).\n",
      " |\n",
      " |      Raises IndexError if list is empty or index is out of range.\n",
      " |\n",
      " |  remove(self, value, /)\n",
      " |      Remove first occurrence of value.\n",
      " |\n",
      " |      Raises ValueError if the value is not present.\n",
      " |\n",
      " |  reverse(self, /)\n",
      " |      Reverse *IN PLACE*.\n",
      " |\n",
      " |  sort(self, /, *, key=None, reverse=False)\n",
      " |      Sort the list in ascending order and return None.\n",
      " |\n",
      " |      The sort is in-place (i.e. the list itself is modified) and stable (i.e. the\n",
      " |      order of two equal elements is maintained).\n",
      " |\n",
      " |      If a key function is given, apply it once to each list item and sort them,\n",
      " |      ascending or descending, according to their function values.\n",
      " |\n",
      " |      The reverse flag can be set to sort in descending order.\n",
      " |\n",
      " |  ----------------------------------------------------------------------\n",
      " |  Class methods defined here:\n",
      " |\n",
      " |  __class_getitem__(object, /)\n",
      " |      See PEP 585\n",
      " |\n",
      " |  ----------------------------------------------------------------------\n",
      " |  Static methods defined here:\n",
      " |\n",
      " |  __new__(*args, **kwargs)\n",
      " |      Create and return a new object.  See help(type) for accurate signature.\n",
      " |\n",
      " |  ----------------------------------------------------------------------\n",
      " |  Data and other attributes defined here:\n",
      " |\n",
      " |  __hash__ = None\n",
      "\n"
     ]
    }
   ],
   "source": [
    "help(list)"
   ]
  },
  {
   "cell_type": "code",
   "execution_count": 3,
   "id": "7944558c-52b2-4bf3-b4f4-0f24243033c6",
   "metadata": {},
   "outputs": [
    {
     "name": "stdout",
     "output_type": "stream",
     "text": [
      "['__add__', '__class__', '__class_getitem__', '__contains__', '__delattr__', '__delitem__', '__dir__', '__doc__', '__eq__', '__format__', '__ge__', '__getattribute__', '__getitem__', '__getstate__', '__gt__', '__hash__', '__iadd__', '__imul__', '__init__', '__init_subclass__', '__iter__', '__le__', '__len__', '__lt__', '__mul__', '__ne__', '__new__', '__reduce__', '__reduce_ex__', '__repr__', '__reversed__', '__rmul__', '__setattr__', '__setitem__', '__sizeof__', '__str__', '__subclasshook__', 'append', 'clear', 'copy', 'count', 'extend', 'index', 'insert', 'pop', 'remove', 'reverse', 'sort']\n"
     ]
    }
   ],
   "source": [
    "print(dir(list))"
   ]
  },
  {
   "cell_type": "code",
   "execution_count": null,
   "id": "7b25c1d8-4be0-4c06-8238-ebaaa7b262a4",
   "metadata": {},
   "outputs": [],
   "source": [
    "3 mins\n",
    "print all the dunder methods of list class."
   ]
  },
  {
   "cell_type": "code",
   "execution_count": 4,
   "id": "c1c1c08b-2535-4ef6-9187-15087c78d9c4",
   "metadata": {
    "collapsed": true,
    "jupyter": {
     "outputs_hidden": true
    }
   },
   "outputs": [
    {
     "data": {
      "text/plain": [
       "['__add__',\n",
       " '__class__',\n",
       " '__class_getitem__',\n",
       " '__contains__',\n",
       " '__delattr__',\n",
       " '__delitem__',\n",
       " '__dir__',\n",
       " '__doc__',\n",
       " '__eq__',\n",
       " '__format__',\n",
       " '__ge__',\n",
       " '__getattribute__',\n",
       " '__getitem__',\n",
       " '__getstate__',\n",
       " '__gt__',\n",
       " '__hash__',\n",
       " '__iadd__',\n",
       " '__imul__',\n",
       " '__init__',\n",
       " '__init_subclass__',\n",
       " '__iter__',\n",
       " '__le__',\n",
       " '__len__',\n",
       " '__lt__',\n",
       " '__mul__',\n",
       " '__ne__',\n",
       " '__new__',\n",
       " '__reduce__',\n",
       " '__reduce_ex__',\n",
       " '__repr__',\n",
       " '__reversed__',\n",
       " '__rmul__',\n",
       " '__setattr__',\n",
       " '__setitem__',\n",
       " '__sizeof__',\n",
       " '__str__',\n",
       " '__subclasshook__']"
      ]
     },
     "execution_count": 4,
     "metadata": {},
     "output_type": "execute_result"
    }
   ],
   "source": [
    "list(filter(lambda func: func[0:2] == \"__\" and func[-2:] == \"__\", dir(list)))"
   ]
  },
  {
   "cell_type": "code",
   "execution_count": 5,
   "id": "16bcc4a2-ee16-4311-91e2-218f196be4f7",
   "metadata": {},
   "outputs": [
    {
     "name": "stdout",
     "output_type": "stream",
     "text": [
      "['__add__', '__class__', '__class_getitem__', '__contains__', '__delattr__', '__delitem__', '__dir__', '__doc__', '__eq__', '__format__', '__ge__', '__getattribute__', '__getitem__', '__getstate__', '__gt__', '__hash__', '__iadd__', '__imul__', '__init__', '__init_subclass__', '__iter__', '__le__', '__len__', '__lt__', '__mul__', '__ne__', '__new__', '__reduce__', '__reduce_ex__', '__repr__', '__reversed__', '__rmul__', '__setattr__', '__setitem__', '__sizeof__', '__str__', '__subclasshook__']\n"
     ]
    }
   ],
   "source": [
    "print(list(filter(lambda func: func[0:2] == \"__\" and func[-2:] == \"__\", dir(list))))"
   ]
  },
  {
   "cell_type": "code",
   "execution_count": 6,
   "id": "5bebb58c-bae0-439c-8b15-a160b07845c7",
   "metadata": {},
   "outputs": [],
   "source": [
    "class String:\n",
    "    def __init__(self, s):\n",
    "        self.string = s"
   ]
  },
  {
   "cell_type": "code",
   "execution_count": 7,
   "id": "b07f67de-aba2-4769-b908-e8e088cfa69e",
   "metadata": {},
   "outputs": [],
   "source": [
    "s = String(\"Nanda\")"
   ]
  },
  {
   "cell_type": "code",
   "execution_count": 8,
   "id": "51881569-7dad-44fd-8db3-30323c9260a7",
   "metadata": {},
   "outputs": [
    {
     "data": {
      "text/plain": [
       "<__main__.String at 0x1b3d1d09400>"
      ]
     },
     "execution_count": 8,
     "metadata": {},
     "output_type": "execute_result"
    }
   ],
   "source": [
    "s"
   ]
  },
  {
   "cell_type": "code",
   "execution_count": 9,
   "id": "e42c48a6-0d31-4389-bc20-7d029bb27f59",
   "metadata": {},
   "outputs": [
    {
     "name": "stdout",
     "output_type": "stream",
     "text": [
      "<__main__.String object at 0x000001B3D1D09400>\n"
     ]
    }
   ],
   "source": [
    "print(s)"
   ]
  },
  {
   "cell_type": "code",
   "execution_count": 14,
   "id": "95bdd284-8a6e-4574-9080-a37195136767",
   "metadata": {},
   "outputs": [],
   "source": [
    "class String:\n",
    "    def __init__(self, s):\n",
    "        self.string = s\n",
    "\n",
    "    def __str__(self):\n",
    "        return f\"string: {self.string}\""
   ]
  },
  {
   "cell_type": "code",
   "execution_count": 15,
   "id": "b875f20d-14b1-4455-a556-535db0d53d43",
   "metadata": {},
   "outputs": [],
   "source": [
    "s = String(\"Nanda\")"
   ]
  },
  {
   "cell_type": "code",
   "execution_count": 16,
   "id": "7136c032-f859-4223-ad84-a9c1dc591e8d",
   "metadata": {},
   "outputs": [
    {
     "data": {
      "text/plain": [
       "<__main__.String at 0x1b3d1d0b8c0>"
      ]
     },
     "execution_count": 16,
     "metadata": {},
     "output_type": "execute_result"
    }
   ],
   "source": [
    "s"
   ]
  },
  {
   "cell_type": "code",
   "execution_count": 17,
   "id": "788d29bc-fc3a-40e4-869b-5f9e67599e00",
   "metadata": {},
   "outputs": [
    {
     "name": "stdout",
     "output_type": "stream",
     "text": [
      "string: Nanda\n"
     ]
    }
   ],
   "source": [
    "print(s)"
   ]
  },
  {
   "cell_type": "code",
   "execution_count": 19,
   "id": "410ad71b-f80f-4295-8b9e-49a57f7d1e36",
   "metadata": {},
   "outputs": [],
   "source": [
    "class String:\n",
    "    def __init__(self, s):\n",
    "        self.string = s\n",
    "\n",
    "    def __str__(self):\n",
    "        return f\"string: {self.string}\"\n",
    "\n",
    "    def __repr__(self):\n",
    "        return f\"Object(self.string={self.string})\""
   ]
  },
  {
   "cell_type": "code",
   "execution_count": 20,
   "id": "b11a5d8c-9ee8-44fb-9936-5fded027ce54",
   "metadata": {},
   "outputs": [],
   "source": [
    "s = String(\"Nanda\")"
   ]
  },
  {
   "cell_type": "code",
   "execution_count": 21,
   "id": "22236cda-ba8e-41ad-b05f-be486fc0c73f",
   "metadata": {},
   "outputs": [
    {
     "data": {
      "text/plain": [
       "Object(self.string=Nanda)"
      ]
     },
     "execution_count": 21,
     "metadata": {},
     "output_type": "execute_result"
    }
   ],
   "source": [
    "s"
   ]
  },
  {
   "cell_type": "code",
   "execution_count": 22,
   "id": "5d3f1814-359d-403a-9559-73429df3bd0d",
   "metadata": {},
   "outputs": [
    {
     "name": "stdout",
     "output_type": "stream",
     "text": [
      "string: Nanda\n"
     ]
    }
   ],
   "source": [
    "print(s)"
   ]
  },
  {
   "cell_type": "code",
   "execution_count": 23,
   "id": "825f7375-3af7-4839-8e78-bf9e89440887",
   "metadata": {},
   "outputs": [
    {
     "name": "stdout",
     "output_type": "stream",
     "text": [
      "['__add__', '__class__', '__contains__', '__delattr__', '__dir__', '__doc__', '__eq__', '__format__', '__ge__', '__getattribute__', '__getitem__', '__getnewargs__', '__getstate__', '__gt__', '__hash__', '__init__', '__init_subclass__', '__iter__', '__le__', '__len__', '__lt__', '__mod__', '__mul__', '__ne__', '__new__', '__reduce__', '__reduce_ex__', '__repr__', '__rmod__', '__rmul__', '__setattr__', '__sizeof__', '__str__', '__subclasshook__']\n"
     ]
    }
   ],
   "source": [
    "print(list(filter(lambda func: func[0:2] == \"__\" and func[-2:] == \"__\", dir(str))))"
   ]
  },
  {
   "cell_type": "code",
   "execution_count": 24,
   "id": "d4c7256a-b727-44a3-bfbd-139453c67870",
   "metadata": {},
   "outputs": [
    {
     "data": {
      "text/plain": [
       "'Nandabro'"
      ]
     },
     "execution_count": 24,
     "metadata": {},
     "output_type": "execute_result"
    }
   ],
   "source": [
    "s.string + \"bro\""
   ]
  },
  {
   "cell_type": "code",
   "execution_count": 25,
   "id": "7378216c-228a-44b5-9ec5-85db63eafe0f",
   "metadata": {},
   "outputs": [
    {
     "ename": "TypeError",
     "evalue": "unsupported operand type(s) for +: 'String' and 'str'",
     "output_type": "error",
     "traceback": [
      "\u001b[31m---------------------------------------------------------------------------\u001b[39m",
      "\u001b[31mTypeError\u001b[39m                                 Traceback (most recent call last)",
      "\u001b[36mCell\u001b[39m\u001b[36m \u001b[39m\u001b[32mIn[25]\u001b[39m\u001b[32m, line 1\u001b[39m\n\u001b[32m----> \u001b[39m\u001b[32m1\u001b[39m \u001b[43ms\u001b[49m\u001b[43m \u001b[49m\u001b[43m+\u001b[49m\u001b[43m \u001b[49m\u001b[33;43m\"\u001b[39;49m\u001b[33;43mbro\u001b[39;49m\u001b[33;43m\"\u001b[39;49m\n",
      "\u001b[31mTypeError\u001b[39m: unsupported operand type(s) for +: 'String' and 'str'"
     ]
    }
   ],
   "source": [
    "s + \"bro\""
   ]
  },
  {
   "cell_type": "code",
   "execution_count": 26,
   "id": "b0904e28-3701-48e6-84e1-7573443a88a3",
   "metadata": {},
   "outputs": [],
   "source": [
    "class String:\n",
    "    def __init__(self, s):\n",
    "        self.string = s\n",
    "\n",
    "    def __str__(self):\n",
    "        return f\"string: {self.string}\"\n",
    "\n",
    "    def __repr__(self):\n",
    "        return f\"Object(self.string={self.string})\"\n",
    "\n",
    "    def __add__(self, other):\n",
    "        return f\"{self.string}\"+str(other)"
   ]
  },
  {
   "cell_type": "code",
   "execution_count": 27,
   "id": "e1d322f2-93ce-4726-8872-b07d79e4ff4f",
   "metadata": {},
   "outputs": [],
   "source": [
    "s1 = String(\"Ramesh\")"
   ]
  },
  {
   "cell_type": "code",
   "execution_count": 28,
   "id": "55baa0dc-a2f1-48f0-9ce5-5ee5bac61438",
   "metadata": {},
   "outputs": [
    {
     "data": {
      "text/plain": [
       "'Rameshgaitonde'"
      ]
     },
     "execution_count": 28,
     "metadata": {},
     "output_type": "execute_result"
    }
   ],
   "source": [
    "s1 + \"gaitonde\""
   ]
  },
  {
   "cell_type": "code",
   "execution_count": 29,
   "id": "eb2b51e5-8172-4685-bff6-7c4ae8545047",
   "metadata": {},
   "outputs": [
    {
     "data": {
      "text/plain": [
       "Object(self.string=Ramesh)"
      ]
     },
     "execution_count": 29,
     "metadata": {},
     "output_type": "execute_result"
    }
   ],
   "source": [
    "s1"
   ]
  },
  {
   "cell_type": "code",
   "execution_count": 30,
   "id": "da8f73ee-4c0a-4740-9bd5-35f469860cbe",
   "metadata": {},
   "outputs": [],
   "source": [
    "s2 = String(\"Gaitonde\")"
   ]
  },
  {
   "cell_type": "code",
   "execution_count": 31,
   "id": "1f3a389b-4fda-4374-b7e7-70e7f3f0f8b4",
   "metadata": {},
   "outputs": [
    {
     "data": {
      "text/plain": [
       "'Rameshstring: Gaitonde'"
      ]
     },
     "execution_count": 31,
     "metadata": {},
     "output_type": "execute_result"
    }
   ],
   "source": [
    "s1 + s2"
   ]
  },
  {
   "cell_type": "code",
   "execution_count": 32,
   "id": "0117dd4d-92dc-4956-8e95-b31765e9db1d",
   "metadata": {},
   "outputs": [
    {
     "data": {
      "text/plain": [
       "'string: Ramesh'"
      ]
     },
     "execution_count": 32,
     "metadata": {},
     "output_type": "execute_result"
    }
   ],
   "source": [
    "str(s1)"
   ]
  },
  {
   "cell_type": "code",
   "execution_count": 33,
   "id": "73814f92-7480-4acc-ac88-0148fcd65d08",
   "metadata": {},
   "outputs": [],
   "source": [
    "class A:\n",
    "    def __init__(self):\n",
    "        self.a = 56"
   ]
  },
  {
   "cell_type": "code",
   "execution_count": 34,
   "id": "e92bfe46-a95c-4845-bf59-572427984397",
   "metadata": {},
   "outputs": [],
   "source": [
    "a = A()"
   ]
  },
  {
   "cell_type": "code",
   "execution_count": 35,
   "id": "73e9ef83-dbc9-4eb2-8770-63572c5ccf29",
   "metadata": {},
   "outputs": [
    {
     "data": {
      "text/plain": [
       "'<__main__.A object at 0x000001B3D1EB52B0>'"
      ]
     },
     "execution_count": 35,
     "metadata": {},
     "output_type": "execute_result"
    }
   ],
   "source": [
    "str(a)"
   ]
  },
  {
   "cell_type": "code",
   "execution_count": 36,
   "id": "64de390a-3c7d-40c9-92e4-08907a4e23a8",
   "metadata": {},
   "outputs": [],
   "source": [
    "c = str(a)"
   ]
  },
  {
   "cell_type": "code",
   "execution_count": 38,
   "id": "12b6d579-11a7-4a08-9a9e-d202ee408c20",
   "metadata": {},
   "outputs": [
    {
     "data": {
      "text/plain": [
       "'<__ma'"
      ]
     },
     "execution_count": 38,
     "metadata": {},
     "output_type": "execute_result"
    }
   ],
   "source": [
    "c[:5]"
   ]
  },
  {
   "cell_type": "code",
   "execution_count": null,
   "id": "27edc679-e472-4180-946b-d8cca6073dd8",
   "metadata": {},
   "outputs": [],
   "source": [
    "# __new__"
   ]
  },
  {
   "cell_type": "code",
   "execution_count": 43,
   "id": "9d2a7336-e655-4cd8-807d-8b6268fff5fb",
   "metadata": {},
   "outputs": [],
   "source": [
    "class Storage(float):\n",
    "    def __new__(cls, value, unit):\n",
    "        instance = super().__new__(cls, value)\n",
    "        instance.unit = unit\n",
    "        return instance"
   ]
  },
  {
   "cell_type": "code",
   "execution_count": 44,
   "id": "d00cba0b-7f86-40cc-a05e-8f5cf6f3b6e0",
   "metadata": {},
   "outputs": [],
   "source": [
    "disk = Storage(1024, \"GB\")"
   ]
  },
  {
   "cell_type": "code",
   "execution_count": 45,
   "id": "e8190d56-c802-488c-a1b3-978c581adca1",
   "metadata": {},
   "outputs": [
    {
     "data": {
      "text/plain": [
       "1024.0"
      ]
     },
     "execution_count": 45,
     "metadata": {},
     "output_type": "execute_result"
    }
   ],
   "source": [
    "disk"
   ]
  },
  {
   "cell_type": "code",
   "execution_count": 46,
   "id": "c7961ad8-85e8-4b47-a16a-ba8cc78d41c4",
   "metadata": {},
   "outputs": [
    {
     "data": {
      "text/plain": [
       "'GB'"
      ]
     },
     "execution_count": 46,
     "metadata": {},
     "output_type": "execute_result"
    }
   ],
   "source": [
    "disk.unit"
   ]
  },
  {
   "cell_type": "code",
   "execution_count": 47,
   "id": "f2185504-d706-479f-a849-0e6a17c5479a",
   "metadata": {},
   "outputs": [
    {
     "data": {
      "text/plain": [
       "True"
      ]
     },
     "execution_count": 47,
     "metadata": {},
     "output_type": "execute_result"
    }
   ],
   "source": [
    "isinstance(disk, float)"
   ]
  },
  {
   "cell_type": "markdown",
   "id": "ec4404d8-66b8-4317-8efc-e53a033ad011",
   "metadata": {},
   "source": [
    "# File handling"
   ]
  },
  {
   "cell_type": "code",
   "execution_count": null,
   "id": "e918d98a-238e-4ad5-85ef-1961b967b16b",
   "metadata": {},
   "outputs": [],
   "source": [
    "r(read only), w(write only), a(append mode)\n",
    "r+, w+, a+(read and write)"
   ]
  },
  {
   "cell_type": "code",
   "execution_count": 48,
   "id": "c4c621c2-af0e-46b5-9ffd-7cfaf7b1934d",
   "metadata": {},
   "outputs": [
    {
     "ename": "FileNotFoundError",
     "evalue": "[Errno 2] No such file or directory: 'file.txt'",
     "output_type": "error",
     "traceback": [
      "\u001b[31m---------------------------------------------------------------------------\u001b[39m",
      "\u001b[31mFileNotFoundError\u001b[39m                         Traceback (most recent call last)",
      "\u001b[36mCell\u001b[39m\u001b[36m \u001b[39m\u001b[32mIn[48]\u001b[39m\u001b[32m, line 1\u001b[39m\n\u001b[32m----> \u001b[39m\u001b[32m1\u001b[39m fp = \u001b[38;5;28;43mopen\u001b[39;49m\u001b[43m(\u001b[49m\u001b[33;43m\"\u001b[39;49m\u001b[33;43mfile.txt\u001b[39;49m\u001b[33;43m\"\u001b[39;49m\u001b[43m)\u001b[49m \u001b[38;5;66;03m# default opening mode for open function is read mode\u001b[39;00m\n",
      "\u001b[36mFile \u001b[39m\u001b[32mF:\\pymd190425\\myenv\\Lib\\site-packages\\IPython\\core\\interactiveshell.py:326\u001b[39m, in \u001b[36m_modified_open\u001b[39m\u001b[34m(file, *args, **kwargs)\u001b[39m\n\u001b[32m    319\u001b[39m \u001b[38;5;28;01mif\u001b[39;00m file \u001b[38;5;129;01min\u001b[39;00m {\u001b[32m0\u001b[39m, \u001b[32m1\u001b[39m, \u001b[32m2\u001b[39m}:\n\u001b[32m    320\u001b[39m     \u001b[38;5;28;01mraise\u001b[39;00m \u001b[38;5;167;01mValueError\u001b[39;00m(\n\u001b[32m    321\u001b[39m         \u001b[33mf\u001b[39m\u001b[33m\"\u001b[39m\u001b[33mIPython won\u001b[39m\u001b[33m'\u001b[39m\u001b[33mt let you open fd=\u001b[39m\u001b[38;5;132;01m{\u001b[39;00mfile\u001b[38;5;132;01m}\u001b[39;00m\u001b[33m by default \u001b[39m\u001b[33m\"\u001b[39m\n\u001b[32m    322\u001b[39m         \u001b[33m\"\u001b[39m\u001b[33mas it is likely to crash IPython. If you know what you are doing, \u001b[39m\u001b[33m\"\u001b[39m\n\u001b[32m    323\u001b[39m         \u001b[33m\"\u001b[39m\u001b[33myou can use builtins\u001b[39m\u001b[33m'\u001b[39m\u001b[33m open.\u001b[39m\u001b[33m\"\u001b[39m\n\u001b[32m    324\u001b[39m     )\n\u001b[32m--> \u001b[39m\u001b[32m326\u001b[39m \u001b[38;5;28;01mreturn\u001b[39;00m \u001b[43mio_open\u001b[49m\u001b[43m(\u001b[49m\u001b[43mfile\u001b[49m\u001b[43m,\u001b[49m\u001b[43m \u001b[49m\u001b[43m*\u001b[49m\u001b[43margs\u001b[49m\u001b[43m,\u001b[49m\u001b[43m \u001b[49m\u001b[43m*\u001b[49m\u001b[43m*\u001b[49m\u001b[43mkwargs\u001b[49m\u001b[43m)\u001b[49m\n",
      "\u001b[31mFileNotFoundError\u001b[39m: [Errno 2] No such file or directory: 'file.txt'"
     ]
    }
   ],
   "source": [
    "fp = open(\"file.txt\") # default opening mode for open function is read mode"
   ]
  },
  {
   "cell_type": "code",
   "execution_count": 49,
   "id": "e137ed57-1a15-42fe-bfa5-bced1c0cc1d7",
   "metadata": {},
   "outputs": [],
   "source": [
    "fp = open(\"file1.txt\")"
   ]
  },
  {
   "cell_type": "code",
   "execution_count": 50,
   "id": "01400674-a0c4-48ee-92d2-331c7bdd56c7",
   "metadata": {},
   "outputs": [
    {
     "data": {
      "text/plain": [
       "<_io.TextIOWrapper name='file1.txt' mode='r' encoding='cp1252'>"
      ]
     },
     "execution_count": 50,
     "metadata": {},
     "output_type": "execute_result"
    }
   ],
   "source": [
    "fp"
   ]
  },
  {
   "cell_type": "code",
   "execution_count": 51,
   "id": "6c44360a-0182-4bc0-9920-e3f532a005fa",
   "metadata": {},
   "outputs": [
    {
     "data": {
      "text/plain": [
       "'Hey I am file1.txt'"
      ]
     },
     "execution_count": 51,
     "metadata": {},
     "output_type": "execute_result"
    }
   ],
   "source": [
    "fp.read()"
   ]
  },
  {
   "cell_type": "code",
   "execution_count": 52,
   "id": "57a2b09b-a9f9-4571-af30-12e78ce106e1",
   "metadata": {},
   "outputs": [
    {
     "data": {
      "text/plain": [
       "''"
      ]
     },
     "execution_count": 52,
     "metadata": {},
     "output_type": "execute_result"
    }
   ],
   "source": [
    "fp.read()"
   ]
  },
  {
   "cell_type": "code",
   "execution_count": 53,
   "id": "2a4884f9-452a-4e26-b733-6db65ae6cf55",
   "metadata": {},
   "outputs": [
    {
     "data": {
      "text/plain": [
       "18"
      ]
     },
     "execution_count": 53,
     "metadata": {},
     "output_type": "execute_result"
    }
   ],
   "source": [
    "fp.tell()"
   ]
  },
  {
   "cell_type": "code",
   "execution_count": 54,
   "id": "bf1a0dba-0482-4ef3-b48e-9943898b69fc",
   "metadata": {},
   "outputs": [
    {
     "data": {
      "text/plain": [
       "0"
      ]
     },
     "execution_count": 54,
     "metadata": {},
     "output_type": "execute_result"
    }
   ],
   "source": [
    "fp.seek(0)"
   ]
  },
  {
   "cell_type": "code",
   "execution_count": 55,
   "id": "5f83945d-0473-48b8-8df5-cb89428482a9",
   "metadata": {},
   "outputs": [
    {
     "data": {
      "text/plain": [
       "0"
      ]
     },
     "execution_count": 55,
     "metadata": {},
     "output_type": "execute_result"
    }
   ],
   "source": [
    "fp.tell()"
   ]
  },
  {
   "cell_type": "code",
   "execution_count": 56,
   "id": "2561d99f-9567-4e5b-90d6-1767b3de2275",
   "metadata": {},
   "outputs": [],
   "source": [
    "save = fp.read()"
   ]
  },
  {
   "cell_type": "code",
   "execution_count": 57,
   "id": "cb63bc70-7ba4-4ba9-bf89-100468ae3b58",
   "metadata": {},
   "outputs": [
    {
     "name": "stdout",
     "output_type": "stream",
     "text": [
      "Hey I am file1.txt\n"
     ]
    }
   ],
   "source": [
    "print(save)"
   ]
  },
  {
   "cell_type": "code",
   "execution_count": 58,
   "id": "1a1c44de-1cf5-41af-b544-cf293d854178",
   "metadata": {},
   "outputs": [],
   "source": [
    "fp.close()"
   ]
  },
  {
   "cell_type": "code",
   "execution_count": 59,
   "id": "08aa51b1-23b7-401c-b3b2-d809122c1bd9",
   "metadata": {},
   "outputs": [],
   "source": [
    "fp = open(\"file1.txt\")"
   ]
  },
  {
   "cell_type": "code",
   "execution_count": 60,
   "id": "42250218-4cad-4475-b8f2-4ff4629d4948",
   "metadata": {},
   "outputs": [
    {
     "ename": "UnsupportedOperation",
     "evalue": "not writable",
     "output_type": "error",
     "traceback": [
      "\u001b[31m---------------------------------------------------------------------------\u001b[39m",
      "\u001b[31mUnsupportedOperation\u001b[39m                      Traceback (most recent call last)",
      "\u001b[36mCell\u001b[39m\u001b[36m \u001b[39m\u001b[32mIn[60]\u001b[39m\u001b[32m, line 1\u001b[39m\n\u001b[32m----> \u001b[39m\u001b[32m1\u001b[39m \u001b[43mfp\u001b[49m\u001b[43m.\u001b[49m\u001b[43mwrite\u001b[49m\u001b[43m(\u001b[49m\u001b[33;43m\"\u001b[39;49m\u001b[38;5;130;43;01m\\n\u001b[39;49;00m\u001b[33;43mhey\u001b[39;49m\u001b[33;43m\"\u001b[39;49m\u001b[43m)\u001b[49m\n",
      "\u001b[31mUnsupportedOperation\u001b[39m: not writable"
     ]
    }
   ],
   "source": [
    "fp.write(\"\\nhey\")"
   ]
  },
  {
   "cell_type": "code",
   "execution_count": 61,
   "id": "614d3079-f825-4942-b293-8f14f1478dbb",
   "metadata": {},
   "outputs": [],
   "source": [
    "fp.close()"
   ]
  },
  {
   "cell_type": "code",
   "execution_count": 62,
   "id": "1d38ff98-d30a-4012-a7bc-763a213b4a26",
   "metadata": {},
   "outputs": [],
   "source": [
    "fp = open(\"file2.txt\", \"r+\")"
   ]
  },
  {
   "cell_type": "code",
   "execution_count": 63,
   "id": "24c1adb2-2476-45d3-93ae-d117e6087798",
   "metadata": {},
   "outputs": [
    {
     "data": {
      "text/plain": [
       "30"
      ]
     },
     "execution_count": 63,
     "metadata": {},
     "output_type": "execute_result"
    }
   ],
   "source": [
    "fp.write(\"Hey I am written from r+ mode\\n\")"
   ]
  },
  {
   "cell_type": "code",
   "execution_count": 64,
   "id": "928fa2cc-889f-46e4-af43-776fd1234107",
   "metadata": {},
   "outputs": [
    {
     "data": {
      "text/plain": [
       "31"
      ]
     },
     "execution_count": 64,
     "metadata": {},
     "output_type": "execute_result"
    }
   ],
   "source": [
    "fp.tell()"
   ]
  },
  {
   "cell_type": "code",
   "execution_count": 65,
   "id": "9eaff376-c858-4dd9-b32d-c0adc4f6330b",
   "metadata": {},
   "outputs": [
    {
     "data": {
      "text/plain": [
       "''"
      ]
     },
     "execution_count": 65,
     "metadata": {},
     "output_type": "execute_result"
    }
   ],
   "source": [
    "fp.read()"
   ]
  },
  {
   "cell_type": "code",
   "execution_count": 66,
   "id": "05921086-bf53-4deb-985b-26c28fe910f2",
   "metadata": {},
   "outputs": [
    {
     "data": {
      "text/plain": [
       "0"
      ]
     },
     "execution_count": 66,
     "metadata": {},
     "output_type": "execute_result"
    }
   ],
   "source": [
    "fp.seek(0)"
   ]
  },
  {
   "cell_type": "code",
   "execution_count": 67,
   "id": "e230c055-73ef-44a8-9412-0847fddd1d79",
   "metadata": {},
   "outputs": [
    {
     "data": {
      "text/plain": [
       "'Hey I am written from r+ mode\\n'"
      ]
     },
     "execution_count": 67,
     "metadata": {},
     "output_type": "execute_result"
    }
   ],
   "source": [
    "fp.read()"
   ]
  },
  {
   "cell_type": "code",
   "execution_count": 68,
   "id": "288f5893-224f-483f-a497-0c2fd24e352f",
   "metadata": {},
   "outputs": [],
   "source": [
    "fp.close()"
   ]
  },
  {
   "cell_type": "code",
   "execution_count": 69,
   "id": "f225cac2-ed90-4af2-95ff-6c270948679e",
   "metadata": {},
   "outputs": [],
   "source": [
    "fp = open(\"file4.txt\", \"w+\")"
   ]
  },
  {
   "cell_type": "code",
   "execution_count": 70,
   "id": "222bc539-49c3-45ee-9e71-beba38f1e0c1",
   "metadata": {},
   "outputs": [],
   "source": [
    "fp.close()"
   ]
  },
  {
   "cell_type": "code",
   "execution_count": 71,
   "id": "7532b3b6-f35d-4709-8a8a-7bdea1d130f6",
   "metadata": {},
   "outputs": [],
   "source": [
    "fp = open(\"file3.txt\", \"w+\")"
   ]
  },
  {
   "cell_type": "code",
   "execution_count": 72,
   "id": "307539ca-9f74-4e24-89ce-192bbd2ee148",
   "metadata": {},
   "outputs": [
    {
     "data": {
      "text/plain": [
       "''"
      ]
     },
     "execution_count": 72,
     "metadata": {},
     "output_type": "execute_result"
    }
   ],
   "source": [
    "fp.read()"
   ]
  },
  {
   "cell_type": "code",
   "execution_count": 73,
   "id": "8e431af4-502a-4670-a855-fdbc5f0c6333",
   "metadata": {},
   "outputs": [
    {
     "data": {
      "text/plain": [
       "0"
      ]
     },
     "execution_count": 73,
     "metadata": {},
     "output_type": "execute_result"
    }
   ],
   "source": [
    "fp.tell()"
   ]
  },
  {
   "cell_type": "code",
   "execution_count": 74,
   "id": "a8021aa2-e0f6-4e0e-ac91-aacbdf8d8842",
   "metadata": {},
   "outputs": [
    {
     "data": {
      "text/plain": [
       "30"
      ]
     },
     "execution_count": 74,
     "metadata": {},
     "output_type": "execute_result"
    }
   ],
   "source": [
    "fp.write(\"Hey I am written from w+ mode\\n\")"
   ]
  },
  {
   "cell_type": "code",
   "execution_count": 75,
   "id": "9797e8ca-9c34-4193-a081-044594f4c7b8",
   "metadata": {},
   "outputs": [
    {
     "data": {
      "text/plain": [
       "0"
      ]
     },
     "execution_count": 75,
     "metadata": {},
     "output_type": "execute_result"
    }
   ],
   "source": [
    "fp.seek(0)"
   ]
  },
  {
   "cell_type": "code",
   "execution_count": 76,
   "id": "81ec7719-6580-4745-8ed8-a11ff1cf7634",
   "metadata": {},
   "outputs": [
    {
     "data": {
      "text/plain": [
       "'Hey I am written from w+ mode\\n'"
      ]
     },
     "execution_count": 76,
     "metadata": {},
     "output_type": "execute_result"
    }
   ],
   "source": [
    "fp.read()"
   ]
  },
  {
   "cell_type": "code",
   "execution_count": 77,
   "id": "93eeb40d-6630-4012-8a92-f5b00c31a80c",
   "metadata": {},
   "outputs": [],
   "source": [
    "fp.close()"
   ]
  },
  {
   "cell_type": "code",
   "execution_count": 78,
   "id": "fd520a51-f372-48d6-b0c2-051659854f35",
   "metadata": {},
   "outputs": [],
   "source": [
    "fp = open(\"file3.txt\", \"a+\")"
   ]
  },
  {
   "cell_type": "code",
   "execution_count": 79,
   "id": "c13e96a3-3f0d-44a8-a37e-34e6d28e4d4c",
   "metadata": {},
   "outputs": [
    {
     "data": {
      "text/plain": [
       "''"
      ]
     },
     "execution_count": 79,
     "metadata": {},
     "output_type": "execute_result"
    }
   ],
   "source": [
    "fp.read()"
   ]
  },
  {
   "cell_type": "code",
   "execution_count": 80,
   "id": "8c1b1ed1-786b-4260-95f7-85e83d7fef77",
   "metadata": {},
   "outputs": [
    {
     "data": {
      "text/plain": [
       "0"
      ]
     },
     "execution_count": 80,
     "metadata": {},
     "output_type": "execute_result"
    }
   ],
   "source": [
    "fp.seek(0)"
   ]
  },
  {
   "cell_type": "code",
   "execution_count": 81,
   "id": "b7895f5b-25df-4fa7-a53b-75b35e1bf884",
   "metadata": {},
   "outputs": [
    {
     "data": {
      "text/plain": [
       "'Hey I am written from w+ mode\\n'"
      ]
     },
     "execution_count": 81,
     "metadata": {},
     "output_type": "execute_result"
    }
   ],
   "source": [
    "fp.read()"
   ]
  },
  {
   "cell_type": "code",
   "execution_count": null,
   "id": "8ea98cff-a17f-4fac-af74-3f43ff79a73e",
   "metadata": {},
   "outputs": [],
   "source": [
    "fp.close()"
   ]
  },
  {
   "cell_type": "code",
   "execution_count": 82,
   "id": "d2a192a0-67e5-4d46-b03d-6b52feb4ddf3",
   "metadata": {
    "collapsed": true,
    "jupyter": {
     "outputs_hidden": true
    }
   },
   "outputs": [
    {
     "name": "stdout",
     "output_type": "stream",
     "text": [
      "Help on TextIOWrapper in module _io object:\n",
      "\n",
      "class TextIOWrapper(_TextIOBase)\n",
      " |  TextIOWrapper(\n",
      " |      buffer,\n",
      " |      encoding=None,\n",
      " |      errors=None,\n",
      " |      newline=None,\n",
      " |      line_buffering=False,\n",
      " |      write_through=False\n",
      " |  )\n",
      " |\n",
      " |  Character and line based layer over a BufferedIOBase object, buffer.\n",
      " |\n",
      " |  encoding gives the name of the encoding that the stream will be\n",
      " |  decoded or encoded with. It defaults to locale.getencoding().\n",
      " |\n",
      " |  errors determines the strictness of encoding and decoding (see\n",
      " |  help(codecs.Codec) or the documentation for codecs.register) and\n",
      " |  defaults to \"strict\".\n",
      " |\n",
      " |  newline controls how line endings are handled. It can be None, '',\n",
      " |  '\\n', '\\r', and '\\r\\n'.  It works as follows:\n",
      " |\n",
      " |  * On input, if newline is None, universal newlines mode is\n",
      " |    enabled. Lines in the input can end in '\\n', '\\r', or '\\r\\n', and\n",
      " |    these are translated into '\\n' before being returned to the\n",
      " |    caller. If it is '', universal newline mode is enabled, but line\n",
      " |    endings are returned to the caller untranslated. If it has any of\n",
      " |    the other legal values, input lines are only terminated by the given\n",
      " |    string, and the line ending is returned to the caller untranslated.\n",
      " |\n",
      " |  * On output, if newline is None, any '\\n' characters written are\n",
      " |    translated to the system default line separator, os.linesep. If\n",
      " |    newline is '' or '\\n', no translation takes place. If newline is any\n",
      " |    of the other legal values, any '\\n' characters written are translated\n",
      " |    to the given string.\n",
      " |\n",
      " |  If line_buffering is True, a call to flush is implied when a call to\n",
      " |  write contains a newline character.\n",
      " |\n",
      " |  Method resolution order:\n",
      " |      TextIOWrapper\n",
      " |      _TextIOBase\n",
      " |      _IOBase\n",
      " |      builtins.object\n",
      " |\n",
      " |  Methods defined here:\n",
      " |\n",
      " |  __init__(self, /, *args, **kwargs)\n",
      " |      Initialize self.  See help(type(self)) for accurate signature.\n",
      " |\n",
      " |  __next__(self, /)\n",
      " |      Implement next(self).\n",
      " |\n",
      " |  __reduce__(self, /)\n",
      " |      Helper for pickle.\n",
      " |\n",
      " |  __reduce_ex__(self, object, /)\n",
      " |      Helper for pickle.\n",
      " |\n",
      " |  __repr__(self, /)\n",
      " |      Return repr(self).\n",
      " |\n",
      " |  close(self, /)\n",
      " |      Flush and close the IO object.\n",
      " |\n",
      " |      This method has no effect if the file is already closed.\n",
      " |\n",
      " |  detach(self, /)\n",
      " |      Separate the underlying buffer from the TextIOBase and return it.\n",
      " |\n",
      " |      After the underlying buffer has been detached, the TextIO is in an unusable state.\n",
      " |\n",
      " |  fileno(self, /)\n",
      " |      Return underlying file descriptor if one exists.\n",
      " |\n",
      " |      Raise OSError if the IO object does not use a file descriptor.\n",
      " |\n",
      " |  flush(self, /)\n",
      " |      Flush write buffers, if applicable.\n",
      " |\n",
      " |      This is not implemented for read-only and non-blocking streams.\n",
      " |\n",
      " |  isatty(self, /)\n",
      " |      Return whether this is an 'interactive' stream.\n",
      " |\n",
      " |      Return False if it can't be determined.\n",
      " |\n",
      " |  read(self, size=-1, /)\n",
      " |      Read at most size characters from stream.\n",
      " |\n",
      " |      Read from underlying buffer until we have size characters or we hit EOF.\n",
      " |      If size is negative or omitted, read until EOF.\n",
      " |\n",
      " |  readable(self, /)\n",
      " |      Return whether object was opened for reading.\n",
      " |\n",
      " |      If False, read() will raise OSError.\n",
      " |\n",
      " |  readline(self, size=-1, /)\n",
      " |      Read until newline or EOF.\n",
      " |\n",
      " |      Return an empty string if EOF is hit immediately.\n",
      " |      If size is specified, at most size characters will be read.\n",
      " |\n",
      " |  reconfigure(\n",
      " |      self,\n",
      " |      /,\n",
      " |      *,\n",
      " |      encoding=None,\n",
      " |      errors=None,\n",
      " |      newline=None,\n",
      " |      line_buffering=None,\n",
      " |      write_through=None\n",
      " |  )\n",
      " |      Reconfigure the text stream with new parameters.\n",
      " |\n",
      " |      This also does an implicit stream flush.\n",
      " |\n",
      " |  seek(self, cookie, whence=0, /)\n",
      " |      Set the stream position, and return the new stream position.\n",
      " |\n",
      " |        cookie\n",
      " |          Zero or an opaque number returned by tell().\n",
      " |        whence\n",
      " |          The relative position to seek from.\n",
      " |\n",
      " |      Four operations are supported, given by the following argument\n",
      " |      combinations:\n",
      " |\n",
      " |      - seek(0, SEEK_SET): Rewind to the start of the stream.\n",
      " |      - seek(cookie, SEEK_SET): Restore a previous position;\n",
      " |        'cookie' must be a number returned by tell().\n",
      " |      - seek(0, SEEK_END): Fast-forward to the end of the stream.\n",
      " |      - seek(0, SEEK_CUR): Leave the current stream position unchanged.\n",
      " |\n",
      " |      Any other argument combinations are invalid,\n",
      " |      and may raise exceptions.\n",
      " |\n",
      " |  seekable(self, /)\n",
      " |      Return whether object supports random access.\n",
      " |\n",
      " |      If False, seek(), tell() and truncate() will raise OSError.\n",
      " |      This method may need to do a test seek().\n",
      " |\n",
      " |  tell(self, /)\n",
      " |      Return the stream position as an opaque number.\n",
      " |\n",
      " |      The return value of tell() can be given as input to seek(), to restore a\n",
      " |      previous stream position.\n",
      " |\n",
      " |  truncate(self, pos=None, /)\n",
      " |      Truncate file to size bytes.\n",
      " |\n",
      " |      File pointer is left unchanged. Size defaults to the current IO position\n",
      " |      as reported by tell(). Return the new size.\n",
      " |\n",
      " |  writable(self, /)\n",
      " |      Return whether object was opened for writing.\n",
      " |\n",
      " |      If False, write() will raise OSError.\n",
      " |\n",
      " |  write(self, text, /)\n",
      " |      Write string s to stream.\n",
      " |\n",
      " |      Return the number of characters written\n",
      " |      (which is always equal to the length of the string).\n",
      " |\n",
      " |  ----------------------------------------------------------------------\n",
      " |  Data descriptors defined here:\n",
      " |\n",
      " |  buffer\n",
      " |\n",
      " |  closed\n",
      " |\n",
      " |  encoding\n",
      " |      Encoding of the text stream.\n",
      " |\n",
      " |      Subclasses should override.\n",
      " |\n",
      " |  errors\n",
      " |      The error setting of the decoder or encoder.\n",
      " |\n",
      " |      Subclasses should override.\n",
      " |\n",
      " |  line_buffering\n",
      " |\n",
      " |  name\n",
      " |\n",
      " |  newlines\n",
      " |      Line endings translated so far.\n",
      " |\n",
      " |      Only line endings translated during reading are considered.\n",
      " |\n",
      " |      Subclasses should override.\n",
      " |\n",
      " |  write_through\n",
      " |\n",
      " |  ----------------------------------------------------------------------\n",
      " |  Methods inherited from _IOBase:\n",
      " |\n",
      " |  __del__(self, /)\n",
      " |      Called when the instance is about to be destroyed.\n",
      " |\n",
      " |  __enter__(self, /)\n",
      " |\n",
      " |  __exit__(...)\n",
      " |\n",
      " |  __iter__(self, /)\n",
      " |      Implement iter(self).\n",
      " |\n",
      " |  readlines(self, hint=-1, /)\n",
      " |      Return a list of lines from the stream.\n",
      " |\n",
      " |      hint can be specified to control the number of lines read: no more\n",
      " |      lines will be read if the total size (in bytes/characters) of all\n",
      " |      lines so far exceeds hint.\n",
      " |\n",
      " |  writelines(self, lines, /)\n",
      " |      Write a list of lines to stream.\n",
      " |\n",
      " |      Line separators are not added, so it is usual for each of the\n",
      " |      lines provided to have a line separator at the end.\n",
      " |\n",
      " |  ----------------------------------------------------------------------\n",
      " |  Data descriptors inherited from _IOBase:\n",
      " |\n",
      " |  __dict__\n",
      "\n"
     ]
    }
   ],
   "source": [
    "help(fp)"
   ]
  },
  {
   "cell_type": "code",
   "execution_count": 83,
   "id": "f760bb2c-42cd-40d3-b3df-6387f1aa9eb5",
   "metadata": {},
   "outputs": [],
   "source": [
    "fp = open(\"file3.txt\", \"a+\")"
   ]
  },
  {
   "cell_type": "code",
   "execution_count": 84,
   "id": "4aa400f1-7b88-498f-bb97-38a2960985a3",
   "metadata": {},
   "outputs": [
    {
     "data": {
      "text/plain": [
       "31"
      ]
     },
     "execution_count": 84,
     "metadata": {},
     "output_type": "execute_result"
    }
   ],
   "source": [
    "fp.tell()"
   ]
  },
  {
   "cell_type": "code",
   "execution_count": 85,
   "id": "6c519e6b-76b7-4e58-b1ca-c5810556a770",
   "metadata": {},
   "outputs": [
    {
     "data": {
      "text/plain": [
       "0"
      ]
     },
     "execution_count": 85,
     "metadata": {},
     "output_type": "execute_result"
    }
   ],
   "source": [
    "fp.seek(0)"
   ]
  },
  {
   "cell_type": "code",
   "execution_count": 86,
   "id": "690bb061-1e39-4dbb-9f22-905b8f9917b8",
   "metadata": {},
   "outputs": [
    {
     "data": {
      "text/plain": [
       "0"
      ]
     },
     "execution_count": 86,
     "metadata": {},
     "output_type": "execute_result"
    }
   ],
   "source": [
    "fp.truncate()"
   ]
  },
  {
   "cell_type": "code",
   "execution_count": 87,
   "id": "acb5f4d6-2251-4443-b1b3-2a127c451c1f",
   "metadata": {},
   "outputs": [
    {
     "data": {
      "text/plain": [
       "0"
      ]
     },
     "execution_count": 87,
     "metadata": {},
     "output_type": "execute_result"
    }
   ],
   "source": [
    "fp.tell()"
   ]
  },
  {
   "cell_type": "code",
   "execution_count": 88,
   "id": "31872737-d4fe-4cdc-abb1-dc7f06e2c2ac",
   "metadata": {},
   "outputs": [
    {
     "data": {
      "text/plain": [
       "''"
      ]
     },
     "execution_count": 88,
     "metadata": {},
     "output_type": "execute_result"
    }
   ],
   "source": [
    "fp.read()"
   ]
  },
  {
   "cell_type": "code",
   "execution_count": 89,
   "id": "d51cf9a9-b4bf-420a-9d8b-ef4b56ebccc8",
   "metadata": {},
   "outputs": [
    {
     "data": {
      "text/plain": [
       "23"
      ]
     },
     "execution_count": 89,
     "metadata": {},
     "output_type": "execute_result"
    }
   ],
   "source": [
    "fp.write(\"I am rewritten from a+\\n\")"
   ]
  },
  {
   "cell_type": "code",
   "execution_count": 90,
   "id": "3a916092-c7d9-482e-b093-8243a04c3181",
   "metadata": {},
   "outputs": [],
   "source": [
    "fp.close()"
   ]
  },
  {
   "cell_type": "code",
   "execution_count": 91,
   "id": "30a3faf8-4cf7-4a63-8cb3-1c3660a2ca96",
   "metadata": {},
   "outputs": [],
   "source": [
    "fp = open(\"file2.txt\", \"r+\")"
   ]
  },
  {
   "cell_type": "code",
   "execution_count": 92,
   "id": "1b7f78f3-8ad3-47c4-ab4b-ae683fff6f62",
   "metadata": {},
   "outputs": [
    {
     "data": {
      "text/plain": [
       "0"
      ]
     },
     "execution_count": 92,
     "metadata": {},
     "output_type": "execute_result"
    }
   ],
   "source": [
    "fp.tell()"
   ]
  },
  {
   "cell_type": "code",
   "execution_count": 93,
   "id": "2166a470-a6ed-4a08-956a-09d1a2a284f7",
   "metadata": {},
   "outputs": [],
   "source": [
    "r = fp.read()"
   ]
  },
  {
   "cell_type": "code",
   "execution_count": 94,
   "id": "63ebd0a1-b092-4487-ad92-3cab9017b952",
   "metadata": {},
   "outputs": [
    {
     "data": {
      "text/plain": [
       "'Hey I am written from r+ mode\\n'"
      ]
     },
     "execution_count": 94,
     "metadata": {},
     "output_type": "execute_result"
    }
   ],
   "source": [
    "r"
   ]
  },
  {
   "cell_type": "code",
   "execution_count": 95,
   "id": "4023097c-4d71-4e7a-a2ef-0b0a6e74592f",
   "metadata": {},
   "outputs": [],
   "source": [
    "fp.close()"
   ]
  },
  {
   "cell_type": "code",
   "execution_count": 96,
   "id": "6f52cf53-0b16-4982-86c3-3cc962d24674",
   "metadata": {},
   "outputs": [],
   "source": [
    "fp = open(\"file2.txt\", \"r+\")"
   ]
  },
  {
   "cell_type": "code",
   "execution_count": 97,
   "id": "474463f7-f78a-47bf-8235-9dc77b4242d5",
   "metadata": {},
   "outputs": [
    {
     "data": {
      "text/plain": [
       "'Hey I am written from r+ mode\\nHey I am line 2\\nHey I am line 3\\nHey I am line 4'"
      ]
     },
     "execution_count": 97,
     "metadata": {},
     "output_type": "execute_result"
    }
   ],
   "source": [
    "fp.read()"
   ]
  },
  {
   "cell_type": "code",
   "execution_count": 98,
   "id": "f8922c14-72fe-4e9b-9d19-928725219e3b",
   "metadata": {},
   "outputs": [
    {
     "data": {
      "text/plain": [
       "0"
      ]
     },
     "execution_count": 98,
     "metadata": {},
     "output_type": "execute_result"
    }
   ],
   "source": [
    "fp.seek(0)"
   ]
  },
  {
   "cell_type": "code",
   "execution_count": 99,
   "id": "3e22e707-e24a-4a7d-a7d2-96e8a3185202",
   "metadata": {},
   "outputs": [],
   "source": [
    "lines = fp.readlines()"
   ]
  },
  {
   "cell_type": "code",
   "execution_count": 100,
   "id": "3e976096-3fc0-4682-9a5a-785ff4d598ce",
   "metadata": {},
   "outputs": [
    {
     "data": {
      "text/plain": [
       "['Hey I am written from r+ mode\\n',\n",
       " 'Hey I am line 2\\n',\n",
       " 'Hey I am line 3\\n',\n",
       " 'Hey I am line 4']"
      ]
     },
     "execution_count": 100,
     "metadata": {},
     "output_type": "execute_result"
    }
   ],
   "source": [
    "lines"
   ]
  },
  {
   "cell_type": "code",
   "execution_count": 101,
   "id": "648c350d-5070-4232-9d2b-ecc41582981c",
   "metadata": {},
   "outputs": [],
   "source": [
    "lines.insert(1, \"Hey I am line 1\\n\")"
   ]
  },
  {
   "cell_type": "code",
   "execution_count": 102,
   "id": "e82462e2-3727-4493-b9b8-6af724d02323",
   "metadata": {},
   "outputs": [
    {
     "data": {
      "text/plain": [
       "['Hey I am written from r+ mode\\n',\n",
       " 'Hey I am line 1\\n',\n",
       " 'Hey I am line 2\\n',\n",
       " 'Hey I am line 3\\n',\n",
       " 'Hey I am line 4']"
      ]
     },
     "execution_count": 102,
     "metadata": {},
     "output_type": "execute_result"
    }
   ],
   "source": [
    "lines"
   ]
  },
  {
   "cell_type": "code",
   "execution_count": 103,
   "id": "f0800321-7570-4c5d-ab01-9ca76cf7f80c",
   "metadata": {},
   "outputs": [
    {
     "data": {
      "text/plain": [
       "['Hey I am written from r+ mode\\n',\n",
       " 'Hey I am value 1\\n',\n",
       " 'Hey I am value 2\\n',\n",
       " 'Hey I am value 3\\n',\n",
       " 'Hey I am value 4']"
      ]
     },
     "execution_count": 103,
     "metadata": {},
     "output_type": "execute_result"
    }
   ],
   "source": [
    "list(map(lambda x: x.replace(\"line\", \"value\"), lines))"
   ]
  },
  {
   "cell_type": "code",
   "execution_count": 104,
   "id": "2baee5a1-875a-4ae9-99f3-962d02c52cd3",
   "metadata": {},
   "outputs": [],
   "source": [
    "lines = list(map(lambda x: x.replace(\"line\", \"value\"), lines))"
   ]
  },
  {
   "cell_type": "code",
   "execution_count": 105,
   "id": "f114a29d-7081-4b83-b9b9-1fa5d34f57b9",
   "metadata": {},
   "outputs": [
    {
     "data": {
      "text/plain": [
       "['Hey I am written from r+ mode\\n',\n",
       " 'Hey I am value 1\\n',\n",
       " 'Hey I am value 2\\n',\n",
       " 'Hey I am value 3\\n',\n",
       " 'Hey I am value 4']"
      ]
     },
     "execution_count": 105,
     "metadata": {},
     "output_type": "execute_result"
    }
   ],
   "source": [
    "lines"
   ]
  },
  {
   "cell_type": "code",
   "execution_count": 106,
   "id": "4127d75a-f650-4b9c-a5e5-c41e396a281c",
   "metadata": {},
   "outputs": [
    {
     "data": {
      "text/plain": [
       "80"
      ]
     },
     "execution_count": 106,
     "metadata": {},
     "output_type": "execute_result"
    }
   ],
   "source": [
    "fp.tell()"
   ]
  },
  {
   "cell_type": "code",
   "execution_count": 107,
   "id": "1779d7ea-39ee-493f-8237-71276a9f455a",
   "metadata": {},
   "outputs": [
    {
     "data": {
      "text/plain": [
       "0"
      ]
     },
     "execution_count": 107,
     "metadata": {},
     "output_type": "execute_result"
    }
   ],
   "source": [
    "fp.seek(0)"
   ]
  },
  {
   "cell_type": "code",
   "execution_count": 108,
   "id": "36f6fdde-3eab-414a-af4b-2a91e2e33e6d",
   "metadata": {},
   "outputs": [
    {
     "data": {
      "text/plain": [
       "'Hey I am written from r+ mode\\nHey I am line 2\\nHey I am line 3\\nHey I am line 4'"
      ]
     },
     "execution_count": 108,
     "metadata": {},
     "output_type": "execute_result"
    }
   ],
   "source": [
    "fp.read()"
   ]
  },
  {
   "cell_type": "code",
   "execution_count": 109,
   "id": "b6a3ec74-63fd-4014-a8ba-42216eb67882",
   "metadata": {},
   "outputs": [
    {
     "data": {
      "text/plain": [
       "0"
      ]
     },
     "execution_count": 109,
     "metadata": {},
     "output_type": "execute_result"
    }
   ],
   "source": [
    "fp.seek(0)"
   ]
  },
  {
   "cell_type": "code",
   "execution_count": 110,
   "id": "9d2d30e0-be0e-4aa8-b80d-cbfd2feaa442",
   "metadata": {},
   "outputs": [
    {
     "data": {
      "text/plain": [
       "0"
      ]
     },
     "execution_count": 110,
     "metadata": {},
     "output_type": "execute_result"
    }
   ],
   "source": [
    "fp.truncate()"
   ]
  },
  {
   "cell_type": "code",
   "execution_count": 111,
   "id": "fcb60e1e-5127-409b-b10b-118836d75435",
   "metadata": {},
   "outputs": [],
   "source": [
    "fp.writelines(lines)"
   ]
  },
  {
   "cell_type": "code",
   "execution_count": 112,
   "id": "99b25ef2-c5bb-4fa6-8d3b-b589f053e2f5",
   "metadata": {},
   "outputs": [],
   "source": [
    "fp.close()"
   ]
  },
  {
   "cell_type": "code",
   "execution_count": null,
   "id": "47c76289-e2aa-438e-93f6-1cced8a765c1",
   "metadata": {},
   "outputs": [],
   "source": [
    "# context managers"
   ]
  },
  {
   "cell_type": "code",
   "execution_count": 113,
   "id": "6fa07c9f-377a-4987-bce9-c00b96469a62",
   "metadata": {},
   "outputs": [
    {
     "name": "stdout",
     "output_type": "stream",
     "text": [
      "Hey I am written from r+ mode\n",
      "\n"
     ]
    }
   ],
   "source": [
    "with open(\"file2.txt\", \"r+\") as fp:\n",
    "    print(fp.readline())"
   ]
  },
  {
   "cell_type": "code",
   "execution_count": 114,
   "id": "0bddc87f-68f5-4cd6-a54d-bc2de988a542",
   "metadata": {},
   "outputs": [],
   "source": [
    "class ContextMgr:\n",
    "    def __init__(self):\n",
    "        print(\"I am init method of Contextmgr\")\n",
    "\n",
    "    def __enter__(self):\n",
    "        print(\"enter method called\")\n",
    "        return self\n",
    "\n",
    "    def __exit__(self, exc_type, exc_value, exc_traceback):\n",
    "        print(\"exit method called\")"
   ]
  },
  {
   "cell_type": "code",
   "execution_count": 115,
   "id": "491ddfc7-cff7-41ba-b368-6b5c29ba5ee0",
   "metadata": {},
   "outputs": [
    {
     "name": "stdout",
     "output_type": "stream",
     "text": [
      "I am init method of Contextmgr\n",
      "enter method called\n",
      "with statement block\n",
      "exit method called\n"
     ]
    }
   ],
   "source": [
    "with ContextMgr() as mgr:\n",
    "    print(\"with statement block\")"
   ]
  },
  {
   "cell_type": "code",
   "execution_count": 116,
   "id": "aacc7050-b61e-4882-af68-9fd616f9edb4",
   "metadata": {
    "collapsed": true,
    "jupyter": {
     "outputs_hidden": true
    }
   },
   "outputs": [
    {
     "name": "stdout",
     "output_type": "stream",
     "text": [
      "Help on function open in module _io:\n",
      "\n",
      "open(\n",
      "    file,\n",
      "    mode='r',\n",
      "    buffering=-1,\n",
      "    encoding=None,\n",
      "    errors=None,\n",
      "    newline=None,\n",
      "    closefd=True,\n",
      "    opener=None\n",
      ")\n",
      "    Open file and return a stream.  Raise OSError upon failure.\n",
      "\n",
      "    file is either a text or byte string giving the name (and the path\n",
      "    if the file isn't in the current working directory) of the file to\n",
      "    be opened or an integer file descriptor of the file to be\n",
      "    wrapped. (If a file descriptor is given, it is closed when the\n",
      "    returned I/O object is closed, unless closefd is set to False.)\n",
      "\n",
      "    mode is an optional string that specifies the mode in which the file\n",
      "    is opened. It defaults to 'r' which means open for reading in text\n",
      "    mode.  Other common values are 'w' for writing (truncating the file if\n",
      "    it already exists), 'x' for creating and writing to a new file, and\n",
      "    'a' for appending (which on some Unix systems, means that all writes\n",
      "    append to the end of the file regardless of the current seek position).\n",
      "    In text mode, if encoding is not specified the encoding used is platform\n",
      "    dependent: locale.getencoding() is called to get the current locale encoding.\n",
      "    (For reading and writing raw bytes use binary mode and leave encoding\n",
      "    unspecified.) The available modes are:\n",
      "\n",
      "    ========= ===============================================================\n",
      "    Character Meaning\n",
      "    --------- ---------------------------------------------------------------\n",
      "    'r'       open for reading (default)\n",
      "    'w'       open for writing, truncating the file first\n",
      "    'x'       create a new file and open it for writing\n",
      "    'a'       open for writing, appending to the end of the file if it exists\n",
      "    'b'       binary mode\n",
      "    't'       text mode (default)\n",
      "    '+'       open a disk file for updating (reading and writing)\n",
      "    ========= ===============================================================\n",
      "\n",
      "    The default mode is 'rt' (open for reading text). For binary random\n",
      "    access, the mode 'w+b' opens and truncates the file to 0 bytes, while\n",
      "    'r+b' opens the file without truncation. The 'x' mode implies 'w' and\n",
      "    raises an `FileExistsError` if the file already exists.\n",
      "\n",
      "    Python distinguishes between files opened in binary and text modes,\n",
      "    even when the underlying operating system doesn't. Files opened in\n",
      "    binary mode (appending 'b' to the mode argument) return contents as\n",
      "    bytes objects without any decoding. In text mode (the default, or when\n",
      "    't' is appended to the mode argument), the contents of the file are\n",
      "    returned as strings, the bytes having been first decoded using a\n",
      "    platform-dependent encoding or using the specified encoding if given.\n",
      "\n",
      "    buffering is an optional integer used to set the buffering policy.\n",
      "    Pass 0 to switch buffering off (only allowed in binary mode), 1 to select\n",
      "    line buffering (only usable in text mode), and an integer > 1 to indicate\n",
      "    the size of a fixed-size chunk buffer.  When no buffering argument is\n",
      "    given, the default buffering policy works as follows:\n",
      "\n",
      "    * Binary files are buffered in fixed-size chunks; the size of the buffer\n",
      "      is chosen using a heuristic trying to determine the underlying device's\n",
      "      \"block size\" and falling back on `io.DEFAULT_BUFFER_SIZE`.\n",
      "      On many systems, the buffer will typically be 4096 or 8192 bytes long.\n",
      "\n",
      "    * \"Interactive\" text files (files for which isatty() returns True)\n",
      "      use line buffering.  Other text files use the policy described above\n",
      "      for binary files.\n",
      "\n",
      "    encoding is the name of the encoding used to decode or encode the\n",
      "    file. This should only be used in text mode. The default encoding is\n",
      "    platform dependent, but any encoding supported by Python can be\n",
      "    passed.  See the codecs module for the list of supported encodings.\n",
      "\n",
      "    errors is an optional string that specifies how encoding errors are to\n",
      "    be handled---this argument should not be used in binary mode. Pass\n",
      "    'strict' to raise a ValueError exception if there is an encoding error\n",
      "    (the default of None has the same effect), or pass 'ignore' to ignore\n",
      "    errors. (Note that ignoring encoding errors can lead to data loss.)\n",
      "    See the documentation for codecs.register or run 'help(codecs.Codec)'\n",
      "    for a list of the permitted encoding error strings.\n",
      "\n",
      "    newline controls how universal newlines works (it only applies to text\n",
      "    mode). It can be None, '', '\\n', '\\r', and '\\r\\n'.  It works as\n",
      "    follows:\n",
      "\n",
      "    * On input, if newline is None, universal newlines mode is\n",
      "      enabled. Lines in the input can end in '\\n', '\\r', or '\\r\\n', and\n",
      "      these are translated into '\\n' before being returned to the\n",
      "      caller. If it is '', universal newline mode is enabled, but line\n",
      "      endings are returned to the caller untranslated. If it has any of\n",
      "      the other legal values, input lines are only terminated by the given\n",
      "      string, and the line ending is returned to the caller untranslated.\n",
      "\n",
      "    * On output, if newline is None, any '\\n' characters written are\n",
      "      translated to the system default line separator, os.linesep. If\n",
      "      newline is '' or '\\n', no translation takes place. If newline is any\n",
      "      of the other legal values, any '\\n' characters written are translated\n",
      "      to the given string.\n",
      "\n",
      "    If closefd is False, the underlying file descriptor will be kept open\n",
      "    when the file is closed. This does not work when a file name is given\n",
      "    and must be True in that case.\n",
      "\n",
      "    A custom opener can be used by passing a callable as *opener*. The\n",
      "    underlying file descriptor for the file object is then obtained by\n",
      "    calling *opener* with (*file*, *flags*). *opener* must return an open\n",
      "    file descriptor (passing os.open as *opener* results in functionality\n",
      "    similar to passing None).\n",
      "\n",
      "    open() returns a file object whose type depends on the mode, and\n",
      "    through which the standard file operations such as reading and writing\n",
      "    are performed. When open() is used to open a file in a text mode ('w',\n",
      "    'r', 'wt', 'rt', etc.), it returns a TextIOWrapper. When used to open\n",
      "    a file in a binary mode, the returned class varies: in read binary\n",
      "    mode, it returns a BufferedReader; in write binary and append binary\n",
      "    modes, it returns a BufferedWriter, and in read/write mode, it returns\n",
      "    a BufferedRandom.\n",
      "\n",
      "    It is also possible to use a string or bytearray as a file for both\n",
      "    reading and writing. For strings StringIO can be used like a file\n",
      "    opened in a text mode, and for bytes a BytesIO can be used like a file\n",
      "    opened in a binary mode.\n",
      "\n"
     ]
    }
   ],
   "source": [
    "help(open)"
   ]
  },
  {
   "cell_type": "code",
   "execution_count": 122,
   "id": "59c4de00-d254-4ab4-8ed9-30fba2a00643",
   "metadata": {},
   "outputs": [],
   "source": [
    "class ContextMgr:\n",
    "    def __init__(self, a):\n",
    "        self.a = a\n",
    "        print(\"I am init method of Contextmgr\")\n",
    "\n",
    "    def __enter__(self):\n",
    "        print(\"enter method called\")\n",
    "        print(f\"{self.a}\")\n",
    "        self.a = self.a+1\n",
    "        return self\n",
    "\n",
    "    def __exit__(self, exc_type, exc_value, exc_traceback):\n",
    "        print(\"exit method called\")"
   ]
  },
  {
   "cell_type": "code",
   "execution_count": 123,
   "id": "fd42cbd4-c18b-4823-8a76-207c26144a94",
   "metadata": {},
   "outputs": [
    {
     "name": "stdout",
     "output_type": "stream",
     "text": [
      "I am init method of Contextmgr\n",
      "enter method called\n",
      "5\n",
      "with statement block 6\n",
      "exit method called\n"
     ]
    }
   ],
   "source": [
    "with ContextMgr(5) as mgr:\n",
    "    print(f\"with statement block {mgr.a}\")"
   ]
  },
  {
   "cell_type": "code",
   "execution_count": 124,
   "id": "e269bd80-2d34-4a0a-8983-274a860d1012",
   "metadata": {},
   "outputs": [],
   "source": [
    "class FileManager:\n",
    "    def __init__(self, filename, mode):\n",
    "        self.filename = filename\n",
    "        self.mode = mode\n",
    "        self.file = None\n",
    "\n",
    "    def __enter__(self):\n",
    "        try:\n",
    "            self.file = open(self.filename, self.mode)\n",
    "        except FileNotFoundError:\n",
    "            self.file = open(self.filename, \"w+\")\n",
    "        return self.file\n",
    "\n",
    "    def __exit__(self, exc_type, exc_value, exc_traceback):\n",
    "        self.file.close()"
   ]
  },
  {
   "cell_type": "code",
   "execution_count": 125,
   "id": "885492ff-8452-4a18-9320-b3be797012b0",
   "metadata": {},
   "outputs": [],
   "source": [
    "with FileManager(\"SomenewFileName\", \"r+\") as fp:\n",
    "    fp.write(\"hey I am a miracle\")"
   ]
  },
  {
   "cell_type": "code",
   "execution_count": 126,
   "id": "311556e2-c081-44b4-8fbf-16e2b88c3a90",
   "metadata": {},
   "outputs": [],
   "source": [
    "class Car:\n",
    "    def __init__(self, name):\n",
    "        self.name = name"
   ]
  },
  {
   "cell_type": "code",
   "execution_count": 127,
   "id": "0f70dc9d-e4f4-4eb1-89cc-271a22853567",
   "metadata": {},
   "outputs": [],
   "source": [
    "car = Car(\"Bugati\")"
   ]
  },
  {
   "cell_type": "code",
   "execution_count": 128,
   "id": "98005fe6-1164-4947-ac10-ae76343231e6",
   "metadata": {},
   "outputs": [
    {
     "data": {
      "text/plain": [
       "<__main__.Car at 0x1b3d1eb5400>"
      ]
     },
     "execution_count": 128,
     "metadata": {},
     "output_type": "execute_result"
    }
   ],
   "source": [
    "car"
   ]
  },
  {
   "cell_type": "code",
   "execution_count": 129,
   "id": "bb0bece2-223b-4048-ba3e-99e93712f1ed",
   "metadata": {},
   "outputs": [
    {
     "data": {
      "text/plain": [
       "'Bugati'"
      ]
     },
     "execution_count": 129,
     "metadata": {},
     "output_type": "execute_result"
    }
   ],
   "source": [
    "car.name"
   ]
  },
  {
   "cell_type": "code",
   "execution_count": 130,
   "id": "06214899-e5cf-40b0-bc8f-0b79e10c1b23",
   "metadata": {},
   "outputs": [],
   "source": [
    "del car"
   ]
  },
  {
   "cell_type": "code",
   "execution_count": 131,
   "id": "1a582c4f-7fd6-437e-9dd4-3276756c1919",
   "metadata": {},
   "outputs": [
    {
     "ename": "NameError",
     "evalue": "name 'car' is not defined",
     "output_type": "error",
     "traceback": [
      "\u001b[31m---------------------------------------------------------------------------\u001b[39m",
      "\u001b[31mNameError\u001b[39m                                 Traceback (most recent call last)",
      "\u001b[36mCell\u001b[39m\u001b[36m \u001b[39m\u001b[32mIn[131]\u001b[39m\u001b[32m, line 1\u001b[39m\n\u001b[32m----> \u001b[39m\u001b[32m1\u001b[39m \u001b[43mcar\u001b[49m\n",
      "\u001b[31mNameError\u001b[39m: name 'car' is not defined"
     ]
    }
   ],
   "source": [
    "car"
   ]
  },
  {
   "cell_type": "code",
   "execution_count": 153,
   "id": "079ae85e-79c2-40db-9368-3fb189deeea1",
   "metadata": {},
   "outputs": [],
   "source": [
    "class Car:\n",
    "    def __init__(self, name):\n",
    "        self.name = name\n",
    "\n",
    "    def __enter__(self):\n",
    "        return self\n",
    "\n",
    "    def __exit__(self, exc_type, exc_value, exc_traceback):\n",
    "        print(\"delete object\")\n",
    "        self.__del__(self)"
   ]
  },
  {
   "cell_type": "code",
   "execution_count": 154,
   "id": "cfe04189-cc1f-4076-824c-963d735f205d",
   "metadata": {},
   "outputs": [
    {
     "name": "stdout",
     "output_type": "stream",
     "text": [
      "bugati\n",
      "Mercedez\n",
      "delete object\n"
     ]
    },
    {
     "ename": "AttributeError",
     "evalue": "'Car' object has no attribute '__del__'",
     "output_type": "error",
     "traceback": [
      "\u001b[31m---------------------------------------------------------------------------\u001b[39m",
      "\u001b[31mAttributeError\u001b[39m                            Traceback (most recent call last)",
      "\u001b[36mCell\u001b[39m\u001b[36m \u001b[39m\u001b[32mIn[154]\u001b[39m\u001b[32m, line 1\u001b[39m\n\u001b[32m----> \u001b[39m\u001b[32m1\u001b[39m \u001b[38;5;28;43;01mwith\u001b[39;49;00m\u001b[43m \u001b[49m\u001b[43mCar\u001b[49m\u001b[43m(\u001b[49m\u001b[33;43m\"\u001b[39;49m\u001b[33;43mbugati\u001b[39;49m\u001b[33;43m\"\u001b[39;49m\u001b[43m)\u001b[49m\u001b[43m \u001b[49m\u001b[38;5;28;43;01mas\u001b[39;49;00m\u001b[43m \u001b[49m\u001b[43mcar\u001b[49m\u001b[43m:\u001b[49m\n\u001b[32m      2\u001b[39m \u001b[43m    \u001b[49m\u001b[38;5;28;43mprint\u001b[39;49m\u001b[43m(\u001b[49m\u001b[43mcar\u001b[49m\u001b[43m.\u001b[49m\u001b[43mname\u001b[49m\u001b[43m)\u001b[49m\n\u001b[32m      3\u001b[39m \u001b[43m    \u001b[49m\u001b[43mcar\u001b[49m\u001b[43m.\u001b[49m\u001b[43mname\u001b[49m\u001b[43m \u001b[49m\u001b[43m=\u001b[49m\u001b[43m \u001b[49m\u001b[33;43m\"\u001b[39;49m\u001b[33;43mMercedez\u001b[39;49m\u001b[33;43m\"\u001b[39;49m\n",
      "\u001b[36mCell\u001b[39m\u001b[36m \u001b[39m\u001b[32mIn[153]\u001b[39m\u001b[32m, line 10\u001b[39m, in \u001b[36mCar.__exit__\u001b[39m\u001b[34m(self, exc_type, exc_value, exc_traceback)\u001b[39m\n\u001b[32m      8\u001b[39m \u001b[38;5;28;01mdef\u001b[39;00m\u001b[38;5;250m \u001b[39m\u001b[34m__exit__\u001b[39m(\u001b[38;5;28mself\u001b[39m, exc_type, exc_value, exc_traceback):\n\u001b[32m      9\u001b[39m     \u001b[38;5;28mprint\u001b[39m(\u001b[33m\"\u001b[39m\u001b[33mdelete object\u001b[39m\u001b[33m\"\u001b[39m)\n\u001b[32m---> \u001b[39m\u001b[32m10\u001b[39m     \u001b[38;5;28;43mself\u001b[39;49m\u001b[43m.\u001b[49m\u001b[34;43m__del__\u001b[39;49m(\u001b[38;5;28mself\u001b[39m)\n",
      "\u001b[31mAttributeError\u001b[39m: 'Car' object has no attribute '__del__'"
     ]
    }
   ],
   "source": [
    "with Car(\"bugati\") as car:\n",
    "    print(car.name)\n",
    "    car.name = \"Mercedez\"\n",
    "    print(car.name)"
   ]
  },
  {
   "cell_type": "code",
   "execution_count": 144,
   "id": "e252f6ae-3a3f-40c4-a812-1f2ffb2063a3",
   "metadata": {},
   "outputs": [
    {
     "data": {
      "text/plain": [
       "'Mercedez'"
      ]
     },
     "execution_count": 144,
     "metadata": {},
     "output_type": "execute_result"
    }
   ],
   "source": [
    "car.name"
   ]
  },
  {
   "cell_type": "code",
   "execution_count": 145,
   "id": "bf8773a7-d7c9-4fe0-8939-7f819429af3b",
   "metadata": {},
   "outputs": [],
   "source": [
    "car.name = \"hello\""
   ]
  },
  {
   "cell_type": "code",
   "execution_count": 152,
   "id": "1c9ebb6c-0599-4d90-8c29-54583a376e05",
   "metadata": {},
   "outputs": [
    {
     "data": {
      "text/plain": [
       "<__main__.Car at 0x1b3d1eb63c0>"
      ]
     },
     "execution_count": 152,
     "metadata": {},
     "output_type": "execute_result"
    }
   ],
   "source": [
    "car"
   ]
  },
  {
   "cell_type": "code",
   "execution_count": 155,
   "id": "1726ccc4-dd79-45ed-9d19-1405c5848bbe",
   "metadata": {},
   "outputs": [],
   "source": [
    "class Car:\n",
    "    def __init__(self, name):\n",
    "        self.name = name\n",
    "\n",
    "    def __del__(self):\n",
    "        print(\"Deleting the object\")\n",
    "        super().__del__()\n",
    "\n",
    "    def __enter__(self):\n",
    "        return self\n",
    "\n",
    "    def __exit__(self, exc_type, exc_value, exc_traceback):\n",
    "        print(\"delete object\")\n",
    "        del self"
   ]
  },
  {
   "cell_type": "code",
   "execution_count": 156,
   "id": "4b6df096-d6d8-460c-b38a-1b3342c0508e",
   "metadata": {},
   "outputs": [
    {
     "name": "stdout",
     "output_type": "stream",
     "text": [
      "bugati\n",
      "Mercedez\n",
      "delete object\n"
     ]
    }
   ],
   "source": [
    "with Car(\"bugati\") as car:\n",
    "    print(car.name)\n",
    "    car.name = \"Mercedez\"\n",
    "    print(car.name)"
   ]
  },
  {
   "cell_type": "code",
   "execution_count": null,
   "id": "07655e44-756b-4181-82ea-7ee523bd2499",
   "metadata": {},
   "outputs": [],
   "source": [
    "ca"
   ]
  }
 ],
 "metadata": {
  "kernelspec": {
   "display_name": "Python 3 (ipykernel)",
   "language": "python",
   "name": "python3"
  },
  "language_info": {
   "codemirror_mode": {
    "name": "ipython",
    "version": 3
   },
   "file_extension": ".py",
   "mimetype": "text/x-python",
   "name": "python",
   "nbconvert_exporter": "python",
   "pygments_lexer": "ipython3",
   "version": "3.13.3"
  }
 },
 "nbformat": 4,
 "nbformat_minor": 5
}
