{
 "cells": [
  {
   "cell_type": "code",
   "execution_count": 1,
   "id": "34301b19-4e34-413e-b5bb-2974e6b39a83",
   "metadata": {},
   "outputs": [
    {
     "name": "stdout",
     "output_type": "stream",
     "text": [
      "Hello world\n"
     ]
    }
   ],
   "source": [
    "print(\"Hello world\")"
   ]
  },
  {
   "cell_type": "code",
   "execution_count": 2,
   "id": "348b405a-cecf-4ab9-a33f-e5c80f87f030",
   "metadata": {},
   "outputs": [],
   "source": [
    "a = \"madhan\""
   ]
  },
  {
   "cell_type": "code",
   "execution_count": 3,
   "id": "79d701c8-fb60-45e6-b495-cb7183f2ca83",
   "metadata": {},
   "outputs": [
    {
     "data": {
      "text/plain": [
       "'madhan'"
      ]
     },
     "execution_count": 3,
     "metadata": {},
     "output_type": "execute_result"
    }
   ],
   "source": [
    "a"
   ]
  },
  {
   "cell_type": "code",
   "execution_count": 4,
   "id": "14c53114-a423-48c1-941e-1fd3a69f44fb",
   "metadata": {},
   "outputs": [
    {
     "name": "stdout",
     "output_type": "stream",
     "text": [
      "madhan\n"
     ]
    }
   ],
   "source": [
    "print(a)"
   ]
  },
  {
   "cell_type": "code",
   "execution_count": 6,
   "id": "aa76ff05-9d8f-4871-b9f8-e597919361bb",
   "metadata": {},
   "outputs": [
    {
     "data": {
      "text/plain": [
       "str"
      ]
     },
     "execution_count": 6,
     "metadata": {},
     "output_type": "execute_result"
    }
   ],
   "source": [
    "type(a)"
   ]
  },
  {
   "cell_type": "code",
   "execution_count": 7,
   "id": "0b5b3557-770e-44ec-a88a-c74e9e80ec2a",
   "metadata": {},
   "outputs": [
    {
     "data": {
      "text/plain": [
       "str"
      ]
     },
     "execution_count": 7,
     "metadata": {},
     "output_type": "execute_result"
    }
   ],
   "source": [
    "type(\"madhan\")"
   ]
  },
  {
   "cell_type": "markdown",
   "id": "07b30f7a-eec4-4108-a399-3792b5204b61",
   "metadata": {},
   "source": [
    "## Data type"
   ]
  },
  {
   "cell_type": "code",
   "execution_count": null,
   "id": "9f72e4ce-3fe7-465a-bd75-c0bc9ca17d9e",
   "metadata": {},
   "outputs": [],
   "source": [
    "primitive datatypes\n",
    "    1) string (str) --> \n",
    "                \"manoj\", 'Ravi', \"parrot is green\"\n",
    "                '''\n",
    "                I am inside triple quotes\n",
    "                I am multiline string\n",
    "                '''\n",
    "                \"\"\"\n",
    "                I am also a multine string\n",
    "                \"\"\",\n",
    "                \"2\"\n",
    "    2) integer type -->\n",
    "                1, 2, 3, 0, -3, -2, -1 ...\n",
    "    3) float type -->\n",
    "                1.0, 1.1, 2.1, 2.5, 100.25, -1025.9, 0.0\n",
    "    4) complex type -->\n",
    "                2 + 5j, 2-6j, -1-1j,...\n",
    "    5) None type --> \n",
    "                None\n",
    "    6) boolean type -->\n",
    "                True, False\n",
    "Non primitive data types:\n",
    "1) list --> [1, None, \"detective\", 2.0, 1j, True, [1, 23, \"a\"], (1,)] --> changebale\n",
    "2) tuple --> (1, None, \"detective\", 2.0, 1j, True, [1, 23, \"a\"], (5,)) --> non changeable\n",
    "3) set --> {1, \"val1\", 2.0, -3} --> unordered collection of hetrogenous keys, changeabale\n",
    "4) dict --> {\"key\": 5, 5: -2, 6j: [1, 5]} --> collection of key value pairs, changeable"
   ]
  },
  {
   "cell_type": "code",
   "execution_count": 9,
   "id": "20ac883f-62bb-4434-adc7-5e1c2c3581ed",
   "metadata": {},
   "outputs": [
    {
     "ename": "NameError",
     "evalue": "name 'j' is not defined",
     "output_type": "error",
     "traceback": [
      "\u001b[31m---------------------------------------------------------------------------\u001b[39m",
      "\u001b[31mNameError\u001b[39m                                 Traceback (most recent call last)",
      "\u001b[36mCell\u001b[39m\u001b[36m \u001b[39m\u001b[32mIn[9]\u001b[39m\u001b[32m, line 1\u001b[39m\n\u001b[32m----> \u001b[39m\u001b[32m1\u001b[39m \u001b[43mj\u001b[49m\n",
      "\u001b[31mNameError\u001b[39m: name 'j' is not defined"
     ]
    }
   ],
   "source": [
    "j"
   ]
  },
  {
   "cell_type": "code",
   "execution_count": 10,
   "id": "52e2e441-ce04-49f3-9045-59d5d605335c",
   "metadata": {},
   "outputs": [
    {
     "data": {
      "text/plain": [
       "1j"
      ]
     },
     "execution_count": 10,
     "metadata": {},
     "output_type": "execute_result"
    }
   ],
   "source": [
    "1j"
   ]
  },
  {
   "cell_type": "markdown",
   "id": "e5ca0dc6-d85a-4216-a83f-9a362f56bd9e",
   "metadata": {},
   "source": [
    "## Operators"
   ]
  },
  {
   "cell_type": "code",
   "execution_count": null,
   "id": "6da91a79-00cd-4584-a20f-5c602a134576",
   "metadata": {},
   "outputs": [],
   "source": [
    "1) Arithmatic operator\n",
    "2) Assignment operator\n",
    "3) Comprision operator\n",
    "4) Logical operator\n",
    "5) Identity operator\n",
    "6) Membership operator\n",
    "7) Bitwise operator"
   ]
  },
  {
   "cell_type": "markdown",
   "id": "ee9f1d73-ba68-4bec-bfa4-82fdccb77d22",
   "metadata": {},
   "source": [
    "### 1) Arithmatic operator"
   ]
  },
  {
   "cell_type": "code",
   "execution_count": null,
   "id": "f8f63296-9ed5-4c95-a4d6-104c8c579285",
   "metadata": {},
   "outputs": [],
   "source": [
    "+, -, *, /, %, **, //"
   ]
  },
  {
   "cell_type": "code",
   "execution_count": 11,
   "id": "16de8f54-cdb4-4f1f-b63c-4a2239b699bf",
   "metadata": {},
   "outputs": [
    {
     "data": {
      "text/plain": [
       "13"
      ]
     },
     "execution_count": 11,
     "metadata": {},
     "output_type": "execute_result"
    }
   ],
   "source": [
    "5 + 8"
   ]
  },
  {
   "cell_type": "code",
   "execution_count": 12,
   "id": "35194c8e-4bf3-4cb4-a138-5cb9c15ac3f1",
   "metadata": {},
   "outputs": [
    {
     "data": {
      "text/plain": [
       "6"
      ]
     },
     "execution_count": 12,
     "metadata": {},
     "output_type": "execute_result"
    }
   ],
   "source": [
    "8 - 2"
   ]
  },
  {
   "cell_type": "code",
   "execution_count": 13,
   "id": "0d51a273-6de6-45fe-82a1-ba4d6f418696",
   "metadata": {},
   "outputs": [
    {
     "data": {
      "text/plain": [
       "4"
      ]
     },
     "execution_count": 13,
     "metadata": {},
     "output_type": "execute_result"
    }
   ],
   "source": [
    "2 * 2"
   ]
  },
  {
   "cell_type": "code",
   "execution_count": 14,
   "id": "f9607271-a132-4629-a737-6fe177063bb8",
   "metadata": {},
   "outputs": [
    {
     "data": {
      "text/plain": [
       "5.0"
      ]
     },
     "execution_count": 14,
     "metadata": {},
     "output_type": "execute_result"
    }
   ],
   "source": [
    "10 / 2"
   ]
  },
  {
   "cell_type": "code",
   "execution_count": 15,
   "id": "3ea64472-53d4-43af-b9ea-4338a0ba1685",
   "metadata": {},
   "outputs": [
    {
     "data": {
      "text/plain": [
       "7.5"
      ]
     },
     "execution_count": 15,
     "metadata": {},
     "output_type": "execute_result"
    }
   ],
   "source": [
    "15/2"
   ]
  },
  {
   "cell_type": "code",
   "execution_count": 16,
   "id": "1b1a3ce0-2041-45c4-b2cd-11e669e6498a",
   "metadata": {},
   "outputs": [
    {
     "data": {
      "text/plain": [
       "7"
      ]
     },
     "execution_count": 16,
     "metadata": {},
     "output_type": "execute_result"
    }
   ],
   "source": [
    "15 // 2"
   ]
  },
  {
   "cell_type": "code",
   "execution_count": 17,
   "id": "f74016f6-6245-465f-a703-655e7d5b901d",
   "metadata": {},
   "outputs": [
    {
     "data": {
      "text/plain": [
       "16"
      ]
     },
     "execution_count": 17,
     "metadata": {},
     "output_type": "execute_result"
    }
   ],
   "source": [
    "2 ** 4"
   ]
  },
  {
   "cell_type": "code",
   "execution_count": 18,
   "id": "ca10198e-17ae-4780-9d64-4036b6d3df48",
   "metadata": {},
   "outputs": [
    {
     "data": {
      "text/plain": [
       "243"
      ]
     },
     "execution_count": 18,
     "metadata": {},
     "output_type": "execute_result"
    }
   ],
   "source": [
    "3 ** 5"
   ]
  },
  {
   "cell_type": "code",
   "execution_count": 19,
   "id": "2db37d93-1099-4673-a16e-7dc0e57d059e",
   "metadata": {},
   "outputs": [
    {
     "data": {
      "text/plain": [
       "1"
      ]
     },
     "execution_count": 19,
     "metadata": {},
     "output_type": "execute_result"
    }
   ],
   "source": [
    "15%2"
   ]
  },
  {
   "cell_type": "code",
   "execution_count": 21,
   "id": "e051fa87-bc71-4b23-abed-9059575eebb7",
   "metadata": {},
   "outputs": [
    {
     "data": {
      "text/plain": [
       "3"
      ]
     },
     "execution_count": 21,
     "metadata": {},
     "output_type": "execute_result"
    }
   ],
   "source": [
    "243%12"
   ]
  },
  {
   "cell_type": "code",
   "execution_count": 22,
   "id": "e48da678-188b-4cc3-ad0a-2754cba9ab48",
   "metadata": {},
   "outputs": [],
   "source": [
    "a = 5\n",
    "b = 10"
   ]
  },
  {
   "cell_type": "code",
   "execution_count": 23,
   "id": "5f1ae2db-b496-4a50-a31f-1f0a2b2235a3",
   "metadata": {},
   "outputs": [
    {
     "data": {
      "text/plain": [
       "9765625"
      ]
     },
     "execution_count": 23,
     "metadata": {},
     "output_type": "execute_result"
    }
   ],
   "source": [
    "a ** b"
   ]
  },
  {
   "cell_type": "code",
   "execution_count": 24,
   "id": "f2450f8c-2150-406a-89b6-079d3609727e",
   "metadata": {},
   "outputs": [
    {
     "data": {
      "text/plain": [
       "50"
      ]
     },
     "execution_count": 24,
     "metadata": {},
     "output_type": "execute_result"
    }
   ],
   "source": [
    "a * b"
   ]
  },
  {
   "cell_type": "code",
   "execution_count": 25,
   "id": "39695d37-7390-4cf0-84b6-6c5792dfd94b",
   "metadata": {},
   "outputs": [
    {
     "data": {
      "text/plain": [
       "15"
      ]
     },
     "execution_count": 25,
     "metadata": {},
     "output_type": "execute_result"
    }
   ],
   "source": [
    "a + b"
   ]
  },
  {
   "cell_type": "markdown",
   "id": "35d36ed7-dde0-496e-89fe-a63287834d4d",
   "metadata": {},
   "source": [
    "## 2) Assignment operator"
   ]
  },
  {
   "cell_type": "code",
   "execution_count": 26,
   "id": "9a0cd0f8-1ca2-48d9-898d-846de9e81c27",
   "metadata": {},
   "outputs": [
    {
     "ename": "NameError",
     "evalue": "name 'z' is not defined",
     "output_type": "error",
     "traceback": [
      "\u001b[31m---------------------------------------------------------------------------\u001b[39m",
      "\u001b[31mNameError\u001b[39m                                 Traceback (most recent call last)",
      "\u001b[36mCell\u001b[39m\u001b[36m \u001b[39m\u001b[32mIn[26]\u001b[39m\u001b[32m, line 1\u001b[39m\n\u001b[32m----> \u001b[39m\u001b[32m1\u001b[39m \u001b[43mz\u001b[49m\n",
      "\u001b[31mNameError\u001b[39m: name 'z' is not defined"
     ]
    }
   ],
   "source": [
    "z"
   ]
  },
  {
   "cell_type": "code",
   "execution_count": null,
   "id": "7949a8ce-ee28-471f-a4e4-aacae25a6360",
   "metadata": {},
   "outputs": [],
   "source": []
  }
 ],
 "metadata": {
  "kernelspec": {
   "display_name": "Python 3 (ipykernel)",
   "language": "python",
   "name": "python3"
  },
  "language_info": {
   "codemirror_mode": {
    "name": "ipython",
    "version": 3
   },
   "file_extension": ".py",
   "mimetype": "text/x-python",
   "name": "python",
   "nbconvert_exporter": "python",
   "pygments_lexer": "ipython3",
   "version": "3.13.3"
  }
 },
 "nbformat": 4,
 "nbformat_minor": 5
}
